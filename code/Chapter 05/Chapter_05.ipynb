{
  "cells": [
    {
      "cell_type": "markdown",
      "metadata": {
        "colab_type": "text",
        "id": "view-in-github"
      },
      "source": [
        "<a href=\"https://colab.research.google.com/github/nceder/qpb4e/blob/main/code/Chapter%2005/Chapter_05.ipynb\" target=\"_parent\"><img src=\"https://colab.research.google.com/assets/colab-badge.svg\" alt=\"Open In Colab\"/></a>"
      ]
    },
    {
      "cell_type": "markdown",
      "metadata": {
        "id": "GTZms2Y6Hr-t"
      },
      "source": [
        "# 5 Lists, tuples, and sets\n",
        "\n",
        "# 5.1 Lists are like arrays"
      ]
    },
    {
      "cell_type": "code",
      "execution_count": 2,
      "metadata": {
        "id": "-sgAYzHS1_aQ"
      },
      "outputs": [],
      "source": [
        "# This assigns a three-element list to x\n",
        "x = [1, 2, 3]"
      ]
    },
    {
      "cell_type": "code",
      "execution_count": 1,
      "metadata": {
        "colab": {
          "base_uri": "https://localhost:8080/"
        },
        "id": "8tReATEQ2E-A",
        "outputId": "a78f27c3-3f03-4332-da58-378d1f3f0cfc"
      },
      "outputs": [
        {
          "data": {
            "text/plain": [
              "3"
            ]
          },
          "execution_count": 1,
          "metadata": {},
          "output_type": "execute_result"
        }
      ],
      "source": [
        "# First element is a number, second is a string, third is another list.\n",
        "x = [2, \"two\", [1, 2, 3]]\n",
        "len(x)"
      ]
    },
    {
      "cell_type": "markdown",
      "metadata": {
        "id": "--IS5FhQIROL"
      },
      "source": [
        "### Quick Check: len()\n",
        "What would len() return for each of the following: `[0]`; `[]`; `[[1, 3, [4, 5], 6], 7]`?"
      ]
    },
    {
      "cell_type": "code",
      "execution_count": 3,
      "metadata": {
        "id": "MLkieUClIjRN"
      },
      "outputs": [
        {
          "data": {
            "text/plain": [
              "1"
            ]
          },
          "execution_count": 3,
          "metadata": {},
          "output_type": "execute_result"
        }
      ],
      "source": [
        "len([0])"
      ]
    },
    {
      "cell_type": "code",
      "execution_count": 4,
      "metadata": {
        "id": "t_Dpn0clImGr"
      },
      "outputs": [
        {
          "data": {
            "text/plain": [
              "0"
            ]
          },
          "execution_count": 4,
          "metadata": {},
          "output_type": "execute_result"
        }
      ],
      "source": [
        "len([])"
      ]
    },
    {
      "cell_type": "code",
      "execution_count": 5,
      "metadata": {
        "id": "unOIv3aYIo56"
      },
      "outputs": [
        {
          "data": {
            "text/plain": [
              "2"
            ]
          },
          "execution_count": 5,
          "metadata": {},
          "output_type": "execute_result"
        }
      ],
      "source": [
        "len([[1, 3, [4, 5], 6], 7])"
      ]
    },
    {
      "cell_type": "markdown",
      "metadata": {
        "id": "6uDBMySWIsyh"
      },
      "source": [
        "## 5.2 List indices"
      ]
    },
    {
      "cell_type": "code",
      "execution_count": 6,
      "metadata": {
        "colab": {
          "base_uri": "https://localhost:8080/",
          "height": 35
        },
        "id": "PUBc5Y9-2Jnb",
        "outputId": "c060aa55-1430-4b1c-9a81-b2646bd8b7b9"
      },
      "outputs": [
        {
          "data": {
            "text/plain": [
              "'first'"
            ]
          },
          "execution_count": 6,
          "metadata": {},
          "output_type": "execute_result"
        }
      ],
      "source": [
        "x = [\"first\", \"second\", \"third\", \"fourth\"]\n",
        "x[0]"
      ]
    },
    {
      "cell_type": "code",
      "execution_count": 7,
      "metadata": {
        "colab": {
          "base_uri": "https://localhost:8080/",
          "height": 35
        },
        "id": "WmUJLIY-6iXX",
        "outputId": "8fe53da2-8836-416c-f0f8-2bc0c4616a5b"
      },
      "outputs": [
        {
          "data": {
            "text/plain": [
              "'third'"
            ]
          },
          "execution_count": 7,
          "metadata": {},
          "output_type": "execute_result"
        }
      ],
      "source": [
        "x[2]"
      ]
    },
    {
      "cell_type": "code",
      "execution_count": 8,
      "metadata": {
        "colab": {
          "base_uri": "https://localhost:8080/",
          "height": 35
        },
        "id": "WpACR2hQ5hCf",
        "outputId": "b7dacf12-d4fa-49d0-8647-a5912af40d81"
      },
      "outputs": [
        {
          "data": {
            "text/plain": [
              "'third'"
            ]
          },
          "execution_count": 8,
          "metadata": {},
          "output_type": "execute_result"
        }
      ],
      "source": [
        "x[-2]"
      ]
    },
    {
      "cell_type": "code",
      "execution_count": 10,
      "metadata": {
        "colab": {
          "base_uri": "https://localhost:8080/"
        },
        "id": "qcq-S7Rb5kXM",
        "outputId": "28fb79b2-aba8-46ec-927a-3df04a904e83"
      },
      "outputs": [
        {
          "data": {
            "text/plain": [
              "['second', 'third']"
            ]
          },
          "execution_count": 10,
          "metadata": {},
          "output_type": "execute_result"
        }
      ],
      "source": [
        "x = [\"first\", \"second\", \"third\", \"fourth\"]\n",
        "x[1:-1]"
      ]
    },
    {
      "cell_type": "code",
      "execution_count": 11,
      "metadata": {
        "colab": {
          "base_uri": "https://localhost:8080/"
        },
        "id": "qJoi1WWl6Yir",
        "outputId": "2534ab0c-1bd1-4591-d414-ee049299b871"
      },
      "outputs": [
        {
          "data": {
            "text/plain": [
              "['first', 'second', 'third']"
            ]
          },
          "execution_count": 11,
          "metadata": {},
          "output_type": "execute_result"
        }
      ],
      "source": [
        "x[0:3]"
      ]
    },
    {
      "cell_type": "code",
      "execution_count": 12,
      "metadata": {
        "colab": {
          "base_uri": "https://localhost:8080/"
        },
        "id": "WEQfCzbQ8N1G",
        "outputId": "737e27f3-fe65-4f33-8200-46e4c1bddc67"
      },
      "outputs": [
        {
          "data": {
            "text/plain": [
              "['third', 'fourth']"
            ]
          },
          "execution_count": 12,
          "metadata": {},
          "output_type": "execute_result"
        }
      ],
      "source": [
        "x[2:]"
      ]
    },
    {
      "cell_type": "code",
      "execution_count": 9,
      "metadata": {
        "colab": {
          "base_uri": "https://localhost:8080/"
        },
        "id": "XbB_26i58PkH",
        "outputId": "268b19c0-7c7e-4a34-ea76-be58944ae5f9"
      },
      "outputs": [
        {
          "data": {
            "text/plain": [
              "['1 st', 'second', 'third', 'fourth']"
            ]
          },
          "execution_count": 9,
          "metadata": {},
          "output_type": "execute_result"
        }
      ],
      "source": [
        "y = x[:]\n",
        "y[0] = '1 st'\n",
        "y"
      ]
    },
    {
      "cell_type": "code",
      "execution_count": 14,
      "metadata": {
        "colab": {
          "base_uri": "https://localhost:8080/"
        },
        "id": "-h3lMkbg8TnW",
        "outputId": "a79bf7f9-def8-4e10-8296-02746ff9fca1"
      },
      "outputs": [
        {
          "data": {
            "text/plain": [
              "['first', 'second', 'third', 'fourth']"
            ]
          },
          "execution_count": 14,
          "metadata": {},
          "output_type": "execute_result"
        }
      ],
      "source": [
        "x"
      ]
    },
    {
      "cell_type": "markdown",
      "metadata": {
        "id": "J6k8LKDUI27l"
      },
      "source": [
        "### Try This: list slices and indexes\n",
        "Using what you know about the `len()` function and list slices, how would you combine the two to get the second half of a list when you don't know what size it is? Experiment in the Python shell to confirm that your solution works."
      ]
    },
    {
      "cell_type": "code",
      "execution_count": 13,
      "metadata": {
        "id": "dkoYUSaKJJVQ"
      },
      "outputs": [
        {
          "name": "stdout",
          "output_type": "stream",
          "text": [
            "3\n"
          ]
        },
        {
          "data": {
            "text/plain": [
              "[4, 5, 6]"
            ]
          },
          "execution_count": 13,
          "metadata": {},
          "output_type": "execute_result"
        }
      ],
      "source": [
        "my_list = [1, 2, 3, 4, 5, 6]\n",
        "print(len(my_list)//2)\n",
        "last_half = my_list[len(my_list)//2:]\n",
        "last_half"
      ]
    },
    {
      "cell_type": "markdown",
      "metadata": {
        "id": "MK49yF5AJXWe"
      },
      "source": [
        "## 5.3 Modifying lists"
      ]
    },
    {
      "cell_type": "code",
      "execution_count": 14,
      "metadata": {
        "colab": {
          "base_uri": "https://localhost:8080/"
        },
        "id": "-XFGvIwH8WK1",
        "outputId": "55ecf64e-4264-40af-f0c6-dab5e4f97b2d"
      },
      "outputs": [
        {
          "data": {
            "text/plain": [
              "[1, 'two', 3, 4]"
            ]
          },
          "execution_count": 14,
          "metadata": {},
          "output_type": "execute_result"
        }
      ],
      "source": [
        "x = [1, 2, 3, 4]\n",
        "x[1] = \"two\"\n",
        "x"
      ]
    },
    {
      "cell_type": "code",
      "execution_count": 15,
      "metadata": {
        "colab": {
          "base_uri": "https://localhost:8080/"
        },
        "id": "kdYbKIuQ8ZOk",
        "outputId": "6d01e10d-d7b2-4b87-8ee5-9d4c6d045a4f"
      },
      "outputs": [
        {
          "data": {
            "text/plain": [
              "[1, 2, 3, 4, 5, 6, 7]"
            ]
          },
          "execution_count": 15,
          "metadata": {},
          "output_type": "execute_result"
        }
      ],
      "source": [
        "x = [1, 2, 3, 4]\n",
        "x[len(x):] = [5, 6, 7]              #A\n",
        "x"
      ]
    },
    {
      "cell_type": "code",
      "execution_count": 17,
      "metadata": {
        "colab": {
          "base_uri": "https://localhost:8080/"
        },
        "id": "OM-BecYi8bfv",
        "outputId": "651963e5-9ba0-4d18-b9a1-1435f2d550a1"
      },
      "outputs": [
        {
          "data": {
            "text/plain": [
              "[-1, 0, 1, 2, 3, 4, 5, 6, 7]"
            ]
          },
          "execution_count": 17,
          "metadata": {},
          "output_type": "execute_result"
        }
      ],
      "source": [
        "x[:0] = [-1, 0]                     #B\n",
        "x"
      ]
    },
    {
      "cell_type": "code",
      "execution_count": 18,
      "metadata": {
        "colab": {
          "base_uri": "https://localhost:8080/"
        },
        "id": "P3r1um4A8dR_",
        "outputId": "f308b224-9c52-44aa-ae74-48ebd849ed64"
      },
      "outputs": [
        {
          "data": {
            "text/plain": [
              "[-1, 7]"
            ]
          },
          "execution_count": 18,
          "metadata": {},
          "output_type": "execute_result"
        }
      ],
      "source": [
        "x[1:-1] = []                        #C\n",
        "x"
      ]
    },
    {
      "cell_type": "code",
      "execution_count": 16,
      "metadata": {
        "colab": {
          "base_uri": "https://localhost:8080/"
        },
        "id": "ci9Brng_8gZA",
        "outputId": "2fa700da-ea96-40af-f24f-69078c9d4055"
      },
      "outputs": [
        {
          "data": {
            "text/plain": [
              "[1, 2, 3, 'four']"
            ]
          },
          "execution_count": 16,
          "metadata": {},
          "output_type": "execute_result"
        }
      ],
      "source": [
        "x = [1, 2, 3]\n",
        "x.append(\"four\")\n",
        "x"
      ]
    },
    {
      "cell_type": "code",
      "execution_count": 17,
      "metadata": {
        "colab": {
          "base_uri": "https://localhost:8080/"
        },
        "id": "zHawagwX8itx",
        "outputId": "7a3080b1-bed3-4114-b5a0-05ccd0465016"
      },
      "outputs": [
        {
          "data": {
            "text/plain": [
              "[1, 2, 3, 4, [5, 6, 7]]"
            ]
          },
          "execution_count": 17,
          "metadata": {},
          "output_type": "execute_result"
        }
      ],
      "source": [
        "x = [1, 2, 3, 4]\n",
        "y = [5, 6, 7]\n",
        "x.append(y)\n",
        "x"
      ]
    },
    {
      "cell_type": "code",
      "execution_count": 18,
      "metadata": {
        "colab": {
          "base_uri": "https://localhost:8080/"
        },
        "id": "alY8EN2U8lIv",
        "outputId": "5e8252c5-562b-4059-fc3d-0fd2513d3bf5"
      },
      "outputs": [
        {
          "data": {
            "text/plain": [
              "[1, 2, 3, 4, 5, 6, 7]"
            ]
          },
          "execution_count": 18,
          "metadata": {},
          "output_type": "execute_result"
        }
      ],
      "source": [
        "x = [1, 2, 3, 4]\n",
        "y = [5, 6, 7]\n",
        "x.extend(y)\n",
        "x"
      ]
    },
    {
      "cell_type": "code",
      "execution_count": 19,
      "metadata": {
        "colab": {
          "base_uri": "https://localhost:8080/"
        },
        "id": "MprQsVCk8nfj",
        "outputId": "faa402ec-86cc-4bb5-9119-4e8936d27cd6"
      },
      "outputs": [
        {
          "data": {
            "text/plain": [
              "[1, 2, 'hello', 3]"
            ]
          },
          "execution_count": 19,
          "metadata": {},
          "output_type": "execute_result"
        }
      ],
      "source": [
        "x = [1, 2, 3]\n",
        "x.insert(2, \"hello\")\n",
        "x"
      ]
    },
    {
      "cell_type": "code",
      "execution_count": 23,
      "metadata": {
        "colab": {
          "base_uri": "https://localhost:8080/"
        },
        "id": "IAaJGSpL8qEL",
        "outputId": "026404af-e388-4821-d528-40aaffbfc54a"
      },
      "outputs": [
        {
          "data": {
            "text/plain": [
              "['start', 1, 2, 'hello', 3]"
            ]
          },
          "execution_count": 23,
          "metadata": {},
          "output_type": "execute_result"
        }
      ],
      "source": [
        "x.insert(0, \"start\")\n",
        "x"
      ]
    },
    {
      "cell_type": "code",
      "execution_count": 24,
      "metadata": {},
      "outputs": [
        {
          "data": {
            "text/plain": [
              "[1, 'two', 2, 3]"
            ]
          },
          "execution_count": 24,
          "metadata": {},
          "output_type": "execute_result"
        }
      ],
      "source": [
        "x = [1, 2, 3]\n",
        "x[1:1] = [\"two\"]\n",
        "x"
      ]
    },
    {
      "cell_type": "code",
      "execution_count": 20,
      "metadata": {
        "colab": {
          "base_uri": "https://localhost:8080/"
        },
        "id": "UBPYNUtZ8y-b",
        "outputId": "c599dac2-adc7-4c95-b95e-540e473eb988"
      },
      "outputs": [
        {
          "data": {
            "text/plain": [
              "[1, 2, 'hello', 3]"
            ]
          },
          "execution_count": 20,
          "metadata": {},
          "output_type": "execute_result"
        }
      ],
      "source": [
        "x = [1, 2, 3]\n",
        "x.insert(-1, \"hello\")\n",
        "x"
      ]
    },
    {
      "cell_type": "code",
      "execution_count": 23,
      "metadata": {
        "colab": {
          "base_uri": "https://localhost:8080/"
        },
        "id": "xDN9l9zE88lT",
        "outputId": "62dc677e-3233-478c-95df-8459c982798f"
      },
      "outputs": [
        {
          "data": {
            "text/plain": [
              "['a', 'c', 7, 9, 11]"
            ]
          },
          "execution_count": 23,
          "metadata": {},
          "output_type": "execute_result"
        }
      ],
      "source": [
        "x = ['a', 2, 'c', 7, 9, 11]\n",
        "del x[1]\n",
        "x"
      ]
    },
    {
      "cell_type": "code",
      "execution_count": 29,
      "metadata": {},
      "outputs": [
        {
          "data": {
            "text/plain": [
              "['a', 'c', 7, 9, 11]"
            ]
          },
          "execution_count": 29,
          "metadata": {},
          "output_type": "execute_result"
        }
      ],
      "source": [
        "x = ['a', 2, 'c', 7, 9, 11]\n",
        "x[1:2] = []\n",
        "x"
      ]
    },
    {
      "cell_type": "code",
      "execution_count": 22,
      "metadata": {
        "colab": {
          "base_uri": "https://localhost:8080/"
        },
        "id": "YcLzxlcO8_Xf",
        "outputId": "bb158bdf-abdd-4ffc-d00c-721f765ccd17"
      },
      "outputs": [
        {
          "data": {
            "text/plain": [
              "[7, 9, 11]"
            ]
          },
          "execution_count": 22,
          "metadata": {},
          "output_type": "execute_result"
        }
      ],
      "source": [
        "del x[:2]\n",
        "x"
      ]
    },
    {
      "cell_type": "code",
      "execution_count": 27,
      "metadata": {
        "colab": {
          "base_uri": "https://localhost:8080/"
        },
        "id": "frfLq_vg9Bir",
        "outputId": "d814cc5d-1855-49ec-c3d2-36359cd96ea9"
      },
      "outputs": [
        {
          "data": {
            "text/plain": [
              "[1, 2, 4, 3, 5]"
            ]
          },
          "execution_count": 27,
          "metadata": {},
          "output_type": "execute_result"
        }
      ],
      "source": [
        "x = [1, 2, 3, 4, 3, 5]\n",
        "x.remove(3)\n",
        "x"
      ]
    },
    {
      "cell_type": "code",
      "execution_count": 28,
      "metadata": {
        "colab": {
          "base_uri": "https://localhost:8080/"
        },
        "id": "fyDHGqEX9EGj",
        "outputId": "8d85fd2b-fd01-4660-95de-feda54a51b20"
      },
      "outputs": [
        {
          "data": {
            "text/plain": [
              "[1, 2, 4, 5]"
            ]
          },
          "execution_count": 28,
          "metadata": {},
          "output_type": "execute_result"
        }
      ],
      "source": [
        "x.remove(3)\n",
        "x"
      ]
    },
    {
      "cell_type": "code",
      "execution_count": 29,
      "metadata": {
        "colab": {
          "base_uri": "https://localhost:8080/",
          "height": 141
        },
        "id": "hV5LgiDX9GMh",
        "outputId": "68b9fabb-e2a5-4e4f-9f95-5fadfe8c3388"
      },
      "outputs": [
        {
          "ename": "ValueError",
          "evalue": "list.remove(x): x not in list",
          "output_type": "error",
          "traceback": [
            "\u001b[0;31m---------------------------------------------------------------------------\u001b[0m",
            "\u001b[0;31mValueError\u001b[0m                                Traceback (most recent call last)",
            "\u001b[0;32m<ipython-input-29-c4efe2720efe>\u001b[0m in \u001b[0;36m<cell line: 1>\u001b[0;34m()\u001b[0m\n\u001b[0;32m----> 1\u001b[0;31m \u001b[0mx\u001b[0m\u001b[0;34m.\u001b[0m\u001b[0mremove\u001b[0m\u001b[0;34m(\u001b[0m\u001b[0;36m3\u001b[0m\u001b[0;34m)\u001b[0m\u001b[0;34m\u001b[0m\u001b[0;34m\u001b[0m\u001b[0m\n\u001b[0m",
            "\u001b[0;31mValueError\u001b[0m: list.remove(x): x not in list"
          ]
        }
      ],
      "source": [
        "x.remove(3)"
      ]
    },
    {
      "cell_type": "code",
      "execution_count": 30,
      "metadata": {
        "colab": {
          "base_uri": "https://localhost:8080/"
        },
        "id": "BLMGOJ9z9IaN",
        "outputId": "c7d90752-a5a3-460f-9239-6ef0a3f3b3bb"
      },
      "outputs": [
        {
          "data": {
            "text/plain": [
              "[7, 6, 5, 3, 1]"
            ]
          },
          "execution_count": 30,
          "metadata": {},
          "output_type": "execute_result"
        }
      ],
      "source": [
        "x = [1, 3, 5, 6, 7]\n",
        "x.reverse()\n",
        "x"
      ]
    },
    {
      "cell_type": "markdown",
      "metadata": {
        "id": "aYRT-IuPJo6T"
      },
      "source": [
        "### Try this: Modifying lists\n",
        "Suppose that you have a list 10 items long. How might you move the last three items from the end of the list to the beginning, keeping them in the same order?\n"
      ]
    },
    {
      "cell_type": "code",
      "execution_count": 34,
      "metadata": {
        "id": "cE3Li-FYK0kg"
      },
      "outputs": [
        {
          "data": {
            "text/plain": [
              "[8, 9, 10, 1, 2, 3, 4, 5, 6, 7]"
            ]
          },
          "execution_count": 34,
          "metadata": {},
          "output_type": "execute_result"
        }
      ],
      "source": [
        "my_list = [1, 2, 3, 4, 5, 6, 7, 8, 9, 10]\n",
        "my_list = my_list[-3:] + my_list[:-3]\n",
        "my_list"
      ]
    },
    {
      "cell_type": "markdown",
      "metadata": {
        "id": "cLfUP1FvK28O"
      },
      "source": [
        "## 5.4 Sorting lists"
      ]
    },
    {
      "cell_type": "code",
      "execution_count": 34,
      "metadata": {
        "colab": {
          "base_uri": "https://localhost:8080/"
        },
        "id": "0PfSn481KX7B",
        "outputId": "ab9362db-1f0e-44a8-8154-1485fa82e395"
      },
      "outputs": [
        {
          "data": {
            "text/plain": [
              "[5, 6, 7, 8, 9, 10, 1, 2, 3, 4]"
            ]
          },
          "execution_count": 34,
          "metadata": {},
          "output_type": "execute_result"
        }
      ],
      "source": [
        "my_list = my_list[-3:] + my_list[:-3]\n",
        "my_list"
      ]
    },
    {
      "cell_type": "code",
      "execution_count": 35,
      "metadata": {
        "colab": {
          "base_uri": "https://localhost:8080/"
        },
        "id": "zdX9vFJE9MYb",
        "outputId": "4fb317e2-5ace-4cad-f030-deba969b1ff8"
      },
      "outputs": [
        {
          "data": {
            "text/plain": [
              "[0, 1, 2, 3, 4, 8]"
            ]
          },
          "execution_count": 35,
          "metadata": {},
          "output_type": "execute_result"
        }
      ],
      "source": [
        "x = [3, 8, 4, 0, 2, 1]\n",
        "x.sort()\n",
        "x"
      ]
    },
    {
      "cell_type": "code",
      "execution_count": 36,
      "metadata": {
        "colab": {
          "base_uri": "https://localhost:8080/"
        },
        "id": "_a7bn_OH9Oc6",
        "outputId": "e446a2ff-f9a8-4407-9003-fa66cc5fced6"
      },
      "outputs": [
        {
          "data": {
            "text/plain": [
              "[1, 2, 3, 4]"
            ]
          },
          "execution_count": 36,
          "metadata": {},
          "output_type": "execute_result"
        }
      ],
      "source": [
        "x = [2, 4, 1, 3]\n",
        "y = x[:]\n",
        "y.sort()\n",
        "y"
      ]
    },
    {
      "cell_type": "code",
      "execution_count": 37,
      "metadata": {
        "colab": {
          "base_uri": "https://localhost:8080/"
        },
        "id": "Sf48v9uE9Qnc",
        "outputId": "5650c7eb-ec50-4a2b-b5e3-3b4e5868ab18"
      },
      "outputs": [
        {
          "data": {
            "text/plain": [
              "[2, 4, 1, 3]"
            ]
          },
          "execution_count": 37,
          "metadata": {},
          "output_type": "execute_result"
        }
      ],
      "source": [
        "x"
      ]
    },
    {
      "cell_type": "code",
      "execution_count": 1,
      "metadata": {
        "colab": {
          "base_uri": "https://localhost:8080/"
        },
        "id": "ges4oBy69SOy",
        "outputId": "37ff4061-2a49-4032-e5f8-e0aaedd95bf2"
      },
      "outputs": [
        {
          "data": {
            "text/plain": [
              "['Enchanting', 'Is', 'Life']"
            ]
          },
          "execution_count": 1,
          "metadata": {},
          "output_type": "execute_result"
        }
      ],
      "source": [
        "x = [\"Life\", \"Is\", \"Enchanting\"]\n",
        "x.sort()\n",
        "x"
      ]
    },
    {
      "cell_type": "code",
      "execution_count": 2,
      "metadata": {
        "colab": {
          "base_uri": "https://localhost:8080/",
          "height": 159
        },
        "id": "nWTynOdz9UNT",
        "outputId": "0646d698-2e70-44ff-c7e9-125d0084fa12"
      },
      "outputs": [
        {
          "ename": "TypeError",
          "evalue": "'<' not supported between instances of 'str' and 'int'",
          "output_type": "error",
          "traceback": [
            "\u001b[31m---------------------------------------------------------------------------\u001b[39m",
            "\u001b[31mTypeError\u001b[39m                                 Traceback (most recent call last)",
            "\u001b[36mCell\u001b[39m\u001b[36m \u001b[39m\u001b[32mIn[2]\u001b[39m\u001b[32m, line 2\u001b[39m\n\u001b[32m      1\u001b[39m x = [\u001b[32m1\u001b[39m, \u001b[32m2\u001b[39m, \u001b[33m'\u001b[39m\u001b[33mhello\u001b[39m\u001b[33m'\u001b[39m, \u001b[32m3\u001b[39m]\n\u001b[32m----> \u001b[39m\u001b[32m2\u001b[39m \u001b[43mx\u001b[49m\u001b[43m.\u001b[49m\u001b[43msort\u001b[49m\u001b[43m(\u001b[49m\u001b[43m)\u001b[49m\n",
            "\u001b[31mTypeError\u001b[39m: '<' not supported between instances of 'str' and 'int'"
          ]
        }
      ],
      "source": [
        "x = [1, 2, 'hello', 3]\n",
        "x.sort()"
      ]
    },
    {
      "cell_type": "code",
      "execution_count": 40,
      "metadata": {
        "colab": {
          "base_uri": "https://localhost:8080/"
        },
        "id": "ZgfSgIQ09W8F",
        "outputId": "cedbeb0d-f275-41ed-b9fc-a7c76a8a8267"
      },
      "outputs": [
        {
          "data": {
            "text/plain": [
              "[[2, 3], [2, 9], [3, 2], [3, 5], [4, 1]]"
            ]
          },
          "execution_count": 40,
          "metadata": {},
          "output_type": "execute_result"
        }
      ],
      "source": [
        "x = [[3, 5], [2, 9], [2, 3], [4, 1], [3, 2]]\n",
        "x.sort()\n",
        "x"
      ]
    },
    {
      "cell_type": "code",
      "execution_count": 41,
      "metadata": {
        "colab": {
          "base_uri": "https://localhost:8080/"
        },
        "id": "P4TTCfNy9ZR8",
        "outputId": "06bdcc16-fd5b-4957-a20d-79bce1598bca"
      },
      "outputs": [
        {
          "name": "stdout",
          "output_type": "stream",
          "text": [
            "['C', 'Python', 'better', 'is', 'than']\n"
          ]
        }
      ],
      "source": [
        "def comp_num_of_chars(string1):\n",
        "    return len(string1)\n",
        "word_list = ['Python', 'is', 'better', 'than', 'C']\n",
        "word_list.sort()\n",
        "print(word_list)"
      ]
    },
    {
      "cell_type": "code",
      "execution_count": 42,
      "metadata": {
        "colab": {
          "base_uri": "https://localhost:8080/"
        },
        "id": "noSvnryH9eOk",
        "outputId": "c340c531-74f0-4a36-ce78-ed693dccc8dc"
      },
      "outputs": [
        {
          "name": "stdout",
          "output_type": "stream",
          "text": [
            "['C', 'is', 'than', 'Python', 'better']\n"
          ]
        }
      ],
      "source": [
        "word_list = ['Python', 'is', 'better', 'than', 'C']\n",
        "word_list.sort(key=comp_num_of_chars)\n",
        "print(word_list)"
      ]
    },
    {
      "cell_type": "code",
      "execution_count": 43,
      "metadata": {
        "colab": {
          "base_uri": "https://localhost:8080/"
        },
        "id": "D5-5ZbED9hBn",
        "outputId": "a71f5736-69a6-4483-ae14-76e5aca6ae54"
      },
      "outputs": [
        {
          "data": {
            "text/plain": [
              "[1, 2, 3, 4]"
            ]
          },
          "execution_count": 43,
          "metadata": {},
          "output_type": "execute_result"
        }
      ],
      "source": [
        "x = (4, 3, 1, 2)\n",
        "y = sorted(x)\n",
        "y"
      ]
    },
    {
      "cell_type": "code",
      "execution_count": 44,
      "metadata": {
        "colab": {
          "base_uri": "https://localhost:8080/"
        },
        "id": "s3nIlIHN9kUK",
        "outputId": "c24aa1e2-f2d9-40f7-8427-dd5be33c64fe"
      },
      "outputs": [
        {
          "data": {
            "text/plain": [
              "[4, 3, 2, 1]"
            ]
          },
          "execution_count": 44,
          "metadata": {},
          "output_type": "execute_result"
        }
      ],
      "source": [
        "z = sorted(x, reverse=True)\n",
        "z"
      ]
    },
    {
      "cell_type": "markdown",
      "metadata": {
        "id": "vW-_r_w-LDHd"
      },
      "source": [
        "### Try this: Sorting lists\n",
        "Suppose that you have a list in which each element is in turn a list: `[[1, 2, 3], [2, 1, 3], [4, 0, 1]]`. If you wanted to sort this list by the second element in each list so that the result would be `[[4, 0, 1], [2, 1, 3], [1, 2, 3]]`, what function would you write to pass as the key value to the sort() method?"
      ]
    },
    {
      "cell_type": "code",
      "execution_count": 11,
      "metadata": {
        "id": "wywIsO_mLOrN"
      },
      "outputs": [
        {
          "name": "stdout",
          "output_type": "stream",
          "text": [
            "[[4, 0, 1], [2, 1, 3], [1, 2, 3]]\n",
            "[[4, 0, 1], [2, 1, 3], [1, 2, 3]]\n"
          ]
        }
      ],
      "source": [
        "# experiement here\n",
        "\n",
        "x = [[1, 2, 3], [2, 1, 3], [4, 0, 1]]\n",
        "\n",
        "def sort_by_second_element(x):\n",
        "    return x[1]\n",
        "\n",
        "x.sort(key=sort_by_second_element)\n",
        "\n",
        "print(x)\n",
        "\n",
        "x.sort(key=lambda x: x[1])\n",
        "\n",
        "print(x)"
      ]
    },
    {
      "cell_type": "code",
      "execution_count": 26,
      "metadata": {},
      "outputs": [
        {
          "data": {
            "text/plain": [
              "3"
            ]
          },
          "execution_count": 26,
          "metadata": {},
          "output_type": "execute_result"
        }
      ],
      "source": [
        "x = 'Marco'\n",
        "\n",
        "def return_position(x):\n",
        "    y = input(\"Enter a character to find its position: \")\n",
        "    if y.lower() in x.lower():\n",
        "        return x.lower().index(y.lower())\n",
        "\n",
        "return_position(x)"
      ]
    },
    {
      "cell_type": "markdown",
      "metadata": {
        "id": "QGW0XllCMJf8"
      },
      "source": [
        "## 5.5 Other list operations"
      ]
    },
    {
      "cell_type": "code",
      "execution_count": 45,
      "metadata": {
        "colab": {
          "base_uri": "https://localhost:8080/"
        },
        "id": "P0uMZHvM9nAI",
        "outputId": "45d169bf-f5f7-4ccf-aa58-77a74de89470"
      },
      "outputs": [
        {
          "data": {
            "text/plain": [
              "True"
            ]
          },
          "execution_count": 45,
          "metadata": {},
          "output_type": "execute_result"
        }
      ],
      "source": [
        "3 in [1, 3, 4, 5]"
      ]
    },
    {
      "cell_type": "code",
      "execution_count": 46,
      "metadata": {
        "colab": {
          "base_uri": "https://localhost:8080/"
        },
        "id": "EMSc5-QX9pQQ",
        "outputId": "081b8cc9-7faa-4e1c-eebd-073fc458ff31"
      },
      "outputs": [
        {
          "data": {
            "text/plain": [
              "False"
            ]
          },
          "execution_count": 46,
          "metadata": {},
          "output_type": "execute_result"
        }
      ],
      "source": [
        "3 not in [1, 3, 4, 5]"
      ]
    },
    {
      "cell_type": "code",
      "execution_count": 47,
      "metadata": {
        "colab": {
          "base_uri": "https://localhost:8080/"
        },
        "id": "IL7RvAks9rgT",
        "outputId": "d8d4428c-6ef4-4872-ac77-51804c965fd1"
      },
      "outputs": [
        {
          "data": {
            "text/plain": [
              "False"
            ]
          },
          "execution_count": 47,
          "metadata": {},
          "output_type": "execute_result"
        }
      ],
      "source": [
        "3 in [\"one\", \"two\", \"three\"]"
      ]
    },
    {
      "cell_type": "code",
      "execution_count": 48,
      "metadata": {
        "colab": {
          "base_uri": "https://localhost:8080/"
        },
        "id": "dIKRb6lM9tpO",
        "outputId": "2c64d281-a058-4c00-bfeb-e9f33210cd2b"
      },
      "outputs": [
        {
          "data": {
            "text/plain": [
              "True"
            ]
          },
          "execution_count": 48,
          "metadata": {},
          "output_type": "execute_result"
        }
      ],
      "source": [
        "3 not in [\"one\", \"two\", \"three\"]"
      ]
    },
    {
      "cell_type": "code",
      "execution_count": 49,
      "metadata": {
        "colab": {
          "base_uri": "https://localhost:8080/"
        },
        "id": "b6QkMPGu9vPH",
        "outputId": "1c3697cf-a543-4fd7-ce78-9d2b76fdce58"
      },
      "outputs": [
        {
          "data": {
            "text/plain": [
              "[1, 2, 3, 4, 5]"
            ]
          },
          "execution_count": 49,
          "metadata": {},
          "output_type": "execute_result"
        }
      ],
      "source": [
        "z = [1, 2, 3] + [4, 5]\n",
        "z"
      ]
    },
    {
      "cell_type": "code",
      "execution_count": 50,
      "metadata": {
        "colab": {
          "base_uri": "https://localhost:8080/"
        },
        "id": "GT0tqHBK9xjH",
        "outputId": "f160fa40-e7a3-4e75-ec6b-33561b09d30b"
      },
      "outputs": [
        {
          "data": {
            "text/plain": [
              "[None, None, None, None]"
            ]
          },
          "execution_count": 50,
          "metadata": {},
          "output_type": "execute_result"
        }
      ],
      "source": [
        "z = [None] * 4\n",
        "z"
      ]
    },
    {
      "cell_type": "code",
      "execution_count": 51,
      "metadata": {
        "colab": {
          "base_uri": "https://localhost:8080/"
        },
        "id": "x_6dYvsv9zzP",
        "outputId": "df044483-41ec-40f9-de9a-6d09f54eeba2"
      },
      "outputs": [
        {
          "data": {
            "text/plain": [
              "[3, 1, 3, 1]"
            ]
          },
          "execution_count": 51,
          "metadata": {},
          "output_type": "execute_result"
        }
      ],
      "source": [
        "z = [3, 1] * 2\n",
        "z"
      ]
    },
    {
      "cell_type": "code",
      "execution_count": 52,
      "metadata": {
        "colab": {
          "base_uri": "https://localhost:8080/"
        },
        "id": "lXWik2aH92A3",
        "outputId": "154b1d80-f084-4551-ba39-a721e41c91b0"
      },
      "outputs": [
        {
          "data": {
            "text/plain": [
              "-2"
            ]
          },
          "execution_count": 52,
          "metadata": {},
          "output_type": "execute_result"
        }
      ],
      "source": [
        "min([3, 7, 0, -2, 11])"
      ]
    },
    {
      "cell_type": "code",
      "execution_count": 53,
      "metadata": {
        "colab": {
          "base_uri": "https://localhost:8080/",
          "height": 141
        },
        "id": "ABR2Rxkh939W",
        "outputId": "bb2b7d2b-a77d-47b0-f618-ac9e24493819"
      },
      "outputs": [
        {
          "ename": "TypeError",
          "evalue": "'>' not supported between instances of 'str' and 'int'",
          "output_type": "error",
          "traceback": [
            "\u001b[0;31m---------------------------------------------------------------------------\u001b[0m",
            "\u001b[0;31mTypeError\u001b[0m                                 Traceback (most recent call last)",
            "\u001b[0;32m<ipython-input-53-15ab1869d5d5>\u001b[0m in \u001b[0;36m<cell line: 1>\u001b[0;34m()\u001b[0m\n\u001b[0;32m----> 1\u001b[0;31m \u001b[0mmax\u001b[0m\u001b[0;34m(\u001b[0m\u001b[0;34m[\u001b[0m\u001b[0;36m4\u001b[0m\u001b[0;34m,\u001b[0m \u001b[0;34m\"Hello\"\u001b[0m\u001b[0;34m,\u001b[0m \u001b[0;34m[\u001b[0m\u001b[0;36m1\u001b[0m\u001b[0;34m,\u001b[0m \u001b[0;36m2\u001b[0m\u001b[0;34m]\u001b[0m\u001b[0;34m]\u001b[0m\u001b[0;34m)\u001b[0m\u001b[0;34m\u001b[0m\u001b[0;34m\u001b[0m\u001b[0m\n\u001b[0m",
            "\u001b[0;31mTypeError\u001b[0m: '>' not supported between instances of 'str' and 'int'"
          ]
        }
      ],
      "source": [
        "max([4, \"Hello\", [1, 2]])"
      ]
    },
    {
      "cell_type": "code",
      "execution_count": 54,
      "metadata": {
        "colab": {
          "base_uri": "https://localhost:8080/"
        },
        "id": "HZuBr5xZ96sd",
        "outputId": "2c921c00-3bc7-40a4-aadf-af1016d89af3"
      },
      "outputs": [
        {
          "data": {
            "text/plain": [
              "3"
            ]
          },
          "execution_count": 54,
          "metadata": {},
          "output_type": "execute_result"
        }
      ],
      "source": [
        "x = [1, 3, \"five\", 7, -2]\n",
        "x.index(7)"
      ]
    },
    {
      "cell_type": "code",
      "execution_count": 55,
      "metadata": {
        "colab": {
          "base_uri": "https://localhost:8080/",
          "height": 141
        },
        "id": "HxWTEBTn98ij",
        "outputId": "ac7adee0-6729-44c7-9b17-75d7d1ea449c"
      },
      "outputs": [
        {
          "ename": "ValueError",
          "evalue": "5 is not in list",
          "output_type": "error",
          "traceback": [
            "\u001b[0;31m---------------------------------------------------------------------------\u001b[0m",
            "\u001b[0;31mValueError\u001b[0m                                Traceback (most recent call last)",
            "\u001b[0;32m<ipython-input-55-96ad5df81983>\u001b[0m in \u001b[0;36m<cell line: 1>\u001b[0;34m()\u001b[0m\n\u001b[0;32m----> 1\u001b[0;31m \u001b[0mx\u001b[0m\u001b[0;34m.\u001b[0m\u001b[0mindex\u001b[0m\u001b[0;34m(\u001b[0m\u001b[0;36m5\u001b[0m\u001b[0;34m)\u001b[0m\u001b[0;34m\u001b[0m\u001b[0;34m\u001b[0m\u001b[0m\n\u001b[0m",
            "\u001b[0;31mValueError\u001b[0m: 5 is not in list"
          ]
        }
      ],
      "source": [
        "x.index(5)"
      ]
    },
    {
      "cell_type": "code",
      "execution_count": 56,
      "metadata": {
        "colab": {
          "base_uri": "https://localhost:8080/"
        },
        "id": "MrccfH999_nD",
        "outputId": "db33a9e0-a9a6-46a6-9c51-9d680a81ecdc"
      },
      "outputs": [
        {
          "data": {
            "text/plain": [
              "3"
            ]
          },
          "execution_count": 56,
          "metadata": {},
          "output_type": "execute_result"
        }
      ],
      "source": [
        "x = [1, 2, 2, 3, 5, 2, 5]\n",
        "x.count(2)"
      ]
    },
    {
      "cell_type": "code",
      "execution_count": 57,
      "metadata": {
        "colab": {
          "base_uri": "https://localhost:8080/"
        },
        "id": "Qd4AcerO-CNa",
        "outputId": "0d6f4744-02fc-434b-d942-eaabfd712264"
      },
      "outputs": [
        {
          "data": {
            "text/plain": [
              "2"
            ]
          },
          "execution_count": 57,
          "metadata": {},
          "output_type": "execute_result"
        }
      ],
      "source": [
        "x.count(5)"
      ]
    },
    {
      "cell_type": "code",
      "execution_count": 58,
      "metadata": {
        "colab": {
          "base_uri": "https://localhost:8080/"
        },
        "id": "DWAco0hg-EWH",
        "outputId": "2809d52f-d22c-4286-ce13-30d5bb233b1a"
      },
      "outputs": [
        {
          "data": {
            "text/plain": [
              "0"
            ]
          },
          "execution_count": 58,
          "metadata": {},
          "output_type": "execute_result"
        }
      ],
      "source": [
        "x.count(4)"
      ]
    },
    {
      "cell_type": "markdown",
      "metadata": {
        "id": "LD1W5yNmMs9q"
      },
      "source": [
        "### Quick Check: List Operations\n",
        "What would be the result of `len([[1,2]] * 3)`?\n",
        "\n",
        "What are two differences between using the `in` operator and a list's `index()` method?\n",
        "\n",
        "Which of the following will raise an exception?: `min([\"a\", \"b”, \"c\"])`; `max([1, 2, \"three\"])`; `[1, 2, 3].count(\"one\")`"
      ]
    },
    {
      "cell_type": "code",
      "execution_count": null,
      "metadata": {
        "id": "ZcKY5DBBM9tp"
      },
      "outputs": [
        {
          "data": {
            "text/plain": [
              "[[1, 2], [1, 2], [1, 2]]"
            ]
          },
          "execution_count": 28,
          "metadata": {},
          "output_type": "execute_result"
        }
      ],
      "source": [
        "len([[1,2]] * 3)"
      ]
    },
    {
      "cell_type": "markdown",
      "metadata": {
        "id": "LF-Fg8JTNiFk"
      },
      "source": [
        "What are two differences between using the `in` operator and a list's `index()` method?\n",
        "\n",
        "* index gives position; in gives a true/false answer.\n",
        "* index gives an error if an element isn’t in the list.\n",
        "Which of the following raises an exception?"
      ]
    },
    {
      "cell_type": "code",
      "execution_count": 30,
      "metadata": {
        "id": "Z4H1xdI9M932"
      },
      "outputs": [
        {
          "data": {
            "text/plain": [
              "'a'"
            ]
          },
          "execution_count": 30,
          "metadata": {},
          "output_type": "execute_result"
        }
      ],
      "source": [
        "min([\"a\", \"b\", \"c\"])"
      ]
    },
    {
      "cell_type": "code",
      "execution_count": 31,
      "metadata": {
        "id": "2q4TuVIVNYv2"
      },
      "outputs": [
        {
          "ename": "TypeError",
          "evalue": "'>' not supported between instances of 'str' and 'int'",
          "output_type": "error",
          "traceback": [
            "\u001b[31m---------------------------------------------------------------------------\u001b[39m",
            "\u001b[31mTypeError\u001b[39m                                 Traceback (most recent call last)",
            "\u001b[36mCell\u001b[39m\u001b[36m \u001b[39m\u001b[32mIn[31]\u001b[39m\u001b[32m, line 1\u001b[39m\n\u001b[32m----> \u001b[39m\u001b[32m1\u001b[39m \u001b[38;5;28;43mmax\u001b[39;49m\u001b[43m(\u001b[49m\u001b[43m[\u001b[49m\u001b[32;43m1\u001b[39;49m\u001b[43m,\u001b[49m\u001b[43m \u001b[49m\u001b[32;43m2\u001b[39;49m\u001b[43m,\u001b[49m\u001b[43m \u001b[49m\u001b[33;43m\"\u001b[39;49m\u001b[33;43mthree\u001b[39;49m\u001b[33;43m\"\u001b[39;49m\u001b[43m]\u001b[49m\u001b[43m)\u001b[49m\n",
            "\u001b[31mTypeError\u001b[39m: '>' not supported between instances of 'str' and 'int'"
          ]
        }
      ],
      "source": [
        "max([1, 2, \"three\"])"
      ]
    },
    {
      "cell_type": "code",
      "execution_count": 32,
      "metadata": {
        "id": "5ssHR5FTNchX"
      },
      "outputs": [
        {
          "data": {
            "text/plain": [
              "0"
            ]
          },
          "execution_count": 32,
          "metadata": {},
          "output_type": "execute_result"
        }
      ],
      "source": [
        "[1, 2, 3].count(\"one\")"
      ]
    },
    {
      "cell_type": "markdown",
      "metadata": {
        "id": "2tlJQKR7NtxN"
      },
      "source": [
        "### Try This: List operations\n",
        "If you have a list x, write the code to safely remove an item if—and only if—that value is in the list.\n",
        "\n",
        "Modify that code to remove the element only if the item occurs in the list more than once.\n"
      ]
    },
    {
      "cell_type": "code",
      "execution_count": 44,
      "metadata": {
        "id": "kDAaBtXNOCbK"
      },
      "outputs": [
        {
          "data": {
            "text/plain": [
              "[1, 2, 2, 1, 3]"
            ]
          },
          "execution_count": 44,
          "metadata": {},
          "output_type": "execute_result"
        }
      ],
      "source": [
        "x = [1, 2, 3, 2, 1, 3]\n",
        "\n",
        "def safe_remove(x, y):\n",
        "    if y in x:\n",
        "        x.remove(y)\n",
        "    return x    \n",
        "\n",
        "safe_remove(x, 3)"
      ]
    },
    {
      "cell_type": "code",
      "execution_count": 46,
      "metadata": {},
      "outputs": [
        {
          "data": {
            "text/plain": [
              "[1, 2, 2, 1, 3]"
            ]
          },
          "execution_count": 46,
          "metadata": {},
          "output_type": "execute_result"
        }
      ],
      "source": [
        "x = [1, 2, 3, 2, 1, 3]\n",
        "\n",
        "def safe_remove(x, y):\n",
        "    if y in x:\n",
        "        if x.count(y) > 1:\n",
        "            x.remove(y)\n",
        "    return x    \n",
        "\n",
        "safe_remove(x, 3)"
      ]
    },
    {
      "cell_type": "code",
      "execution_count": 47,
      "metadata": {
        "colab": {
          "base_uri": "https://localhost:8080/"
        },
        "id": "jMzcpgN7OCxO",
        "outputId": "032026d4-4f41-4d50-d47b-124ac10d26d1"
      },
      "outputs": [
        {
          "data": {
            "text/plain": [
              "[1, 2, 4, 5, 4]"
            ]
          },
          "execution_count": 47,
          "metadata": {},
          "output_type": "execute_result"
        }
      ],
      "source": [
        "x = [1, 2, 3, 4, 5, 4]\n",
        "# change element to a value not in x to text counter case\n",
        "element = 3\n",
        "if element in x:\n",
        "    x.remove(element)\n",
        "x"
      ]
    },
    {
      "cell_type": "code",
      "execution_count": 48,
      "metadata": {
        "colab": {
          "base_uri": "https://localhost:8080/"
        },
        "id": "EptVuhkIPF_X",
        "outputId": "eedf376d-0c6e-4edd-fa7d-dd56daa4daa3"
      },
      "outputs": [
        {
          "data": {
            "text/plain": [
              "[1, 2, 3, 5, 4]"
            ]
          },
          "execution_count": 48,
          "metadata": {},
          "output_type": "execute_result"
        }
      ],
      "source": [
        "x = [1, 2, 3, 4, 5, 4]\n",
        "# change element to something other than 4 or a value not in x to text counter cases\n",
        "element = 4\n",
        "if x.count(element) > 1:\n",
        "    x.remove(element)\n",
        "x"
      ]
    },
    {
      "cell_type": "markdown",
      "metadata": {
        "id": "osCfTNWeQL7Y"
      },
      "source": [
        "## 5.6 Nested lists and deep copies"
      ]
    },
    {
      "cell_type": "code",
      "execution_count": 59,
      "metadata": {
        "colab": {
          "base_uri": "https://localhost:8080/"
        },
        "id": "2KvOAj2d-Fyr",
        "outputId": "22d2ca7e-ed63-4bbd-ae27-f65317f01f45"
      },
      "outputs": [
        {
          "data": {
            "text/plain": [
              "[0, 1, 2]"
            ]
          },
          "execution_count": 59,
          "metadata": {},
          "output_type": "execute_result"
        }
      ],
      "source": [
        "m = [[0, 1, 2], [10, 11, 12], [20, 21, 22]]\n",
        "m[0]"
      ]
    },
    {
      "cell_type": "code",
      "execution_count": 60,
      "metadata": {
        "colab": {
          "base_uri": "https://localhost:8080/"
        },
        "id": "G2a0KB3y-JQM",
        "outputId": "4a81c816-2247-491e-d1ef-4a5e725cf8a2"
      },
      "outputs": [
        {
          "data": {
            "text/plain": [
              "1"
            ]
          },
          "execution_count": 60,
          "metadata": {},
          "output_type": "execute_result"
        }
      ],
      "source": [
        "m[0][1]"
      ]
    },
    {
      "cell_type": "code",
      "execution_count": 61,
      "metadata": {
        "colab": {
          "base_uri": "https://localhost:8080/"
        },
        "id": "bUyKmYX6-K1T",
        "outputId": "ec96d906-64db-46ac-fa68-96beacbc9964"
      },
      "outputs": [
        {
          "data": {
            "text/plain": [
              "[20, 21, 22]"
            ]
          },
          "execution_count": 61,
          "metadata": {},
          "output_type": "execute_result"
        }
      ],
      "source": [
        "m[2]"
      ]
    },
    {
      "cell_type": "code",
      "execution_count": 62,
      "metadata": {
        "colab": {
          "base_uri": "https://localhost:8080/"
        },
        "id": "y_xa-2sk-MsM",
        "outputId": "aac540af-ecfa-4489-9c06-2d0ca9c90590"
      },
      "outputs": [
        {
          "data": {
            "text/plain": [
              "22"
            ]
          },
          "execution_count": 62,
          "metadata": {},
          "output_type": "execute_result"
        }
      ],
      "source": [
        "m[2][2]"
      ]
    },
    {
      "cell_type": "code",
      "execution_count": 49,
      "metadata": {
        "colab": {
          "base_uri": "https://localhost:8080/"
        },
        "id": "3sywvmbD-OCT",
        "outputId": "449e50a4-3b1e-4c53-e5ba-64ac2b500521"
      },
      "outputs": [
        {
          "data": {
            "text/plain": [
              "[[0], 1]"
            ]
          },
          "execution_count": 49,
          "metadata": {},
          "output_type": "execute_result"
        }
      ],
      "source": [
        "nested = [0]\n",
        "original = [nested, 1]\n",
        "original"
      ]
    },
    {
      "cell_type": "code",
      "execution_count": 64,
      "metadata": {
        "colab": {
          "base_uri": "https://localhost:8080/"
        },
        "id": "75KBZZwO-QwD",
        "outputId": "885af992-dbad-4e4f-ae91-ee1f6e68c708"
      },
      "outputs": [
        {
          "data": {
            "text/plain": [
              "[['zero'], 1]"
            ]
          },
          "execution_count": 64,
          "metadata": {},
          "output_type": "execute_result"
        }
      ],
      "source": [
        "nested[0] = 'zero'\n",
        "original"
      ]
    },
    {
      "cell_type": "code",
      "execution_count": 65,
      "metadata": {
        "colab": {
          "base_uri": "https://localhost:8080/"
        },
        "id": "GNPVbcCn-Tc7",
        "outputId": "ea7df37a-8b15-45a8-d91e-c4cd547a2a28"
      },
      "outputs": [
        {
          "data": {
            "text/plain": [
              "[0]"
            ]
          },
          "execution_count": 65,
          "metadata": {},
          "output_type": "execute_result"
        }
      ],
      "source": [
        "original[0][0] = 0\n",
        "nested"
      ]
    },
    {
      "cell_type": "code",
      "execution_count": 66,
      "metadata": {
        "colab": {
          "base_uri": "https://localhost:8080/"
        },
        "id": "DHUkCORb-Vfb",
        "outputId": "5530d380-a124-4792-9901-95feccfc06ee"
      },
      "outputs": [
        {
          "data": {
            "text/plain": [
              "[[0], 1]"
            ]
          },
          "execution_count": 66,
          "metadata": {},
          "output_type": "execute_result"
        }
      ],
      "source": [
        "original"
      ]
    },
    {
      "cell_type": "code",
      "execution_count": 67,
      "metadata": {
        "colab": {
          "base_uri": "https://localhost:8080/"
        },
        "id": "LP5clUqG-W9P",
        "outputId": "df73bcd8-41b6-4e1c-db1e-fe7d4d6b3d50"
      },
      "outputs": [
        {
          "data": {
            "text/plain": [
              "[[0], 1]"
            ]
          },
          "execution_count": 67,
          "metadata": {},
          "output_type": "execute_result"
        }
      ],
      "source": [
        "nested = [2]\n",
        "original\n"
      ]
    },
    {
      "cell_type": "code",
      "execution_count": 50,
      "metadata": {
        "id": "9FG9BdD7-hIy"
      },
      "outputs": [],
      "source": [
        "original = [[0], 1]\n",
        "shallow = original[:]\n",
        "import copy\n",
        "deep = copy.deepcopy(original)"
      ]
    },
    {
      "cell_type": "code",
      "execution_count": 51,
      "metadata": {
        "colab": {
          "base_uri": "https://localhost:8080/"
        },
        "id": "uqCIMv0i-klI",
        "outputId": "b06a8387-b0fe-4426-b0b2-ba86baca6144"
      },
      "outputs": [
        {
          "data": {
            "text/plain": [
              "[[0], 2]"
            ]
          },
          "execution_count": 51,
          "metadata": {},
          "output_type": "execute_result"
        }
      ],
      "source": [
        "shallow[1] = 2\n",
        "shallow"
      ]
    },
    {
      "cell_type": "code",
      "execution_count": 70,
      "metadata": {
        "colab": {
          "base_uri": "https://localhost:8080/"
        },
        "id": "tG2dnAUC-oSe",
        "outputId": "0f627bbc-b628-4eb9-923f-2eb6136c58ee"
      },
      "outputs": [
        {
          "data": {
            "text/plain": [
              "[[0], 1]"
            ]
          },
          "execution_count": 70,
          "metadata": {},
          "output_type": "execute_result"
        }
      ],
      "source": [
        "original"
      ]
    },
    {
      "cell_type": "code",
      "execution_count": 71,
      "metadata": {
        "colab": {
          "base_uri": "https://localhost:8080/"
        },
        "id": "BIGI9htr-py2",
        "outputId": "6e8f8e29-886f-45b3-9404-e93a22866a42"
      },
      "outputs": [
        {
          "data": {
            "text/plain": [
              "[['zero'], 1]"
            ]
          },
          "execution_count": 71,
          "metadata": {},
          "output_type": "execute_result"
        }
      ],
      "source": [
        "shallow[0][0] = 'zero'\n",
        "original"
      ]
    },
    {
      "cell_type": "code",
      "execution_count": 72,
      "metadata": {
        "colab": {
          "base_uri": "https://localhost:8080/"
        },
        "id": "htNkyjTs-sHi",
        "outputId": "3cbe1e7c-4572-4a71-d8b8-f7c45d27de0a"
      },
      "outputs": [
        {
          "data": {
            "text/plain": [
              "[[5], 1]"
            ]
          },
          "execution_count": 72,
          "metadata": {},
          "output_type": "execute_result"
        }
      ],
      "source": [
        "deep[0][0] = 5\n",
        "deep"
      ]
    },
    {
      "cell_type": "code",
      "execution_count": 73,
      "metadata": {
        "colab": {
          "base_uri": "https://localhost:8080/"
        },
        "id": "_hZOjc-t-ueC",
        "outputId": "32dd99c0-436f-48a2-d236-c32d77c31b8d"
      },
      "outputs": [
        {
          "data": {
            "text/plain": [
              "[['zero'], 1]"
            ]
          },
          "execution_count": 73,
          "metadata": {},
          "output_type": "execute_result"
        }
      ],
      "source": [
        "original"
      ]
    },
    {
      "cell_type": "markdown",
      "metadata": {
        "id": "1Oj3eScAQZo4"
      },
      "source": [
        "### Try This: List copies\n",
        "Suppose that you have the following list: `x = [[1, 2, 3], [4, 5, 6], [7, 8, 9]]` What code could you use to get a copy y of that list in which you could change the elements without the side effect of changing the contents of x?\n"
      ]
    },
    {
      "cell_type": "code",
      "execution_count": 53,
      "metadata": {
        "id": "d4hRTcXMQgum"
      },
      "outputs": [
        {
          "data": {
            "text/plain": [
              "[[1, 2, 3], [4, 5, 6], [7, 8, 9]]"
            ]
          },
          "execution_count": 53,
          "metadata": {},
          "output_type": "execute_result"
        }
      ],
      "source": [
        "import copy\n",
        "x = [[1, 2, 3], [4, 5, 6], [7, 8, 9]]\n",
        "\n",
        "y = copy.deepcopy(x)\n",
        "y"
      ]
    },
    {
      "cell_type": "code",
      "execution_count": null,
      "metadata": {
        "colab": {
          "base_uri": "https://localhost:8080/"
        },
        "id": "pAF4Q7cVQhA4",
        "outputId": "8c3898b8-7bdf-4717-9871-8b0981ed315e"
      },
      "outputs": [
        {
          "data": {
            "text/plain": [
              "[1, 2, 3, 4, 5]"
            ]
          },
          "execution_count": 4,
          "metadata": {},
          "output_type": "execute_result"
        }
      ],
      "source": [
        "import copy\n",
        "x = [1, 2, 3, 4, 5]\n",
        "copy_x = copy.deepcopy(x)\n",
        "copy_x"
      ]
    },
    {
      "cell_type": "markdown",
      "metadata": {
        "id": "PO5oyPDJQ1ZN"
      },
      "source": [
        "## 5.7 Tuples"
      ]
    },
    {
      "cell_type": "code",
      "execution_count": 74,
      "metadata": {
        "colab": {
          "base_uri": "https://localhost:8080/",
          "height": 35
        },
        "id": "MZFUzvjH-w24",
        "outputId": "0a9a3098-70be-4ab5-8e5e-d2c1977e94ba"
      },
      "outputs": [
        {
          "data": {
            "application/vnd.google.colaboratory.intrinsic+json": {
              "type": "string"
            },
            "text/plain": [
              "'c'"
            ]
          },
          "execution_count": 74,
          "metadata": {},
          "output_type": "execute_result"
        }
      ],
      "source": [
        "x = ('a', 'b', 'c')\n",
        "x[2]"
      ]
    },
    {
      "cell_type": "code",
      "execution_count": 75,
      "metadata": {
        "colab": {
          "base_uri": "https://localhost:8080/"
        },
        "id": "AMUv1CkF-3ZT",
        "outputId": "fb20d61c-ea62-44e9-f032-26c8147c3a51"
      },
      "outputs": [
        {
          "data": {
            "text/plain": [
              "('b', 'c')"
            ]
          },
          "execution_count": 75,
          "metadata": {},
          "output_type": "execute_result"
        }
      ],
      "source": [
        "x[1:]"
      ]
    },
    {
      "cell_type": "code",
      "execution_count": 76,
      "metadata": {
        "colab": {
          "base_uri": "https://localhost:8080/"
        },
        "id": "CbCOr-qF-5No",
        "outputId": "982ec9f7-c5c5-4ff2-bc5f-beeae954c41b"
      },
      "outputs": [
        {
          "data": {
            "text/plain": [
              "3"
            ]
          },
          "execution_count": 76,
          "metadata": {},
          "output_type": "execute_result"
        }
      ],
      "source": [
        "len(x)"
      ]
    },
    {
      "cell_type": "code",
      "execution_count": 77,
      "metadata": {
        "colab": {
          "base_uri": "https://localhost:8080/",
          "height": 35
        },
        "id": "s9GrTDSn-69H",
        "outputId": "2becda7f-2fb5-4b47-922b-43aeb5a4aeac"
      },
      "outputs": [
        {
          "data": {
            "application/vnd.google.colaboratory.intrinsic+json": {
              "type": "string"
            },
            "text/plain": [
              "'c'"
            ]
          },
          "execution_count": 77,
          "metadata": {},
          "output_type": "execute_result"
        }
      ],
      "source": [
        "max(x)"
      ]
    },
    {
      "cell_type": "code",
      "execution_count": 78,
      "metadata": {
        "colab": {
          "base_uri": "https://localhost:8080/",
          "height": 35
        },
        "id": "_kdZkBfH-8tm",
        "outputId": "46cbe928-5b76-4651-de1a-80e744d60dab"
      },
      "outputs": [
        {
          "data": {
            "application/vnd.google.colaboratory.intrinsic+json": {
              "type": "string"
            },
            "text/plain": [
              "'a'"
            ]
          },
          "execution_count": 78,
          "metadata": {},
          "output_type": "execute_result"
        }
      ],
      "source": [
        "min(x)"
      ]
    },
    {
      "cell_type": "code",
      "execution_count": 79,
      "metadata": {
        "colab": {
          "base_uri": "https://localhost:8080/"
        },
        "id": "BOqUmdZY---1",
        "outputId": "20f15a35-cd38-4cef-daf5-3968d18fd6a2"
      },
      "outputs": [
        {
          "data": {
            "text/plain": [
              "False"
            ]
          },
          "execution_count": 79,
          "metadata": {},
          "output_type": "execute_result"
        }
      ],
      "source": [
        "5 in x"
      ]
    },
    {
      "cell_type": "code",
      "execution_count": 80,
      "metadata": {
        "colab": {
          "base_uri": "https://localhost:8080/"
        },
        "id": "B-4oPNeU_AcX",
        "outputId": "de9b97b2-0d3a-4cb9-d462-93dcb6be0a5b"
      },
      "outputs": [
        {
          "data": {
            "text/plain": [
              "True"
            ]
          },
          "execution_count": 80,
          "metadata": {},
          "output_type": "execute_result"
        }
      ],
      "source": [
        "5 not in x"
      ]
    },
    {
      "cell_type": "code",
      "execution_count": 81,
      "metadata": {
        "colab": {
          "base_uri": "https://localhost:8080/",
          "height": 141
        },
        "id": "hh-TFdWi_CUj",
        "outputId": "9329c354-abda-4240-a3d5-aeb22e64a39e"
      },
      "outputs": [
        {
          "ename": "TypeError",
          "evalue": "'tuple' object does not support item assignment",
          "output_type": "error",
          "traceback": [
            "\u001b[0;31m---------------------------------------------------------------------------\u001b[0m",
            "\u001b[0;31mTypeError\u001b[0m                                 Traceback (most recent call last)",
            "\u001b[0;32m<ipython-input-81-dcc4b983047e>\u001b[0m in \u001b[0;36m<cell line: 1>\u001b[0;34m()\u001b[0m\n\u001b[0;32m----> 1\u001b[0;31m \u001b[0mx\u001b[0m\u001b[0;34m[\u001b[0m\u001b[0;36m2\u001b[0m\u001b[0;34m]\u001b[0m \u001b[0;34m=\u001b[0m \u001b[0;34m'd'\u001b[0m\u001b[0;34m\u001b[0m\u001b[0;34m\u001b[0m\u001b[0m\n\u001b[0m",
            "\u001b[0;31mTypeError\u001b[0m: 'tuple' object does not support item assignment"
          ]
        }
      ],
      "source": [
        "x[2] = 'd'"
      ]
    },
    {
      "cell_type": "code",
      "execution_count": 82,
      "metadata": {
        "colab": {
          "base_uri": "https://localhost:8080/"
        },
        "id": "ctT13uAg_Efz",
        "outputId": "c0c63491-7fa9-4c82-9157-869efb5f2552"
      },
      "outputs": [
        {
          "data": {
            "text/plain": [
              "('a', 'b', 'c', 'a', 'b', 'c')"
            ]
          },
          "execution_count": 82,
          "metadata": {},
          "output_type": "execute_result"
        }
      ],
      "source": [
        "x + x"
      ]
    },
    {
      "cell_type": "code",
      "execution_count": 83,
      "metadata": {
        "colab": {
          "base_uri": "https://localhost:8080/"
        },
        "id": "-7xLl_bD_Hu3",
        "outputId": "40cb9810-c9de-4de6-bf07-c0c15a097510"
      },
      "outputs": [
        {
          "data": {
            "text/plain": [
              "('a', 'b', 'c', 'a', 'b', 'c')"
            ]
          },
          "execution_count": 83,
          "metadata": {},
          "output_type": "execute_result"
        }
      ],
      "source": [
        "2 * x"
      ]
    },
    {
      "cell_type": "code",
      "execution_count": 84,
      "metadata": {
        "colab": {
          "base_uri": "https://localhost:8080/"
        },
        "id": "QHDeIaDw_OxM",
        "outputId": "b1a279fc-74d0-447f-e5d2-f5d0c150a72c"
      },
      "outputs": [
        {
          "data": {
            "text/plain": [
              "('a', 'b', 'c')"
            ]
          },
          "execution_count": 84,
          "metadata": {},
          "output_type": "execute_result"
        }
      ],
      "source": [
        "x[:]"
      ]
    },
    {
      "cell_type": "code",
      "execution_count": 85,
      "metadata": {
        "colab": {
          "base_uri": "https://localhost:8080/"
        },
        "id": "23bjBiYc_Qlu",
        "outputId": "dd2cccc6-e2d6-4aed-e461-9d333c42e9c3"
      },
      "outputs": [
        {
          "data": {
            "text/plain": [
              "('a', 'b', 'c')"
            ]
          },
          "execution_count": 85,
          "metadata": {},
          "output_type": "execute_result"
        }
      ],
      "source": [
        "x * 1"
      ]
    },
    {
      "cell_type": "code",
      "execution_count": 86,
      "metadata": {
        "colab": {
          "base_uri": "https://localhost:8080/"
        },
        "id": "WdX_--YJ_TT8",
        "outputId": "01b7c388-a681-4107-e7f8-03181c784607"
      },
      "outputs": [
        {
          "data": {
            "text/plain": [
              "('a', 'b', 'c')"
            ]
          },
          "execution_count": 86,
          "metadata": {},
          "output_type": "execute_result"
        }
      ],
      "source": [
        "x + ()"
      ]
    },
    {
      "cell_type": "code",
      "execution_count": 12,
      "metadata": {},
      "outputs": [
        {
          "data": {
            "text/plain": [
              "(5,)"
            ]
          },
          "execution_count": 12,
          "metadata": {},
          "output_type": "execute_result"
        }
      ],
      "source": [
        "x = 2\n",
        "y = 3\n",
        "z = (x + y,) # Including a comma indicates that the parentheses denote a tuple.\n",
        "z"
      ]
    },
    {
      "cell_type": "code",
      "execution_count": 5,
      "metadata": {
        "colab": {
          "base_uri": "https://localhost:8080/"
        },
        "id": "lTZKhYMl_bRv",
        "outputId": "8bd55427-0dfb-443c-9946-b105475bbdb4"
      },
      "outputs": [
        {
          "data": {
            "text/plain": [
              "()"
            ]
          },
          "execution_count": 5,
          "metadata": {},
          "output_type": "execute_result"
        }
      ],
      "source": [
        "()        # To create an empty tuple, use an empty pair of parentheses."
      ]
    },
    {
      "cell_type": "code",
      "execution_count": 8,
      "metadata": {
        "colab": {
          "base_uri": "https://localhost:8080/"
        },
        "id": "k4wdcAMe_dcP",
        "outputId": "86d0ec4f-ca9a-4adc-a3e2-34baca0a0964"
      },
      "outputs": [
        {
          "data": {
            "text/plain": [
              "(1, 2, 3, 4)"
            ]
          },
          "execution_count": 8,
          "metadata": {},
          "output_type": "execute_result"
        }
      ],
      "source": [
        "(one, two, three, four) =  (1, 2, 3, 4)\n",
        "(one, two, three, four)"
      ]
    },
    {
      "cell_type": "code",
      "execution_count": 91,
      "metadata": {
        "colab": {
          "base_uri": "https://localhost:8080/"
        },
        "id": "trtmM38w_gGb",
        "outputId": "2eedd2ca-1ea5-413b-f45c-0f5eb7c345e3"
      },
      "outputs": [
        {
          "data": {
            "text/plain": [
              "2"
            ]
          },
          "execution_count": 91,
          "metadata": {},
          "output_type": "execute_result"
        }
      ],
      "source": [
        "two"
      ]
    },
    {
      "cell_type": "code",
      "execution_count": 7,
      "metadata": {
        "id": "5FDFWHst_h7b"
      },
      "outputs": [],
      "source": [
        "one, two, three, four = 1, 2, 3, 4"
      ]
    },
    {
      "cell_type": "code",
      "execution_count": 13,
      "metadata": {
        "colab": {
          "base_uri": "https://localhost:8080/"
        },
        "id": "3bs1H19p_kK7",
        "outputId": "e7582a65-c0ac-4ba7-dc6a-b871b19525ab"
      },
      "outputs": [
        {
          "data": {
            "text/plain": [
              "(1, 2, [3, 4])"
            ]
          },
          "execution_count": 13,
          "metadata": {},
          "output_type": "execute_result"
        }
      ],
      "source": [
        "x = (1, 2, 3, 4)\n",
        "a, b, *c = x\n",
        "a, b, c"
      ]
    },
    {
      "cell_type": "code",
      "execution_count": 94,
      "metadata": {
        "colab": {
          "base_uri": "https://localhost:8080/"
        },
        "id": "EeYOFfZV_n0Y",
        "outputId": "f3a87b53-4a1a-4a17-c419-7f59ad8eae0c"
      },
      "outputs": [
        {
          "data": {
            "text/plain": [
              "(1, [2, 3], 4)"
            ]
          },
          "execution_count": 94,
          "metadata": {},
          "output_type": "execute_result"
        }
      ],
      "source": [
        "a, *b, c = x\n",
        "a, b, c"
      ]
    },
    {
      "cell_type": "code",
      "execution_count": 95,
      "metadata": {
        "colab": {
          "base_uri": "https://localhost:8080/"
        },
        "id": "f8hjmJx6_pq3",
        "outputId": "405c659d-05a2-4da5-d99c-684948a79ddb"
      },
      "outputs": [
        {
          "data": {
            "text/plain": [
              "([1, 2], 3, 4)"
            ]
          },
          "execution_count": 95,
          "metadata": {},
          "output_type": "execute_result"
        }
      ],
      "source": [
        "*a, b, c = x\n",
        "a, b, c"
      ]
    },
    {
      "cell_type": "code",
      "execution_count": 96,
      "metadata": {
        "colab": {
          "base_uri": "https://localhost:8080/"
        },
        "id": "jYcucbVA_rcb",
        "outputId": "e40872f5-adb7-41b1-8e9d-e8f5e47e486c"
      },
      "outputs": [
        {
          "data": {
            "text/plain": [
              "(1, 2, 3, 4, [])"
            ]
          },
          "execution_count": 96,
          "metadata": {},
          "output_type": "execute_result"
        }
      ],
      "source": [
        "a, b, c, d, *e = x\n",
        "a, b, c, d, e"
      ]
    },
    {
      "cell_type": "code",
      "execution_count": 14,
      "metadata": {
        "colab": {
          "base_uri": "https://localhost:8080/"
        },
        "id": "0gJepbCm_ty3",
        "outputId": "2e53800f-71f0-4665-a325-19b051c0650a"
      },
      "outputs": [
        {
          "data": {
            "text/plain": [
              "1"
            ]
          },
          "execution_count": 14,
          "metadata": {},
          "output_type": "execute_result"
        }
      ],
      "source": [
        "[a, b] = [1, 2]\n",
        "[c, d] = 3, 4\n",
        "[e, f] = (5, 6)\n",
        "(g, h) = 7, 8\n",
        "i, j = [9, 10]\n",
        "k, l = (11, 12)\n",
        "a"
      ]
    },
    {
      "cell_type": "code",
      "execution_count": 98,
      "metadata": {
        "colab": {
          "base_uri": "https://localhost:8080/"
        },
        "id": "rH7PcPvK_wxi",
        "outputId": "f29395ba-ec24-4ffc-bfc6-1a537a8dcd57"
      },
      "outputs": [
        {
          "data": {
            "text/plain": [
              "[2, 3, 4]"
            ]
          },
          "execution_count": 98,
          "metadata": {},
          "output_type": "execute_result"
        }
      ],
      "source": [
        "[b, c, d]"
      ]
    },
    {
      "cell_type": "code",
      "execution_count": 99,
      "metadata": {
        "colab": {
          "base_uri": "https://localhost:8080/"
        },
        "id": "XTHghw1v_y-v",
        "outputId": "9449c273-412c-405b-bade-1343be6eeee3"
      },
      "outputs": [
        {
          "data": {
            "text/plain": [
              "(5, 6, 7)"
            ]
          },
          "execution_count": 99,
          "metadata": {},
          "output_type": "execute_result"
        }
      ],
      "source": [
        "(e, f, g)"
      ]
    },
    {
      "cell_type": "code",
      "execution_count": 100,
      "metadata": {
        "colab": {
          "base_uri": "https://localhost:8080/"
        },
        "id": "UY1Jj3zA_1Ae",
        "outputId": "96c508f5-c1d2-40ef-9fa3-0a62f5060737"
      },
      "outputs": [
        {
          "data": {
            "text/plain": [
              "(8, 9, 10, 11, 12)"
            ]
          },
          "execution_count": 100,
          "metadata": {},
          "output_type": "execute_result"
        }
      ],
      "source": [
        "h, i, j, k, l"
      ]
    },
    {
      "cell_type": "code",
      "execution_count": 101,
      "metadata": {
        "colab": {
          "base_uri": "https://localhost:8080/"
        },
        "id": "K4UYOqKp_2mH",
        "outputId": "c1c21117-79c0-4bf7-c6f0-f2e28bf7f6f8"
      },
      "outputs": [
        {
          "data": {
            "text/plain": [
              "[1, 2, 3, 4]"
            ]
          },
          "execution_count": 101,
          "metadata": {},
          "output_type": "execute_result"
        }
      ],
      "source": [
        "list((1, 2, 3, 4))"
      ]
    },
    {
      "cell_type": "code",
      "execution_count": 102,
      "metadata": {
        "colab": {
          "base_uri": "https://localhost:8080/"
        },
        "id": "METAQ2tA_4w7",
        "outputId": "a2e8bf9a-2bbe-4430-d5ff-fd0b669575a4"
      },
      "outputs": [
        {
          "data": {
            "text/plain": [
              "(1, 2, 3, 4)"
            ]
          },
          "execution_count": 102,
          "metadata": {},
          "output_type": "execute_result"
        }
      ],
      "source": [
        "tuple([1, 2, 3, 4])"
      ]
    },
    {
      "cell_type": "code",
      "execution_count": 103,
      "metadata": {
        "colab": {
          "base_uri": "https://localhost:8080/"
        },
        "id": "JOF0EHMM_6_E",
        "outputId": "768ce87b-8d07-4c56-d550-53ac44fe9502"
      },
      "outputs": [
        {
          "data": {
            "text/plain": [
              "['H', 'e', 'l', 'l', 'o']"
            ]
          },
          "execution_count": 103,
          "metadata": {},
          "output_type": "execute_result"
        }
      ],
      "source": [
        "list(\"Hello\")"
      ]
    },
    {
      "cell_type": "markdown",
      "metadata": {
        "id": "XtbL0ijHRM50"
      },
      "source": [
        "### Quick Check: Tuples\n",
        "Explain why the following operations aren't legal for the tuple `x = (1, 2, 3, 4)`:\n",
        "\n",
        "`x.append(1)`\n",
        "\n",
        "`x[1] = \"hello\"`\n",
        "\n",
        "`del x[2]`\n",
        "\n"
      ]
    },
    {
      "cell_type": "markdown",
      "metadata": {
        "id": "-vZdrAWURhm9"
      },
      "source": [
        "All of these operations change the object in place, and tuples can't be changed.\n"
      ]
    },
    {
      "cell_type": "markdown",
      "metadata": {
        "id": "5p8RCWsKTXJD"
      },
      "source": [
        "\n",
        "If you had a tuple `x = (3, 1, 4, 2)`, how might you end up with x sorted?\n",
        "\n",
        "\n"
      ]
    },
    {
      "cell_type": "code",
      "execution_count": 18,
      "metadata": {
        "colab": {
          "base_uri": "https://localhost:8080/"
        },
        "id": "Vjr7wXcYTNiT",
        "outputId": "b267d97e-8346-462a-a476-8743336f9db2"
      },
      "outputs": [
        {
          "data": {
            "text/plain": [
              "(1, 2, 3, 4)"
            ]
          },
          "execution_count": 18,
          "metadata": {},
          "output_type": "execute_result"
        }
      ],
      "source": [
        "x = (3, 1, 4, 2)\n",
        "x = tuple(sorted(x))\n",
        "x"
      ]
    },
    {
      "cell_type": "markdown",
      "metadata": {
        "id": "_060b9vSRl0T"
      },
      "source": [
        "## 5.8 Sets"
      ]
    },
    {
      "cell_type": "code",
      "execution_count": 2,
      "metadata": {
        "colab": {
          "base_uri": "https://localhost:8080/"
        },
        "id": "TZ3w2VcS_86w",
        "outputId": "b254e3fd-1934-4227-d9c0-2cbbf124adce"
      },
      "outputs": [
        {
          "data": {
            "text/plain": [
              "{1, 2, 3, 5}"
            ]
          },
          "execution_count": 2,
          "metadata": {},
          "output_type": "execute_result"
        }
      ],
      "source": [
        "x = set([1, 2, 3, 1, 3, 5])    #A\n",
        "x"
      ]
    },
    {
      "cell_type": "code",
      "execution_count": 28,
      "metadata": {
        "colab": {
          "base_uri": "https://localhost:8080/"
        },
        "id": "mpDc6UN1ABRP",
        "outputId": "613ada24-828b-4e8c-f9b5-906753aaac0d"
      },
      "outputs": [
        {
          "data": {
            "text/plain": [
              "{1, 2, 3, 5, 6}"
            ]
          },
          "execution_count": 28,
          "metadata": {},
          "output_type": "execute_result"
        }
      ],
      "source": [
        "x.add(6)              #C\n",
        "x"
      ]
    },
    {
      "cell_type": "code",
      "execution_count": 21,
      "metadata": {
        "colab": {
          "base_uri": "https://localhost:8080/"
        },
        "id": "MJcWmQS-ADHX",
        "outputId": "3aa0ff76-204d-43e0-af46-54df4bbff644"
      },
      "outputs": [
        {
          "data": {
            "text/plain": [
              "{1, 2, 3, 6}"
            ]
          },
          "execution_count": 21,
          "metadata": {},
          "output_type": "execute_result"
        }
      ],
      "source": [
        "x.remove(5)                    #D\n",
        "x"
      ]
    },
    {
      "cell_type": "code",
      "execution_count": 107,
      "metadata": {
        "colab": {
          "base_uri": "https://localhost:8080/"
        },
        "id": "fU58BoycAEzo",
        "outputId": "c5f4190f-0aca-465a-9456-935640b7bfcf"
      },
      "outputs": [
        {
          "data": {
            "text/plain": [
              "True"
            ]
          },
          "execution_count": 107,
          "metadata": {},
          "output_type": "execute_result"
        }
      ],
      "source": [
        "1 in x        #E"
      ]
    },
    {
      "cell_type": "code",
      "execution_count": 108,
      "metadata": {
        "colab": {
          "base_uri": "https://localhost:8080/"
        },
        "id": "TT69PqgCAGeM",
        "outputId": "ef5fb47d-5c40-4f6e-82b6-c88b36166ce4"
      },
      "outputs": [
        {
          "data": {
            "text/plain": [
              "False"
            ]
          },
          "execution_count": 108,
          "metadata": {},
          "output_type": "execute_result"
        }
      ],
      "source": [
        "4 in x        #E"
      ]
    },
    {
      "cell_type": "code",
      "execution_count": 3,
      "metadata": {
        "colab": {
          "base_uri": "https://localhost:8080/"
        },
        "id": "3MDsgF5uAIef",
        "outputId": "beab8a6c-8970-49d5-8d19-aa51e6629fe1"
      },
      "outputs": [
        {
          "data": {
            "text/plain": [
              "{1, 2, 3, 5, 7, 8, 9}"
            ]
          },
          "execution_count": 3,
          "metadata": {},
          "output_type": "execute_result"
        }
      ],
      "source": [
        "y = set([1, 7, 8, 9])\n",
        "x | y                #F"
      ]
    },
    {
      "cell_type": "code",
      "execution_count": 110,
      "metadata": {
        "colab": {
          "base_uri": "https://localhost:8080/"
        },
        "id": "4saQzt29AKXG",
        "outputId": "abbfe820-5762-4999-9167-fa696c9f4ab8"
      },
      "outputs": [
        {
          "data": {
            "text/plain": [
              "{1}"
            ]
          },
          "execution_count": 110,
          "metadata": {},
          "output_type": "execute_result"
        }
      ],
      "source": [
        "x & y                  #G"
      ]
    },
    {
      "cell_type": "code",
      "execution_count": 111,
      "metadata": {
        "colab": {
          "base_uri": "https://localhost:8080/"
        },
        "id": "-3qL57A9AMCn",
        "outputId": "f43bbe72-aaa0-4ee6-dcfd-9bd3d0fc52e9"
      },
      "outputs": [
        {
          "data": {
            "text/plain": [
              "{2, 3, 6, 7, 8, 9}"
            ]
          },
          "execution_count": 111,
          "metadata": {},
          "output_type": "execute_result"
        }
      ],
      "source": [
        "x ^ y                  #H"
      ]
    },
    {
      "cell_type": "code",
      "execution_count": 112,
      "metadata": {
        "colab": {
          "base_uri": "https://localhost:8080/"
        },
        "id": "p6GElp9-AOGI",
        "outputId": "7ce4395a-668f-407d-bb41-068bfa8dc7c2"
      },
      "outputs": [
        {
          "data": {
            "text/plain": [
              "frozenset({1, 2, 3, 5})"
            ]
          },
          "execution_count": 112,
          "metadata": {},
          "output_type": "execute_result"
        }
      ],
      "source": [
        "x = set([1, 2, 3, 1, 3, 5])\n",
        "z = frozenset(x)\n",
        "z"
      ]
    },
    {
      "cell_type": "code",
      "execution_count": 113,
      "metadata": {
        "colab": {
          "base_uri": "https://localhost:8080/",
          "height": 141
        },
        "id": "9ScTMQoCARSs",
        "outputId": "679bb489-87ee-4b3e-b4c1-35f5bb38c408"
      },
      "outputs": [
        {
          "ename": "AttributeError",
          "evalue": "'frozenset' object has no attribute 'add'",
          "output_type": "error",
          "traceback": [
            "\u001b[0;31m---------------------------------------------------------------------------\u001b[0m",
            "\u001b[0;31mAttributeError\u001b[0m                            Traceback (most recent call last)",
            "\u001b[0;32m<ipython-input-113-60917eecf5a3>\u001b[0m in \u001b[0;36m<cell line: 1>\u001b[0;34m()\u001b[0m\n\u001b[0;32m----> 1\u001b[0;31m \u001b[0mz\u001b[0m\u001b[0;34m.\u001b[0m\u001b[0madd\u001b[0m\u001b[0;34m(\u001b[0m\u001b[0;36m6\u001b[0m\u001b[0;34m)\u001b[0m\u001b[0;34m\u001b[0m\u001b[0;34m\u001b[0m\u001b[0m\n\u001b[0m",
            "\u001b[0;31mAttributeError\u001b[0m: 'frozenset' object has no attribute 'add'"
          ]
        }
      ],
      "source": [
        "z.add(6)"
      ]
    },
    {
      "cell_type": "code",
      "execution_count": 114,
      "metadata": {
        "colab": {
          "base_uri": "https://localhost:8080/"
        },
        "id": "8Lnz7NvEAT3T",
        "outputId": "af1a0f42-72a0-42be-e844-2c60e9edecb2"
      },
      "outputs": [
        {
          "data": {
            "text/plain": [
              "{1, 2, 3, 5, frozenset({1, 2, 3, 5})}"
            ]
          },
          "execution_count": 114,
          "metadata": {},
          "output_type": "execute_result"
        }
      ],
      "source": [
        "x.add(z)\n",
        "x"
      ]
    },
    {
      "cell_type": "markdown",
      "metadata": {
        "id": "n_ugHjiCRtww"
      },
      "source": [
        "### Quick Check: Sets\n",
        "If you were to construct a set from the following list, how many elements would the set have?: `[1, 2, 5, 1, 0, 2, 3, 1, 1, (1, 2, 3)]`\n"
      ]
    },
    {
      "cell_type": "code",
      "execution_count": 36,
      "metadata": {
        "id": "bo58OK-yAXDg"
      },
      "outputs": [
        {
          "data": {
            "text/plain": [
              "6"
            ]
          },
          "execution_count": 36,
          "metadata": {},
          "output_type": "execute_result"
        }
      ],
      "source": [
        "len(set([1, 2, 5, 1, 0, 2, 3, 1, 1, (1, 2, 3)]))"
      ]
    },
    {
      "cell_type": "markdown",
      "metadata": {
        "id": "Na5o99AATw4w"
      },
      "source": [
        "Six unique elements: 1, 2, 5, 0, 3, and the tuple (1, 2, 3)"
      ]
    },
    {
      "cell_type": "markdown",
      "metadata": {
        "id": "HXZTv1GmR0me"
      },
      "source": [
        "### Lab 5: Examining a List\n",
        "In this lab, the task is to read a set of temperature data (the monthly high temperatures at Heathrow Airport for 1948 through 2016) from a file and then find some basic information: the highest and lowest temperatures, the mean (average) temperature, and the median temperature (the temperature in the middle if all the temperatures are sorted).\n",
        "\n",
        "The temperature data is in the file lab_05.txt in the source code directory for this chapter. Because I haven't yet discussed reading files, here's the code to read the files into a list:\n",
        "```\n",
        "temperatures = []\n",
        "with open('lab_05.txt') as infile:\n",
        "     for row in infile:\n",
        "        temperatures.append(float(row.strip()))\n",
        "```\n",
        "You should find the highest and lowest temperature, the average, and the median. You'll probably want to use the `min()`, `max()`, `sum()`, `len()`, and `sort()` functions/methods."
      ]
    },
    {
      "cell_type": "code",
      "execution_count": null,
      "metadata": {},
      "outputs": [
        {
          "name": "stdout",
          "output_type": "stream",
          "text": [
            "min = 0.8\n",
            "max = 28.2\n",
            "avg = 14.84830917874396\n",
            "median = 14.7\n",
            "unique temperatures = 217\n",
            "data points = 828\n",
            "414\n"
          ]
        }
      ],
      "source": [
        "temperatures = []\n",
        "with open('lab_05.txt') as infile:\n",
        "    for row in infile:\n",
        "        temperatures.append(float(row.strip()))\n",
        "\n",
        "\n",
        "min_temp = min(temperatures)\n",
        "max_temp = max(temperatures)\n",
        "avg      = sum(temperatures) / len(temperatures)\n",
        "\n",
        "temperatures.sort()\n",
        "median   = temperatures[len(temperatures)//2]\n",
        "\n",
        "unique_temps = len(set(temperatures))\n",
        "\n",
        "print(f\"min = {min_temp}\")\n",
        "print(f\"max = {max_temp}\")\n",
        "print(f\"avg = {avg}\")\n",
        "print(f\"median = {median}\")\n",
        "print(f\"unique temperatures = {unique_temps}\")\n",
        "print(f\"data points = {len(temperatures)}\")\n"
      ]
    },
    {
      "cell_type": "code",
      "execution_count": 44,
      "metadata": {
        "id": "bwTUuYngSLkK"
      },
      "outputs": [
        {
          "ename": "TypeError",
          "evalue": "'float' object is not callable",
          "output_type": "error",
          "traceback": [
            "\u001b[31m---------------------------------------------------------------------------\u001b[39m",
            "\u001b[31mTypeError\u001b[39m                                 Traceback (most recent call last)",
            "\u001b[36mCell\u001b[39m\u001b[36m \u001b[39m\u001b[32mIn[44]\u001b[39m\u001b[32m, line 10\u001b[39m\n\u001b[32m      7\u001b[39m         temperatures.append(\u001b[38;5;28mfloat\u001b[39m(row.strip()))\n\u001b[32m      9\u001b[39m \u001b[38;5;66;03m# Find the highest and lowest temperature\u001b[39;00m\n\u001b[32m---> \u001b[39m\u001b[32m10\u001b[39m highest_temp = \u001b[38;5;28;43mmax\u001b[39;49m\u001b[43m(\u001b[49m\u001b[43mtemperatures\u001b[49m\u001b[43m)\u001b[49m\n\u001b[32m     11\u001b[39m lowest_temp = \u001b[38;5;28mmin\u001b[39m(temperatures)\n\u001b[32m     13\u001b[39m \u001b[38;5;66;03m# Find the mean temperature\u001b[39;00m\n",
            "\u001b[31mTypeError\u001b[39m: 'float' object is not callable"
          ]
        }
      ],
      "source": [
        "# prompt: read a set of temperature data from a file lab05.txt and then find the\n",
        "#         highest and lowest temperatures, the mean temperature, and the median temperature .\n",
        "\n",
        "temperatures = []\n",
        "with open('lab_05.txt') as infile:\n",
        "     for row in infile:\n",
        "        temperatures.append(float(row.strip()))\n",
        "\n",
        "# Find the highest and lowest temperature\n",
        "highest_temp = max(temperatures)\n",
        "lowest_temp = min(temperatures)\n",
        "\n",
        "# Find the mean temperature\n",
        "mean_temp = sum(temperatures) / len(temperatures)\n",
        "\n",
        "# Find the median temperature\n",
        "temperatures.sort()\n",
        "if len(temperatures) % 2 == 0:\n",
        "    median_temp = (temperatures[len(temperatures) // 2] + temperatures[len(temperatures) // 2 - 1]) / 2\n",
        "else:\n",
        "    median_temp = temperatures[len(temperatures) // 2]\n",
        "\n",
        "# Print the results\n",
        "print(\"Highest temperature:\", highest_temp)\n",
        "print(\"Lowest temperature:\", lowest_temp)\n",
        "print(\"Mean temperature:\", mean_temp)\n",
        "print(\"Median temperature:\", median_temp)\n"
      ]
    },
    {
      "cell_type": "markdown",
      "metadata": {
        "id": "9IJncX9VSMvZ"
      },
      "source": [
        "### Bonus\n",
        "Determine how many unique temperatures are in the list.\n"
      ]
    },
    {
      "cell_type": "code",
      "execution_count": null,
      "metadata": {
        "colab": {
          "base_uri": "https://localhost:8080/"
        },
        "id": "hSPobsfzST7g",
        "outputId": "c454c574-3ab5-47b0-cbc8-8f6d3c2584f6"
      },
      "outputs": [
        {
          "name": "stdout",
          "output_type": "stream",
          "text": [
            "number of temps - 828\n",
            "number of unique temps - 217\n"
          ]
        }
      ],
      "source": [
        "unique_temps = len(set(temperatures))\n",
        "\n",
        "print(\"number of temps - {}\".format(len(temperatures)))\n",
        "print(\"number of unique temps - {}\".format(unique_temps))\n"
      ]
    },
    {
      "cell_type": "code",
      "execution_count": null,
      "metadata": {
        "id": "PsChtys5YkJv"
      },
      "outputs": [],
      "source": [
        "# prompt: Determine how many unique temperatures are in the list.\n",
        "\n",
        "unique_temps = len(set(temperatures))\n",
        "\n",
        "print(\"number of temps - {}\".format(len(temperatures)))\n",
        "print(\"number of unique temps - {}\".format(unique_temps))\n"
      ]
    }
  ],
  "metadata": {
    "colab": {
      "authorship_tag": "ABX9TyMuPKD8A+TQOCFtEFBbYKge",
      "include_colab_link": true,
      "provenance": []
    },
    "kernelspec": {
      "display_name": "Python 3",
      "name": "python3"
    },
    "language_info": {
      "codemirror_mode": {
        "name": "ipython",
        "version": 3
      },
      "file_extension": ".py",
      "mimetype": "text/x-python",
      "name": "python",
      "nbconvert_exporter": "python",
      "pygments_lexer": "ipython3",
      "version": "3.13.2"
    }
  },
  "nbformat": 4,
  "nbformat_minor": 0
}

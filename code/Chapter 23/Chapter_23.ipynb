{
  "cells": [
    {
      "cell_type": "markdown",
      "metadata": {
        "colab_type": "text",
        "id": "view-in-github"
      },
      "source": [
        "<a href=\"https://colab.research.google.com/github/nceder/qpb4e/blob/main/code/Chapter%2023/Chapter_23.ipynb\" target=\"_parent\"><img src=\"https://colab.research.google.com/assets/colab-badge.svg\" alt=\"Open In Colab\"/></a>"
      ]
    },
    {
      "cell_type": "markdown",
      "metadata": {
        "id": "ZXgqm1JeyFKy"
      },
      "source": [
        "# 23 Saving Data"
      ]
    },
    {
      "cell_type": "markdown",
      "metadata": {
        "id": "H-YHfY8VyRST"
      },
      "source": [
        "# 23.2 SQLite: Using the sqlite3 database"
      ]
    },
    {
      "cell_type": "code",
      "execution_count": null,
      "metadata": {
        "id": "9he6T8-F3A3a"
      },
      "outputs": [],
      "source": [
        "import sqlite3\n",
        "\n",
        "conn = sqlite3.connect(\"datafile.db\") # Definiamo una connessione - creiamo un file se non esiste già"
      ]
    },
    {
      "cell_type": "code",
      "execution_count": null,
      "metadata": {
        "colab": {
          "base_uri": "https://localhost:8080/"
        },
        "id": "ATy8HkJI3A3b",
        "outputId": "21373567-e962-41b8-f0c9-c2d8ea5a0b1e"
      },
      "outputs": [
        {
          "data": {
            "text/plain": [
              "<sqlite3.Cursor at 0x1538c1103c0>"
            ]
          },
          "execution_count": 2,
          "metadata": {},
          "output_type": "execute_result"
        }
      ],
      "source": [
        "cursor = conn.cursor() # Prima di eseguire query dobbiamo inizializzare il cursore rispetto la connessione al DB\n",
        "cursor"
      ]
    },
    {
      "cell_type": "code",
      "execution_count": null,
      "metadata": {
        "id": "qo8DHqkb3A3c"
      },
      "outputs": [],
      "source": [
        "cursor.execute(\"create table people (id integer primary key, name text, count integer)\") # Crea una tabella chiamata people con tre colonne\n",
        "cursor.execute(\"insert into people (name, count) values ('Bob', 1)\") # Inserisce una riga con nome \"Bob\" e count=1 (METODO 1)\n",
        "cursor.execute(\"insert into people (name, count) values (?, ?)\", # Altro inserimento, questa volta usando i parametri (?). È la forma più sicura per inserire dati dinamici (evita SQL injection). (METODO 2)\n",
        "               (\"Jill\", 15))\n",
        "conn.commit() # Per eseguire le modifiche al DB dobbiamo effettuare un COMMIT altrimenti non si salva una volto terminata la sessione."
      ]
    },
    {
      "cell_type": "code",
      "execution_count": 5,
      "metadata": {
        "colab": {
          "base_uri": "https://localhost:8080/"
        },
        "id": "AvMIXGkY3A3c",
        "outputId": "cf6a3410-8ad6-451c-b3ca-c59ea06da998"
      },
      "outputs": [
        {
          "data": {
            "text/plain": [
              "<sqlite3.Cursor at 0x1538c1103c0>"
            ]
          },
          "execution_count": 5,
          "metadata": {},
          "output_type": "execute_result"
        }
      ],
      "source": [
        "# Inserisce nella tabella people una riga con name='Joe' e count=10.\n",
        "# Usa i parametri nominati (:username, :usercount). Nel secondo argomento passi un dizionario che abbina i valori ai nomi. \n",
        "# Questo modo è chiaro soprattutto se hai query lunghe e molti parametri.\n",
        "cursor.execute(\"insert into people (name, count) values (:username, :usercount)\",\n",
        "                  {\"username\": \"Joe\", \"usercount\": 10})"
      ]
    },
    {
      "cell_type": "code",
      "execution_count": 6,
      "metadata": {
        "colab": {
          "base_uri": "https://localhost:8080/"
        },
        "id": "b8z3sfGa3A3c",
        "outputId": "7387dfad-f299-44db-c1a3-8f00dd9a06d2"
      },
      "outputs": [
        {
          "name": "stdout",
          "output_type": "stream",
          "text": [
            "[(1, 'Bob', 1), (2, 'Jill', 15), (3, 'Joe', 10)]\n"
          ]
        }
      ],
      "source": [
        "# Recupera tutte le righe dalla tabella people come LISTA di TUPLE.\n",
        "result = cursor.execute(\"select * from people\")\n",
        "print(result.fetchall())"
      ]
    },
    {
      "cell_type": "code",
      "execution_count": 7,
      "metadata": {
        "colab": {
          "base_uri": "https://localhost:8080/"
        },
        "id": "ATjQD-MQ3A3c",
        "outputId": "5b9c9895-a03f-4ae5-a598-535b05b6fd51"
      },
      "outputs": [
        {
          "name": "stdout",
          "output_type": "stream",
          "text": [
            "[(1, 'Bob', 1)]\n"
          ]
        }
      ],
      "source": [
        "result = cursor.execute(\"select * from people where name like :name\",\n",
        "                        {\"name\": \"bob\"})\n",
        "print(result.fetchall())"
      ]
    },
    {
      "cell_type": "code",
      "execution_count": 8,
      "metadata": {
        "colab": {
          "base_uri": "https://localhost:8080/"
        },
        "id": "MJhuhmQ23A3d",
        "outputId": "53db3f0f-42a9-40c9-f4f6-d89d2d13ba27"
      },
      "outputs": [
        {
          "name": "stdout",
          "output_type": "stream",
          "text": [
            "[(1, 'Bob', 1), (2, 'Jill', 20), (3, 'Joe', 10)]\n"
          ]
        }
      ],
      "source": [
        "cursor.execute(\"update people set count=? where name=?\", (20, \"Jill\"))\n",
        "result = cursor.execute(\"select * from people\")\n",
        "print(result.fetchall())"
      ]
    },
    {
      "cell_type": "code",
      "execution_count": 9,
      "metadata": {
        "colab": {
          "base_uri": "https://localhost:8080/"
        },
        "id": "novIrTwn3A3d",
        "outputId": "8d50ecf8-e2a5-4701-f48b-fb377c823f83"
      },
      "outputs": [
        {
          "name": "stdout",
          "output_type": "stream",
          "text": [
            "(1, 'Bob', 1)\n",
            "(2, 'Jill', 20)\n",
            "(3, 'Joe', 10)\n"
          ]
        }
      ],
      "source": [
        "# Invece di usare fetchall() puoi iterare direttamente sui risultati (utile per tabelle grandi).\n",
        "result = cursor.execute(\"select * from people\")\n",
        "for row in result:\n",
        "    print(row)\n"
      ]
    },
    {
      "cell_type": "code",
      "execution_count": 10,
      "metadata": {
        "id": "UDi2VBLu3A3d"
      },
      "outputs": [],
      "source": [
        "cursor.execute(\"update people set count=? where name=?\", (20, \"Jill\"))\n",
        "conn.commit()\n",
        "conn.close()"
      ]
    },
    {
      "cell_type": "markdown",
      "metadata": {
        "id": "joEnfxkgmT_o"
      },
      "source": [
        "### TRY This: Creating and modifying Tables\n",
        "Using sqlite3, write the code that creates a database table for the Illinois weather data you loaded from a flat file in section 22.2. Suppose that you have similar data for more states and want to store more information about the states themselves. How could you modify your database to use a related table to store the state information?"
      ]
    },
    {
      "cell_type": "code",
      "execution_count": 11,
      "metadata": {
        "colab": {
          "base_uri": "https://localhost:8080/"
        },
        "id": "KlVzDUmPqBHr",
        "outputId": "237de17a-0815-486a-fde7-de5575e3d142"
      },
      "outputs": [
        {
          "name": "stdout",
          "output_type": "stream",
          "text": [
            "Writing temp_data_01.csv\n"
          ]
        }
      ],
      "source": [
        "%%writefile temp_data_01.csv\n",
        "\"Notes\",\"State\",\"State Code\",\"Month Day, Year\",\"Month Day, Year Code\",Avg Daily Max Air Temperature (F),Record Count for Daily Max Air Temp (F),Min Temp for Daily Max Air Temp (F),Max Temp for Daily Max Air Temp (F),Avg Daily Max Heat Index (F),Record Count for Daily Max Heat Index (F),Min for Daily Max Heat Index (F),Max for Daily Max Heat Index (F),Daily Max Heat Index (F) % Coverage\n",
        "\n",
        ",\"Illinois\",\"17\",\"Jan 01, 1979\",\"1979/01/01\",17.48,994,6.00,30.50,Missing,0,Missing,Missing,0.00%\n",
        ",\"Illinois\",\"17\",\"Jan 02, 1979\",\"1979/01/02\",4.64,994,-6.40,15.80,Missing,0,Missing,Missing,0.00%\n",
        ",\"Illinois\",\"17\",\"Jan 03, 1979\",\"1979/01/03\",11.05,994,-0.70,24.70,Missing,0,Missing,Missing,0.00%\n",
        ",\"Illinois\",\"17\",\"Jan 04, 1979\",\"1979/01/04\",9.51,994,0.20,27.60,Missing,0,Missing,Missing,0.00%\n",
        ",\"Illinois\",\"17\",\"May 15, 1979\",\"1979/05/15\",68.42,994,61.00,75.10,Missing,0,Missing,Missing,0.00%\n",
        ",\"Illinois\",\"17\",\"May 16, 1979\",\"1979/05/16\",70.29,994,63.40,73.50,Missing,0,Missing,Missing,0.00%\n",
        ",\"Illinois\",\"17\",\"May 17, 1979\",\"1979/05/17\",75.34,994,64.00,80.50,82.60,2,82.40,82.80,0.20%\n",
        ",\"Illinois\",\"17\",\"May 18, 1979\",\"1979/05/18\",79.13,994,75.50,82.10,81.42,349,80.20,83.40,35.11%\n",
        ",\"Illinois\",\"17\",\"May 19, 1979\",\"1979/05/19\",74.94,994,66.90,83.10,82.87,78,81.60,85.20,7.85%\n"
      ]
    },
    {
      "cell_type": "code",
      "execution_count": null,
      "metadata": {
        "cellView": "form",
        "id": "z0ZKXjHImcD-"
      },
      "outputs": [],
      "source": [
        "import sqlite3\n",
        "conn = sqlite3.connect(\"datafile.db\")\n",
        "\n",
        "cursor = conn.cursor()\n",
        "\n",
        "\n",
        "# elimina tabella nel caso fosse già stata creata\n",
        "cursor.execute(\"DROP TABLE IF EXISTS weather\")\n",
        "conn.commit()  # conferma le modifiche\n",
        "\n",
        "cursor.execute(\"\"\"create table weather (id integer primary key,\n",
        "              state text, state_code text,\n",
        "              year_text text, year_code text, avg_max_temp real,  max_temp_count integer,\n",
        "              max_temp_low real, max_temp_high real,\n",
        "              heat_index real, heat_index_count integer,\n",
        "              heat_index_low real, heat_index_high real,\n",
        "              heat_index_coverage text)\n",
        "              \"\"\")\n",
        "conn.commit()\n",
        "\n",
        "\n",
        "# load data from file\n",
        "import csv\n",
        "results = [fields[1:] for fields in csv.reader(open(\"temp_data_01.csv\", newline=''))]\n",
        "# write to database\n",
        "for row in results:\n",
        "  if row and row[0] != 'State':\n",
        "      cursor.execute(\"\"\"insert into weather (state, state_code,\n",
        "              year_text, year_code, avg_max_temp,  max_temp_count,\n",
        "              max_temp_low, max_temp_high,\n",
        "              heat_index, heat_index_count,\n",
        "              heat_index_low, heat_index_high,\n",
        "              heat_index_coverage) values(?,?,?,?,?,?,?,?,?,?,?,?,?)\"\"\", row)\n",
        "conn.commit()"
      ]
    },
    {
      "cell_type": "code",
      "execution_count": 29,
      "metadata": {},
      "outputs": [
        {
          "name": "stdout",
          "output_type": "stream",
          "text": [
            "[(1, 'Illinois', '17', 'Jan 01, 1979', '1979/01/01', 17.48, 994, 6.0, 30.5, 'Missing', 0, 'Missing', 'Missing', '0.00%'), (2, 'Illinois', '17', 'Jan 02, 1979', '1979/01/02', 4.64, 994, -6.4, 15.8, 'Missing', 0, 'Missing', 'Missing', '0.00%'), (3, 'Illinois', '17', 'Jan 03, 1979', '1979/01/03', 11.05, 994, -0.7, 24.7, 'Missing', 0, 'Missing', 'Missing', '0.00%'), (4, 'Illinois', '17', 'Jan 04, 1979', '1979/01/04', 9.51, 994, 0.2, 27.6, 'Missing', 0, 'Missing', 'Missing', '0.00%'), (5, 'Illinois', '17', 'May 15, 1979', '1979/05/15', 68.42, 994, 61.0, 75.1, 'Missing', 0, 'Missing', 'Missing', '0.00%'), (6, 'Illinois', '17', 'May 16, 1979', '1979/05/16', 70.29, 994, 63.4, 73.5, 'Missing', 0, 'Missing', 'Missing', '0.00%'), (7, 'Illinois', '17', 'May 17, 1979', '1979/05/17', 75.34, 994, 64.0, 80.5, 82.6, 2, 82.4, 82.8, '0.20%'), (8, 'Illinois', '17', 'May 18, 1979', '1979/05/18', 79.13, 994, 75.5, 82.1, 81.42, 349, 80.2, 83.4, '35.11%'), (9, 'Illinois', '17', 'May 19, 1979', '1979/05/19', 74.94, 994, 66.9, 83.1, 82.87, 78, 81.6, 85.2, '7.85%')]\n"
          ]
        }
      ],
      "source": [
        "result = cursor.execute(\"select * from weather\")\n",
        "print(result.fetchall())"
      ]
    },
    {
      "cell_type": "markdown",
      "metadata": {
        "id": "ZRuIqyemzM_c"
      },
      "source": [
        "# 23.4 Making database handling easier with an ORM"
      ]
    },
    {
      "cell_type": "markdown",
      "metadata": {
        "id": "0ddel9uKzU-g"
      },
      "source": [
        "## 23.4.1 SQLAlchemy"
      ]
    },
    {
      "cell_type": "code",
      "execution_count": null,
      "metadata": {
        "id": "3-7otCBh3A3d"
      },
      "outputs": [],
      "source": [
        "from sqlalchemy import create_engine, select, MetaData, Table, Column, Integer, String\n",
        "from sqlalchemy.orm import sessionmaker"
      ]
    },
    {
      "cell_type": "code",
      "execution_count": null,
      "metadata": {
        "id": "1UQh3NFu3A3e"
      },
      "outputs": [],
      "source": [
        "dbPath = 'datafile2.db'\n",
        "engine = create_engine('sqlite:///%s' % dbPath)\n",
        "metadata = MetaData()\n",
        "people  = Table('people', metadata,\n",
        "                Column('id', Integer, primary_key=True),\n",
        "                Column('name', String),\n",
        "                Column('count', Integer),\n",
        "               )\n",
        "Session = sessionmaker(bind=engine)\n",
        "session = Session()\n",
        "metadata.create_all(engine)"
      ]
    },
    {
      "cell_type": "code",
      "execution_count": null,
      "metadata": {
        "colab": {
          "base_uri": "https://localhost:8080/",
          "height": 35
        },
        "id": "LIvfhqLx3A3e",
        "outputId": "3aaef08f-40e0-4560-b742-bd3addf23f3d"
      },
      "outputs": [
        {
          "data": {
            "application/vnd.google.colaboratory.intrinsic+json": {
              "type": "string"
            },
            "text/plain": [
              "'INSERT INTO people (name, count) VALUES (:name, :count)'"
            ]
          },
          "execution_count": 15,
          "metadata": {},
          "output_type": "execute_result"
        }
      ],
      "source": [
        "people_ins = people.insert().values(name='Bob', count=1)\n",
        "str(people_ins)"
      ]
    },
    {
      "cell_type": "code",
      "execution_count": null,
      "metadata": {
        "colab": {
          "base_uri": "https://localhost:8080/"
        },
        "id": "x9_ij7Te3A3e",
        "outputId": "05a8f785-77e0-49e9-d8b0-fa82960c6b63"
      },
      "outputs": [
        {
          "data": {
            "text/plain": [
              "<sqlalchemy.engine.cursor.CursorResult at 0x7bc270258e20>"
            ]
          },
          "execution_count": 16,
          "metadata": {},
          "output_type": "execute_result"
        }
      ],
      "source": [
        "session.execute(people_ins)"
      ]
    },
    {
      "cell_type": "code",
      "execution_count": null,
      "metadata": {
        "id": "0i-9kY583A3e"
      },
      "outputs": [],
      "source": [
        "session.commit()"
      ]
    },
    {
      "cell_type": "code",
      "execution_count": null,
      "metadata": {
        "colab": {
          "base_uri": "https://localhost:8080/"
        },
        "id": "Oh74-8133A3e",
        "outputId": "3db6acd1-4010-410e-8e02-1b1df81a7071"
      },
      "outputs": [
        {
          "data": {
            "text/plain": [
              "<sqlalchemy.engine.cursor.CursorResult at 0x7bc270258ca0>"
            ]
          },
          "execution_count": 18,
          "metadata": {},
          "output_type": "execute_result"
        }
      ],
      "source": [
        "session.execute(people_ins, [\n",
        "    {'name': 'Jill', 'count':15},\n",
        "    {'name': 'Joe', 'count':10}\n",
        "])"
      ]
    },
    {
      "cell_type": "code",
      "execution_count": null,
      "metadata": {
        "colab": {
          "base_uri": "https://localhost:8080/"
        },
        "id": "avw5ESc03A3e",
        "outputId": "d08a3151-963a-4a8c-b26a-0a82c22ba84d"
      },
      "outputs": [
        {
          "name": "stdout",
          "output_type": "stream",
          "text": [
            "(1, 'Bob', 1)\n",
            "(2, 'Jill', 15)\n",
            "(3, 'Joe', 10)\n"
          ]
        }
      ],
      "source": [
        "session.commit()\n",
        "people_query = select(people)\n",
        "result = session.execute(people_query)\n",
        "for row in result:\n",
        "    print(row)\n"
      ]
    },
    {
      "cell_type": "code",
      "execution_count": null,
      "metadata": {
        "colab": {
          "base_uri": "https://localhost:8080/"
        },
        "id": "oGkT6cUf3A3e",
        "outputId": "3064148e-695f-4164-fa37-3004304dc1ce"
      },
      "outputs": [
        {
          "name": "stdout",
          "output_type": "stream",
          "text": [
            "(2, 'Jill', 15)\n"
          ]
        }
      ],
      "source": [
        "result = session.execute(select(people).where(people.c.name == 'Jill'))\n",
        "for row in result:\n",
        "    print(row)\n"
      ]
    },
    {
      "cell_type": "code",
      "execution_count": null,
      "metadata": {
        "colab": {
          "base_uri": "https://localhost:8080/"
        },
        "id": "MdTJF_ro3A3f",
        "outputId": "a0574964-3292-4c01-9e12-badeee4eee4e"
      },
      "outputs": [
        {
          "name": "stdout",
          "output_type": "stream",
          "text": [
            "(2, 'Jill', 20)\n"
          ]
        }
      ],
      "source": [
        "result = session.execute(people.update().values(count=20).where (people.c.name == 'Jill'))\n",
        "session.commit()\n",
        "result = session.execute(select(people).where(people.c.name == 'Jill'))\n",
        "for row in result:\n",
        "    print(row)\n"
      ]
    },
    {
      "cell_type": "markdown",
      "metadata": {
        "id": "OAWyBHqv-VOm"
      },
      "source": [
        "### Mapping table objects to classes"
      ]
    },
    {
      "cell_type": "code",
      "execution_count": null,
      "metadata": {
        "colab": {
          "base_uri": "https://localhost:8080/"
        },
        "id": "gzNB37cx3A3f",
        "outputId": "cf1e308a-67bf-446a-af0c-bfb855581be5"
      },
      "outputs": [
        {
          "name": "stdout",
          "output_type": "stream",
          "text": [
            "2 Jill 20\n"
          ]
        }
      ],
      "source": [
        "from sqlalchemy.orm import declarative_base\n",
        "Base = declarative_base()\n",
        "class People(Base):\n",
        "    __tablename__ = \"people\"\n",
        "    id = Column(Integer, primary_key=True)\n",
        "    name = Column(String)\n",
        "    count = Column(Integer)\n",
        "\n",
        "results = session.query(People).filter_by(name='Jill')\n",
        "for person in results:\n",
        "    print(person.id, person.name, person.count)\n"
      ]
    },
    {
      "cell_type": "code",
      "execution_count": null,
      "metadata": {
        "colab": {
          "base_uri": "https://localhost:8080/"
        },
        "id": "H30yE6IN3A3f",
        "outputId": "26232f87-ec3b-41bd-f532-f0211958c98f"
      },
      "outputs": [
        {
          "name": "stdout",
          "output_type": "stream",
          "text": [
            "1 Bob 1\n",
            "2 Jill 20\n",
            "3 Joe 10\n",
            "4 Jane 5\n"
          ]
        }
      ],
      "source": [
        "new_person = People(name='Jane', count=5)\n",
        "session.add(new_person)\n",
        "session.commit()\n",
        "results = session.query(People).all()\n",
        "for person in results:\n",
        "    print(person.id, person.name, person.count)\n"
      ]
    },
    {
      "cell_type": "code",
      "execution_count": null,
      "metadata": {
        "colab": {
          "base_uri": "https://localhost:8080/",
          "height": 35
        },
        "id": "sKH8_Vwh3A3f",
        "outputId": "5fadbf8f-f534-4d30-a7a9-26844427eb2b"
      },
      "outputs": [
        {
          "data": {
            "application/vnd.google.colaboratory.intrinsic+json": {
              "type": "string"
            },
            "text/plain": [
              "'Jill'"
            ]
          },
          "execution_count": 24,
          "metadata": {},
          "output_type": "execute_result"
        }
      ],
      "source": [
        "jill = session.query(People).filter_by(name='Jill').first()\n",
        "jill.name"
      ]
    },
    {
      "cell_type": "code",
      "execution_count": null,
      "metadata": {
        "colab": {
          "base_uri": "https://localhost:8080/"
        },
        "id": "_4JGuxvN3A3f",
        "outputId": "84aa76d5-dd71-4ff6-84e6-a2e017c4774c"
      },
      "outputs": [
        {
          "name": "stdout",
          "output_type": "stream",
          "text": [
            "1 Bob 1\n",
            "2 Jill 22\n",
            "3 Joe 10\n",
            "4 Jane 5\n"
          ]
        }
      ],
      "source": [
        "jill.count = 22\n",
        "session.add(jill)\n",
        "session.commit()\n",
        "results = session.query(People).all()\n",
        "for person in results:\n",
        "    print(person.id, person.name, person.count)\n"
      ]
    },
    {
      "cell_type": "code",
      "execution_count": null,
      "metadata": {
        "colab": {
          "base_uri": "https://localhost:8080/"
        },
        "id": "P2l5cOVL3A3g",
        "outputId": "b6e75111-5891-4300-9373-6a63fb1849d5"
      },
      "outputs": [
        {
          "name": "stdout",
          "output_type": "stream",
          "text": [
            "None\n"
          ]
        }
      ],
      "source": [
        "jane = session.query(People).filter_by(name='Jane').first()\n",
        "session.delete(jane)\n",
        "session.commit()\n",
        "jane = session.query(People).filter_by(name='Jane').first()\n",
        "print(jane)"
      ]
    },
    {
      "cell_type": "markdown",
      "metadata": {
        "id": "RP4uOKYVnAKJ"
      },
      "source": [
        "### Try This: Using an ORM\n",
        "Using the database from earlier, write an SQLAlchemy class to map to the data table, and use it to read the records from the table."
      ]
    },
    {
      "cell_type": "code",
      "execution_count": null,
      "metadata": {
        "id": "N0tHEav6nIQo"
      },
      "outputs": [],
      "source": []
    },
    {
      "cell_type": "code",
      "execution_count": null,
      "metadata": {
        "cellView": "form",
        "id": "aYmRLxpNnIUi"
      },
      "outputs": [],
      "source": [
        "# @title\n",
        "from sqlalchemy import create_engine, select, MetaData, Table, Column, Integer, String, Float\n",
        "from sqlalchemy.orm import sessionmaker\n",
        "dbPath = 'datafile.db'\n",
        "engine = create_engine('sqlite:///%s' % dbPath)\n",
        "metadata = MetaData()\n",
        "Session = sessionmaker(bind=engine)\n",
        "session = Session()\n",
        "metadata.create_all(engine)\n",
        "weather  = Table('weather', metadata,\n",
        "                Column('id', Integer, primary_key=True),\n",
        "                Column(\"state\", String),\n",
        "                Column(\"state_code\", String),\n",
        "                Column(\"year_text\", String ),\n",
        "                Column(\"year_code\", String),\n",
        "                Column(\"avg_max_temp\", Float),\n",
        "                Column(\"max_temp_count\", Integer),\n",
        "                Column(\"max_temp_low\", Float),\n",
        "                Column(\"max_temp_high\", Float),\n",
        "                Column(\"heat_index\", Float),\n",
        "                Column(\"heat_index_count\", Integer),\n",
        "                Column(\"heat_index_low\", Float),\n",
        "                Column(\"heat_index_high\", Float),\n",
        "                Column(\"heat_index_coverage\", String)\n",
        "                )\n",
        "Session = sessionmaker(bind=engine)\n",
        "session = Session()\n",
        "result = session.query(weather).all()\n",
        "for row in result:\n",
        "    print(row)"
      ]
    },
    {
      "cell_type": "markdown",
      "metadata": {
        "id": "BVq8mxKT7pbc"
      },
      "source": [
        "## 23.4.2 Using Alembic for database schema changes"
      ]
    },
    {
      "cell_type": "code",
      "execution_count": null,
      "metadata": {
        "id": "DAmbimejl_24"
      },
      "outputs": [],
      "source": [
        "! rm -rf alembic/"
      ]
    },
    {
      "cell_type": "code",
      "execution_count": null,
      "metadata": {
        "colab": {
          "base_uri": "https://localhost:8080/"
        },
        "id": "wjLqSo9k3A3g",
        "outputId": "31d9ff0b-2138-41d1-e959-ee777c2f2aa0"
      },
      "outputs": [
        {
          "name": "stdout",
          "output_type": "stream",
          "text": [
            "Collecting alembic\n",
            "  Downloading alembic-1.13.3-py3-none-any.whl.metadata (7.4 kB)\n",
            "Requirement already satisfied: SQLAlchemy>=1.3.0 in /usr/local/lib/python3.10/dist-packages (from alembic) (2.0.35)\n",
            "Collecting Mako (from alembic)\n",
            "  Downloading Mako-1.3.5-py3-none-any.whl.metadata (2.9 kB)\n",
            "Requirement already satisfied: typing-extensions>=4 in /usr/local/lib/python3.10/dist-packages (from alembic) (4.12.2)\n",
            "Requirement already satisfied: greenlet!=0.4.17 in /usr/local/lib/python3.10/dist-packages (from SQLAlchemy>=1.3.0->alembic) (3.1.1)\n",
            "Requirement already satisfied: MarkupSafe>=0.9.2 in /usr/local/lib/python3.10/dist-packages (from Mako->alembic) (2.1.5)\n",
            "Downloading alembic-1.13.3-py3-none-any.whl (233 kB)\n",
            "\u001b[2K   \u001b[90m━━━━━━━━━━━━━━━━━━━━━━━━━━━━━━━━━━━━━━━━\u001b[0m \u001b[32m233.2/233.2 kB\u001b[0m \u001b[31m1.9 MB/s\u001b[0m eta \u001b[36m0:00:00\u001b[0m\n",
            "\u001b[?25hDownloading Mako-1.3.5-py3-none-any.whl (78 kB)\n",
            "\u001b[2K   \u001b[90m━━━━━━━━━━━━━━━━━━━━━━━━━━━━━━━━━━━━━━━━\u001b[0m \u001b[32m78.6/78.6 kB\u001b[0m \u001b[31m5.9 MB/s\u001b[0m eta \u001b[36m0:00:00\u001b[0m\n",
            "\u001b[?25hInstalling collected packages: Mako, alembic\n",
            "Successfully installed Mako-1.3.5 alembic-1.13.3\n",
            "Creating directory '/content/alembic' ...  done\n",
            "Creating directory '/content/alembic/versions' ...  done\n",
            "Generating /content/alembic/env.py ...  done\n",
            "Generating /content/alembic/script.py.mako ...  done\n",
            "Generating /content/alembic/README ...  done\n",
            "Generating /content/alembic.ini ...  done\n",
            "Please edit configuration/connection/logging settings in '/content/alembic.ini' before proceeding.\n"
          ]
        }
      ],
      "source": [
        "! pip install alembic\n",
        "! alembic init alembic"
      ]
    },
    {
      "cell_type": "code",
      "execution_count": null,
      "metadata": {
        "id": "dptVIRNE3A3g"
      },
      "outputs": [],
      "source": [
        "# This cell will update the alembic.ini file\n",
        "\n",
        "! sed -i 's/driver:\\/\\/user:pass@localhost\\/dbname/sqlite:\\/\\/\\/datafile.db/' alembic.ini"
      ]
    },
    {
      "cell_type": "code",
      "execution_count": null,
      "metadata": {
        "id": "xICjY8aMdKk8"
      },
      "outputs": [],
      "source": [
        "# This cell creates the first revision script\n",
        "result = ! alembic revision -m \"create an address table\"\n",
        "filename= result[0].replace('Generating ', \"\").replace(\" ...  done\",\"\")\n",
        "version = filename.split(\"/\")[-1].split(\"_\")[0]"
      ]
    },
    {
      "cell_type": "code",
      "execution_count": null,
      "metadata": {
        "colab": {
          "base_uri": "https://localhost:8080/"
        },
        "id": "9kv5G7AF8rtS",
        "outputId": "7b1b6619-625b-415a-81d5-27edb5ca466d"
      },
      "outputs": [
        {
          "name": "stdout",
          "output_type": "stream",
          "text": [
            "\"\"\"create an address table\n",
            "\n",
            "Revision ID: def74d4e1932\n",
            "Revises: \n",
            "Create Date: 2024-09-27 02:02:49.374125\n",
            "\n",
            "\"\"\"\n",
            "from typing import Sequence, Union\n",
            "\n",
            "from alembic import op\n",
            "import sqlalchemy as sa\n",
            "\n",
            "\n",
            "# revision identifiers, used by Alembic.\n",
            "revision: str = 'def74d4e1932'\n",
            "down_revision: Union[str, None] = None\n",
            "branch_labels: Union[str, Sequence[str], None] = None\n",
            "depends_on: Union[str, Sequence[str], None] = None\n",
            "\n",
            "\n",
            "def upgrade() -> None:\n",
            "    op.create_table(\n",
            "        'address',\n",
            "        sa.Column('id', sa.Integer, primary_key=True),\n",
            "        sa.Column('address', sa.String(50), nullable=False),\n",
            "        sa.Column('city', sa.String(50), nullable=False),\n",
            "        sa.Column('state', sa.String(20), nullable=False),\n",
            "    )\n",
            "\n",
            "\n",
            "\n",
            "def downgrade() -> None:\n",
            "    op.drop_table('address')\n",
            "\n"
          ]
        },
        {
          "data": {
            "text/plain": [
              "771"
            ]
          },
          "execution_count": 28,
          "metadata": {},
          "output_type": "execute_result"
        }
      ],
      "source": [
        "# This cell updates the revision script's upgrade() and downgrade() functions\n",
        "upgrade_cmd = \"\"\"def upgrade() -> None:\n",
        "    op.create_table(\n",
        "        'address',\n",
        "        sa.Column('id', sa.Integer, primary_key=True),\n",
        "        sa.Column('address', sa.String(50), nullable=False),\n",
        "        sa.Column('city', sa.String(50), nullable=False),\n",
        "        sa.Column('state', sa.String(20), nullable=False),\n",
        "    )\n",
        "\"\"\"\n",
        "downgrade_cmd = \"\"\"def downgrade() -> None:\n",
        "    op.drop_table('address')\"\"\"\n",
        "\n",
        "version_file = open(filename).read()\n",
        "version_file = version_file.replace(\"\"\"def upgrade() -> None:\n",
        "    pass\"\"\", upgrade_cmd)\n",
        "version_file = version_file.replace(\"\"\"def downgrade() -> None:\n",
        "    pass\"\"\", downgrade_cmd)\n",
        "print(version_file)\n",
        "\n",
        "open(filename, \"w\").write(version_file)"
      ]
    },
    {
      "cell_type": "code",
      "execution_count": null,
      "metadata": {
        "colab": {
          "base_uri": "https://localhost:8080/"
        },
        "id": "QNp_zDe2izzZ",
        "outputId": "d9cd7290-428f-4051-cef9-985b696de18f"
      },
      "outputs": [
        {
          "name": "stdout",
          "output_type": "stream",
          "text": [
            "people\n"
          ]
        }
      ],
      "source": [
        "for table in metadata.sorted_tables:\n",
        "    print(table.name)"
      ]
    },
    {
      "cell_type": "code",
      "execution_count": null,
      "metadata": {
        "colab": {
          "base_uri": "https://localhost:8080/"
        },
        "id": "Naaaeer_jJ0H",
        "outputId": "657fbf42-5d21-4233-8978-731dafe17f6f"
      },
      "outputs": [
        {
          "name": "stdout",
          "output_type": "stream",
          "text": [
            "INFO  [alembic.runtime.migration] Context impl SQLiteImpl.\n",
            "INFO  [alembic.runtime.migration] Will assume non-transactional DDL.\n"
          ]
        }
      ],
      "source": [
        "! alembic upgrade head"
      ]
    },
    {
      "cell_type": "code",
      "execution_count": null,
      "metadata": {
        "colab": {
          "base_uri": "https://localhost:8080/"
        },
        "id": "9dNnoNtVAKv7",
        "outputId": "071e0735-0c29-4ac4-fac2-7fad71227e73"
      },
      "outputs": [
        {
          "data": {
            "text/plain": [
              "[Table('people', MetaData(), Column('id', Integer(), table=<people>, primary_key=True, nullable=False), Column('name', String(), table=<people>), Column('count', Integer(), table=<people>), schema=None)]"
            ]
          },
          "execution_count": 32,
          "metadata": {},
          "output_type": "execute_result"
        }
      ],
      "source": [
        "metadata.sorted_tables"
      ]
    },
    {
      "cell_type": "code",
      "execution_count": null,
      "metadata": {
        "id": "yGzR4cUFCcSZ"
      },
      "outputs": [],
      "source": [
        "Session = sessionmaker(bind=engine)\n",
        "session = Session()\n"
      ]
    },
    {
      "cell_type": "code",
      "execution_count": null,
      "metadata": {
        "id": "YvMKja_z3A3g"
      },
      "outputs": [],
      "source": [
        "metadata.reflect(engine)\n",
        "metadata.tables.keys()\n",
        "session.commit()"
      ]
    },
    {
      "cell_type": "code",
      "execution_count": null,
      "metadata": {
        "colab": {
          "base_uri": "https://localhost:8080/"
        },
        "id": "4P941qVM3A3g",
        "outputId": "0df0bc60-745c-4fc3-9e92-02003b748602"
      },
      "outputs": [
        {
          "name": "stdout",
          "output_type": "stream",
          "text": [
            "INFO  [alembic.runtime.migration] Context impl SQLiteImpl.\n",
            "INFO  [alembic.runtime.migration] Will assume non-transactional DDL.\n",
            "INFO  [alembic.runtime.migration] Running downgrade def74d4e1932 -> , create an address table\n"
          ]
        }
      ],
      "source": [
        "! alembic downgrade -1\n"
      ]
    },
    {
      "cell_type": "code",
      "execution_count": null,
      "metadata": {
        "colab": {
          "base_uri": "https://localhost:8080/"
        },
        "id": "znJSPg0tOeeE",
        "outputId": "09a4c722-975d-4925-e0ea-b574cf4349ba"
      },
      "outputs": [
        {
          "name": "stdout",
          "output_type": "stream",
          "text": [
            "people\n"
          ]
        }
      ],
      "source": [
        "for table in metadata.sorted_tables:\n",
        "    print(table.name)"
      ]
    },
    {
      "cell_type": "markdown",
      "metadata": {
        "id": "86oyCEiDxqZy"
      },
      "source": [
        "# 23.6 key:value stores with Redis"
      ]
    },
    {
      "cell_type": "code",
      "execution_count": 2,
      "metadata": {
        "colab": {
          "base_uri": "https://localhost:8080/"
        },
        "id": "4KRXJjgCpnmf",
        "outputId": "4202f540-5225-4d4d-add4-d7d191e4ba60"
      },
      "outputs": [
        {
          "name": "stdout",
          "output_type": "stream",
          "text": [
            "Requirement already satisfied: redis in /usr/local/lib/python3.10/dist-packages (5.2.0)\n",
            "Requirement already satisfied: async-timeout>=4.0.3 in /usr/local/lib/python3.10/dist-packages (from redis) (4.0.3)\n"
          ]
        }
      ],
      "source": [
        "!pip install redis"
      ]
    },
    {
      "cell_type": "markdown",
      "metadata": {
        "id": "5RQEAQo5QCwf"
      },
      "source": [
        "### NOTE: You must create an account at redis.io or on another redis server for the examples to work properly.\n",
        "\n",
        "Be sure to use the correct hostname and password for your account in cell below."
      ]
    },
    {
      "cell_type": "code",
      "execution_count": null,
      "metadata": {
        "id": "gMH0maR33A3h"
      },
      "outputs": [],
      "source": [
        "import redis\n",
        "\n",
        "r = redis.Redis(\n",
        "    # set your host here\n",
        "    host='',\n",
        "    port=10032,\n",
        "    # set your password below\n",
        "    password='')"
      ]
    },
    {
      "cell_type": "markdown",
      "metadata": {
        "id": "iM5wrNK4GgC5"
      },
      "source": [
        "#### Basic operations"
      ]
    },
    {
      "cell_type": "code",
      "execution_count": 4,
      "metadata": {
        "colab": {
          "base_uri": "https://localhost:8080/"
        },
        "id": "K1DROZCm3A3h",
        "outputId": "e568c005-9596-405a-abb3-e192dac0c295"
      },
      "outputs": [
        {
          "data": {
            "text/plain": [
              "[]"
            ]
          },
          "execution_count": 4,
          "metadata": {},
          "output_type": "execute_result"
        }
      ],
      "source": [
        "r.keys()"
      ]
    },
    {
      "cell_type": "markdown",
      "metadata": {
        "id": "whuJ6RdJGj96"
      },
      "source": [
        "#### Array operations"
      ]
    },
    {
      "cell_type": "code",
      "execution_count": 5,
      "metadata": {
        "colab": {
          "base_uri": "https://localhost:8080/"
        },
        "id": "fhpG2vEu3A3h",
        "outputId": "6e8751e7-e6b2-4e0a-a8d8-ad1d2abc5bc0"
      },
      "outputs": [
        {
          "data": {
            "text/plain": [
              "True"
            ]
          },
          "execution_count": 5,
          "metadata": {},
          "output_type": "execute_result"
        }
      ],
      "source": [
        "r.set('a_key', 'my value')"
      ]
    },
    {
      "cell_type": "code",
      "execution_count": 6,
      "metadata": {
        "colab": {
          "base_uri": "https://localhost:8080/"
        },
        "id": "-TQM_EI63A3h",
        "outputId": "4f9a10ea-f01c-4438-a780-08c9cdd4b5da"
      },
      "outputs": [
        {
          "data": {
            "text/plain": [
              "[b'a_key']"
            ]
          },
          "execution_count": 6,
          "metadata": {},
          "output_type": "execute_result"
        }
      ],
      "source": [
        "r.keys()"
      ]
    },
    {
      "cell_type": "code",
      "execution_count": 7,
      "metadata": {
        "colab": {
          "base_uri": "https://localhost:8080/"
        },
        "id": "1I-goUO53A3h",
        "outputId": "a9a16778-20e3-4958-cae4-0269bd995afd"
      },
      "outputs": [
        {
          "data": {
            "text/plain": [
              "b'my value'"
            ]
          },
          "execution_count": 7,
          "metadata": {},
          "output_type": "execute_result"
        }
      ],
      "source": [
        "v = r.get('a_key')\n",
        "v"
      ]
    },
    {
      "cell_type": "code",
      "execution_count": 8,
      "metadata": {
        "colab": {
          "base_uri": "https://localhost:8080/"
        },
        "id": "xVp_Bo7K3A3h",
        "outputId": "b12e8969-2e38-4f01-d763-57196849f827"
      },
      "outputs": [
        {
          "data": {
            "text/plain": [
              "1"
            ]
          },
          "execution_count": 8,
          "metadata": {},
          "output_type": "execute_result"
        }
      ],
      "source": [
        "r.incr('counter')"
      ]
    },
    {
      "cell_type": "code",
      "execution_count": 9,
      "metadata": {
        "colab": {
          "base_uri": "https://localhost:8080/"
        },
        "id": "SlSR6Q-w3A3h",
        "outputId": "10c675a3-ec5d-40d6-b8e7-eeff922c4dbb"
      },
      "outputs": [
        {
          "data": {
            "text/plain": [
              "b'1'"
            ]
          },
          "execution_count": 9,
          "metadata": {},
          "output_type": "execute_result"
        }
      ],
      "source": [
        "r.get('counter')"
      ]
    },
    {
      "cell_type": "code",
      "execution_count": 10,
      "metadata": {
        "colab": {
          "base_uri": "https://localhost:8080/"
        },
        "id": "z7_zJ_6K3A3h",
        "outputId": "93b81124-0551-49db-9e3b-5c472b5b9968"
      },
      "outputs": [
        {
          "data": {
            "text/plain": [
              "2"
            ]
          },
          "execution_count": 10,
          "metadata": {},
          "output_type": "execute_result"
        }
      ],
      "source": [
        "r.incr('counter')"
      ]
    },
    {
      "cell_type": "code",
      "execution_count": 11,
      "metadata": {
        "colab": {
          "base_uri": "https://localhost:8080/"
        },
        "id": "mH4K8Ov33A3i",
        "outputId": "556c55c5-c404-4f45-917e-3de3ee23cff4"
      },
      "outputs": [
        {
          "data": {
            "text/plain": [
              "b'2'"
            ]
          },
          "execution_count": 11,
          "metadata": {},
          "output_type": "execute_result"
        }
      ],
      "source": [
        "r.get('counter')"
      ]
    },
    {
      "cell_type": "code",
      "execution_count": 12,
      "metadata": {
        "colab": {
          "base_uri": "https://localhost:8080/"
        },
        "id": "l6VOd4Qk3A3i",
        "outputId": "cfc0d768-1700-4f25-e8b6-d5e08f53f64b"
      },
      "outputs": [
        {
          "data": {
            "text/plain": [
              "1"
            ]
          },
          "execution_count": 12,
          "metadata": {},
          "output_type": "execute_result"
        }
      ],
      "source": [
        "r.rpush(\"words\", \"one\")"
      ]
    },
    {
      "cell_type": "code",
      "execution_count": 13,
      "metadata": {
        "colab": {
          "base_uri": "https://localhost:8080/"
        },
        "id": "UrgiFhCy3A3i",
        "outputId": "80d52185-60f9-49a0-b70f-dd5563c2d22c"
      },
      "outputs": [
        {
          "data": {
            "text/plain": [
              "2"
            ]
          },
          "execution_count": 13,
          "metadata": {},
          "output_type": "execute_result"
        }
      ],
      "source": [
        "r.rpush(\"words\", \"two\")"
      ]
    },
    {
      "cell_type": "code",
      "execution_count": 14,
      "metadata": {
        "colab": {
          "base_uri": "https://localhost:8080/"
        },
        "id": "b86V4A-t3A3i",
        "outputId": "0b494705-03f8-4f30-db0e-14052dafb07e"
      },
      "outputs": [
        {
          "data": {
            "text/plain": [
              "[b'one', b'two']"
            ]
          },
          "execution_count": 14,
          "metadata": {},
          "output_type": "execute_result"
        }
      ],
      "source": [
        "r.lrange(\"words\", 0, -1)"
      ]
    },
    {
      "cell_type": "code",
      "execution_count": 15,
      "metadata": {
        "colab": {
          "base_uri": "https://localhost:8080/"
        },
        "id": "sCsoIoM63A3i",
        "outputId": "b168edfe-7d55-42c0-b19c-e966d251b295"
      },
      "outputs": [
        {
          "data": {
            "text/plain": [
              "3"
            ]
          },
          "execution_count": 15,
          "metadata": {},
          "output_type": "execute_result"
        }
      ],
      "source": [
        "r.rpush(\"words\", \"three\")"
      ]
    },
    {
      "cell_type": "code",
      "execution_count": 16,
      "metadata": {
        "colab": {
          "base_uri": "https://localhost:8080/"
        },
        "id": "R6SYq4n23A3i",
        "outputId": "4b4bbf63-cfe6-4792-9eb1-5fba23043fbb"
      },
      "outputs": [
        {
          "data": {
            "text/plain": [
              "[b'one', b'two', b'three']"
            ]
          },
          "execution_count": 16,
          "metadata": {},
          "output_type": "execute_result"
        }
      ],
      "source": [
        "r.lrange(\"words\", 0, -1)"
      ]
    },
    {
      "cell_type": "code",
      "execution_count": 17,
      "metadata": {
        "colab": {
          "base_uri": "https://localhost:8080/"
        },
        "id": "t6c3p64R3A3j",
        "outputId": "c666dd14-5cfc-4d57-99c4-0d2d367382f3"
      },
      "outputs": [
        {
          "data": {
            "text/plain": [
              "3"
            ]
          },
          "execution_count": 17,
          "metadata": {},
          "output_type": "execute_result"
        }
      ],
      "source": [
        "r.llen(\"words\")"
      ]
    },
    {
      "cell_type": "code",
      "execution_count": 18,
      "metadata": {
        "colab": {
          "base_uri": "https://localhost:8080/"
        },
        "id": "vdLIZMaX3A3j",
        "outputId": "bddb3fb0-b288-45c0-8e38-95e3f7e3b39d"
      },
      "outputs": [
        {
          "data": {
            "text/plain": [
              "4"
            ]
          },
          "execution_count": 18,
          "metadata": {},
          "output_type": "execute_result"
        }
      ],
      "source": [
        "r.lpush(\"words\", \"zero\")"
      ]
    },
    {
      "cell_type": "code",
      "execution_count": 19,
      "metadata": {
        "colab": {
          "base_uri": "https://localhost:8080/"
        },
        "id": "Vcu54eX83A3j",
        "outputId": "94c8be18-5456-4e35-cdd1-800c25c92471"
      },
      "outputs": [
        {
          "data": {
            "text/plain": [
              "[b'zero', b'one', b'two', b'three']"
            ]
          },
          "execution_count": 19,
          "metadata": {},
          "output_type": "execute_result"
        }
      ],
      "source": [
        "r.lrange(\"words\", 0, -1)"
      ]
    },
    {
      "cell_type": "code",
      "execution_count": 20,
      "metadata": {
        "colab": {
          "base_uri": "https://localhost:8080/"
        },
        "id": "kF4t7ge-3A3j",
        "outputId": "8026515e-4d7a-4e03-e786-d4c3dc33e207"
      },
      "outputs": [
        {
          "data": {
            "text/plain": [
              "[b'two']"
            ]
          },
          "execution_count": 20,
          "metadata": {},
          "output_type": "execute_result"
        }
      ],
      "source": [
        "r.lrange(\"words\", 2, 2)"
      ]
    },
    {
      "cell_type": "code",
      "execution_count": 21,
      "metadata": {
        "colab": {
          "base_uri": "https://localhost:8080/"
        },
        "id": "zakzEK8V3A3j",
        "outputId": "a06cacc7-4e0d-444d-96a9-af203ef90135"
      },
      "outputs": [
        {
          "data": {
            "text/plain": [
              "b'one'"
            ]
          },
          "execution_count": 21,
          "metadata": {},
          "output_type": "execute_result"
        }
      ],
      "source": [
        "r.lindex(\"words\", 1)"
      ]
    },
    {
      "cell_type": "code",
      "execution_count": 22,
      "metadata": {
        "colab": {
          "base_uri": "https://localhost:8080/"
        },
        "id": "3Ckv1Sbp3A3j",
        "outputId": "2a0b623b-615c-4fc2-df7e-bbc56c3826fc"
      },
      "outputs": [
        {
          "data": {
            "text/plain": [
              "b'two'"
            ]
          },
          "execution_count": 22,
          "metadata": {},
          "output_type": "execute_result"
        }
      ],
      "source": [
        "r.lindex(\"words\", 2)"
      ]
    },
    {
      "cell_type": "markdown",
      "metadata": {
        "id": "4-iOzjGsGrJh"
      },
      "source": [
        "### Expiration of values"
      ]
    },
    {
      "cell_type": "code",
      "execution_count": 23,
      "metadata": {
        "colab": {
          "base_uri": "https://localhost:8080/"
        },
        "id": "PfTR7Ixp3A3j",
        "outputId": "9727ed39-3efb-4273-d021-9ca04c88f2bf"
      },
      "outputs": [
        {
          "data": {
            "text/plain": [
              "True"
            ]
          },
          "execution_count": 23,
          "metadata": {},
          "output_type": "execute_result"
        }
      ],
      "source": [
        "r.setex(\"timed\", 10,  \"10 seconds\")"
      ]
    },
    {
      "cell_type": "code",
      "execution_count": 24,
      "metadata": {
        "colab": {
          "base_uri": "https://localhost:8080/"
        },
        "id": "Puzppjcm3A3k",
        "outputId": "effbde9c-7dfd-40ea-f085-6a51610eaade"
      },
      "outputs": [
        {
          "data": {
            "text/plain": [
              "9019"
            ]
          },
          "execution_count": 24,
          "metadata": {},
          "output_type": "execute_result"
        }
      ],
      "source": [
        "r.pttl(\"timed\")"
      ]
    },
    {
      "cell_type": "code",
      "execution_count": 25,
      "metadata": {
        "colab": {
          "base_uri": "https://localhost:8080/"
        },
        "id": "Z1tRvYUL3A3k",
        "outputId": "2e2a6d33-090a-4c7d-934e-290a2c75fe3f"
      },
      "outputs": [
        {
          "data": {
            "text/plain": [
              "6720"
            ]
          },
          "execution_count": 25,
          "metadata": {},
          "output_type": "execute_result"
        }
      ],
      "source": [
        "r.pttl(\"timed\")"
      ]
    },
    {
      "cell_type": "code",
      "execution_count": 26,
      "metadata": {
        "colab": {
          "base_uri": "https://localhost:8080/"
        },
        "id": "0DenF6k93A3k",
        "outputId": "8dc215df-c828-4088-ffc0-e49fc4ac00f0"
      },
      "outputs": [
        {
          "data": {
            "text/plain": [
              "True"
            ]
          },
          "execution_count": 26,
          "metadata": {},
          "output_type": "execute_result"
        }
      ],
      "source": [
        "b\"timed\" in r.keys()"
      ]
    },
    {
      "cell_type": "markdown",
      "metadata": {
        "id": "aTD4x8ZJ5vV2"
      },
      "source": [
        "### Quick Check: Uses of Key:Value stores\n",
        "What sorts of data and applications would benefit most from a key:value store like Redis?\n",
        "\n",
        "* Quick lookup of data\n",
        "* Caching\n"
      ]
    },
    {
      "cell_type": "markdown",
      "metadata": {
        "id": "JoNxPeYW0b1v"
      },
      "source": [
        "# 23.7 Documents in MongoDB"
      ]
    },
    {
      "cell_type": "code",
      "execution_count": 27,
      "metadata": {
        "colab": {
          "base_uri": "https://localhost:8080/"
        },
        "id": "Dw5nUkwa0iB7",
        "outputId": "afceca2d-38c7-4dfa-f42b-3cca29622496"
      },
      "outputs": [
        {
          "name": "stdout",
          "output_type": "stream",
          "text": [
            "Collecting pymongo\n",
            "  Downloading pymongo-4.10.1-cp310-cp310-manylinux_2_17_x86_64.manylinux2014_x86_64.whl.metadata (22 kB)\n",
            "Collecting dnspython<3.0.0,>=1.16.0 (from pymongo)\n",
            "  Downloading dnspython-2.7.0-py3-none-any.whl.metadata (5.8 kB)\n",
            "Downloading pymongo-4.10.1-cp310-cp310-manylinux_2_17_x86_64.manylinux2014_x86_64.whl (1.4 MB)\n",
            "\u001b[2K   \u001b[90m━━━━━━━━━━━━━━━━━━━━━━━━━━━━━━━━━━━━━━━━\u001b[0m \u001b[32m1.4/1.4 MB\u001b[0m \u001b[31m25.1 MB/s\u001b[0m eta \u001b[36m0:00:00\u001b[0m\n",
            "\u001b[?25hDownloading dnspython-2.7.0-py3-none-any.whl (313 kB)\n",
            "\u001b[2K   \u001b[90m━━━━━━━━━━━━━━━━━━━━━━━━━━━━━━━━━━━━━━━━\u001b[0m \u001b[32m313.6/313.6 kB\u001b[0m \u001b[31m21.8 MB/s\u001b[0m eta \u001b[36m0:00:00\u001b[0m\n",
            "\u001b[?25hInstalling collected packages: dnspython, pymongo\n",
            "Successfully installed dnspython-2.7.0 pymongo-4.10.1\n"
          ]
        }
      ],
      "source": [
        "! pip install pymongo"
      ]
    },
    {
      "cell_type": "markdown",
      "metadata": {
        "id": "fYM3KhrZRjkD"
      },
      "source": [
        "### NOTE: you must have an account at mongondb.net or on another Mongo server for this code to work properly.\n",
        "\n",
        "You may also have to authorize Access from Anywhere to connect to your DB."
      ]
    },
    {
      "cell_type": "code",
      "execution_count": null,
      "metadata": {
        "id": "7BOhlvK63A3k"
      },
      "outputs": [],
      "source": [
        "from pymongo import MongoClient\n",
        "client = MongoClient(host='*** connection string here ***')   #A"
      ]
    },
    {
      "cell_type": "code",
      "execution_count": 35,
      "metadata": {
        "colab": {
          "base_uri": "https://localhost:8080/"
        },
        "id": "mnrAoXTH3A3k",
        "outputId": "ae0df934-4db3-4871-9da0-2635d9154b43"
      },
      "outputs": [
        {
          "data": {
            "text/plain": [
              "['docs']"
            ]
          },
          "execution_count": 35,
          "metadata": {},
          "output_type": "execute_result"
        }
      ],
      "source": [
        "import datetime\n",
        "a_document = {'name': 'Jane',\n",
        "              'age': 34,\n",
        "              'interests': ['Python', 'databases', 'statistics'],\n",
        "              'date_added': datetime.datetime.now()\n",
        "}\n",
        "db = client.my_data     #A\n",
        "collection = db.docs   #B\n",
        "result = collection.find_one()  #C\n",
        "db.list_collection_names()"
      ]
    },
    {
      "cell_type": "code",
      "execution_count": 36,
      "metadata": {
        "colab": {
          "base_uri": "https://localhost:8080/"
        },
        "id": "NQClxNNTxmTz",
        "outputId": "233cb7cd-4b68-4287-fd61-111329a4449a"
      },
      "outputs": [
        {
          "data": {
            "text/plain": [
              "InsertOneResult(ObjectId('674933fd4b145489056d9af8'), acknowledged=True)"
            ]
          },
          "execution_count": 36,
          "metadata": {},
          "output_type": "execute_result"
        }
      ],
      "source": [
        "collection.insert_one(a_document)\n"
      ]
    },
    {
      "cell_type": "code",
      "execution_count": 37,
      "metadata": {
        "colab": {
          "base_uri": "https://localhost:8080/"
        },
        "id": "BDqFFwgo3A3l",
        "outputId": "83f072cf-ba61-4023-f42f-c3d8e300cf56"
      },
      "outputs": [
        {
          "data": {
            "text/plain": [
              "{'_id': ObjectId('674933fd4b145489056d9af8'),\n",
              " 'name': 'Jane',\n",
              " 'age': 34,\n",
              " 'interests': ['Python', 'databases', 'statistics'],\n",
              " 'date_added': datetime.datetime(2024, 11, 29, 3, 24, 32, 765000)}"
            ]
          },
          "execution_count": 37,
          "metadata": {},
          "output_type": "execute_result"
        }
      ],
      "source": [
        "collection.find_one()    #A"
      ]
    },
    {
      "cell_type": "code",
      "execution_count": 43,
      "metadata": {
        "colab": {
          "base_uri": "https://localhost:8080/"
        },
        "id": "ZWKkXY103A3l",
        "outputId": "285c3bd1-72b4-4eb1-9a75-028067008e68"
      },
      "outputs": [
        {
          "data": {
            "text/plain": [
              "{'_id': ObjectId('674933fd4b145489056d9af8'),\n",
              " 'name': 'Jane',\n",
              " 'age': 34,\n",
              " 'interests': ['Python', 'databases', 'statistics'],\n",
              " 'date_added': datetime.datetime(2024, 11, 29, 3, 24, 32, 765000)}"
            ]
          },
          "execution_count": 43,
          "metadata": {},
          "output_type": "execute_result"
        }
      ],
      "source": [
        "from bson.objectid import ObjectId\n",
        "\n",
        "###----->>>> use ObjectId from cell above in code below\n",
        "\n",
        "collection.find_one({\"_id\":ObjectId('674933fd4b145489056d9af8')})  #B\n"
      ]
    },
    {
      "cell_type": "code",
      "execution_count": 44,
      "metadata": {
        "colab": {
          "base_uri": "https://localhost:8080/"
        },
        "id": "rZgi0WtU3A3l",
        "outputId": "0d9547e9-ff28-42fd-8463-cc84be48898f"
      },
      "outputs": [
        {
          "data": {
            "text/plain": [
              "UpdateResult({'n': 1, 'electionId': ObjectId('7fffffff00000000000001a6'), 'opTime': {'ts': Timestamp(1732850721, 33), 't': 422}, 'nModified': 1, 'ok': 1.0, '$clusterTime': {'clusterTime': Timestamp(1732850721, 33), 'signature': {'hash': b'd{\\xcc\\xd7\\xe5\\xf3}T\\xe0\\x84\"x\\xd8\\x04x+\\xaa\\x15T\\xf7', 'keyId': 7394931654956941332}}, 'operationTime': Timestamp(1732850721, 33), 'updatedExisting': True}, acknowledged=True)"
            ]
          },
          "execution_count": 44,
          "metadata": {},
          "output_type": "execute_result"
        }
      ],
      "source": [
        "# use ObjectId from above in code below\n",
        "collection.update_one({\"_id\":ObjectId('674933fd4b145489056d9af8')}, {\"$set\": {\"name\":\"Ann\"}})       #C"
      ]
    },
    {
      "cell_type": "code",
      "execution_count": 40,
      "metadata": {
        "id": "u4573BhP3A3l"
      },
      "outputs": [],
      "source": [
        "# use ObjectId from above in code below\n",
        "collection.find_one({\"_id\":ObjectId('66f616d8b15e1d493ca8b8d0')})"
      ]
    },
    {
      "cell_type": "code",
      "execution_count": 45,
      "metadata": {
        "colab": {
          "base_uri": "https://localhost:8080/"
        },
        "id": "tgOuoGVd3A3m",
        "outputId": "22585e2a-ef03-4719-a070-0bf94974bc1d"
      },
      "outputs": [
        {
          "data": {
            "text/plain": [
              "UpdateResult({'n': 1, 'electionId': ObjectId('7fffffff00000000000001a6'), 'opTime': {'ts': Timestamp(1732850725, 34), 't': 422}, 'nModified': 1, 'ok': 1.0, '$clusterTime': {'clusterTime': Timestamp(1732850725, 34), 'signature': {'hash': b'g\\x82q\\xf2J\\xad\\xeeXG\\xed\\r\\x8atO\\xbf\\xe5\\xc0\\x90\\x9e ', 'keyId': 7394931654956941332}}, 'operationTime': Timestamp(1732850725, 34), 'updatedExisting': True}, acknowledged=True)"
            ]
          },
          "execution_count": 45,
          "metadata": {},
          "output_type": "execute_result"
        }
      ],
      "source": [
        "# use ObjectId from above in code below\n",
        "collection.replace_one({\"_id\":ObjectId('674933fd4b145489056d9af8')}, {\"name\":\"Maria\"})                 #D"
      ]
    },
    {
      "cell_type": "code",
      "execution_count": 46,
      "metadata": {
        "colab": {
          "base_uri": "https://localhost:8080/"
        },
        "id": "MS6fduWg3A3m",
        "outputId": "c4818e99-e7c9-4280-8e8d-f32c1e1daba9"
      },
      "outputs": [
        {
          "data": {
            "text/plain": [
              "{'_id': ObjectId('674933fd4b145489056d9af8'), 'name': 'Maria'}"
            ]
          },
          "execution_count": 46,
          "metadata": {},
          "output_type": "execute_result"
        }
      ],
      "source": [
        "# use ObjectId from above in code below\n",
        "collection.find_one({\"_id\":ObjectId('674933fd4b145489056d9af8')})"
      ]
    },
    {
      "cell_type": "code",
      "execution_count": 47,
      "metadata": {
        "colab": {
          "base_uri": "https://localhost:8080/"
        },
        "id": "mR4ld8dy3A3m",
        "outputId": "f384bc99-767b-445f-a9af-094399b584ae"
      },
      "outputs": [
        {
          "data": {
            "text/plain": [
              "DeleteResult({'n': 1, 'electionId': ObjectId('7fffffff00000000000001a6'), 'opTime': {'ts': Timestamp(1732850731, 39), 't': 422}, 'ok': 1.0, '$clusterTime': {'clusterTime': Timestamp(1732850731, 39), 'signature': {'hash': b\"\\xa7\\xcf7g\\x89}\\xfc\\xa2\\x97\\xc44\\xa9V ']j\\x0f\\x1fn\", 'keyId': 7394931654956941332}}, 'operationTime': Timestamp(1732850731, 39)}, acknowledged=True)"
            ]
          },
          "execution_count": 47,
          "metadata": {},
          "output_type": "execute_result"
        }
      ],
      "source": [
        "# use ObjectId from above in code below\n",
        "collection.delete_one({\"_id\":ObjectId('674933fd4b145489056d9af8')}) #E"
      ]
    },
    {
      "cell_type": "code",
      "execution_count": 48,
      "metadata": {
        "id": "lbgUmf1E3A3m"
      },
      "outputs": [],
      "source": [
        "collection.find_one()"
      ]
    },
    {
      "cell_type": "code",
      "execution_count": 49,
      "metadata": {
        "colab": {
          "base_uri": "https://localhost:8080/"
        },
        "id": "SkkSli0j3A3m",
        "outputId": "0c83babb-35de-4ecd-cd9f-6b8ae5a87c16"
      },
      "outputs": [
        {
          "data": {
            "text/plain": [
              "['docs']"
            ]
          },
          "execution_count": 49,
          "metadata": {},
          "output_type": "execute_result"
        }
      ],
      "source": [
        "db.list_collection_names()"
      ]
    },
    {
      "cell_type": "code",
      "execution_count": 50,
      "metadata": {
        "colab": {
          "base_uri": "https://localhost:8080/"
        },
        "id": "lbMFRqdV3A3m",
        "outputId": "a6b1e820-949f-4480-b8e3-f2fa6580972a"
      },
      "outputs": [
        {
          "data": {
            "text/plain": [
              "[]"
            ]
          },
          "execution_count": 50,
          "metadata": {},
          "output_type": "execute_result"
        }
      ],
      "source": [
        "collection.drop()\n",
        "db.list_collection_names()"
      ]
    },
    {
      "cell_type": "markdown",
      "metadata": {
        "id": "xBVBIK4r6NXt"
      },
      "source": [
        "###Quick Check: Uses of MONGODB\n",
        "Thinking back over the various data samples you’ve seen so far and other types of data in your experience, which do you think would be well suited to being stored in a database like MongoDB? Would others clearly not be suited, and if so, why not?\n",
        "\n",
        "#### Discussion\n",
        "Data that comes in large and/or more loosely organized chunks is suited to MongoDB, such as the contents of a web page or document.\n",
        "\n",
        "Data with a specific structure is better suited to relational data. The weather data you've seen is a good example."
      ]
    },
    {
      "cell_type": "markdown",
      "metadata": {
        "id": "wfi0lCDC6dXX"
      },
      "source": [
        "# Lab 23 Create a database\n",
        "\n",
        "This is an open-ended challenge, so there is no “official” answer provided."
      ]
    },
    {
      "cell_type": "code",
      "execution_count": null,
      "metadata": {
        "id": "QXty10oR6n7r"
      },
      "outputs": [],
      "source": []
    }
  ],
  "metadata": {
    "colab": {
      "include_colab_link": true,
      "provenance": []
    },
    "kernelspec": {
      "display_name": "Python 3",
      "name": "python3"
    },
    "language_info": {
      "codemirror_mode": {
        "name": "ipython",
        "version": 3
      },
      "file_extension": ".py",
      "mimetype": "text/x-python",
      "name": "python",
      "nbconvert_exporter": "python",
      "pygments_lexer": "ipython3",
      "version": "3.13.7"
    }
  },
  "nbformat": 4,
  "nbformat_minor": 0
}

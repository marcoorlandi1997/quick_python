{
  "cells": [
    {
      "cell_type": "markdown",
      "metadata": {
        "colab_type": "text",
        "id": "view-in-github"
      },
      "source": [
        "<a href=\"https://colab.research.google.com/github/nceder/qpb4e/blob/main/code/Chapter%2012/Chapter_12.ipynb\" target=\"_parent\"><img src=\"https://colab.research.google.com/assets/colab-badge.svg\" alt=\"Open In Colab\"/></a>"
      ]
    },
    {
      "cell_type": "markdown",
      "metadata": {
        "id": "6Njl2UlmXJ9A"
      },
      "source": [
        "# Using the filesystem"
      ]
    },
    {
      "cell_type": "markdown",
      "metadata": {
        "id": "A-Coi3vRXUxG"
      },
      "source": [
        "## 12.2.2 The current working directory"
      ]
    },
    {
      "cell_type": "code",
      "execution_count": 1,
      "metadata": {
        "colab": {
          "base_uri": "https://localhost:8080/",
          "height": 35
        },
        "id": "Di3aNYV9jF_W",
        "outputId": "b6805923-1744-49d4-a11b-6292f34498f5"
      },
      "outputs": [
        {
          "data": {
            "text/plain": [
              "'c:\\\\Users\\\\marco\\\\Desktop\\\\The Quick Python 4th\\\\Repository\\\\quick_python\\\\code\\\\Chapter 12'"
            ]
          },
          "execution_count": 1,
          "metadata": {},
          "output_type": "execute_result"
        }
      ],
      "source": [
        "import os\n",
        "os.getcwd()"
      ]
    },
    {
      "cell_type": "code",
      "execution_count": 10,
      "metadata": {
        "colab": {
          "base_uri": "https://localhost:8080/"
        },
        "id": "JQiAo-nRjF_X",
        "outputId": "b9cadad9-f98c-4eac-bdb8-50ff13f16eda"
      },
      "outputs": [
        {
          "data": {
            "text/plain": [
              "['Chapter_12.ipynb', 'chapter_12.py', 'sample_data']"
            ]
          },
          "execution_count": 10,
          "metadata": {},
          "output_type": "execute_result"
        }
      ],
      "source": [
        "os.listdir(os.curdir)"
      ]
    },
    {
      "cell_type": "code",
      "execution_count": 11,
      "metadata": {
        "colab": {
          "base_uri": "https://localhost:8080/",
          "height": 35
        },
        "id": "1dDODadvjF_Y",
        "outputId": "38a96bdd-7e4e-4277-96c6-f947f7264cd4"
      },
      "outputs": [
        {
          "data": {
            "text/plain": [
              "'c:\\\\Users\\\\marco\\\\Desktop\\\\The Quick Python 4th\\\\Repository\\\\quick_python\\\\code\\\\Chapter 12\\\\sample_data'"
            ]
          },
          "execution_count": 11,
          "metadata": {},
          "output_type": "execute_result"
        }
      ],
      "source": [
        "os.chdir('sample_data')    #A\n",
        "os.getcwd()"
      ]
    },
    {
      "cell_type": "code",
      "execution_count": 13,
      "metadata": {},
      "outputs": [
        {
          "data": {
            "text/plain": [
              "[]"
            ]
          },
          "execution_count": 13,
          "metadata": {},
          "output_type": "execute_result"
        }
      ],
      "source": [
        "os.listdir(os.curdir)"
      ]
    },
    {
      "cell_type": "markdown",
      "metadata": {
        "id": "tBp6X0W2XafS"
      },
      "source": [
        "## 12.2.3 Accessing directories with pathlib"
      ]
    },
    {
      "cell_type": "code",
      "execution_count": 14,
      "metadata": {
        "colab": {
          "base_uri": "https://localhost:8080/"
        },
        "id": "y3pGbxLijF_Y",
        "outputId": "224f2a5d-423e-43b8-9bce-36f52a223abd"
      },
      "outputs": [
        {
          "data": {
            "text/plain": [
              "WindowsPath('c:/Users/marco/Desktop/The Quick Python 4th/Repository/quick_python/code/Chapter 12/sample_data')"
            ]
          },
          "execution_count": 14,
          "metadata": {},
          "output_type": "execute_result"
        }
      ],
      "source": [
        "import pathlib\n",
        "cur_path = pathlib.Path()\n",
        "cur_path.cwd()"
      ]
    },
    {
      "cell_type": "markdown",
      "metadata": {
        "id": "n9yp6JdyYGeS"
      },
      "source": [
        "## 12.2.4 Manipulating pathnames"
      ]
    },
    {
      "cell_type": "code",
      "execution_count": 16,
      "metadata": {
        "colab": {
          "base_uri": "https://localhost:8080/"
        },
        "id": "ZSxWNsjXjF_Z",
        "outputId": "3225331c-8f20-467b-8b0e-3f696f38901a"
      },
      "outputs": [
        {
          "name": "stdout",
          "output_type": "stream",
          "text": [
            "bin\\utils\\disktools\n"
          ]
        }
      ],
      "source": [
        "import os\n",
        "print(os.path.join('bin', 'utils', 'disktools'))"
      ]
    },
    {
      "cell_type": "code",
      "execution_count": 17,
      "metadata": {
        "colab": {
          "base_uri": "https://localhost:8080/"
        },
        "id": "ahtKFVyPjF_Z",
        "outputId": "4a76d113-4e5c-4fcb-f3bd-00b3ba051481"
      },
      "outputs": [
        {
          "name": "stdout",
          "output_type": "stream",
          "text": [
            "mydir\\bin\\utils\\disktools\\chkdisk\n"
          ]
        }
      ],
      "source": [
        "path1 = os.path.join('mydir', 'bin');\n",
        "path2 = os.path.join('utils', 'disktools', 'chkdisk')\n",
        "print(os.path.join(path1, path2))"
      ]
    },
    {
      "cell_type": "code",
      "execution_count": 19,
      "metadata": {
        "colab": {
          "base_uri": "https://localhost:8080/"
        },
        "id": "v0OJBpurjF_a",
        "outputId": "20f07ef1-4bf0-46a1-d688-3302e1ea82e1"
      },
      "outputs": [
        {
          "name": "stdout",
          "output_type": "stream",
          "text": [
            "('some\\\\directory\\\\again', 'path')\n"
          ]
        }
      ],
      "source": [
        "import os\n",
        "print(os.path.split(os.path.join('some', 'directory', 'again', 'path')))"
      ]
    },
    {
      "cell_type": "code",
      "execution_count": 20,
      "metadata": {
        "colab": {
          "base_uri": "https://localhost:8080/",
          "height": 35
        },
        "id": "dqRx560xjF_a",
        "outputId": "0585edaa-d8ac-4a3c-dc8e-75f310b17641"
      },
      "outputs": [
        {
          "data": {
            "text/plain": [
              "'path.jpg'"
            ]
          },
          "execution_count": 20,
          "metadata": {},
          "output_type": "execute_result"
        }
      ],
      "source": [
        "import os\n",
        "os.path.basename(os.path.join('some', 'directory', 'path.jpg'))"
      ]
    },
    {
      "cell_type": "code",
      "execution_count": 21,
      "metadata": {
        "colab": {
          "base_uri": "https://localhost:8080/",
          "height": 35
        },
        "id": "3ZhkAn2sjF_a",
        "outputId": "d7b085a4-f822-491a-dd20-bd4e9ffd3f98"
      },
      "outputs": [
        {
          "data": {
            "text/plain": [
              "'some\\\\directory'"
            ]
          },
          "execution_count": 21,
          "metadata": {},
          "output_type": "execute_result"
        }
      ],
      "source": [
        "os.path.dirname(os.path.join('some', 'directory', 'path.jpg'))"
      ]
    },
    {
      "cell_type": "code",
      "execution_count": 10,
      "metadata": {
        "colab": {
          "base_uri": "https://localhost:8080/"
        },
        "id": "JWrNwV5CjF_a",
        "outputId": "cf768567-592d-4062-a003-505cdfef4446"
      },
      "outputs": [
        {
          "data": {
            "text/plain": [
              "('some/directory/path', '.jpg')"
            ]
          },
          "execution_count": 10,
          "metadata": {},
          "output_type": "execute_result"
        }
      ],
      "source": [
        "os.path.splitext(os.path.join('some', 'directory', 'path.jpg'))"
      ]
    },
    {
      "cell_type": "code",
      "execution_count": 23,
      "metadata": {
        "colab": {
          "base_uri": "https://localhost:8080/",
          "height": 35
        },
        "id": "1UhR8qBbjF_a",
        "outputId": "0cf22d37-7362-4e5f-b5e1-a65be8991da8"
      },
      "outputs": [
        {
          "data": {
            "text/plain": [
              "'$HOME\\\\temp'"
            ]
          },
          "execution_count": 23,
          "metadata": {},
          "output_type": "execute_result"
        }
      ],
      "source": [
        "import os\n",
        "os.path.expandvars('$HOME\\\\temp')"
      ]
    },
    {
      "cell_type": "markdown",
      "metadata": {
        "id": "WRnInY86YzOj"
      },
      "source": [
        "## 12.2.5 Manipulating pathnames with pathlib"
      ]
    },
    {
      "cell_type": "code",
      "execution_count": 32,
      "metadata": {
        "colab": {
          "base_uri": "https://localhost:8080/"
        },
        "id": "aZNBQqazjF_b",
        "outputId": "0325e836-acc4-4b1f-d3f0-0f0f5800f8c6"
      },
      "outputs": [
        {
          "name": "stdout",
          "output_type": "stream",
          "text": [
            "bin\\utils\\disktools\n"
          ]
        }
      ],
      "source": [
        "from pathlib import Path\n",
        "cur_path = Path()\n",
        "print(cur_path.joinpath('bin', 'utils', 'disktools'))"
      ]
    },
    {
      "cell_type": "code",
      "execution_count": 33,
      "metadata": {
        "colab": {
          "base_uri": "https://localhost:8080/"
        },
        "id": "i5gq69N4jF_b",
        "outputId": "b34de2f6-74aa-474c-e479-965d26820f8e"
      },
      "outputs": [
        {
          "data": {
            "text/plain": [
              "WindowsPath('bin/utils/disktools')"
            ]
          },
          "execution_count": 33,
          "metadata": {},
          "output_type": "execute_result"
        }
      ],
      "source": [
        "cur_path / 'bin' / 'utils' / 'disktools'"
      ]
    },
    {
      "cell_type": "code",
      "execution_count": 34,
      "metadata": {
        "colab": {
          "base_uri": "https://localhost:8080/"
        },
        "id": "4gwfJfg6jF_b",
        "outputId": "eef672a9-14d7-46ec-e05c-f406492098cf"
      },
      "outputs": [
        {
          "name": "stdout",
          "output_type": "stream",
          "text": [
            "bin\\utils\\disktools\n"
          ]
        }
      ],
      "source": [
        "cur_path = Path()\n",
        "print(cur_path.joinpath('bin', 'utils', 'disktools'))"
      ]
    },
    {
      "cell_type": "code",
      "execution_count": 35,
      "metadata": {
        "colab": {
          "base_uri": "https://localhost:8080/"
        },
        "id": "NcCAVNFVjF_b",
        "outputId": "f6151d33-4032-4b78-f6aa-ec096dc32283"
      },
      "outputs": [
        {
          "name": "stdout",
          "output_type": "stream",
          "text": [
            "('bin', 'utils', 'disktools')\n"
          ]
        }
      ],
      "source": [
        "a_path = Path('bin/utils/disktools')\n",
        "print(a_path.parts)"
      ]
    },
    {
      "cell_type": "code",
      "execution_count": 36,
      "metadata": {
        "colab": {
          "base_uri": "https://localhost:8080/",
          "height": 35
        },
        "id": "weNtyD6BjF_b",
        "outputId": "7ddc8494-6a16-4688-cc90-fdc10f42608c"
      },
      "outputs": [
        {
          "data": {
            "text/plain": [
              "'path.jpg'"
            ]
          },
          "execution_count": 36,
          "metadata": {},
          "output_type": "execute_result"
        }
      ],
      "source": [
        "a_path = Path('some', 'directory', 'path.jpg')\n",
        "a_path.name"
      ]
    },
    {
      "cell_type": "code",
      "execution_count": 37,
      "metadata": {
        "colab": {
          "base_uri": "https://localhost:8080/"
        },
        "id": "OgZlegy0jF_b",
        "outputId": "63243ee8-4a50-4143-8a30-662e2ec6bad6"
      },
      "outputs": [
        {
          "name": "stdout",
          "output_type": "stream",
          "text": [
            "some\\directory\n"
          ]
        }
      ],
      "source": [
        "print(a_path.parent)"
      ]
    },
    {
      "cell_type": "code",
      "execution_count": 38,
      "metadata": {
        "colab": {
          "base_uri": "https://localhost:8080/",
          "height": 35
        },
        "id": "drQ_PqQCjF_b",
        "outputId": "79e5098d-05e9-4086-84b8-a692a65baea9"
      },
      "outputs": [
        {
          "data": {
            "text/plain": [
              "'.jpg'"
            ]
          },
          "execution_count": 38,
          "metadata": {},
          "output_type": "execute_result"
        }
      ],
      "source": [
        "a_path.suffix"
      ]
    },
    {
      "cell_type": "markdown",
      "metadata": {
        "id": "Lg4BdXmrZMVq"
      },
      "source": [
        "## 12.2.6 Useful constants and functions"
      ]
    },
    {
      "cell_type": "code",
      "execution_count": 42,
      "metadata": {
        "colab": {
          "base_uri": "https://localhost:8080/",
          "height": 35
        },
        "id": "2VeNyXfXjF_b",
        "outputId": "dcfa596b-1bda-461c-ee67-976ad0bb7988"
      },
      "outputs": [
        {
          "data": {
            "text/plain": [
              "'nt'"
            ]
          },
          "execution_count": 42,
          "metadata": {},
          "output_type": "execute_result"
        }
      ],
      "source": [
        "import os\n",
        "os.name"
      ]
    },
    {
      "cell_type": "code",
      "execution_count": 43,
      "metadata": {},
      "outputs": [
        {
          "data": {
            "text/plain": [
              "False"
            ]
          },
          "execution_count": 43,
          "metadata": {},
          "output_type": "execute_result"
        }
      ],
      "source": [
        "os.path.isabs(os.path.join(os.pardir, path))"
      ]
    },
    {
      "cell_type": "code",
      "execution_count": 44,
      "metadata": {},
      "outputs": [
        {
          "data": {
            "text/plain": [
              "environ{'ALLUSERSPROFILE': 'C:\\\\ProgramData',\n",
              "        'APPDATA': 'C:\\\\Users\\\\marco\\\\AppData\\\\Roaming',\n",
              "        'APPLICATION_INSIGHTS_NO_STATSBEAT': 'true',\n",
              "        'CHROME_CRASHPAD_PIPE_NAME': '\\\\\\\\.\\\\pipe\\\\crashpad_13804_ZHTNDIURYBEZAQEH',\n",
              "        'COMMONPROGRAMFILES': 'C:\\\\Program Files\\\\Common Files',\n",
              "        'COMMONPROGRAMFILES(X86)': 'C:\\\\Program Files (x86)\\\\Common Files',\n",
              "        'COMMONPROGRAMW6432': 'C:\\\\Program Files\\\\Common Files',\n",
              "        'COMPUTERNAME': 'MARCO-DESKTOP',\n",
              "        'COMSPEC': 'C:\\\\WINDOWS\\\\system32\\\\cmd.exe',\n",
              "        'DRIVERDATA': 'C:\\\\Windows\\\\System32\\\\Drivers\\\\DriverData',\n",
              "        'EFC_2896_1262719628': '1',\n",
              "        'EFC_2896_1592913036': '1',\n",
              "        'EFC_2896_2283032206': '1',\n",
              "        'EFC_2896_2775293581': '1',\n",
              "        'EFC_2896_3789132940': '1',\n",
              "        'ELECTRON_RUN_AS_NODE': '1',\n",
              "        'FPS_BROWSER_APP_PROFILE_STRING': 'Internet Explorer',\n",
              "        'FPS_BROWSER_USER_PROFILE_STRING': 'Default',\n",
              "        'HOMEDRIVE': 'C:',\n",
              "        'HOMEPATH': '\\\\Users\\\\marco',\n",
              "        'JPY_INTERRUPT_EVENT': '1528',\n",
              "        'LOCALAPPDATA': 'C:\\\\Users\\\\marco\\\\AppData\\\\Local',\n",
              "        'LOGONSERVER': '\\\\\\\\MARCO-DESKTOP',\n",
              "        'NUMBER_OF_PROCESSORS': '12',\n",
              "        'ONEDRIVE': 'C:\\\\Users\\\\marco\\\\OneDrive',\n",
              "        'ORIGINAL_XDG_CURRENT_DESKTOP': 'undefined',\n",
              "        'OS': 'Windows_NT',\n",
              "        'PATH': 'c:\\\\Users\\\\marco\\\\AppData\\\\Local\\\\Programs\\\\Python\\\\Python313;c:\\\\Users\\\\marco\\\\AppData\\\\Roaming\\\\Python\\\\Python313\\\\Scripts;C:\\\\Windows\\\\system32;C:\\\\Windows;C:\\\\Windows\\\\System32\\\\Wbem;C:\\\\Windows\\\\System32\\\\WindowsPowerShell\\\\v1.0\\\\;C:\\\\Windows\\\\System32\\\\OpenSSH\\\\;C:\\\\Program Files (x86)\\\\NVIDIA Corporation\\\\PhysX\\\\Common;C:\\\\Program Files\\\\Git\\\\cmd;C:\\\\Program Files\\\\MySQL\\\\MySQL Server 8.0\\\\bin;;C:\\\\WINDOWS\\\\system32;C:\\\\WINDOWS;C:\\\\WINDOWS\\\\System32\\\\Wbem;C:\\\\WINDOWS\\\\System32\\\\WindowsPowerShell\\\\v1.0\\\\;C:\\\\WINDOWS\\\\System32\\\\OpenSSH\\\\;C:\\\\Program Files\\\\NVIDIA Corporation\\\\NVIDIA app\\\\NvDLISR;C:\\\\Users\\\\marco\\\\AppData\\\\Local\\\\Programs\\\\Python\\\\Python313\\\\Scripts\\\\;C:\\\\Users\\\\marco\\\\AppData\\\\Local\\\\Programs\\\\Python\\\\Python313\\\\;C:\\\\Users\\\\marco\\\\AppData\\\\Local\\\\Microsoft\\\\WindowsApps;C:\\\\Users\\\\marco\\\\AppData\\\\Local\\\\Programs\\\\MiKTeX\\\\miktex\\\\bin\\\\x64\\\\;C:\\\\Users\\\\marco\\\\AppData\\\\Local\\\\Programs\\\\Microsoft VS Code\\\\bin;C:\\\\Windows\\\\system32;C:\\\\Windows;C:\\\\Windows\\\\System32\\\\Wbem;C:\\\\Windows\\\\System32\\\\WindowsPowerShell\\\\v1.0\\\\;C:\\\\Windows\\\\System32\\\\OpenSSH\\\\;C:\\\\Program Files (x86)\\\\NVIDIA Corporation\\\\PhysX\\\\Common;C:\\\\Program Files\\\\Git\\\\cmd;C:\\\\Program Files\\\\MySQL\\\\MySQL Server 8.0\\\\bin;;C:\\\\WINDOWS\\\\system32;C:\\\\WINDOWS;C:\\\\WINDOWS\\\\System32\\\\Wbem;C:\\\\WINDOWS\\\\System32\\\\WindowsPowerShell\\\\v1.0\\\\;C:\\\\WINDOWS\\\\System32\\\\OpenSSH\\\\;C:\\\\Program Files\\\\NVIDIA Corporation\\\\NVIDIA app\\\\NvDLISR;C:\\\\Users\\\\marco\\\\AppData\\\\Local\\\\Programs\\\\Python\\\\Python313\\\\Scripts\\\\;C:\\\\Users\\\\marco\\\\AppData\\\\Local\\\\Programs\\\\Python\\\\Python313\\\\;C:\\\\Users\\\\marco\\\\AppData\\\\Local\\\\Microsoft\\\\WindowsApps;C:\\\\Users\\\\marco\\\\AppData\\\\Local\\\\Programs\\\\MiKTeX\\\\miktex\\\\bin\\\\x64\\\\;C:\\\\Users\\\\marco\\\\AppData\\\\Local\\\\Programs\\\\Microsoft VS Code\\\\bin',\n",
              "        'PATHEXT': '.COM;.EXE;.BAT;.CMD;.VBS;.VBE;.JS;.JSE;.WSF;.WSH;.MSC',\n",
              "        'PROCESSOR_ARCHITECTURE': 'AMD64',\n",
              "        'PROCESSOR_IDENTIFIER': 'AMD64 Family 23 Model 8 Stepping 2, AuthenticAMD',\n",
              "        'PROCESSOR_LEVEL': '23',\n",
              "        'PROCESSOR_REVISION': '0802',\n",
              "        'PROGRAMDATA': 'C:\\\\ProgramData',\n",
              "        'PROGRAMFILES': 'C:\\\\Program Files',\n",
              "        'PROGRAMFILES(X86)': 'C:\\\\Program Files (x86)',\n",
              "        'PROGRAMW6432': 'C:\\\\Program Files',\n",
              "        'PSMODULEPATH': 'C:\\\\Program Files\\\\WindowsPowerShell\\\\Modules;C:\\\\WINDOWS\\\\system32\\\\WindowsPowerShell\\\\v1.0\\\\Modules',\n",
              "        'PUBLIC': 'C:\\\\Users\\\\Public',\n",
              "        'PYDEVD_IPYTHON_COMPATIBLE_DEBUGGING': '1',\n",
              "        'PYTHONIOENCODING': 'utf-8',\n",
              "        'PYTHONUNBUFFERED': '1',\n",
              "        'PYTHON_FROZEN_MODULES': 'on',\n",
              "        'SESSIONNAME': 'Console',\n",
              "        'SYSTEMDRIVE': 'C:',\n",
              "        'SYSTEMROOT': 'C:\\\\WINDOWS',\n",
              "        'TEMP': 'C:\\\\Users\\\\marco\\\\AppData\\\\Local\\\\Temp',\n",
              "        'TMP': 'C:\\\\Users\\\\marco\\\\AppData\\\\Local\\\\Temp',\n",
              "        'USERDOMAIN': 'MARCO-DESKTOP',\n",
              "        'USERDOMAIN_ROAMINGPROFILE': 'MARCO-DESKTOP',\n",
              "        'USERNAME': 'marco',\n",
              "        'USERPROFILE': 'C:\\\\Users\\\\marco',\n",
              "        'VSCODE_CODE_CACHE_PATH': 'C:\\\\Users\\\\marco\\\\AppData\\\\Roaming\\\\Code\\\\CachedData\\\\488a1f239235055e34e673291fb8d8c810886f81',\n",
              "        'VSCODE_CRASH_REPORTER_PROCESS_TYPE': 'extensionHost',\n",
              "        'VSCODE_CWD': 'C:\\\\Users\\\\marco\\\\Desktop\\\\The Quick Python 4th',\n",
              "        'VSCODE_ESM_ENTRYPOINT': 'vs/workbench/api/node/extensionHostProcess',\n",
              "        'VSCODE_HANDLES_UNCAUGHT_ERRORS': 'true',\n",
              "        'VSCODE_IPC_HOOK': '\\\\\\\\.\\\\pipe\\\\ca518528-1.102.3-main-sock',\n",
              "        'VSCODE_NLS_CONFIG': '{\"userLocale\":\"en-us\",\"osLocale\":\"it-it\",\"resolvedLanguage\":\"en\",\"defaultMessagesFile\":\"C:\\\\\\\\Users\\\\\\\\marco\\\\\\\\AppData\\\\\\\\Local\\\\\\\\Programs\\\\\\\\Microsoft VS Code\\\\\\\\resources\\\\\\\\app\\\\\\\\out\\\\\\\\nls.messages.json\",\"locale\":\"en-us\",\"availableLanguages\":{}}',\n",
              "        'VSCODE_PID': '13804',\n",
              "        'WINDIR': 'C:\\\\WINDOWS',\n",
              "        'PYDEVD_USE_FRAME_EVAL': 'NO',\n",
              "        'TERM': 'xterm-color',\n",
              "        'CLICOLOR': '1',\n",
              "        'FORCE_COLOR': '1',\n",
              "        'CLICOLOR_FORCE': '1',\n",
              "        'PAGER': 'cat',\n",
              "        'GIT_PAGER': 'cat',\n",
              "        'MPLBACKEND': 'module://matplotlib_inline.backend_inline'}"
            ]
          },
          "execution_count": 44,
          "metadata": {},
          "output_type": "execute_result"
        }
      ],
      "source": [
        "os.environ"
      ]
    },
    {
      "cell_type": "markdown",
      "metadata": {
        "id": "Vjgns_TRR8Jf"
      },
      "source": [
        "### Quick Check: Manipulating paths\n",
        "\n",
        "How would you use the os module's functions to take a path to a file called `test.log` and create a new file path in the same directory for a file called `test.log.old`? How would you do the same thing using the `pathlib` module?\n",
        "What path would you get if you created a pathlib `Path` object from `os.pardir`? Try it and find out."
      ]
    },
    {
      "cell_type": "code",
      "execution_count": 45,
      "metadata": {
        "colab": {
          "base_uri": "https://localhost:8080/"
        },
        "id": "sVGC3bJiSKXX",
        "outputId": "e1f38b30-4718-49a3-dca3-02756999f209"
      },
      "outputs": [
        {
          "name": "stdout",
          "output_type": "stream",
          "text": [
            "c:\\Users\\marco\\Desktop\\The Quick Python 4th\\Repository\\quick_python\\code\\Chapter 12\\sample_data\\test.log\n",
            "c:\\Users\\marco\\Desktop\\The Quick Python 4th\\Repository\\quick_python\\code\\Chapter 12\\sample_data\\test.log.old\n",
            "C:\\Users\\marco\\Desktop\\The Quick Python 4th\\Repository\\quick_python\\code\\Chapter 12\\sample_data\\test.log\n",
            "C:\\Users\\marco\\Desktop\\The Quick Python 4th\\Repository\\quick_python\\code\\Chapter 12\\sample_data\\test.log.old\n"
          ]
        }
      ],
      "source": [
        "import os.path\n",
        "old_path = os.path.abspath('test.log')\n",
        "print(old_path)\n",
        "new_path = '{}.{}'.format(old_path, \"old\")\n",
        "print(new_path)\n",
        "\n",
        "import pathlib\n",
        "path = pathlib.Path('test.log')\n",
        "abs_path = path.resolve()\n",
        "print(abs_path)\n",
        "new_path = str(abs_path) + \".old\"\n",
        "print(new_path)"
      ]
    },
    {
      "cell_type": "code",
      "execution_count": 50,
      "metadata": {
        "colab": {
          "base_uri": "https://localhost:8080/"
        },
        "id": "iaBXykeoSYxX",
        "outputId": "6746e40e-7d97-4dc7-f075-7b04f05665b9"
      },
      "outputs": [
        {
          "name": "stdout",
          "output_type": "stream",
          "text": [
            "..\n"
          ]
        },
        {
          "data": {
            "text/plain": [
              "WindowsPath('C:/Users/marco/Desktop/The Quick Python 4th/Repository/quick_python/code/Chapter 12')"
            ]
          },
          "execution_count": 50,
          "metadata": {},
          "output_type": "execute_result"
        }
      ],
      "source": [
        "test_path = pathlib.Path(os.pardir)\n",
        "print(test_path)\n",
        "test_path.resolve()\n"
      ]
    },
    {
      "cell_type": "markdown",
      "metadata": {
        "id": "1X9rbQ9dZbCm"
      },
      "source": [
        "# 12.3 Getting information about files"
      ]
    },
    {
      "cell_type": "code",
      "execution_count": 51,
      "metadata": {
        "colab": {
          "base_uri": "https://localhost:8080/"
        },
        "id": "qQEXHyxHjF_c",
        "outputId": "3b9ef40b-bd71-4b59-e3f3-508d76234bcb"
      },
      "outputs": [
        {
          "data": {
            "text/plain": [
              "False"
            ]
          },
          "execution_count": 51,
          "metadata": {},
          "output_type": "execute_result"
        }
      ],
      "source": [
        "import os\n",
        "os.path.exists('/content/sample_data/')"
      ]
    },
    {
      "cell_type": "code",
      "execution_count": 52,
      "metadata": {
        "colab": {
          "base_uri": "https://localhost:8080/"
        },
        "id": "Sxp3yG_IjF_c",
        "outputId": "1ca26d17-6417-4ea3-cc74-13c03cbb5ff9"
      },
      "outputs": [
        {
          "data": {
            "text/plain": [
              "False"
            ]
          },
          "execution_count": 52,
          "metadata": {},
          "output_type": "execute_result"
        }
      ],
      "source": [
        "os.path.exists('/content/sample_data/README.md')"
      ]
    },
    {
      "cell_type": "code",
      "execution_count": 53,
      "metadata": {
        "colab": {
          "base_uri": "https://localhost:8080/"
        },
        "id": "E-WZ9IL-jF_c",
        "outputId": "57070d28-4cce-4113-a231-3581664b8b58"
      },
      "outputs": [
        {
          "data": {
            "text/plain": [
              "False"
            ]
          },
          "execution_count": 53,
          "metadata": {},
          "output_type": "execute_result"
        }
      ],
      "source": [
        "os.path.exists('/content/sample_data/ljsljkflkjs')"
      ]
    },
    {
      "cell_type": "code",
      "execution_count": 54,
      "metadata": {
        "colab": {
          "base_uri": "https://localhost:8080/"
        },
        "id": "AyEq5taIjF_c",
        "outputId": "00fc4437-b11e-45ac-c8ce-3649898e6598"
      },
      "outputs": [
        {
          "data": {
            "text/plain": [
              "False"
            ]
          },
          "execution_count": 54,
          "metadata": {},
          "output_type": "execute_result"
        }
      ],
      "source": [
        "os.path.isdir('/content/sample_data/')"
      ]
    },
    {
      "cell_type": "code",
      "execution_count": 55,
      "metadata": {
        "colab": {
          "base_uri": "https://localhost:8080/"
        },
        "id": "cmKctXdBjF_c",
        "outputId": "6b6eeaf0-7ff6-49c5-e841-4d5da30d7c18"
      },
      "outputs": [
        {
          "data": {
            "text/plain": [
              "False"
            ]
          },
          "execution_count": 55,
          "metadata": {},
          "output_type": "execute_result"
        }
      ],
      "source": [
        "os.path.isdir('/content/sample_data/README.md')"
      ]
    },
    {
      "cell_type": "code",
      "execution_count": 56,
      "metadata": {
        "colab": {
          "base_uri": "https://localhost:8080/"
        },
        "id": "Wn0cn2YEjF_c",
        "outputId": "22ca825a-a7da-431e-fa31-26bf340d34a6"
      },
      "outputs": [
        {
          "data": {
            "text/plain": [
              "False"
            ]
          },
          "execution_count": 56,
          "metadata": {},
          "output_type": "execute_result"
        }
      ],
      "source": [
        "\n",
        "os.path.isfile('/content/sample_data/README.md')"
      ]
    },
    {
      "cell_type": "markdown",
      "metadata": {
        "id": "y_w0SCk5aMxC"
      },
      "source": [
        "## 12.3.1 Getting information about files with scandir"
      ]
    },
    {
      "cell_type": "code",
      "execution_count": 57,
      "metadata": {
        "colab": {
          "base_uri": "https://localhost:8080/"
        },
        "id": "SOUMHfgejF_c",
        "outputId": "a6688388-639e-43f3-f727-c26ca1ef6ede"
      },
      "outputs": [
        {
          "name": "stdout",
          "output_type": "stream",
          "text": [
            "Chapter_12.ipynb True\n",
            "chapter_12.py True\n",
            "sample_data False\n"
          ]
        }
      ],
      "source": [
        "with os.scandir(\"..\") as my_dir:\n",
        "    for entry in my_dir:\n",
        "        print(entry.name, entry.is_file())\n"
      ]
    },
    {
      "cell_type": "markdown",
      "metadata": {
        "id": "l4bqrqkbaaIL"
      },
      "source": [
        "# 12.4 More filesystem operations"
      ]
    },
    {
      "cell_type": "code",
      "execution_count": 58,
      "metadata": {
        "colab": {
          "base_uri": "https://localhost:8080/"
        },
        "id": "Qf_nuBBmjF_d",
        "outputId": "59731b1b-2a11-4c09-9329-3cd430b271bc"
      },
      "outputs": [
        {
          "ename": "FileNotFoundError",
          "evalue": "[WinError 3] The system cannot find the path specified: '/content/sample_data'",
          "output_type": "error",
          "traceback": [
            "\u001b[31m---------------------------------------------------------------------------\u001b[39m",
            "\u001b[31mFileNotFoundError\u001b[39m                         Traceback (most recent call last)",
            "\u001b[36mCell\u001b[39m\u001b[36m \u001b[39m\u001b[32mIn[58]\u001b[39m\u001b[32m, line 1\u001b[39m\n\u001b[32m----> \u001b[39m\u001b[32m1\u001b[39m \u001b[43mos\u001b[49m\u001b[43m.\u001b[49m\u001b[43mchdir\u001b[49m\u001b[43m(\u001b[49m\u001b[33;43m'\u001b[39;49m\u001b[33;43m/content/sample_data\u001b[39;49m\u001b[33;43m'\u001b[39;49m\u001b[43m)\u001b[49m\n\u001b[32m      2\u001b[39m os.listdir(os.curdir)\n",
            "\u001b[31mFileNotFoundError\u001b[39m: [WinError 3] The system cannot find the path specified: '/content/sample_data'"
          ]
        }
      ],
      "source": [
        "os.chdir('/content/sample_data')\n",
        "os.listdir(os.curdir)"
      ]
    },
    {
      "cell_type": "code",
      "execution_count": 30,
      "metadata": {
        "colab": {
          "base_uri": "https://localhost:8080/"
        },
        "id": "uTQGuG_gjF_d",
        "outputId": "6011a9d4-5b88-4eb8-85d2-d40663063bba"
      },
      "outputs": [
        {
          "data": {
            "text/plain": [
              "['README.md',\n",
              " 'anscombe.json',\n",
              " 'california_housing_train.csv',\n",
              " 'california_housing_test.csv',\n",
              " 'mnist_train_small.csv',\n",
              " 'mnist_test.csv']"
            ]
          },
          "execution_count": 30,
          "metadata": {},
          "output_type": "execute_result"
        }
      ],
      "source": [
        "import glob\n",
        "glob.glob(\"*\")"
      ]
    },
    {
      "cell_type": "code",
      "execution_count": 31,
      "metadata": {
        "colab": {
          "base_uri": "https://localhost:8080/"
        },
        "id": "ohMOngnyjF_d",
        "outputId": "d44c35b4-369e-41a7-8590-9f20256030af"
      },
      "outputs": [
        {
          "data": {
            "text/plain": [
              "['anscombe.json']"
            ]
          },
          "execution_count": 31,
          "metadata": {},
          "output_type": "execute_result"
        }
      ],
      "source": [
        "glob.glob(\"*json\")"
      ]
    },
    {
      "cell_type": "code",
      "execution_count": 32,
      "metadata": {
        "id": "hXtpV5QEbt6I"
      },
      "outputs": [],
      "source": [
        "! touch a.tmp 1.tmp 2.tmp"
      ]
    },
    {
      "cell_type": "code",
      "execution_count": 33,
      "metadata": {
        "colab": {
          "base_uri": "https://localhost:8080/"
        },
        "id": "AXghqidcjF_d",
        "outputId": "31a4708a-69cb-4df9-eb48-befed72e9b34"
      },
      "outputs": [
        {
          "data": {
            "text/plain": [
              "['a.tmp', '2.tmp', '1.tmp']"
            ]
          },
          "execution_count": 33,
          "metadata": {},
          "output_type": "execute_result"
        }
      ],
      "source": [
        "glob.glob(\"?.tmp\")"
      ]
    },
    {
      "cell_type": "code",
      "execution_count": 34,
      "metadata": {
        "colab": {
          "base_uri": "https://localhost:8080/"
        },
        "id": "LZbRh01EjF_d",
        "outputId": "7a16ce8a-2e32-40f1-93a7-900d97c3aad2"
      },
      "outputs": [
        {
          "data": {
            "text/plain": [
              "['2.tmp', '1.tmp']"
            ]
          },
          "execution_count": 34,
          "metadata": {},
          "output_type": "execute_result"
        }
      ],
      "source": [
        "glob.glob(\"[0-9].tmp\")"
      ]
    },
    {
      "cell_type": "code",
      "execution_count": 35,
      "metadata": {
        "colab": {
          "base_uri": "https://localhost:8080/"
        },
        "id": "TF9NNGGBjF_d",
        "outputId": "91183faa-933d-4be2-a8ca-9a6c4a9c072d"
      },
      "outputs": [
        {
          "data": {
            "text/plain": [
              "['anscombe.json',\n",
              " 'a.tmp',\n",
              " 'README.md.old',\n",
              " '2.tmp',\n",
              " '1.tmp',\n",
              " 'california_housing_train.csv',\n",
              " 'california_housing_test.csv',\n",
              " 'mnist_train_small.csv',\n",
              " 'mnist_test.csv']"
            ]
          },
          "execution_count": 35,
          "metadata": {},
          "output_type": "execute_result"
        }
      ],
      "source": [
        "os.rename('README.md', 'README.md.old')\n",
        "os.listdir(os.curdir)"
      ]
    },
    {
      "cell_type": "code",
      "execution_count": 36,
      "metadata": {
        "colab": {
          "base_uri": "https://localhost:8080/"
        },
        "id": "1QkjFVQUjF_e",
        "outputId": "565ef0df-2ad6-4f41-db65-ab3f423c977d"
      },
      "outputs": [
        {
          "data": {
            "text/plain": [
              "['anscombe.json',\n",
              " 'README.md.old',\n",
              " '2.tmp',\n",
              " '1.tmp',\n",
              " 'california_housing_train.csv',\n",
              " 'california_housing_test.csv',\n",
              " 'mnist_train_small.csv',\n",
              " 'mnist_test.csv']"
            ]
          },
          "execution_count": 36,
          "metadata": {},
          "output_type": "execute_result"
        }
      ],
      "source": [
        "os.remove('a.tmp')\n",
        "os.listdir(os.curdir)"
      ]
    },
    {
      "cell_type": "code",
      "execution_count": 59,
      "metadata": {
        "colab": {
          "base_uri": "https://localhost:8080/"
        },
        "id": "YZZ72kJAjF_e",
        "outputId": "97e4687f-2d43-4db0-9530-a6a07bbdf9ae"
      },
      "outputs": [
        {
          "data": {
            "text/plain": [
              "['mydir']"
            ]
          },
          "execution_count": 59,
          "metadata": {},
          "output_type": "execute_result"
        }
      ],
      "source": [
        "os.makedirs('mydir')\n",
        "os.listdir(os.curdir)"
      ]
    },
    {
      "cell_type": "code",
      "execution_count": 60,
      "metadata": {
        "colab": {
          "base_uri": "https://localhost:8080/"
        },
        "id": "Lk_36lnEjF_e",
        "outputId": "6265bbe2-cffb-4c76-aef8-8b8069d2e73d"
      },
      "outputs": [
        {
          "data": {
            "text/plain": [
              "True"
            ]
          },
          "execution_count": 60,
          "metadata": {},
          "output_type": "execute_result"
        }
      ],
      "source": [
        "os.path.isdir('mydir')"
      ]
    },
    {
      "cell_type": "code",
      "execution_count": 61,
      "metadata": {
        "colab": {
          "base_uri": "https://localhost:8080/"
        },
        "id": "TtG2IVb-jF_e",
        "outputId": "233a8b28-9f76-4c1f-ff29-f1f0946ba72b"
      },
      "outputs": [
        {
          "data": {
            "text/plain": [
              "[]"
            ]
          },
          "execution_count": 61,
          "metadata": {},
          "output_type": "execute_result"
        }
      ],
      "source": [
        "os.rmdir('mydir')\n",
        "os.listdir(os.curdir)"
      ]
    },
    {
      "cell_type": "markdown",
      "metadata": {
        "id": "0OvJ8AuUetd4"
      },
      "source": [
        "## 12.4.1 More filesystem operations with pathlib\n"
      ]
    },
    {
      "cell_type": "code",
      "execution_count": 76,
      "metadata": {
        "colab": {
          "base_uri": "https://localhost:8080/"
        },
        "id": "R6mVryZujF_e",
        "outputId": "e3422968-e85e-4b5d-89ec-426235b2d3e2"
      },
      "outputs": [
        {
          "ename": "FileNotFoundError",
          "evalue": "[WinError 3] The system cannot find the path specified: '\\\\content\\\\sample_data'",
          "output_type": "error",
          "traceback": [
            "\u001b[31m---------------------------------------------------------------------------\u001b[39m",
            "\u001b[31mFileNotFoundError\u001b[39m                         Traceback (most recent call last)",
            "\u001b[36mCell\u001b[39m\u001b[36m \u001b[39m\u001b[32mIn[76]\u001b[39m\u001b[32m, line 2\u001b[39m\n\u001b[32m      1\u001b[39m new_path = cur_path.joinpath(\u001b[33m'\u001b[39m\u001b[33m/content\u001b[39m\u001b[33m'\u001b[39m, \u001b[33m'\u001b[39m\u001b[33msample_data\u001b[39m\u001b[33m'\u001b[39m)\n\u001b[32m----> \u001b[39m\u001b[32m2\u001b[39m \u001b[38;5;28mlist\u001b[39m(\u001b[43mnew_path\u001b[49m\u001b[43m.\u001b[49m\u001b[43miterdir\u001b[49m\u001b[43m(\u001b[49m\u001b[43m)\u001b[49m)\n",
            "\u001b[36mFile \u001b[39m\u001b[32mc:\\Users\\marco\\AppData\\Local\\Programs\\Python\\Python313\\Lib\\pathlib\\_local.py:575\u001b[39m, in \u001b[36mPath.iterdir\u001b[39m\u001b[34m(self)\u001b[39m\n\u001b[32m    569\u001b[39m \u001b[38;5;250m\u001b[39m\u001b[33;03m\"\"\"Yield path objects of the directory contents.\u001b[39;00m\n\u001b[32m    570\u001b[39m \n\u001b[32m    571\u001b[39m \u001b[33;03mThe children are yielded in arbitrary order, and the\u001b[39;00m\n\u001b[32m    572\u001b[39m \u001b[33;03mspecial entries '.' and '..' are not included.\u001b[39;00m\n\u001b[32m    573\u001b[39m \u001b[33;03m\"\"\"\u001b[39;00m\n\u001b[32m    574\u001b[39m root_dir = \u001b[38;5;28mstr\u001b[39m(\u001b[38;5;28mself\u001b[39m)\n\u001b[32m--> \u001b[39m\u001b[32m575\u001b[39m \u001b[38;5;28;01mwith\u001b[39;00m \u001b[43mos\u001b[49m\u001b[43m.\u001b[49m\u001b[43mscandir\u001b[49m\u001b[43m(\u001b[49m\u001b[43mroot_dir\u001b[49m\u001b[43m)\u001b[49m \u001b[38;5;28;01mas\u001b[39;00m scandir_it:\n\u001b[32m    576\u001b[39m     paths = [entry.path \u001b[38;5;28;01mfor\u001b[39;00m entry \u001b[38;5;129;01min\u001b[39;00m scandir_it]\n\u001b[32m    577\u001b[39m \u001b[38;5;28;01mif\u001b[39;00m root_dir == \u001b[33m'\u001b[39m\u001b[33m.\u001b[39m\u001b[33m'\u001b[39m:\n",
            "\u001b[31mFileNotFoundError\u001b[39m: [WinError 3] The system cannot find the path specified: '\\\\content\\\\sample_data'"
          ]
        }
      ],
      "source": [
        "new_path = cur_path.joinpath('/content', 'sample_data')\n",
        "list(new_path.iterdir())"
      ]
    },
    {
      "cell_type": "code",
      "execution_count": 41,
      "metadata": {
        "colab": {
          "base_uri": "https://localhost:8080/"
        },
        "id": "MWv8RyHzjF_e",
        "outputId": "35fddea7-f5df-4c50-808b-81af36d52f73"
      },
      "outputs": [
        {
          "data": {
            "text/plain": [
              "[PosixPath('anscombe.json'),\n",
              " PosixPath('README.md.old'),\n",
              " PosixPath('2.tmp'),\n",
              " PosixPath('1.tmp'),\n",
              " PosixPath('california_housing_train.csv'),\n",
              " PosixPath('california_housing_test.csv'),\n",
              " PosixPath('mnist_train_small.csv'),\n",
              " PosixPath('mnist_test.csv')]"
            ]
          },
          "execution_count": 41,
          "metadata": {},
          "output_type": "execute_result"
        }
      ],
      "source": [
        "list(cur_path.glob(\"*\"))"
      ]
    },
    {
      "cell_type": "code",
      "execution_count": 42,
      "metadata": {
        "colab": {
          "base_uri": "https://localhost:8080/"
        },
        "id": "MvgVRj8VjF_f",
        "outputId": "0195fc9a-1234-4081-938b-596494d87c1f"
      },
      "outputs": [
        {
          "data": {
            "text/plain": [
              "[PosixPath('anscombe.json')]"
            ]
          },
          "execution_count": 42,
          "metadata": {},
          "output_type": "execute_result"
        }
      ],
      "source": [
        "list(cur_path.glob(\"*json\"))"
      ]
    },
    {
      "cell_type": "code",
      "execution_count": 43,
      "metadata": {
        "colab": {
          "base_uri": "https://localhost:8080/"
        },
        "id": "jbfXfCi3jF_f",
        "outputId": "acc6b89e-e5e2-4192-839e-224dcf81e14c"
      },
      "outputs": [
        {
          "data": {
            "text/plain": [
              "[PosixPath('2.tmp'), PosixPath('1.tmp')]"
            ]
          },
          "execution_count": 43,
          "metadata": {},
          "output_type": "execute_result"
        }
      ],
      "source": [
        "list(cur_path.glob(\"?.tmp\"))"
      ]
    },
    {
      "cell_type": "code",
      "execution_count": 44,
      "metadata": {
        "colab": {
          "base_uri": "https://localhost:8080/"
        },
        "id": "YB97NCu7jF_f",
        "outputId": "d03fdc86-14bc-4655-8c94-b8224beb91ff"
      },
      "outputs": [
        {
          "data": {
            "text/plain": [
              "[PosixPath('2.tmp'), PosixPath('1.tmp')]"
            ]
          },
          "execution_count": 44,
          "metadata": {},
          "output_type": "execute_result"
        }
      ],
      "source": [
        "list(cur_path.glob(\"[0-9].tmp\"))"
      ]
    },
    {
      "cell_type": "code",
      "execution_count": 45,
      "metadata": {
        "colab": {
          "base_uri": "https://localhost:8080/"
        },
        "id": "MowaxuXyjF_f",
        "outputId": "0b7cdfbd-54c4-40a7-af06-5295ed4092df"
      },
      "outputs": [
        {
          "data": {
            "text/plain": [
              "[PosixPath('README.md'),\n",
              " PosixPath('anscombe.json'),\n",
              " PosixPath('2.tmp'),\n",
              " PosixPath('1.tmp'),\n",
              " PosixPath('california_housing_train.csv'),\n",
              " PosixPath('california_housing_test.csv'),\n",
              " PosixPath('mnist_train_small.csv'),\n",
              " PosixPath('mnist_test.csv')]"
            ]
          },
          "execution_count": 45,
          "metadata": {},
          "output_type": "execute_result"
        }
      ],
      "source": [
        "old_path = Path('README.md.old')\n",
        "new_path = Path('README.md')\n",
        "old_path.rename(new_path)\n",
        "list(cur_path.iterdir())"
      ]
    },
    {
      "cell_type": "code",
      "execution_count": 46,
      "metadata": {
        "colab": {
          "base_uri": "https://localhost:8080/"
        },
        "id": "T2WsyjCKjF_f",
        "outputId": "89074c94-3bfe-4a80-fc39-0aa8820c18a5"
      },
      "outputs": [
        {
          "data": {
            "text/plain": [
              "[PosixPath('README.md'),\n",
              " PosixPath('anscombe.json'),\n",
              " PosixPath('2.tmp'),\n",
              " PosixPath('california_housing_train.csv'),\n",
              " PosixPath('california_housing_test.csv'),\n",
              " PosixPath('mnist_train_small.csv'),\n",
              " PosixPath('mnist_test.csv')]"
            ]
          },
          "execution_count": 46,
          "metadata": {},
          "output_type": "execute_result"
        }
      ],
      "source": [
        "new_path = Path('1.tmp')\n",
        "new_path.unlink()\n",
        "list(cur_path.iterdir())"
      ]
    },
    {
      "cell_type": "code",
      "execution_count": 47,
      "metadata": {
        "colab": {
          "base_uri": "https://localhost:8080/"
        },
        "id": "gBo9RxZvjF_f",
        "outputId": "75eaaeed-9e06-4444-fe67-1992430ff6e0"
      },
      "outputs": [
        {
          "data": {
            "text/plain": [
              "[PosixPath('README.md'),\n",
              " PosixPath('anscombe.json'),\n",
              " PosixPath('mydir'),\n",
              " PosixPath('2.tmp'),\n",
              " PosixPath('california_housing_train.csv'),\n",
              " PosixPath('california_housing_test.csv'),\n",
              " PosixPath('mnist_train_small.csv'),\n",
              " PosixPath('mnist_test.csv')]"
            ]
          },
          "execution_count": 47,
          "metadata": {},
          "output_type": "execute_result"
        }
      ],
      "source": [
        "new_path = Path ('mydir')\n",
        "new_path.mkdir(parents=True)\n",
        "list(cur_path.iterdir())"
      ]
    },
    {
      "cell_type": "code",
      "execution_count": 48,
      "metadata": {
        "colab": {
          "base_uri": "https://localhost:8080/"
        },
        "id": "p7eLMx8BjF_f",
        "outputId": "c38e128e-1792-4370-f0bd-e326dcc75632"
      },
      "outputs": [
        {
          "data": {
            "text/plain": [
              "True"
            ]
          },
          "execution_count": 48,
          "metadata": {},
          "output_type": "execute_result"
        }
      ],
      "source": [
        "new_path.is_dir()"
      ]
    },
    {
      "cell_type": "code",
      "execution_count": 49,
      "metadata": {
        "colab": {
          "base_uri": "https://localhost:8080/"
        },
        "id": "G03O87s1jF_g",
        "outputId": "1a811c56-81ba-434f-8d87-a575a5c0c004"
      },
      "outputs": [
        {
          "data": {
            "text/plain": [
              "[PosixPath('README.md'),\n",
              " PosixPath('anscombe.json'),\n",
              " PosixPath('2.tmp'),\n",
              " PosixPath('california_housing_train.csv'),\n",
              " PosixPath('california_housing_test.csv'),\n",
              " PosixPath('mnist_train_small.csv'),\n",
              " PosixPath('mnist_test.csv')]"
            ]
          },
          "execution_count": 49,
          "metadata": {},
          "output_type": "execute_result"
        }
      ],
      "source": [
        "new_path = Path('mydir')\n",
        "new_path.rmdir()\n",
        "list(cur_path.iterdir())"
      ]
    },
    {
      "cell_type": "markdown",
      "metadata": {
        "id": "Yc9J7eNoUiGo"
      },
      "source": [
        "# 12.6 Lab 12: More file operations\n",
        "\n",
        "---\n",
        "\n"
      ]
    },
    {
      "cell_type": "markdown",
      "metadata": {
        "id": "Ho5KcJfJkNoc"
      },
      "source": [
        "How might you calculate the total size of all files ending with .test that aren't symlinks in a directory? If your first answer was using `os` and `os.path`, also try it with `pathlib`, and vice versa.\n",
        "\n",
        "Write some code that builds off your solution, and moves the .test files detected above to a new subdirectory in the same directory called 'backup'."
      ]
    },
    {
      "cell_type": "markdown",
      "metadata": {
        "id": "YsS_DIoRmySI"
      },
      "source": [
        "## 12.6.2 Solutions\n",
        "### Human (author) solutions"
      ]
    },
    {
      "cell_type": "code",
      "execution_count": 77,
      "metadata": {
        "id": "CHYE1B6kpOTm"
      },
      "outputs": [
        {
          "name": "stderr",
          "output_type": "stream",
          "text": [
            "'cp' is not recognized as an internal or external command,\n",
            "operable program or batch file.\n",
            "'cp' is not recognized as an internal or external command,\n",
            "operable program or batch file.\n",
            "'cp' is not recognized as an internal or external command,\n",
            "operable program or batch file.\n",
            "The syntax of the command is incorrect.\n",
            "'cp' is not recognized as an internal or external command,\n",
            "operable program or batch file.\n"
          ]
        }
      ],
      "source": [
        "! cp california_housing_test.csv california_housing_test.csv.test\n",
        "! cp california_housing_train.csv california_housing_train.csv.test\n",
        "! mkdir subdir\n",
        "! cp mnist_test.csv subdir/mnist_test.csv.test\n",
        "! mkdir subdir/subdir2\n",
        "! cp mnist_train_small.csv subdir/subdir2/mnist_train_small.csv.test"
      ]
    },
    {
      "cell_type": "code",
      "execution_count": 83,
      "metadata": {
        "colab": {
          "base_uri": "https://localhost:8080/"
        },
        "id": "nLNJ97p6kiD6",
        "outputId": "10378ae0-250c-4eb6-a27d-8eaa08d14843"
      },
      "outputs": [
        {
          "name": "stdout",
          "output_type": "stream",
          "text": [
            ".\n",
            "0\n"
          ]
        }
      ],
      "source": [
        "# Human (author) solution - pathlib library\n",
        "\n",
        "import pathlib\n",
        "cur_path = pathlib.Path(\".\")\n",
        "print(cur_path)\n",
        "\n",
        "size = 0\n",
        "for text_path in cur_path.rglob(\"*.test\"):\n",
        "    if not text_path.is_symlink():\n",
        "        size += text_path.stat().st_size\n",
        "\n",
        "print(size)"
      ]
    },
    {
      "cell_type": "markdown",
      "metadata": {
        "id": "-u7mAsKHk48c"
      },
      "source": [
        "#### Move files to backup directory"
      ]
    },
    {
      "cell_type": "code",
      "execution_count": 86,
      "metadata": {
        "colab": {
          "base_uri": "https://localhost:8080/"
        },
        "id": "jbsUCYfdkuTq",
        "outputId": "1f8c06ac-7f14-4757-9e37-d6724d2c087f"
      },
      "outputs": [
        {
          "name": "stdout",
          "output_type": "stream",
          "text": [
            "0\n"
          ]
        }
      ],
      "source": [
        "# Human (author) solution - pathlib library\n",
        "\n",
        "import pathlib\n",
        "cur_path = pathlib.Path(\".\")\n",
        "new_path = pathlib.Path(\"backup\")\n",
        "new_path.mkdir(exist_ok=True)   #A\n",
        "\n",
        "size = 0\n",
        "for text_path in cur_path.rglob(\"*.test\"):\n",
        "    if not text_path.is_symlink():\n",
        "        size += text_path.stat().st_size\n",
        "        text_path.rename(new_path / text_path.name)   #B\n",
        "\n",
        "print(size)"
      ]
    },
    {
      "cell_type": "markdown",
      "metadata": {
        "id": "OSBADD1vlYpV"
      },
      "source": [
        "#### Refactor to use `os` library"
      ]
    },
    {
      "cell_type": "code",
      "execution_count": null,
      "metadata": {
        "colab": {
          "base_uri": "https://localhost:8080/"
        },
        "id": "3W2E4KGVtlg2",
        "outputId": "58f3cef8-6253-430f-c456-5d7cf83847f0"
      },
      "outputs": [
        {
          "name": "stdout",
          "output_type": "stream",
          "text": [
            "cp: cannot stat 'sample_data/california_housing_test.csv': No such file or directory\n"
          ]
        }
      ],
      "source": [
        "! cp sample_data/california_housing_test.csv california_housing_test.csv.test\n",
        "! cp california_housing_train.csv california_housing_train.csv.test\n",
        "! cp mnist_test.csv subdir/mnist_test.csv.test\n",
        "! cp mnist_train_small.csv subdir/subdir2/mnist_train_small.csv.test\n",
        "! rm backup/*.test"
      ]
    },
    {
      "cell_type": "code",
      "execution_count": null,
      "metadata": {
        "colab": {
          "base_uri": "https://localhost:8080/"
        },
        "id": "OkJQgSoMlu1q",
        "outputId": "f12d5ade-8b26-4dab-a72b-a8f44ec14285"
      },
      "outputs": [
        {
          "name": "stdout",
          "output_type": "stream",
          "text": [
            "56519753\n"
          ]
        }
      ],
      "source": [
        "# Human (author) solution - os library\n",
        "\n",
        "import os\n",
        "cur_path = \".\"\n",
        "\n",
        "size = 0\n",
        "for root, dirs, files in os.walk(os.curdir):   #A\n",
        "    for file in files:      #B\n",
        "        test_path = os.path.join(root, file)\n",
        "\n",
        "        if (not os.path.islink(test_path) and\n",
        "            os.path.splitext(test_path)[-1] == '.test'):  #C\n",
        "            size += os.path.getsize(test_path)   #D\n",
        "print(f\"{size}\")\n"
      ]
    },
    {
      "cell_type": "code",
      "execution_count": null,
      "metadata": {
        "colab": {
          "base_uri": "https://localhost:8080/"
        },
        "id": "uEc_ocGil4e5",
        "outputId": "5a057420-fcfb-4442-800f-5ce62bc9613e"
      },
      "outputs": [
        {
          "name": "stdout",
          "output_type": "stream",
          "text": [
            "58828465\n"
          ]
        }
      ],
      "source": [
        "# Human (author) solution - os library\n",
        "\n",
        "import os\n",
        "\n",
        "cur_path = \".\"\n",
        "new_path = os.path.join(cur_path,\"backup\")\n",
        "\n",
        "# create backup directory\n",
        "os.makedirs(new_path, exist_ok=True)   #A\n",
        "size = 0\n",
        "for root, dirs, files in os.walk(cur_path,\"sample_data\"):\n",
        "    for file in files:\n",
        "        test_path = os.path.join(root, file)\n",
        "\n",
        "        if (not os.path.islink(test_path)\n",
        "          and os.path.splitext(test_path)[-1] == \".test\"):\n",
        "            size += os.path.getsize(test_path)\n",
        "            os.rename(test_path, os.path.join(new_path,\n",
        "                       os.path.basename(test_path)))   #B\n",
        "print(f\"{size}\")"
      ]
    },
    {
      "cell_type": "markdown",
      "metadata": {
        "id": "1GOzWudslJiI"
      },
      "source": [
        "### Copilot solutions"
      ]
    },
    {
      "cell_type": "code",
      "execution_count": null,
      "metadata": {
        "id": "MmZBaBIfuqug"
      },
      "outputs": [],
      "source": [
        "! cp california_housing_test.csv california_housing_test.csv.test\n",
        "! cp california_housing_train.csv california_housing_train.csv.test\n",
        "! cp mnist_test.csv subdir/mnist_test.csv.test\n",
        "! cp mnist_train_small.csv subdir/subdir2/mnist_train_small.csv.test\n",
        "! rm backup/*.test"
      ]
    },
    {
      "cell_type": "code",
      "execution_count": null,
      "metadata": {
        "colab": {
          "base_uri": "https://localhost:8080/"
        },
        "id": "mPxRheLel-xB",
        "outputId": "7c33843f-35d1-46d2-9a89-61b9d67c9910"
      },
      "outputs": [
        {
          "name": "stdout",
          "output_type": "stream",
          "text": [
            "Total size of all .test files that are not symlinks: 56820894 bytes\n"
          ]
        }
      ],
      "source": [
        "# Generated by Copilot - os library\n",
        "# txt_file_size.py\n",
        "\n",
        "import os\n",
        "\n",
        "size = 0\n",
        "for root, dirs, files in os.walk(os.curdir):\n",
        "    for file in files:\n",
        "        file_path = os.path.join(root, file)\n",
        "        if not os.path.islink(file_path) and os.path.splitext(file)[1] == '.test':\n",
        "            size += os.path.getsize(file_path)\n",
        "\n",
        "print(f\"Total size of all .test files that are not symlinks: {size} bytes\")"
      ]
    },
    {
      "cell_type": "markdown",
      "metadata": {
        "id": "8HH7Xlf0nByx"
      },
      "source": [
        "#### Move to backup directory"
      ]
    },
    {
      "cell_type": "code",
      "execution_count": null,
      "metadata": {
        "colab": {
          "base_uri": "https://localhost:8080/"
        },
        "id": "vLTEtn1VmHTJ",
        "outputId": "baee4169-dbe6-49d2-fa1d-f04adf5ad143"
      },
      "outputs": [
        {
          "name": "stdout",
          "output_type": "stream",
          "text": [
            "Total size of all .test files that are not symlinks: 56820894 bytes\n"
          ]
        }
      ],
      "source": [
        "# Generated by Copilot - os library\n",
        "# txt_file_size_and_move.py\n",
        "\n",
        "import os\n",
        "\n",
        "import shutil\n",
        "\n",
        "size = 0\n",
        "os.makedirs('backup', exist_ok=True)\n",
        "for root, dirs, files in os.walk(os.curdir):\n",
        "    for file in files:\n",
        "        file_path = os.path.join(root, file)\n",
        "        if (not os.path.islink(file_path)\n",
        "                and os.path.splitext(file)[1] == '.test'\n",
        "                and \"backup\" not in file_path):\n",
        "            size += os.path.getsize(file_path)\n",
        "            shutil.move(file_path, 'backup')\n",
        "\n",
        "print(f\"Total size of all .test files that are not symlinks: {size} bytes\")"
      ]
    },
    {
      "cell_type": "markdown",
      "metadata": {
        "id": "ZVlqyYRXnFDl"
      },
      "source": [
        "#### Refactor with pathlib libarary"
      ]
    },
    {
      "cell_type": "code",
      "execution_count": null,
      "metadata": {
        "id": "w3e9AuJYus9w"
      },
      "outputs": [],
      "source": [
        "! cp california_housing_test.csv california_housing_test.csv.test\n",
        "! cp california_housing_train.csv california_housing_train.csv.test\n",
        "! cp mnist_test.csv subdir/mnist_test.csv.test\n",
        "! cp mnist_train_small.csv subdir/subdir2/mnist_train_small.csv.test\n",
        "! rm backup/*.test"
      ]
    },
    {
      "cell_type": "code",
      "execution_count": null,
      "metadata": {
        "colab": {
          "base_uri": "https://localhost:8080/"
        },
        "id": "83omDD43mj_B",
        "outputId": "1577de8d-a190-4650-9dbe-f27e63da7475"
      },
      "outputs": [
        {
          "name": "stdout",
          "output_type": "stream",
          "text": [
            "Total size of all .test files that are not symlinks: 58828465 bytes\n"
          ]
        }
      ],
      "source": [
        "# Generated by Copilot - pathlib library\n",
        "# txt_file_size_and_move.py\n",
        "\n",
        "from pathlib import Path\n",
        "\n",
        "size = 0\n",
        "backup_dir = Path('backup')\n",
        "backup_dir.mkdir(exist_ok=True)\n",
        "\n",
        "for file in Path().rglob('*'):\n",
        "    if not file.is_symlink() and file.suffix == '.test':\n",
        "        size += file.stat().st_size\n",
        "        file.rename(backup_dir / file.name)\n",
        "\n",
        "print(f\"Total size of all .test files that are not symlinks: {size} bytes\")\n"
      ]
    },
    {
      "cell_type": "markdown",
      "metadata": {
        "id": "xWl02GJynJcX"
      },
      "source": [
        "### Colaboratory solutions"
      ]
    },
    {
      "cell_type": "code",
      "execution_count": null,
      "metadata": {
        "id": "BN9UsHX3uuWn"
      },
      "outputs": [],
      "source": [
        "! cp california_housing_test.csv california_housing_test.csv.test\n",
        "! cp california_housing_train.csv california_housing_train.csv.test\n",
        "! cp mnist_test.csv subdir/mnist_test.csv.test\n",
        "! cp mnist_train_small.csv subdir/subdir2/mnist_train_small.csv.test\n",
        "! rm backup/*.test"
      ]
    },
    {
      "cell_type": "code",
      "execution_count": null,
      "metadata": {
        "colab": {
          "base_uri": "https://localhost:8080/"
        },
        "id": "8f9i_sVsKcUW",
        "outputId": "6b904017-3770-4f02-ce7a-8c15090ab9c6"
      },
      "outputs": [
        {
          "name": "stdout",
          "output_type": "stream",
          "text": [
            "Total size of .test files: 56820894 bytes\n"
          ]
        }
      ],
      "source": [
        "# Generated by Colaboratory - os libary\n",
        "# prompt: Write a Python script to calculate the total size of all files with a\n",
        "#         .test extension that are not symlinks in the current directory and subdirectories.\n",
        "\n",
        "import os\n",
        "\n",
        "total_size = 0\n",
        "\n",
        "for root, _, files in os.walk('.'):\n",
        "    for file in files:\n",
        "        if file.endswith('.test') and not os.path.islink(os.path.join(root, file)):\n",
        "            total_size += os.path.getsize(os.path.join(root, file))\n",
        "\n",
        "print(f\"Total size of .test files: {total_size} bytes\")\n"
      ]
    },
    {
      "cell_type": "markdown",
      "metadata": {
        "id": "nvF1YaxanM0U"
      },
      "source": [
        "#### Move to backup directory"
      ]
    },
    {
      "cell_type": "code",
      "execution_count": null,
      "metadata": {
        "colab": {
          "base_uri": "https://localhost:8080/"
        },
        "id": "wFVPz8L_LQKL",
        "outputId": "77323a01-2a48-400b-cc71-95f34e68ef77"
      },
      "outputs": [
        {
          "name": "stdout",
          "output_type": "stream",
          "text": [
            "Total size of .test files: 58828465 bytes\n"
          ]
        }
      ],
      "source": [
        "# Generated by Colaboratory - os libary\n",
        "# prompt: Modify that script in the previous cell to also move the files with a\n",
        "#         .test extension to a subdirectory of the current directory called backup\n",
        "\n",
        "import os\n",
        "\n",
        "total_size = 0\n",
        "backup_dir = os.path.join(os.getcwd(), 'backup')\n",
        "\n",
        "# Create the backup directory if it doesn't exist\n",
        "if not os.path.exists(backup_dir):\n",
        "    os.makedirs(backup_dir)\n",
        "\n",
        "for root, _, files in os.walk('.'):\n",
        "    for file in files:\n",
        "        if file.endswith('.test') and not os.path.islink(os.path.join(root, file)):\n",
        "            total_size += os.path.getsize(os.path.join(root, file))\n",
        "            # Move the file to the backup directory\n",
        "            os.rename(os.path.join(root, file), os.path.join(backup_dir, file))\n",
        "\n",
        "print(f\"Total size of .test files: {total_size} bytes\")\n"
      ]
    },
    {
      "cell_type": "markdown",
      "metadata": {
        "id": "7HyPi5QXnUBz"
      },
      "source": [
        "#### Refactor with pathlib libarary"
      ]
    },
    {
      "cell_type": "code",
      "execution_count": null,
      "metadata": {
        "id": "K5OGxBkTuwBE"
      },
      "outputs": [],
      "source": [
        "! cp california_housing_test.csv california_housing_test.csv.test\n",
        "! cp california_housing_train.csv california_housing_train.csv.test\n",
        "! cp mnist_test.csv subdir/mnist_test.csv.test\n",
        "! cp mnist_train_small.csv subdir/subdir2/mnist_train_small.csv.test\n",
        "! rm backup/*.test"
      ]
    },
    {
      "cell_type": "code",
      "execution_count": null,
      "metadata": {
        "colab": {
          "base_uri": "https://localhost:8080/",
          "height": 211
        },
        "id": "3L9uWKwxMT1Z",
        "outputId": "e42a98e4-a4ba-48b0-d75a-2f71e3c0dd6e"
      },
      "outputs": [
        {
          "ename": "RuntimeError",
          "evalue": "Python version must be >= 3.12 to run Path.walk(), current version is 3.10.12 (main, Mar 22 2024, 16:50:05) [GCC 11.4.0]",
          "output_type": "error",
          "traceback": [
            "\u001b[0;31m---------------------------------------------------------------------------\u001b[0m",
            "\u001b[0;31mRuntimeError\u001b[0m                              Traceback (most recent call last)",
            "\u001b[0;32m<ipython-input-70-55d92d7d6b30>\u001b[0m in \u001b[0;36m<cell line: 5>\u001b[0;34m()\u001b[0m\n\u001b[1;32m      4\u001b[0m \u001b[0;34m\u001b[0m\u001b[0m\n\u001b[1;32m      5\u001b[0m \u001b[0;32mif\u001b[0m \u001b[0msys\u001b[0m\u001b[0;34m.\u001b[0m\u001b[0mversion_info\u001b[0m\u001b[0;34m.\u001b[0m\u001b[0mminor\u001b[0m \u001b[0;34m<\u001b[0m \u001b[0;36m12\u001b[0m\u001b[0;34m:\u001b[0m\u001b[0;34m\u001b[0m\u001b[0;34m\u001b[0m\u001b[0m\n\u001b[0;32m----> 6\u001b[0;31m   \u001b[0;32mraise\u001b[0m \u001b[0mRuntimeError\u001b[0m\u001b[0;34m(\u001b[0m\u001b[0;34mf\"Python version must be >= 3.12 to run Path.walk(), current version is {sys.version}\"\u001b[0m\u001b[0;34m)\u001b[0m\u001b[0;34m\u001b[0m\u001b[0;34m\u001b[0m\u001b[0m\n\u001b[0m\u001b[1;32m      7\u001b[0m \u001b[0;34m\u001b[0m\u001b[0m\n\u001b[1;32m      8\u001b[0m \u001b[0;31m# Generated by Colaboratory - pathlib libary\u001b[0m\u001b[0;34m\u001b[0m\u001b[0;34m\u001b[0m\u001b[0m\n",
            "\u001b[0;31mRuntimeError\u001b[0m: Python version must be >= 3.12 to run Path.walk(), current version is 3.10.12 (main, Mar 22 2024, 16:50:05) [GCC 11.4.0]"
          ]
        }
      ],
      "source": [
        "# this checks to see if the version of Python can run Path.walk()\n",
        "import sys\n",
        "from pathlib import Path\n",
        "\n",
        "if sys.version_info.minor < 12:\n",
        "  raise RuntimeError(f\"Python version must be >= 3.12 to run Path.walk(), current version is {sys.version}\")\n",
        "\n",
        "# Generated by Colaboratory - pathlib libary\n",
        "# prompt: Rewrite the script in the previous cell to use pathlib instead of os\n",
        "#         and os.path. Do not use os or os.path modules\n",
        "\n",
        "total_size = 0\n",
        "backup_dir = Path.cwd().joinpath('backup')\n",
        "\n",
        "# Create the backup directory if it doesn't exist\n",
        "if not backup_dir.exists():\n",
        "    backup_dir.mkdir(parents=True)\n",
        "\n",
        "for root, _, files in Path('.').walk():\n",
        "    for file in files:\n",
        "        if file.endswith('.test') and not file.is_symlink():\n",
        "            total_size += file.stat().st_size\n",
        "            # Move the file to the backup directory\n",
        "            file.rename(backup_dir.joinpath(file))\n",
        "\n",
        "print(f\"Total size of .test files: {total_size} bytes\")"
      ]
    },
    {
      "cell_type": "code",
      "execution_count": null,
      "metadata": {
        "id": "UiCoeHTbzEaJ"
      },
      "outputs": [],
      "source": []
    }
  ],
  "metadata": {
    "colab": {
      "include_colab_link": true,
      "provenance": []
    },
    "kernelspec": {
      "display_name": "Python 3",
      "name": "python3"
    },
    "language_info": {
      "codemirror_mode": {
        "name": "ipython",
        "version": 3
      },
      "file_extension": ".py",
      "mimetype": "text/x-python",
      "name": "python",
      "nbconvert_exporter": "python",
      "pygments_lexer": "ipython3",
      "version": "3.13.2"
    }
  },
  "nbformat": 4,
  "nbformat_minor": 0
}

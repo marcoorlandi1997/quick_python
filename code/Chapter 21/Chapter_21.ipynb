{
  "cells": [
    {
      "cell_type": "markdown",
      "metadata": {
        "colab_type": "text",
        "id": "view-in-github"
      },
      "source": [
        "<a href=\"https://colab.research.google.com/github/nceder/qpb4e/blob/main/code/Chapter%2021/Chapter_21.ipynb\" target=\"_parent\"><img src=\"https://colab.research.google.com/assets/colab-badge.svg\" alt=\"Open In Colab\"/></a>"
      ]
    },
    {
      "cell_type": "markdown",
      "metadata": {
        "id": "9nRSlzZq3Orp"
      },
      "source": [
        "# 21 Processing data files"
      ]
    },
    {
      "cell_type": "markdown",
      "metadata": {
        "id": "-cCz9Vai3vt8"
      },
      "source": [
        "### 21.2.1 Text encoding: ASCII, Unicode, and others"
      ]
    },
    {
      "cell_type": "code",
      "execution_count": 1,
      "metadata": {
        "colab": {
          "base_uri": "https://localhost:8080/"
        },
        "id": "1X_KDMImqK6O",
        "outputId": "4a6b1b43-80b2-4b66-8067-bf41234852c8"
      },
      "outputs": [
        {
          "data": {
            "text/plain": [
              "6"
            ]
          },
          "execution_count": 1,
          "metadata": {},
          "output_type": "execute_result"
        }
      ],
      "source": [
        "open('test.txt', 'wb').write(bytes([65, 66, 67, 255, 192,193]))"
      ]
    },
    {
      "cell_type": "code",
      "execution_count": 2,
      "metadata": {
        "colab": {
          "base_uri": "https://localhost:8080/",
          "height": 263
        },
        "id": "FoKQn2rOqK6U",
        "outputId": "d2916b1d-5a10-41d8-d757-28838281dea0"
      },
      "outputs": [
        {
          "ename": "UnicodeDecodeError",
          "evalue": "'utf-8' codec can't decode byte 0xff in position 3: invalid start byte",
          "output_type": "error",
          "traceback": [
            "\u001b[0;31m---------------------------------------------------------------------------\u001b[0m",
            "\u001b[0;31mUnicodeDecodeError\u001b[0m                        Traceback (most recent call last)",
            "\u001b[0;32m<ipython-input-2-2cb3105c1e5f>\u001b[0m in \u001b[0;36m<cell line: 1>\u001b[0;34m()\u001b[0m\n\u001b[0;32m----> 1\u001b[0;31m \u001b[0mx\u001b[0m \u001b[0;34m=\u001b[0m \u001b[0mopen\u001b[0m\u001b[0;34m(\u001b[0m\u001b[0;34m'test.txt'\u001b[0m\u001b[0;34m)\u001b[0m\u001b[0;34m.\u001b[0m\u001b[0mread\u001b[0m\u001b[0;34m(\u001b[0m\u001b[0;34m)\u001b[0m\u001b[0;34m\u001b[0m\u001b[0;34m\u001b[0m\u001b[0m\n\u001b[0m",
            "\u001b[0;32m/usr/lib/python3.10/codecs.py\u001b[0m in \u001b[0;36mdecode\u001b[0;34m(self, input, final)\u001b[0m\n\u001b[1;32m    320\u001b[0m         \u001b[0;31m# decode input (taking the buffer into account)\u001b[0m\u001b[0;34m\u001b[0m\u001b[0;34m\u001b[0m\u001b[0m\n\u001b[1;32m    321\u001b[0m         \u001b[0mdata\u001b[0m \u001b[0;34m=\u001b[0m \u001b[0mself\u001b[0m\u001b[0;34m.\u001b[0m\u001b[0mbuffer\u001b[0m \u001b[0;34m+\u001b[0m \u001b[0minput\u001b[0m\u001b[0;34m\u001b[0m\u001b[0;34m\u001b[0m\u001b[0m\n\u001b[0;32m--> 322\u001b[0;31m         \u001b[0;34m(\u001b[0m\u001b[0mresult\u001b[0m\u001b[0;34m,\u001b[0m \u001b[0mconsumed\u001b[0m\u001b[0;34m)\u001b[0m \u001b[0;34m=\u001b[0m \u001b[0mself\u001b[0m\u001b[0;34m.\u001b[0m\u001b[0m_buffer_decode\u001b[0m\u001b[0;34m(\u001b[0m\u001b[0mdata\u001b[0m\u001b[0;34m,\u001b[0m \u001b[0mself\u001b[0m\u001b[0;34m.\u001b[0m\u001b[0merrors\u001b[0m\u001b[0;34m,\u001b[0m \u001b[0mfinal\u001b[0m\u001b[0;34m)\u001b[0m\u001b[0;34m\u001b[0m\u001b[0;34m\u001b[0m\u001b[0m\n\u001b[0m\u001b[1;32m    323\u001b[0m         \u001b[0;31m# keep undecoded input until the next call\u001b[0m\u001b[0;34m\u001b[0m\u001b[0;34m\u001b[0m\u001b[0m\n\u001b[1;32m    324\u001b[0m         \u001b[0mself\u001b[0m\u001b[0;34m.\u001b[0m\u001b[0mbuffer\u001b[0m \u001b[0;34m=\u001b[0m \u001b[0mdata\u001b[0m\u001b[0;34m[\u001b[0m\u001b[0mconsumed\u001b[0m\u001b[0;34m:\u001b[0m\u001b[0;34m]\u001b[0m\u001b[0;34m\u001b[0m\u001b[0;34m\u001b[0m\u001b[0m\n",
            "\u001b[0;31mUnicodeDecodeError\u001b[0m: 'utf-8' codec can't decode byte 0xff in position 3: invalid start byte"
          ]
        }
      ],
      "source": [
        "x = open('test.txt').read()"
      ]
    },
    {
      "cell_type": "code",
      "execution_count": 3,
      "metadata": {
        "colab": {
          "base_uri": "https://localhost:8080/",
          "height": 35
        },
        "id": "xsIfwuypqK6U",
        "outputId": "fac843e7-7a32-4d21-9348-73916c4b52f7"
      },
      "outputs": [
        {
          "data": {
            "application/vnd.google.colaboratory.intrinsic+json": {
              "type": "string"
            },
            "text/plain": [
              "'ABC'"
            ]
          },
          "execution_count": 3,
          "metadata": {},
          "output_type": "execute_result"
        }
      ],
      "source": [
        "open('test.txt', errors='ignore').read()"
      ]
    },
    {
      "cell_type": "code",
      "execution_count": 4,
      "metadata": {
        "colab": {
          "base_uri": "https://localhost:8080/",
          "height": 35
        },
        "id": "DG0wRRhnqK6V",
        "outputId": "969422a0-2a65-4377-8346-94cddb379a98"
      },
      "outputs": [
        {
          "data": {
            "application/vnd.google.colaboratory.intrinsic+json": {
              "type": "string"
            },
            "text/plain": [
              "'ABC���'"
            ]
          },
          "execution_count": 4,
          "metadata": {},
          "output_type": "execute_result"
        }
      ],
      "source": [
        "open('test.txt', errors='replace').read()"
      ]
    },
    {
      "cell_type": "code",
      "execution_count": 5,
      "metadata": {
        "colab": {
          "base_uri": "https://localhost:8080/",
          "height": 35
        },
        "id": "11WfIcnGqK6W",
        "outputId": "58ffac87-c45e-49f9-f6e5-829573e86b4b"
      },
      "outputs": [
        {
          "data": {
            "application/vnd.google.colaboratory.intrinsic+json": {
              "type": "string"
            },
            "text/plain": [
              "'ABC\\udcff\\udcc0\\udcc1'"
            ]
          },
          "execution_count": 5,
          "metadata": {},
          "output_type": "execute_result"
        }
      ],
      "source": [
        "open('test.txt', errors='surrogateescape').read()"
      ]
    },
    {
      "cell_type": "code",
      "execution_count": 6,
      "metadata": {
        "colab": {
          "base_uri": "https://localhost:8080/",
          "height": 35
        },
        "id": "W-2MWiRkqK6X",
        "outputId": "1098c8da-220d-4896-e546-86a9d529966a"
      },
      "outputs": [
        {
          "data": {
            "application/vnd.google.colaboratory.intrinsic+json": {
              "type": "string"
            },
            "text/plain": [
              "'ABC\\\\xff\\\\xc0\\\\xc1'"
            ]
          },
          "execution_count": 6,
          "metadata": {},
          "output_type": "execute_result"
        }
      ],
      "source": [
        "open('test.txt', errors='backslashreplace').read()"
      ]
    },
    {
      "cell_type": "markdown",
      "metadata": {
        "id": "JE-RISW05BIa"
      },
      "source": [
        "### 21.2.2 Unstructured text"
      ]
    },
    {
      "cell_type": "code",
      "execution_count": 7,
      "metadata": {
        "colab": {
          "base_uri": "https://localhost:8080/"
        },
        "id": "MBxzaLj06dnw",
        "outputId": "abc0f04b-6efa-4e0f-b68a-65090ba137a7"
      },
      "outputs": [
        {
          "name": "stdout",
          "output_type": "stream",
          "text": [
            "Downloaded\n"
          ]
        }
      ],
      "source": [
        "!wget https://raw.githubusercontent.com/nceder/qpb4e/main/code/Chapter%2021/moby_01.txt &> null  && echo Downloaded\n"
      ]
    },
    {
      "cell_type": "code",
      "execution_count": 3,
      "metadata": {
        "colab": {
          "base_uri": "https://localhost:8080/"
        },
        "id": "58PlUJcDqK6Z",
        "outputId": "53e5c004-7cba-4752-dbce-879a2a4f29b4"
      },
      "outputs": [
        {
          "name": "stdout",
          "output_type": "stream",
          "text": [
            "There now is your insular city of the Manhattoes, belted round by wharves\n",
            "as Indian isles by coral reefs--commerce surrounds it with her surf.\n",
            "Right and left, the streets take you waterward.  Its extreme downtown\n",
            "is the battery, where that noble mole is washed by waves, and cooled\n",
            "by breezes, which a few hours previous were out of sight of land.\n",
            "Look at the crowds of water-gazers there.\n",
            "\n"
          ]
        }
      ],
      "source": [
        "moby_text = open(\"moby_01.txt\").read()     \n",
        "moby_paragraphs = moby_text.split(\"\\n\\n\")   \n",
        "print(moby_paragraphs[1])"
      ]
    },
    {
      "cell_type": "code",
      "execution_count": 4,
      "metadata": {
        "colab": {
          "base_uri": "https://localhost:8080/"
        },
        "id": "QDSPfWRJqK6a",
        "outputId": "ff7204b5-023a-48bf-b734-a59bd8d16cc4"
      },
      "outputs": [
        {
          "name": "stdout",
          "output_type": "stream",
          "text": [
            "there now is your insular city of the manhattoes belted round by wharves\n",
            "as indian isles by coral reefs--commerce surrounds it with her surf\n",
            "right and left the streets take you waterward  its extreme downtown\n",
            "is the battery where that noble mole is washed by waves and cooled\n",
            "by breezes which a few hours previous were out of sight of land\n",
            "look at the crowds of water-gazers there\n",
            "\n",
            "['there', 'now', 'is', 'your', 'insular', 'city', 'of', 'the', 'manhattoes', 'belted', 'round', 'by', 'wharves', 'as', 'indian', 'isles', 'by', 'coral', 'reefs--commerce', 'surrounds', 'it', 'with', 'her', 'surf', 'right', 'and', 'left', 'the', 'streets', 'take', 'you', 'waterward', 'its', 'extreme', 'downtown', 'is', 'the', 'battery', 'where', 'that', 'noble', 'mole', 'is', 'washed', 'by', 'waves', 'and', 'cooled', 'by', 'breezes', 'which', 'a', 'few', 'hours', 'previous', 'were', 'out', 'of', 'sight', 'of', 'land', 'look', 'at', 'the', 'crowds', 'of', 'water-gazers', 'there']\n"
          ]
        }
      ],
      "source": [
        "moby_text = open(\"moby_01.txt\").read()        #A\n",
        "moby_paragraphs = moby_text.split(\"\\n\\n\")\n",
        "moby = moby_paragraphs[1].lower()             #B\n",
        "moby = moby.replace(\".\", \"\")                  #C\n",
        "moby = moby.replace(\",\", \"\")                  #D\n",
        "print(moby)\n",
        "moby_words = moby.split()\n",
        "print(moby_words)"
      ]
    },
    {
      "cell_type": "markdown",
      "metadata": {
        "id": "g2I6vWZ2Zg8H"
      },
      "source": [
        "### Quick Check: Normalization\n",
        "Look closely at the list of words generated. Do you see any issues with the normalization so far? What other issues do you think you might encounter in a longer section of text? How do you think you might deal with those issues?\n",
        "\n",
        "#### Discussion\n",
        "Double hyphens for em dashes, hyphenation for line breaks and otherwise, and any other punctuation marks would all be potential problems.\n",
        "\n",
        "Enhancing the word cleaning module you created in chapter 18 would be a good way to cover most of the issues.\n"
      ]
    },
    {
      "cell_type": "markdown",
      "metadata": {
        "id": "RtwkWMDd7j_M"
      },
      "source": [
        "### 21.2.3 Delimited flat files"
      ]
    },
    {
      "cell_type": "markdown",
      "metadata": {
        "id": "PBprDO7Wk2de"
      },
      "source": [
        "#### File 21.1 temp_data_ pipes_00a.txt"
      ]
    },
    {
      "cell_type": "code",
      "execution_count": 37,
      "metadata": {
        "colab": {
          "base_uri": "https://localhost:8080/"
        },
        "id": "cwWsDlLykqlb",
        "outputId": "f6a60636-e3cb-4ca5-ad41-d1f433586486"
      },
      "outputs": [
        {
          "name": "stdout",
          "output_type": "stream",
          "text": [
            "Overwriting temp_data_pipes_00a.txt\n"
          ]
        }
      ],
      "source": [
        "%%writefile temp_data_pipes_00a.txt\n",
        "Notes\n",
        "State|Month Day, Year Code|Avg Daily Max Air Temperature (F)|Record Count for Daily Max Air Temp (F)\n",
        "Illinois|1979/01/01|17.48|994\n",
        "Illinois|1979/01/02|4.64|994\n",
        "Illinois|1979/01/03|11.05|994\n",
        "Illinois|1979/01/04|9.51|994\n",
        "Illinois|1979/05/15|68.42|994\n",
        "Illinois|1979/05/16|70.29|994\n",
        "Illinois|1979/05/17|75.34|994\n",
        "Illinois|1979/05/18|79.13|994\n",
        "Illinois|1979/05/19|74.94|994\n"
      ]
    },
    {
      "cell_type": "code",
      "execution_count": 11,
      "metadata": {
        "colab": {
          "base_uri": "https://localhost:8080/"
        },
        "id": "HP4ZL0skqK6b",
        "outputId": "f54bd669-8bf3-4ef5-f668-4e615cfd11dd"
      },
      "outputs": [
        {
          "name": "stdout",
          "output_type": "stream",
          "text": [
            "['Illinois', '1979/01/01', '17.48', '994']\n"
          ]
        }
      ],
      "source": [
        "line = \"Illinois|1979/01/01|17.48|994\"\n",
        "print(line.split(\"|\"))"
      ]
    },
    {
      "cell_type": "markdown",
      "metadata": {
        "id": "LoWoBHvRZvhh"
      },
      "source": [
        "### Try This: Read A file\n",
        "Write the code to read a text file (assume the file is `temp_data_pipes_00a.txt`, as shown in the example), split each line of the file into a list of values, and add that list to a single list of records.\n",
        "\n",
        "(Open ended, no solution provided)\n",
        "\n",
        "What issues or problems did you encounter in implementing this code? How might you go about converting the last three fields to the correct date, `real`, and `int` types?\n",
        "\n",
        "#### Discussion\n",
        "You could use a list comprehension to explicitly convert those fields.\n",
        "\n",
        "\n"
      ]
    },
    {
      "cell_type": "code",
      "execution_count": 63,
      "metadata": {},
      "outputs": [
        {
          "name": "stdout",
          "output_type": "stream",
          "text": [
            "[['Illinois', datetime.date(1979, 1, 2), '4.64', '994'], ['Illinois', datetime.date(1979, 1, 3), '11.05', '994'], ['Illinois', datetime.date(1979, 1, 4), '9.51', '994'], ['Illinois', datetime.date(1979, 5, 15), '68.42', '994'], ['Illinois', datetime.date(1979, 5, 16), '70.29', '994'], ['Illinois', datetime.date(1979, 5, 17), '75.34', '994'], ['Illinois', datetime.date(1979, 5, 18), '79.13', '994'], ['Illinois', datetime.date(1979, 5, 19), '74.94', '994']]\n"
          ]
        }
      ],
      "source": [
        "from datetime import datetime\n",
        "\n",
        "file = open('temp_data_pipes_00a.txt').read()\n",
        "\n",
        "lines = file.split('\\n')\n",
        "\n",
        "processed_lines = []  # Lista vuota per salvare le righe trasformate\n",
        "\n",
        "for index, line in enumerate(lines):\n",
        "    result = line.split('|')\n",
        "    # Salta le righe vuote\n",
        "    if not line.strip():\n",
        "        continue\n",
        "    if index > 2:\n",
        "        try:\n",
        "            result[1] = datetime.strptime(result[1], \"%Y/%m/%d\").date()\n",
        "            processed_lines.append(result)  # Aggiungi la riga alla lista\n",
        "        except ValueError:\n",
        "            print(f\"Errore nel parsing della data: '{result[1]}'\")\n",
        "\n",
        "# Ora processed_lines contiene tutte le righe processate\n",
        "print(processed_lines)"
      ]
    },
    {
      "cell_type": "markdown",
      "metadata": {
        "id": "bIPW3nMI70gT"
      },
      "source": [
        "### 21.2.4 The csv module"
      ]
    },
    {
      "cell_type": "code",
      "execution_count": 12,
      "metadata": {
        "colab": {
          "base_uri": "https://localhost:8080/"
        },
        "id": "x_Zxe87dqK6b",
        "outputId": "2939b8fd-1beb-4ca2-80c9-f56a2de94c42"
      },
      "outputs": [
        {
          "data": {
            "text/plain": [
              "[['Notes'],\n",
              " ['State',\n",
              "  'Month Day, Year Code',\n",
              "  'Avg Daily Max Air Temperature (F)',\n",
              "  'Record Count for Daily Max Air Temp (F)'],\n",
              " ['Illinois', '1979/01/01', '17.48', '994'],\n",
              " ['Illinois', '1979/01/02', '4.64', '994'],\n",
              " ['Illinois', '1979/01/03', '11.05', '994'],\n",
              " ['Illinois', '1979/01/04', '9.51', '994'],\n",
              " ['Illinois', '1979/05/15', '68.42', '994'],\n",
              " ['Illinois', '1979/05/16', '70.29', '994'],\n",
              " ['Illinois', '1979/05/17', '75.34', '994'],\n",
              " ['Illinois', '1979/05/18', '79.13', '994'],\n",
              " ['Illinois', '1979/05/19', '74.94', '994']]"
            ]
          },
          "execution_count": 12,
          "metadata": {},
          "output_type": "execute_result"
        }
      ],
      "source": [
        "results = []\n",
        "for line in open(\"temp_data_pipes_00a.txt\"):\n",
        "    fields = line.strip().split(\"|\")\n",
        "    results.append(fields)\n",
        "\n",
        "results"
      ]
    },
    {
      "cell_type": "code",
      "execution_count": 13,
      "metadata": {
        "colab": {
          "base_uri": "https://localhost:8080/"
        },
        "id": "Nq9ABJoiqK6c",
        "outputId": "8fad6e09-1a37-4265-b197-15f5e120fa2e"
      },
      "outputs": [
        {
          "data": {
            "text/plain": [
              "[['Notes'],\n",
              " ['State',\n",
              "  'Month Day, Year Code',\n",
              "  'Avg Daily Max Air Temperature (F)',\n",
              "  'Record Count for Daily Max Air Temp (F)'],\n",
              " ['Illinois', '1979/01/01', '17.48', '994'],\n",
              " ['Illinois', '1979/01/02', '4.64', '994'],\n",
              " ['Illinois', '1979/01/03', '11.05', '994'],\n",
              " ['Illinois', '1979/01/04', '9.51', '994'],\n",
              " ['Illinois', '1979/05/15', '68.42', '994'],\n",
              " ['Illinois', '1979/05/16', '70.29', '994'],\n",
              " ['Illinois', '1979/05/17', '75.34', '994'],\n",
              " ['Illinois', '1979/05/18', '79.13', '994'],\n",
              " ['Illinois', '1979/05/19', '74.94', '994']]"
            ]
          },
          "execution_count": 13,
          "metadata": {},
          "output_type": "execute_result"
        }
      ],
      "source": [
        "import csv\n",
        "results = [fields for fields in csv.reader(open(\"temp_data_pipes_00a.txt\", newline=''), delimiter=\"|\")]\n",
        "results"
      ]
    },
    {
      "cell_type": "markdown",
      "metadata": {
        "id": "cKP42Iejlbd3"
      },
      "source": [
        "#### File 21.2 temp_data_01.csv"
      ]
    },
    {
      "cell_type": "code",
      "execution_count": 65,
      "metadata": {
        "colab": {
          "base_uri": "https://localhost:8080/"
        },
        "id": "ZIoTZz2flgFq",
        "outputId": "7c3dfb2e-4e46-4663-a6d0-b7afc03b4caa"
      },
      "outputs": [
        {
          "name": "stdout",
          "output_type": "stream",
          "text": [
            "Writing temp_data_01.csv\n"
          ]
        }
      ],
      "source": [
        "%%writefile temp_data_01.csv\n",
        "\"Notes\",\"State\",\"State Code\",\"Month Day, Year\",\"Month Day, Year Code\",Avg Daily Max Air Temperature (F),Record Count for Daily Max Air Temp (F),Min Temp for Daily Max Air Temp (F),Max Temp for Daily Max Air Temp (F),Avg Daily Max Heat Index (F),Record Count for Daily Max Heat Index (F),Min for Daily Max Heat Index (F),Max for Daily Max Heat Index (F),Daily Max Heat Index (F) % Coverage\n",
        "\n",
        ",\"Illinois\",\"17\",\"Jan 01, 1979\",\"1979/01/01\",17.48,994,6.00,30.50,Missing,0,Missing,Missing,0.00%\n",
        ",\"Illinois\",\"17\",\"Jan 02, 1979\",\"1979/01/02\",4.64,994,-6.40,15.80,Missing,0,Missing,Missing,0.00%\n",
        ",\"Illinois\",\"17\",\"Jan 03, 1979\",\"1979/01/03\",11.05,994,-0.70,24.70,Missing,0,Missing,Missing,0.00%\n",
        ",\"Illinois\",\"17\",\"Jan 04, 1979\",\"1979/01/04\",9.51,994,0.20,27.60,Missing,0,Missing,Missing,0.00%\n",
        ",\"Illinois\",\"17\",\"May 15, 1979\",\"1979/05/15\",68.42,994,61.00,75.10,Missing,0,Missing,Missing,0.00%\n",
        ",\"Illinois\",\"17\",\"May 16, 1979\",\"1979/05/16\",70.29,994,63.40,73.50,Missing,0,Missing,Missing,0.00%\n",
        ",\"Illinois\",\"17\",\"May 17, 1979\",\"1979/05/17\",75.34,994,64.00,80.50,82.60,2,82.40,82.80,0.20%\n",
        ",\"Illinois\",\"17\",\"May 18, 1979\",\"1979/05/18\",79.13,994,75.50,82.10,81.42,349,80.20,83.40,35.11%\n",
        ",\"Illinois\",\"17\",\"May 19, 1979\",\"1979/05/19\",74.94,994,66.90,83.10,82.87,78,81.60,85.20,7.85%\n"
      ]
    },
    {
      "cell_type": "code",
      "execution_count": 15,
      "metadata": {
        "colab": {
          "base_uri": "https://localhost:8080/"
        },
        "id": "R3MlmrpwqK6c",
        "outputId": "fda731f6-49fd-4d35-88af-9985d615176f"
      },
      "outputs": [
        {
          "name": "stdout",
          "output_type": "stream",
          "text": [
            "[['Notes', 'State', 'State Code', 'Month Day, Year', 'Month Day, Year Code', 'Avg Daily Max Air Temperature (F)', 'Record Count for Daily Max Air Temp (F)', 'Min Temp for Daily Max Air Temp (F)', 'Max Temp for Daily Max Air Temp (F)', 'Avg Daily Max Heat Index (F)', 'Record Count for Daily Max Heat Index (F)', 'Min for Daily Max Heat Index (F)', 'Max for Daily Max Heat Index (F)', 'Daily Max Heat Index (F) % Coverage'], [], ['', 'Illinois', '17', 'Jan 01, 1979', '1979/01/01', '17.48', '994', '6.00', '30.50', 'Missing', '0', 'Missing', 'Missing', '0.00%'], ['', 'Illinois', '17', 'Jan 02, 1979', '1979/01/02', '4.64', '994', '-6.40', '15.80', 'Missing', '0', 'Missing', 'Missing', '0.00%'], ['', 'Illinois', '17', 'Jan 03, 1979', '1979/01/03', '11.05', '994', '-0.70', '24.70', 'Missing', '0', 'Missing', 'Missing', '0.00%'], ['', 'Illinois', '17', 'Jan 04, 1979', '1979/01/04', '9.51', '994', '0.20', '27.60', 'Missing', '0', 'Missing', 'Missing', '0.00%'], ['', 'Illinois', '17', 'May 15, 1979', '1979/05/15', '68.42', '994', '61.00', '75.10', 'Missing', '0', 'Missing', 'Missing', '0.00%'], ['', 'Illinois', '17', 'May 16, 1979', '1979/05/16', '70.29', '994', '63.40', '73.50', 'Missing', '0', 'Missing', 'Missing', '0.00%'], ['', 'Illinois', '17', 'May 17, 1979', '1979/05/17', '75.34', '994', '64.00', '80.50', '82.60', '2', '82.40', '82.80', '0.20%'], ['', 'Illinois', '17', 'May 18, 1979', '1979/05/18', '79.13', '994', '75.50', '82.10', '81.42', '349', '80.20', '83.40', '35.11%'], ['', 'Illinois', '17', 'May 19, 1979', '1979/05/19', '74.94', '994', '66.90', '83.10', '82.87', '78', '81.60', '85.20', '7.85%']]\n"
          ]
        }
      ],
      "source": [
        "results2 = [fields for fields in csv.reader(open(\"temp_data_01.csv\", newline=''))]\n",
        "print(results2)"
      ]
    },
    {
      "cell_type": "markdown",
      "metadata": {
        "id": "1Kf8E1_MaXgI"
      },
      "source": [
        "### Quick Check: Handling Quoting\n",
        "Consider how you'd approach the problems of handling quoted fields and embedded delimiter characters if you didn't have the csv library. Which is easier to handle: the quoting or the embedded delimiters?\n",
        "\n",
        "#### Discussion\n",
        "\n",
        "Without using the csv module, you'd have to check whether a field began and ended with the quote characters and then `strip()` them off.\n",
        "\n",
        "To handle embedded delimiters without using the csv library, you'd have to isolate the quoted fields and treat them differently; then you'd split the rest of the fields by using the delimiter."
      ]
    },
    {
      "cell_type": "markdown",
      "metadata": {
        "id": "_7ivKvFF8hMd"
      },
      "source": [
        "### 21.2.5 Reading a csv file as a list of dictionaries"
      ]
    },
    {
      "cell_type": "code",
      "execution_count": 67,
      "metadata": {
        "colab": {
          "base_uri": "https://localhost:8080/"
        },
        "id": "QsPNKnsBqK6c",
        "outputId": "1507467b-e0b0-479e-8060-fd8c0ebd1cae"
      },
      "outputs": [
        {
          "data": {
            "text/plain": [
              "{'Notes': '',\n",
              " 'State': 'Illinois',\n",
              " 'State Code': '17',\n",
              " 'Month Day, Year': 'Jan 01, 1979',\n",
              " 'Month Day, Year Code': '1979/01/01',\n",
              " 'Avg Daily Max Air Temperature (F)': '17.48',\n",
              " 'Record Count for Daily Max Air Temp (F)': '994',\n",
              " 'Min Temp for Daily Max Air Temp (F)': '6.00',\n",
              " 'Max Temp for Daily Max Air Temp (F)': '30.50',\n",
              " 'Avg Daily Max Heat Index (F)': 'Missing',\n",
              " 'Record Count for Daily Max Heat Index (F)': '0',\n",
              " 'Min for Daily Max Heat Index (F)': 'Missing',\n",
              " 'Max for Daily Max Heat Index (F)': 'Missing',\n",
              " 'Daily Max Heat Index (F) % Coverage': '0.00%'}"
            ]
          },
          "execution_count": 67,
          "metadata": {},
          "output_type": "execute_result"
        }
      ],
      "source": [
        "import csv\n",
        "\n",
        "results = [fields for fields in csv.DictReader(open(\"temp_data_01.csv\", newline=''))]\n",
        "results[0]"
      ]
    },
    {
      "cell_type": "code",
      "execution_count": 17,
      "metadata": {
        "colab": {
          "base_uri": "https://localhost:8080/",
          "height": 35
        },
        "id": "uuujDBGfqK6d",
        "outputId": "bffc4007-9836-4828-aa5c-0d97796dbbfd"
      },
      "outputs": [
        {
          "data": {
            "application/vnd.google.colaboratory.intrinsic+json": {
              "type": "string"
            },
            "text/plain": [
              "'Illinois'"
            ]
          },
          "execution_count": 17,
          "metadata": {},
          "output_type": "execute_result"
        }
      ],
      "source": [
        "results[0]['State']"
      ]
    },
    {
      "cell_type": "markdown",
      "metadata": {
        "id": "8FJrAH3t9J8c"
      },
      "source": [
        "# 21.3 Excel files"
      ]
    },
    {
      "cell_type": "code",
      "execution_count": 18,
      "metadata": {
        "colab": {
          "base_uri": "https://localhost:8080/"
        },
        "id": "LsOIZVaD-5Th",
        "outputId": "b45acdb9-9cd4-4595-9213-75e23b76e74b"
      },
      "outputs": [
        {
          "name": "stdout",
          "output_type": "stream",
          "text": [
            "Downloaded\n"
          ]
        }
      ],
      "source": [
        "!wget https://raw.githubusercontent.com/nceder/qpb4e/main/code/Chapter%2021/temp_data_01.xlsx &> null  && echo Downloaded\n"
      ]
    },
    {
      "cell_type": "markdown",
      "metadata": {
        "id": "XMYtmdkZAxcN"
      },
      "source": []
    },
    {
      "cell_type": "code",
      "execution_count": 70,
      "metadata": {
        "colab": {
          "base_uri": "https://localhost:8080/"
        },
        "id": "eOzbYKq1qK6g",
        "outputId": "cd827a8b-38b2-45dc-91a2-3aef9d80704b"
      },
      "outputs": [
        {
          "name": "stdout",
          "output_type": "stream",
          "text": [
            "[['Notes', 'State', 'State Code', 'Month Day, Year', 'Month Day, Year Code', 'Avg Daily Max Air Temperature (F)', 'Record Count for Daily Max Air Temp (F)', 'Min Temp for Daily Max Air Temp (F)', 'Max Temp for Daily Max Air Temp (F)', 'Avg Daily Max Heat Index (F)', 'Record Count for Daily Max Heat Index (F)', 'Min for Daily Max Heat Index (F)', 'Max for Daily Max Heat Index (F)', 'Daily Max Heat Index (F) % Coverage'], [None, 'Illinois', 17, 'Jan 01, 1979', '1979/01/01', 17.48, 994, 6, 30.5, 'Missing', 0, 'Missing', 'Missing', '0.00%'], [None, 'Illinois', 17, 'Jan 02, 1979', '1979/01/02', 4.64, 994, -6.4, 15.8, 'Missing', 0, 'Missing', 'Missing', '0.00%'], [None, 'Illinois', 17, 'Jan 03, 1979', '1979/01/03', 11.05, 994, -0.7, 24.7, 'Missing', 0, 'Missing', 'Missing', '0.00%'], [None, 'Illinois', 17, 'Jan 04, 1979', '1979/01/04', 9.51, 994, 0.2, 27.6, 'Missing', 0, 'Missing', 'Missing', '0.00%'], [None, 'Illinois', 17, 'May 15, 1979', '1979/05/15', 68.42, 994, 61, 75.1, 'Missing', 0, 'Missing', 'Missing', '0.00%'], [None, 'Illinois', 17, 'May 16, 1979', '1979/05/16', 70.29, 994, 63.4, 73.5, 'Missing', 0, 'Missing', 'Missing', '0.00%'], [None, 'Illinois', 17, 'May 17, 1979', '1979/05/17', 75.34, 994, 64, 80.5, 82.6, 2, 82.4, 82.8, '0.20%'], [None, 'Illinois', 17, 'May 18, 1979', '1979/05/18', 79.13, 994, 75.5, 82.1, 81.42, 349, 80.2, 83.4, '35.11%'], [None, 'Illinois', 17, 'May 19, 1979', '1979/05/19', 74.94, 994, 66.9, 83.1, 82.87, 78, 81.6, 85.2, '7.85%']]\n"
          ]
        }
      ],
      "source": [
        "from openpyxl import load_workbook\n",
        "wb = load_workbook('temp_data_01.xlsx')\n",
        "results = []\n",
        "ws = wb.worksheets[0]\n",
        "for row in ws.iter_rows():\n",
        "    results.append([cell.value for cell in row])\n",
        "\n",
        "print(results)"
      ]
    },
    {
      "cell_type": "markdown",
      "metadata": {
        "id": "dLFSzbf-asnP"
      },
      "source": [
        "### Try This: Cleaning Data\n",
        "How would you handle the fields with 'Missing' as a possible value for math calculations? Can you write a snippet of code that averages one of those columns?\n",
        "\n",
        "```\n",
        "clean_field = [float(x[13]) for x in data_rows if x[13] != 'Missing']\n",
        "average = sum(clean_field)/len(clean_field)\n",
        "```\n",
        "What would you do with the average column at the end so that you could also report the average coverage? In your opinion, would the solution to this problem be at all linked to the way that the 'Missing' entries were handled?\n",
        "\n",
        "`coverage_values = [float(x[-1].strip(\"%\"))/100]`\n",
        "\n",
        "It may not be done at the same time as the 'Missing' values are handled."
      ]
    },
    {
      "cell_type": "markdown",
      "metadata": {
        "id": "-pJyAYk5Afgq"
      },
      "source": [
        "## 21.4.2 Sorting"
      ]
    },
    {
      "cell_type": "code",
      "execution_count": 71,
      "metadata": {
        "colab": {
          "base_uri": "https://localhost:8080/"
        },
        "id": "Jay4MGu5Ai4A",
        "outputId": "5a85dee5-7345-4b8f-e3e8-e58c8b66ceb5"
      },
      "outputs": [
        {
          "name": "stdout",
          "output_type": "stream",
          "text": [
            "Writing datafile\n"
          ]
        }
      ],
      "source": [
        "%%writefile datafile\n",
        "ZZZZZZ\n",
        "CCCCCC\n",
        "QQQQQQ\n",
        "AAAAAA"
      ]
    },
    {
      "cell_type": "code",
      "execution_count": 75,
      "metadata": {
        "colab": {
          "base_uri": "https://localhost:8080/"
        },
        "id": "3ghp1MuuqK6h",
        "outputId": "b6f03eda-7382-40d7-ea09-7102fb5527ab"
      },
      "outputs": [
        {
          "name": "stdout",
          "output_type": "stream",
          "text": [
            "['AAAAAA\\n', 'CCCCCC\\n', 'QQQQQQ\\n', 'ZZZZZZ\\n']\n"
          ]
        }
      ],
      "source": [
        "lines = open(\"datafile\").readlines()\n",
        "lines.sort()\n",
        "print(lines)"
      ]
    },
    {
      "cell_type": "code",
      "execution_count": 78,
      "metadata": {
        "colab": {
          "base_uri": "https://localhost:8080/"
        },
        "id": "sAL1WPHMqK6h",
        "outputId": "b7af467a-cd40-45c3-c8c2-ec8f4f97631d"
      },
      "outputs": [
        {
          "name": "stdout",
          "output_type": "stream",
          "text": [
            "AAAAAA\n",
            "CCCCCC\n",
            "QQQQQQ\n",
            "ZZZZZZ\n"
          ]
        }
      ],
      "source": [
        "# sort datafile > datafile.srt crea il file ordinato.\n",
        "# cat datafile.srt mostra il contenuto ordinato.\n",
        "# Se usi Windows, usa type datafile.srt per visualizzare il file in console.\n",
        "\n",
        "!sort datafile > datafile.srt\n",
        "!type datafile.srt"
      ]
    },
    {
      "cell_type": "markdown",
      "metadata": {
        "id": "1dLHdywTB2ip"
      },
      "source": [
        "# 21.5 Writing data files"
      ]
    },
    {
      "cell_type": "markdown",
      "metadata": {
        "id": "vGI9NEFKB7__"
      },
      "source": [
        "## 21.5.1 CSV and other delimited files"
      ]
    },
    {
      "cell_type": "code",
      "execution_count": 25,
      "metadata": {
        "id": "w-r4FN5yqK6k"
      },
      "outputs": [],
      "source": [
        "temperature_data = [['State', 'Month Day, Year Code', 'Avg Daily Max Air Temperature (F)', 'Record Count for Daily Max Air Temp (F)'], ['Illinois', '1979/01/01', '17.48', '994'], ['Illinois', '1979/01/02', '4.64', '994'], ['Illinois', '1979/01/03', '11.05', '994'], ['Illinois', '1979/01/04', '9.51', '994'], ['Illinois', '1979/05/15', '68.42', '994'], ['Illinois', '1979/05/16', '70.29', '994'], ['Illinois', '1979/05/17', '75.34', '994'], ['Illinois', '1979/05/18', '79.13', '994'], ['Illinois', '1979/05/19', '74.94', '994']]\n",
        "csv.writer(open(\"temp_data_03.csv\", \"w\", newline='')).writerows(temperature_data)"
      ]
    },
    {
      "cell_type": "code",
      "execution_count": 81,
      "metadata": {
        "id": "y4MYSpcDqK6l"
      },
      "outputs": [],
      "source": [
        "data = [{'State': 'Illinois',\n",
        " 'Month Day, Year Code': '1979/01/01',\n",
        " 'Avg Daily Max Air Temperature (F)': '17.48',\n",
        " 'Record Count for Daily Max Air Temp (F)': '994'}]\n",
        "fields = ['State', 'Month Day, Year Code', 'Avg Daily Max Air Temperature (F)', 'Record Count for Daily Max Air Temp (F)']\n",
        "\n",
        "dict_writer = csv.DictWriter(open(\"temp_data_04.csv\", \"w\"), fieldnames=fields)\n",
        "dict_writer.writeheader()\n",
        "dict_writer.writerows(data)\n",
        "del dict_writer"
      ]
    },
    {
      "cell_type": "markdown",
      "metadata": {
        "id": "4uSBRap3FR_4"
      },
      "source": [
        "## 21.5.2 Writing Excel files."
      ]
    },
    {
      "cell_type": "code",
      "execution_count": null,
      "metadata": {
        "id": "14lo2B4gqK6l"
      },
      "outputs": [
        {
          "name": "stdout",
          "output_type": "stream",
          "text": [
            "[['Notes', 'State', 'State Code', 'Month Day, Year', 'Month Day, Year Code', 'Avg Daily Max Air Temperature (F)', 'Record Count for Daily Max Air Temp (F)', 'Min Temp for Daily Max Air Temp (F)', 'Max Temp for Daily Max Air Temp (F)', 'Avg Daily Max Heat Index (F)', 'Record Count for Daily Max Heat Index (F)', 'Min for Daily Max Heat Index (F)', 'Max for Daily Max Heat Index (F)', 'Daily Max Heat Index (F) % Coverage'], [], ['', 'Illinois', '17', 'Jan 01, 1979', '1979/01/01', '17.48', '994', '6.00', '30.50', 'Missing', '0', 'Missing', 'Missing', '0.00%'], ['', 'Illinois', '17', 'Jan 02, 1979', '1979/01/02', '4.64', '994', '-6.40', '15.80', 'Missing', '0', 'Missing', 'Missing', '0.00%'], ['', 'Illinois', '17', 'Jan 03, 1979', '1979/01/03', '11.05', '994', '-0.70', '24.70', 'Missing', '0', 'Missing', 'Missing', '0.00%'], ['', 'Illinois', '17', 'Jan 04, 1979', '1979/01/04', '9.51', '994', '0.20', '27.60', 'Missing', '0', 'Missing', 'Missing', '0.00%'], ['', 'Illinois', '17', 'May 15, 1979', '1979/05/15', '68.42', '994', '61.00', '75.10', 'Missing', '0', 'Missing', 'Missing', '0.00%'], ['', 'Illinois', '17', 'May 16, 1979', '1979/05/16', '70.29', '994', '63.40', '73.50', 'Missing', '0', 'Missing', 'Missing', '0.00%'], ['', 'Illinois', '17', 'May 17, 1979', '1979/05/17', '75.34', '994', '64.00', '80.50', '82.60', '2', '82.40', '82.80', '0.20%'], ['', 'Illinois', '17', 'May 18, 1979', '1979/05/18', '79.13', '994', '75.50', '82.10', '81.42', '349', '80.20', '83.40', '35.11%'], ['', 'Illinois', '17', 'May 19, 1979', '1979/05/19', '74.94', '994', '66.90', '83.10', '82.87', '78', '81.60', '85.20', '7.85%']]\n"
          ]
        }
      ],
      "source": [
        "from openpyxl import Workbook\n",
        "data_rows = [fields for fields in csv.reader(open(\"temp_data_01.csv\"))]\n",
        "wb = Workbook()\n",
        "ws = wb.active\n",
        "ws.title = \"temperature data\"\n",
        "for row in data_rows:\n",
        "    ws.append(row)\n",
        "\n",
        "wb.save(\"temp_data_02.xlsx\")"
      ]
    },
    {
      "cell_type": "markdown",
      "metadata": {
        "id": "OKH9KncpFW9o"
      },
      "source": [
        "# 21.6 Lab 21 Weather observations\n",
        "\n",
        "The file of weather observations provided here (`Illinois_weather_1979-2011.txt`) is by month and then by county for the state of Illinois from 1979 to 2011. Write the code to process this file to extract the data for Chicago (Cook County) into a single CSV or spreadsheet file.\n",
        "\n",
        "This process includes replacing the `'Missing'` strings with empty strings and translating the percentage to a decimal. You may also consider what fields are repetitive (and therefore can be omitted or stored elsewhere). The proof that you've got it right occurs when you load the file into a spreadsheet.\n",
        "\n",
        "**Note:** there is some documentation at the end of the file, so you will need to stop processing the file when the first field of the line is \"---\".\n"
      ]
    },
    {
      "cell_type": "code",
      "execution_count": 28,
      "metadata": {
        "colab": {
          "base_uri": "https://localhost:8080/"
        },
        "id": "Syy-Rge_GEFn",
        "outputId": "cd43a8d6-dc69-483c-dba3-26f423e1dc27"
      },
      "outputs": [
        {
          "name": "stdout",
          "output_type": "stream",
          "text": [
            "Downloaded\n"
          ]
        }
      ],
      "source": [
        "!wget https://raw.githubusercontent.com/nceder/qpb4e/main/code/Chapter%2021/Illinois_weather_1979-2011.txt &> null  && echo Downloaded"
      ]
    },
    {
      "cell_type": "markdown",
      "metadata": {
        "id": "n6bW_gx9AkSe"
      },
      "source": [
        "### Raw text of the first 11 lines of the data file:"
      ]
    },
    {
      "cell_type": "code",
      "execution_count": 29,
      "metadata": {
        "colab": {
          "base_uri": "https://localhost:8080/"
        },
        "id": "u1muOL1RGQ4a",
        "outputId": "2e63cbb4-e7eb-43e8-ffba-ce3444a7cdef"
      },
      "outputs": [
        {
          "data": {
            "text/plain": [
              "['\"Notes\"\\t\"Month\"\\t\"Month Code\"\\t\"County\"\\t\"County Code\"\\tAvg Daily Max Air Temperature (F)\\tRecord Count for Daily Max Air Temp (F)\\tMin Temp for Daily Max Air Temp (F)\\tMax Temp for Daily Max Air Temp (F)\\tAvg Daily Min Air Temperature (F)\\tRecord Count for Daily Min Air Temp (F)\\tMin Temp for Daily Min Air Temp (F)\\tMax Temp for Daily Min Air Temp (F)\\tAvg Daily Max Heat Index (F)\\tRecord Count for Daily Max Heat Index (F)\\tMin for Daily Max Heat Index (F)\\tMax for Daily Max Heat Index (F)\\tDaily Max Heat Index (F) % Coverage\\n',\n",
              " '\\t\"Jan\"\\t\"1\"\\t\"Adams County, IL\"\\t\"17001\"\\t31.89\\t19437\\t-10.00\\t68.90\\t18.01\\t19437\\t-26.20\\t50.30\\tMissing\\t0\\tMissing\\tMissing\\t0.00%\\n',\n",
              " '\\t\"Jan\"\\t\"1\"\\t\"Alexander County, IL\"\\t\"17003\"\\t41.07\\t6138\\t2.60\\t73.20\\t26.48\\t6138\\t-14.00\\t60.30\\tMissing\\t0\\tMissing\\tMissing\\t0.00%\\n',\n",
              " '\\t\"Jan\"\\t\"1\"\\t\"Bond County, IL\"\\t\"17005\"\\t35.71\\t6138\\t-2.70\\t69.50\\t22.18\\t6138\\t-17.90\\t57.20\\tMissing\\t0\\tMissing\\tMissing\\t0.00%\\n',\n",
              " '\\t\"Jan\"\\t\"1\"\\t\"Boone County, IL\"\\t\"17007\"\\t25.10\\t6138\\t-13.90\\t55.20\\t11.70\\t6138\\t-29.10\\t40.00\\tMissing\\t0\\tMissing\\tMissing\\t0.00%\\n',\n",
              " '\\t\"Jan\"\\t\"1\"\\t\"Brown County, IL\"\\t\"17009\"\\t32.22\\t5115\\t-10.10\\t69.00\\t18.49\\t5115\\t-25.70\\t51.40\\tMissing\\t0\\tMissing\\tMissing\\t0.00%\\n',\n",
              " '\\t\"Jan\"\\t\"1\"\\t\"Bureau County, IL\"\\t\"17011\"\\t27.61\\t18414\\t-11.40\\t63.40\\t14.73\\t18414\\t-35.00\\t43.90\\tMissing\\t0\\tMissing\\tMissing\\t0.00%\\n',\n",
              " '\\t\"Jan\"\\t\"1\"\\t\"Calhoun County, IL\"\\t\"17013\"\\t35.10\\t4092\\t-6.10\\t70.50\\t20.97\\t4092\\t-21.90\\t55.40\\tMissing\\t0\\tMissing\\tMissing\\t0.00%\\n',\n",
              " '\\t\"Jan\"\\t\"1\"\\t\"Carroll County, IL\"\\t\"17015\"\\t25.07\\t10230\\t-11.90\\t56.80\\t11.45\\t10230\\t-38.30\\t37.50\\tMissing\\t0\\tMissing\\tMissing\\t0.00%\\n',\n",
              " '\\t\"Jan\"\\t\"1\"\\t\"Cass County, IL\"\\t\"17017\"\\t32.35\\t7161\\t-10.30\\t68.90\\t18.94\\t7161\\t-25.10\\t51.50\\tMissing\\t0\\tMissing\\tMissing\\t0.00%\\n',\n",
              " '\\t\"Jan\"\\t\"1\"\\t\"Champaign County, IL\"\\t\"17019\"\\t31.13\\t17391\\t-13.30\\t67.70\\t17.97\\t17391\\t-29.20\\t52.30\\tMissing\\t0\\tMissing\\tMissing\\t0.00%\\n']"
            ]
          },
          "execution_count": 29,
          "metadata": {},
          "output_type": "execute_result"
        }
      ],
      "source": [
        "data = open(\"Illinois_weather_1979-2011.txt\").readlines()\n",
        "data[:11]"
      ]
    },
    {
      "cell_type": "markdown",
      "metadata": {
        "id": "OWg4ap-uAqw2"
      },
      "source": [
        "### Raw text of the last 25 lines of the data file, showing the documentation section after \"---\"."
      ]
    },
    {
      "cell_type": "code",
      "execution_count": 30,
      "metadata": {
        "colab": {
          "base_uri": "https://localhost:8080/"
        },
        "id": "Kb0RAFus8meI",
        "outputId": "915297ab-bb42-4b3c-f1d2-fe150f26f6d0"
      },
      "outputs": [
        {
          "data": {
            "text/plain": [
              "['\\t\"Dec\"\\t\"12\"\\t\"White County, IL\"\\t\"17193\"\\t42.84\\t9207\\t-4.60\\t76.30\\t28.48\\t9207\\t-18.60\\t65.30\\tMissing\\t0\\tMissing\\tMissing\\t0.00%\\n',\n",
              " '\\t\"Dec\"\\t\"12\"\\t\"Whiteside County, IL\"\\t\"17195\"\\t31.74\\t10230\\t-10.60\\t69.20\\t19.00\\t10230\\t-20.10\\t54.00\\tMissing\\t0\\tMissing\\tMissing\\t0.00%\\n',\n",
              " '\\t\"Dec\"\\t\"12\"\\t\"Will County, IL\"\\t\"17197\"\\t33.20\\t18414\\t-10.70\\t69.00\\t21.46\\t18414\\t-19.80\\t58.00\\tMissing\\t0\\tMissing\\tMissing\\t0.00%\\n',\n",
              " '\\t\"Dec\"\\t\"12\"\\t\"Williamson County, IL\"\\t\"17199\"\\t43.30\\t6138\\t-4.20\\t75.20\\t29.55\\t6138\\t-17.80\\t66.20\\tMissing\\t0\\tMissing\\tMissing\\t0.00%\\n',\n",
              " '\\t\"Dec\"\\t\"12\"\\t\"Winnebago County, IL\"\\t\"17201\"\\t30.24\\t7161\\t-10.60\\t67.40\\t18.02\\t7161\\t-21.50\\t56.40\\tMissing\\t0\\tMissing\\tMissing\\t0.00%\\n',\n",
              " '\\t\"Dec\"\\t\"12\"\\t\"Woodford County, IL\"\\t\"17203\"\\t34.41\\t8184\\t-11.30\\t70.00\\t21.79\\t8184\\t-22.50\\t56.30\\tMissing\\t0\\tMissing\\tMissing\\t0.00%\\n',\n",
              " '\"---\"\\n',\n",
              " '\"Dataset: North America Land Data Assimilation System (NLDAS) Daily Air Temperatures and Heat Index (1979-2011)\"\\n',\n",
              " '\"Query Parameters:\"\\n',\n",
              " '\"States: Illinois (17)\"\\n',\n",
              " '\"Group By: Month; County\"\\n',\n",
              " '\"Show Totals: False\"\\n',\n",
              " '\"Show Zero Values: False\"\\n',\n",
              " '\"---\"\\n',\n",
              " '\"Help: See http://wonder.cdc.gov/wonder/help/nldas.html for more information.\"\\n',\n",
              " '\"---\"\\n',\n",
              " '\"Query Date: Dec 5, 2019 11:02:52 PM\"\\n',\n",
              " '\"---\"\\n',\n",
              " '\"Suggested Citation: North America Land Data Assimilation System (NLDAS) Daily Air Temperatures and Heat Index, years 1979-2011\"\\n',\n",
              " '\"on CDC WONDER Online Database, released 2013. Accessed at http://wonder.cdc.gov/NASA-NLDAS.html on Dec 5, 2019 11:02:52 PM\"\\n',\n",
              " '\"---\"\\n',\n",
              " 'Caveats:\\n',\n",
              " '\"1. Note that maximum heat index data are sparse. Heat index data are recorded only for days when the air temperature is above 80\"\\n',\n",
              " '\"degrees Fahrenheit (26 degrees Celsius). When heat index data is not available in results table due to sparseness of data then\"\\n',\n",
              " '\"it will be labeled \"\"Missing\"\". More information: http://wonder.cdc.gov/wonder/help/nldas.html#Heat Index.\"']"
            ]
          },
          "execution_count": 30,
          "metadata": {},
          "output_type": "execute_result"
        }
      ],
      "source": [
        "data[-25:]"
      ]
    },
    {
      "cell_type": "markdown",
      "metadata": {
        "id": "qm-AYC2GGokc"
      },
      "source": [
        "## Human solution"
      ]
    },
    {
      "cell_type": "code",
      "execution_count": null,
      "metadata": {
        "id": "d6UYmNebJoB-"
      },
      "outputs": [],
      "source": [
        "import csv\n",
        "\n",
        "with (open(\"Illinois_weather_1979-2011.txt\") as infile,\n",
        "      open(\"chicago_weather_1979-2011.csv\", \"w\") as outfile):\n",
        "    for row in csv.reader(infile, delimiter=\"\\t\"):\n",
        "        if row[0] == '---': # Interrompiamo se incontriamo la stringa di documentazione\n",
        "            break\n",
        "        if \"Cook\" in row[3]: # Se troviamo il riferimento a Chigaco allora processiamo la linea\n",
        "            del row[0:2] # Eliminiamo i primi due campi\n",
        "            row = [item.replace(\"Missing\", \"\") for item in row] # Rimpiazziamo il missing\n",
        "            row[-1] = row[-1].replace(\"%\", \"\") # Rimpiazziamo il simbolo percentuale dell'ultimo campo\n",
        "            row[-1] = float(row[-1]) / 100  if str.isdigit(row[-1]) else row[-1] # Convertiamo il valore percentuale in un float solo se è valorizzato\n",
        "            csv.writer(outfile).writerow(row)\n"
      ]
    },
    {
      "cell_type": "markdown",
      "metadata": {
        "id": "t9xcWA3XSDpy"
      },
      "source": [
        "### Remaining Steps\n",
        "\n",
        "1. Download weather_history.csv to your machine.\n",
        "2. Import weather_history.cvs into a spreadsheet (e.g. Google sheets or Excel)\n",
        "3. Select data and insert chart. (creating a graph may be somewhat different in different applications.)\n",
        "\n",
        "![Snapshot_2024-10-23_20-28-15.png](data:image/png;base64,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)"
      ]
    },
    {
      "cell_type": "markdown",
      "metadata": {
        "id": "ptDrRqtaA6S6"
      },
      "source": [
        "## Copilot solution"
      ]
    },
    {
      "cell_type": "markdown",
      "metadata": {
        "id": "11anNLqlQamX"
      },
      "source": [
        "### Prompt:\n",
        "\n",
        "The file of weather observations provided here (Illinois_weather_1979-2011.txt) is by month and then by county for the state of Illinois from 1979 to 2011. Write the code to process this file to extract the data for Chicago (Cook County) into a single CSV or spreadsheet file. This process includes replacing the 'Missing' strings with empty strings and translating the percentage to a decimal. You may also consider what fields are repetitive (and therefore can be omitted or stored elsewhere). Note: there is some documentation at the end of the file, so you will need to stop processing the file when the first field of the line is \"---\"."
      ]
    },
    {
      "cell_type": "code",
      "execution_count": 32,
      "metadata": {
        "id": "KD0Gwhu5MzOF"
      },
      "outputs": [],
      "source": [
        "import csv\n",
        "\n",
        "input_file = 'Illinois_weather_1979-2011.txt'\n",
        "output_file = 'Chicago_weather_1979-2011.csv'\n",
        "\n",
        "with open(input_file, 'r') as infile, open(output_file, 'w', newline='') as outfile:\n",
        "    reader = csv.reader(infile, delimiter='\\t')\n",
        "    writer = csv.writer(outfile)\n",
        "\n",
        "    headers = next(reader)\n",
        "    writer.writerow(headers)  # Write headers to the output file\n",
        "\n",
        "    for row in reader:\n",
        "        if row[0].startswith('---'):\n",
        "            break\n",
        "\n",
        "        if 'Cook' in row[3]:  # Assuming 'Cook' indicates Cook County (Chicago)\n",
        "            processed_row = [field.replace('Missing', '') for field in row]\n",
        "            processed_row = [str(float(field.strip('%')) / 100) if '%' in field else field for field in processed_row]\n",
        "            writer.writerow(processed_row)"
      ]
    },
    {
      "cell_type": "markdown",
      "metadata": {
        "id": "0zoPUSZ8A_BG"
      },
      "source": [
        "## Colaboratory solution"
      ]
    },
    {
      "cell_type": "markdown",
      "metadata": {
        "id": "rsINEscVcUd8"
      },
      "source": [
        "### Prompt\n",
        "\n",
        "The file provided here (Illinois_weather_1979-2011.txt) is for the state of Illinois from 1979 to 2011. Write  code to process this file to extract the data for Chicago (Cook County) into a single CSV. Replace the 'Missing' strings with empty strings and translate the percentage to a decimal. Use the input file headers to decide what fields are repetitive (and therefore can be omitted). Stop processing the file when the first field of the line is \"---\"."
      ]
    },
    {
      "cell_type": "code",
      "execution_count": 33,
      "metadata": {
        "colab": {
          "base_uri": "https://localhost:8080/"
        },
        "id": "v1VWNetoBCC3",
        "outputId": "e82b7abc-a71c-411a-f472-6cde8a181362"
      },
      "outputs": [
        {
          "name": "stdout",
          "output_type": "stream",
          "text": [
            "Chicago weather data extracted to chicago_weather.csv\n"
          ]
        }
      ],
      "source": [
        "# prompt: The file provided here (Illinois_weather_1979-2011.txt) is for the\n",
        "#         state of Illinois from 1979 to 2011. Write  code to process this file\n",
        "#         to extract the data for Chicago (Cook County) into a single CSV.\n",
        "#         Replace the 'Missing' strings with empty strings and translate the\n",
        "#         percentage to a decimal. Use the input file headers to decide what\n",
        "#         fields are repetitive (and therefore can be omitted). Stop processing\n",
        "#         the file when the first field of the line is \"---\".\n",
        "\n",
        "import csv\n",
        "\n",
        "def process_illinois_weather_data():\n",
        "  \"\"\"Processes the Illinois weather data file and extracts Chicago data into a CSV.\"\"\"\n",
        "\n",
        "  with open('Illinois_weather_1979-2011.txt', 'r') as infile, \\\n",
        "       open('chicago_weather.csv', 'w', newline='') as outfile:\n",
        "\n",
        "    reader = csv.reader(infile, delimiter='\\t')\n",
        "    writer = csv.writer(outfile)\n",
        "\n",
        "    header = next(reader)\n",
        "    writer.writerow(header)\n",
        "\n",
        "    for row in reader:\n",
        "      if row[0] == '---':\n",
        "        break\n",
        "      if 'Cook' in row[3]:\n",
        "        new_row = []\n",
        "        for cell in row:\n",
        "          if cell == 'Missing':\n",
        "            new_row.append('')\n",
        "          elif '%' in cell:\n",
        "            new_row.append(str(float(cell.replace('%', '')) / 100))\n",
        "          else:\n",
        "            new_row.append(cell)\n",
        "\n",
        "        writer.writerow(new_row)\n",
        "\n",
        "\n",
        "process_illinois_weather_data()\n",
        "print(\"Chicago weather data extracted to chicago_weather.csv\")"
      ]
    }
  ],
  "metadata": {
    "colab": {
      "include_colab_link": true,
      "provenance": []
    },
    "kernelspec": {
      "display_name": "Python 3",
      "name": "python3"
    },
    "language_info": {
      "codemirror_mode": {
        "name": "ipython",
        "version": 3
      },
      "file_extension": ".py",
      "mimetype": "text/x-python",
      "name": "python",
      "nbconvert_exporter": "python",
      "pygments_lexer": "ipython3",
      "version": "3.13.7"
    }
  },
  "nbformat": 4,
  "nbformat_minor": 0
}

{
  "cells": [
    {
      "cell_type": "markdown",
      "metadata": {
        "colab_type": "text",
        "id": "view-in-github"
      },
      "source": [
        "<a href=\"https://colab.research.google.com/github/nceder/qpb4e/blob/main/code/Chapter%2007/Chapter_07.ipynb\" target=\"_parent\"><img src=\"https://colab.research.google.com/assets/colab-badge.svg\" alt=\"Open In Colab\"/></a>"
      ]
    },
    {
      "cell_type": "markdown",
      "metadata": {
        "id": "g4SuseG8oEJz"
      },
      "source": [
        "# 7 Dictionaries\n",
        "\n",
        "# 7.1 What is a dictionary?"
      ]
    },
    {
      "cell_type": "code",
      "execution_count": 1,
      "metadata": {
        "id": "bmrKckaI6KJM"
      },
      "outputs": [],
      "source": [
        "x = []\n",
        "y = {}\n",
        "\n",
        "y[0] = 'Hello'\n",
        "y[1] = 'Goodbye'"
      ]
    },
    {
      "cell_type": "code",
      "execution_count": 2,
      "metadata": {
        "colab": {
          "base_uri": "https://localhost:8080/",
          "height": 141
        },
        "id": "hpsN-liD6KJJ",
        "outputId": "e01c6cde-244a-428b-ce65-604601e1a6c0"
      },
      "outputs": [
        {
          "ename": "IndexError",
          "evalue": "list assignment index out of range",
          "output_type": "error",
          "traceback": [
            "\u001b[0;31m---------------------------------------------------------------------------\u001b[0m",
            "\u001b[0;31mIndexError\u001b[0m                                Traceback (most recent call last)",
            "\u001b[0;32m<ipython-input-2-12433aff2248>\u001b[0m in \u001b[0;36m<cell line: 1>\u001b[0;34m()\u001b[0m\n\u001b[0;32m----> 1\u001b[0;31m \u001b[0mx\u001b[0m\u001b[0;34m[\u001b[0m\u001b[0;36m0\u001b[0m\u001b[0;34m]\u001b[0m \u001b[0;34m=\u001b[0m \u001b[0;34m'Hello'\u001b[0m\u001b[0;34m\u001b[0m\u001b[0;34m\u001b[0m\u001b[0m\n\u001b[0m",
            "\u001b[0;31mIndexError\u001b[0m: list assignment index out of range"
          ]
        }
      ],
      "source": [
        "x[0] = 'Hello'"
      ]
    },
    {
      "cell_type": "code",
      "execution_count": 3,
      "metadata": {
        "colab": {
          "base_uri": "https://localhost:8080/"
        },
        "id": "g_psKVJV6KJN",
        "outputId": "1da5a6b1-df09-47c1-85d3-e334c94ea5f0"
      },
      "outputs": [
        {
          "name": "stdout",
          "output_type": "stream",
          "text": [
            "Hello\n",
            "Goodbye, Friend.\n"
          ]
        }
      ],
      "source": [
        "print(y[0])\n",
        "print(y[1] + \", Friend.\")"
      ]
    },
    {
      "cell_type": "code",
      "execution_count": 4,
      "metadata": {
        "colab": {
          "base_uri": "https://localhost:8080/"
        },
        "id": "gvduM_-P6KJO",
        "outputId": "7f766db0-6c00-4781-c327-7669f8f092f8"
      },
      "outputs": [
        {
          "name": "stdout",
          "output_type": "stream",
          "text": [
            "Bon jour\n",
            "Adios, Friend.\n"
          ]
        }
      ],
      "source": [
        "y['greeting'] = \"Bon jour\"\n",
        "y['farewell'] = \"Adios\"\n",
        "print(y['greeting'])\n",
        "print(y['farewell'] + \", Friend.\")"
      ]
    },
    {
      "cell_type": "code",
      "execution_count": 6,
      "metadata": {
        "colab": {
          "base_uri": "https://localhost:8080/"
        },
        "id": "xO12xRBQ6KJP",
        "outputId": "ec2cf869-1190-4ea9-f7fe-ac6034f90153"
      },
      "outputs": [
        {
          "name": "stdout",
          "output_type": "stream",
          "text": [
            "red is rouge\n"
          ]
        }
      ],
      "source": [
        "english_to_french = {}                     #A\n",
        "english_to_french['red'] = 'rouge'         #B\n",
        "english_to_french['blue'] = 'bleu'\n",
        "english_to_french['green'] = 'vert'\n",
        "print(\"red is\", english_to_french['red'])  #C"
      ]
    },
    {
      "cell_type": "markdown",
      "metadata": {
        "id": "k0gLTodNILnX"
      },
      "source": [
        "### Try This: Create a dictionary\n",
        "Write the code to ask the user for three names and three ages. After the names and ages are entered, ask the user for one of the names, and print the correct age.\n"
      ]
    },
    {
      "cell_type": "code",
      "execution_count": 5,
      "metadata": {
        "id": "C5ca_i40IfIu"
      },
      "outputs": [
        {
          "name": "stdout",
          "output_type": "stream",
          "text": [
            "30\n"
          ]
        }
      ],
      "source": [
        "anag = {}\n",
        "\n",
        "for i in range(3):\n",
        "    name_input = input(\"Enter a Name:\")\n",
        "    age_input = int(input(\"Enter the Age:\"))\n",
        "    anag[name_input] = age_input\n",
        "\n",
        "name_select = input(\"Select a Name previously added:\")\n",
        "print(anag[name_select])\n"
      ]
    },
    {
      "cell_type": "code",
      "execution_count": null,
      "metadata": {
        "colab": {
          "base_uri": "https://localhost:8080/"
        },
        "id": "fwsj15luIQhe",
        "outputId": "a11ca358-901e-4c7d-d513-f4e345297b95"
      },
      "outputs": [
        {
          "name": "stdout",
          "output_type": "stream",
          "text": [
            "Name? Tom\n",
            "Age? 33\n",
            "Name? Talita\n",
            "Age? 28\n",
            "Name? Rania\n",
            "Age? 32\n",
            "Name to find? Tom\n",
            "33\n"
          ]
        }
      ],
      "source": [
        "name_age = {}\n",
        "for i in range(3):\n",
        "    name = input(\"Name? \")\n",
        "    age = int(input(\"Age? \"))\n",
        "    name_age[name] = age\n",
        "\n",
        "name_choice = input(\"Name to find? \")\n",
        "print(name_age[name_choice])"
      ]
    },
    {
      "cell_type": "markdown",
      "metadata": {
        "id": "0fr2fNTbovtq"
      },
      "source": [
        "# 7.2 Other dictionary operations"
      ]
    },
    {
      "cell_type": "code",
      "execution_count": 6,
      "metadata": {
        "id": "6cf2cmDZ6KJQ"
      },
      "outputs": [],
      "source": [
        "english_to_french = {'red': 'rouge', 'blue': 'bleu', 'green': 'vert'}"
      ]
    },
    {
      "cell_type": "code",
      "execution_count": 7,
      "metadata": {
        "colab": {
          "base_uri": "https://localhost:8080/"
        },
        "id": "c-1FPauo6KJQ",
        "outputId": "5910542e-45df-4061-b514-8647faae45c6"
      },
      "outputs": [
        {
          "data": {
            "text/plain": [
              "3"
            ]
          },
          "execution_count": 7,
          "metadata": {},
          "output_type": "execute_result"
        }
      ],
      "source": [
        "len(english_to_french)"
      ]
    },
    {
      "cell_type": "code",
      "execution_count": 9,
      "metadata": {
        "colab": {
          "base_uri": "https://localhost:8080/"
        },
        "id": "uCvTsCL96KJR",
        "outputId": "63a02803-72ae-4d71-fba5-aef7d633cd97"
      },
      "outputs": [
        {
          "data": {
            "text/plain": [
              "['red', 'blue', 'green']"
            ]
          },
          "execution_count": 9,
          "metadata": {},
          "output_type": "execute_result"
        }
      ],
      "source": [
        "list(english_to_french.keys())"
      ]
    },
    {
      "cell_type": "code",
      "execution_count": 10,
      "metadata": {
        "colab": {
          "base_uri": "https://localhost:8080/"
        },
        "id": "It2SBpN96KJR",
        "outputId": "fa3629e1-a863-46da-a6fa-666b03a3f4aa"
      },
      "outputs": [
        {
          "data": {
            "text/plain": [
              "['rouge', 'bleu', 'vert']"
            ]
          },
          "execution_count": 10,
          "metadata": {},
          "output_type": "execute_result"
        }
      ],
      "source": [
        "list(english_to_french.values())"
      ]
    },
    {
      "cell_type": "code",
      "execution_count": 11,
      "metadata": {
        "colab": {
          "base_uri": "https://localhost:8080/"
        },
        "id": "E35zaejy6KJS",
        "outputId": "c50d9dbc-3530-4157-9238-ff81581cc596"
      },
      "outputs": [
        {
          "data": {
            "text/plain": [
              "[('red', 'rouge'), ('blue', 'bleu'), ('green', 'vert')]"
            ]
          },
          "execution_count": 11,
          "metadata": {},
          "output_type": "execute_result"
        }
      ],
      "source": [
        "list(english_to_french.items())"
      ]
    },
    {
      "cell_type": "code",
      "execution_count": 12,
      "metadata": {
        "colab": {
          "base_uri": "https://localhost:8080/"
        },
        "id": "XGfYnTUo6KJS",
        "outputId": "c5989129-d6c3-47c9-c752-5e93f27a0919"
      },
      "outputs": [
        {
          "data": {
            "text/plain": [
              "[('red', 'rouge'), ('blue', 'bleu'), ('green', 'vert')]"
            ]
          },
          "execution_count": 12,
          "metadata": {},
          "output_type": "execute_result"
        }
      ],
      "source": [
        "list(english_to_french.items())"
      ]
    },
    {
      "cell_type": "code",
      "execution_count": 13,
      "metadata": {
        "colab": {
          "base_uri": "https://localhost:8080/"
        },
        "id": "WCfDhoUk6KJS",
        "outputId": "9499f7f6-e9ef-45ed-fe54-b5ddabf2b2ae"
      },
      "outputs": [
        {
          "data": {
            "text/plain": [
              "[('red', 'rouge'), ('blue', 'bleu')]"
            ]
          },
          "execution_count": 13,
          "metadata": {},
          "output_type": "execute_result"
        }
      ],
      "source": [
        "del english_to_french['green']\n",
        "list(english_to_french.items())"
      ]
    },
    {
      "cell_type": "code",
      "execution_count": 14,
      "metadata": {
        "colab": {
          "base_uri": "https://localhost:8080/"
        },
        "id": "2LCf5kiE6KJS",
        "outputId": "d6c237eb-19e1-4ae1-a085-c5a2b3c0f850"
      },
      "outputs": [
        {
          "data": {
            "text/plain": [
              "True"
            ]
          },
          "execution_count": 14,
          "metadata": {},
          "output_type": "execute_result"
        }
      ],
      "source": [
        "'red' in english_to_french"
      ]
    },
    {
      "cell_type": "code",
      "execution_count": 15,
      "metadata": {
        "colab": {
          "base_uri": "https://localhost:8080/"
        },
        "id": "oljR9PR_6KJS",
        "outputId": "b273bac9-44a2-4524-c552-b826fa0a6dd9"
      },
      "outputs": [
        {
          "data": {
            "text/plain": [
              "False"
            ]
          },
          "execution_count": 15,
          "metadata": {},
          "output_type": "execute_result"
        }
      ],
      "source": [
        "'orange' in english_to_french"
      ]
    },
    {
      "cell_type": "code",
      "execution_count": 16,
      "metadata": {
        "colab": {
          "base_uri": "https://localhost:8080/"
        },
        "id": "yWzbV_Uc6KJS",
        "outputId": "50a74c3f-7f12-4b74-92f7-c200e959d9a1"
      },
      "outputs": [
        {
          "name": "stdout",
          "output_type": "stream",
          "text": [
            "bleu\n"
          ]
        }
      ],
      "source": [
        "print(english_to_french.get('blue', 'No translation'))"
      ]
    },
    {
      "cell_type": "code",
      "execution_count": 17,
      "metadata": {
        "colab": {
          "base_uri": "https://localhost:8080/"
        },
        "id": "1kmbaDvc6KJT",
        "outputId": "59eb0da1-5618-47d1-eec2-820d9ed54139"
      },
      "outputs": [
        {
          "name": "stdout",
          "output_type": "stream",
          "text": [
            "No translation\n"
          ]
        }
      ],
      "source": [
        "print(english_to_french.get('chartreuse', 'No translation'))"
      ]
    },
    {
      "cell_type": "code",
      "execution_count": 18,
      "metadata": {
        "colab": {
          "base_uri": "https://localhost:8080/"
        },
        "id": "CnYJFDmE6KJT",
        "outputId": "dff3ec15-d8a9-4744-8f65-c9f197d16cb3"
      },
      "outputs": [
        {
          "name": "stdout",
          "output_type": "stream",
          "text": [
            "No translation\n"
          ]
        }
      ],
      "source": [
        "print(english_to_french.setdefault('chartreuse', 'No translation'))"
      ]
    },
    {
      "cell_type": "code",
      "execution_count": null,
      "metadata": {
        "colab": {
          "base_uri": "https://localhost:8080/"
        },
        "id": "sXjgWlMP6KJT",
        "outputId": "571f7183-0427-4c23-a676-7e7919686bd4"
      },
      "outputs": [
        {
          "data": {
            "text/plain": [
              "{0: 'zero', 1: 'one'}"
            ]
          },
          "execution_count": 19,
          "metadata": {},
          "output_type": "execute_result"
        }
      ],
      "source": [
        "x = {0: 'zero', 1: 'one'}\n",
        "y = x.copy()\n",
        "y"
      ]
    },
    {
      "cell_type": "code",
      "execution_count": 20,
      "metadata": {
        "colab": {
          "base_uri": "https://localhost:8080/"
        },
        "id": "iSzTNJmW6KJT",
        "outputId": "798219f1-bfd9-4c88-d587-127dc035c3c7"
      },
      "outputs": [
        {
          "data": {
            "text/plain": [
              "{0: 'zero', 1: 'One', 2: 'Two'}"
            ]
          },
          "execution_count": 20,
          "metadata": {},
          "output_type": "execute_result"
        }
      ],
      "source": [
        "z = {1: 'One', 2: 'Two'}\n",
        "x = {0: 'zero', 1: 'one'}\n",
        "x.update(z)\n",
        "x"
      ]
    },
    {
      "cell_type": "markdown",
      "metadata": {
        "id": "Psd33Kq3prFw"
      },
      "source": [
        "### Quick Check: Dictionary operations\n",
        "Assume that you have a dictionary `x = {'a':1, 'b':2, 'c':3, 'd':4}` and a dictionary `y = {'a':6, 'e':5, 'f':6}`. What would be the contents of x after the following snippets of code have executed?:\n",
        "```\n",
        "del x['d']\n",
        "z = x.setdefault('g', 7)\n",
        "x.update(y)\n",
        "```"
      ]
    },
    {
      "cell_type": "code",
      "execution_count": null,
      "metadata": {
        "id": "rjRTMlN2psDu"
      },
      "outputs": [],
      "source": []
    },
    {
      "cell_type": "code",
      "execution_count": 11,
      "metadata": {
        "cellView": "form",
        "id": "U8xK65YipsNB"
      },
      "outputs": [
        {
          "name": "stdout",
          "output_type": "stream",
          "text": [
            "{'a': 1, 'b': 2, 'c': 3}\n"
          ]
        }
      ],
      "source": [
        "# @title\n",
        "x = {'a':1, 'b':2, 'c':3, 'd':4}\n",
        "y = {'a':6, 'e':5, 'f':6}\n",
        "\n",
        "del x['d']\n",
        "print(x)"
      ]
    },
    {
      "cell_type": "code",
      "execution_count": 15,
      "metadata": {
        "cellView": "form",
        "id": "lHbk4eMUqYP6"
      },
      "outputs": [
        {
          "name": "stdout",
          "output_type": "stream",
          "text": [
            "{'a': 6, 'b': 2, 'c': 3, 'g': 7, 'e': 5, 'f': 6}\n"
          ]
        }
      ],
      "source": [
        "# @title\n",
        "z = x.setdefault('g', 7)\n",
        "print(x)"
      ]
    },
    {
      "cell_type": "code",
      "execution_count": 13,
      "metadata": {
        "cellView": "form",
        "id": "KVr06rMtqfoP"
      },
      "outputs": [
        {
          "name": "stdout",
          "output_type": "stream",
          "text": [
            "{'a': 6, 'b': 2, 'c': 3, 'g': 7, 'e': 5, 'f': 6}\n"
          ]
        }
      ],
      "source": [
        "# @title\n",
        "x.update(y)\n",
        "print(x)"
      ]
    },
    {
      "cell_type": "markdown",
      "metadata": {
        "id": "JfDXqsJupsVe"
      },
      "source": [
        "# 7.3 Word Counting"
      ]
    },
    {
      "cell_type": "code",
      "execution_count": 17,
      "metadata": {
        "colab": {
          "base_uri": "https://localhost:8080/"
        },
        "id": "GCnzYevE6KJT",
        "outputId": "85d14e05-5b71-48da-816e-5921268d79c9"
      },
      "outputs": [
        {
          "name": "stdout",
          "output_type": "stream",
          "text": [
            "The word To occurs 1 times in the string\n",
            "The word be occurs 2 times in the string\n",
            "The word or occurs 1 times in the string\n",
            "The word not occurs 1 times in the string\n",
            "The word to occurs 1 times in the string\n"
          ]
        }
      ],
      "source": [
        "sample_string = \"To be or not to be\"\n",
        "occurrences = {}\n",
        "for word in sample_string.split():\n",
        "    occurrences[word] = occurrences.get(word, 0) + 1    #A\n",
        "\n",
        "for word in occurrences:\n",
        "    print(\"The word\", word, \"occurs\", occurrences[word],\n",
        "           \"times in the string\")"
      ]
    },
    {
      "cell_type": "markdown",
      "metadata": {
        "id": "8b_70pDJrLc6"
      },
      "source": [
        "# 7.4 What can be used as a key?"
      ]
    },
    {
      "cell_type": "markdown",
      "metadata": {
        "id": "eeT9ZfoWrQJt"
      },
      "source": [
        "### Quick Check: What can be a key?\n",
        "Decide which of the following expressions can be a dictionary key:\n",
        "\n",
        "`1; 'bob'; ('tom', [1, 2, 3]); [\"filename\"]; \"filename\"; (\"filename\",  \"extension\") `\n"
      ]
    },
    {
      "cell_type": "markdown",
      "metadata": {
        "id": "lRHXpWZbrkJC"
      },
      "source": [
        "# 7.5 Sparse matrices"
      ]
    },
    {
      "cell_type": "code",
      "execution_count": 33,
      "metadata": {
        "id": "ZkJGYvae7OEZ"
      },
      "outputs": [
        {
          "name": "stdout",
          "output_type": "stream",
          "text": [
            "0\n"
          ]
        }
      ],
      "source": [
        "matrix = [[3, 0, -2, 11], [0, 9, 0, 0], [0, 7, 0, 0], [0, 0, 0, -5]]\n",
        "rownum = 0\n",
        "colnum = 1\n",
        "element = matrix[rownum][colnum]\n",
        "\n",
        "print(element)"
      ]
    },
    {
      "cell_type": "code",
      "execution_count": 41,
      "metadata": {
        "id": "TsXU00Ev7d0D"
      },
      "outputs": [
        {
          "name": "stdout",
          "output_type": "stream",
          "text": [
            "0\n",
            "Non c'è\n"
          ]
        }
      ],
      "source": [
        "matrix = {(0, 0): 3, (0, 2): -2, (0, 3): 11,\n",
        "          (1, 1): 9, (2, 1): 7, (3, 3): -5}\n",
        "\n",
        "# Metodo 1 per accedere a una matrice\n",
        "if (rownum, colnum) in matrix:\n",
        "    element = matrix[(rownum, colnum)]\n",
        "else:\n",
        "    element = 0\n",
        "print(element)\n",
        "\n",
        "# Metodo 2 per accedere a una matrice\n",
        "element = matrix.get((rownum, colnum), 'Non c\\'è')\n",
        "print(element)\n"
      ]
    },
    {
      "cell_type": "markdown",
      "metadata": {
        "id": "GQHOlmlirtnm"
      },
      "source": [
        "# 7.6 Dictionaries as caches"
      ]
    },
    {
      "cell_type": "markdown",
      "metadata": {
        "id": "GwzD0VPMr3Rg"
      },
      "source": [
        "### Try This: Using dictionaries\n",
        "Suppose that you're writing a program that works like a spreadsheet. How might you use a dictionary to store the contents of a sheet? Write some sample code to both store a value and retrieve a value in a particular cell. What might be some drawbacks to this approach?\n",
        "\n",
        "You could use tuples of row, column values as keys to store the values in a dictionary. One drawback would be that the keys wouldn’t be sorted, so you’d have to manage that situation as you grabbed the keys/values to render as a spreadsheet.\n",
        "\n"
      ]
    },
    {
      "cell_type": "code",
      "execution_count": null,
      "metadata": {
        "colab": {
          "base_uri": "https://localhost:8080/"
        },
        "id": "aqihiqLnI8Gv",
        "outputId": "da51e9ea-89a3-448f-e3d0-c44a5c1dc317"
      },
      "outputs": [
        {
          "name": "stdout",
          "output_type": "stream",
          "text": [
            "{('A', 1): 1, ('B', 1): 2, ('C', 1): 3, ('D', 1): 4}\n"
          ]
        }
      ],
      "source": [
        "sheet = {}\n",
        "sheet[('A', 1)] = 1\n",
        "sheet[('B', 1)] = 2\n",
        "sheet[('C', 1)] = 3\n",
        "sheet[('D', 1)] = 4\n",
        "\n",
        "print(sheet) # In un'altra esecuzioni possono essere benissimo in un altro ordine. Questo perchè le KEY in DICT non sono ordinate."
      ]
    },
    {
      "cell_type": "markdown",
      "metadata": {
        "id": "5ESyYoRlRC73"
      },
      "source": [
        "# 7.8 Lab 7: Word counting\n",
        "\n",
        "In the previous lab, you took the text of the first chapter of Moby Dick, normalized the case, removed punctuation, and wrote the separated words to a file. In this lab, we will use the file created in chapter 6 to count the number of times each word occurs.\n",
        "\n",
        "To do this we will read the file, and use a dictionary as described above to count the occurrences, using the words as the keys and the number of occurrences as the values. Once we have processed the file, we’ll print out the five most common and five least common words and the number of times they occur.\n",
        "To open and read the file we can use code that’s similar to what we used the last time, but we won’t need an output file:\n",
        "```with open(\"moby_01_clean.txt\", \"r\") as infile:\n",
        "    for word in infile:\n",
        "        # use stip() method to remove any extra whitespace\n",
        "        # increase the count for current word\n",
        "```\n",
        "In addition to using a dictionary to count occurrences, you'll need to use the `items()`1 method to get the keys and values as a series of tuples that you can sort. For this you may need to refer to the chapter on lists.\n"
      ]
    },
    {
      "cell_type": "markdown",
      "metadata": {
        "id": "HEgBC0JaKcCQ"
      },
      "source": [
        "### Run the cell below to get the file moby_01_clean.txt"
      ]
    },
    {
      "cell_type": "code",
      "execution_count": 29,
      "metadata": {
        "colab": {
          "base_uri": "https://localhost:8080/"
        },
        "id": "j6F1x_g-ry2j",
        "outputId": "f906a9b9-f51a-40d9-f4e4-b4ce560254d3"
      },
      "outputs": [
        {
          "name": "stdout",
          "output_type": "stream",
          "text": [
            "Downloaded\n"
          ]
        }
      ],
      "source": [
        "!wget https://raw.githubusercontent.com/nceder/qpb4e/main/code/Chapter%2007/moby_01_clean.txt  &> null  && echo Downloaded"
      ]
    },
    {
      "cell_type": "code",
      "execution_count": null,
      "metadata": {
        "id": "cwOxy0p4Rg2T"
      },
      "outputs": [
        {
          "name": "stdout",
          "output_type": "stream",
          "text": [
            "('call', 1)\n",
            "('ishmael', 1)\n",
            "('years', 1)\n",
            "('ago', 1)\n",
            "('never', 1)\n",
            "('the', 14)\n",
            "('i', 9)\n",
            "('and', 9)\n",
            "('of', 8)\n",
            "('is', 7)\n"
          ]
        }
      ],
      "source": [
        "# Create your solution in this cell\n",
        "\n",
        "my_dict = {}\n",
        "with open(\"moby_01_clean.txt\", \"r\") as infile:\n",
        "    for word in infile:\n",
        "        word = word.strip()\n",
        "        my_dict[word] = my_dict.get(word, 0) + 1\n",
        "\n",
        "\n",
        "\n",
        "word_list = list(my_dict.items())\n",
        "word_list.sort(key=lambda x: x[1]) # Sort through index 1 considering every tuple pairs\n",
        "for word in word_list[0:5]:\n",
        "    print(word)\n",
        "word_list.reverse()\n",
        "for word in word_list[0:5]:\n",
        "    print(word)"
      ]
    },
    {
      "cell_type": "code",
      "execution_count": 30,
      "metadata": {
        "colab": {
          "base_uri": "https://localhost:8080/"
        },
        "id": "vbJ72kc4I86t",
        "outputId": "dfaa9e7c-8f9a-41ce-99c5-1c6e7121d131"
      },
      "outputs": [
        {
          "name": "stdout",
          "output_type": "stream",
          "text": [
            "Most common words:\n",
            "('the', 14)\n",
            "('i', 9)\n",
            "('and', 9)\n",
            "('of', 8)\n",
            "('is', 7)\n",
            "\n",
            "Least common words:\n",
            "('call', 1)\n",
            "('ishmael', 1)\n",
            "('years', 1)\n",
            "('ago', 1)\n",
            "('never', 1)\n"
          ]
        }
      ],
      "source": [
        "# Solution created by the author\n",
        "\n",
        "word_count = {}\n",
        "with open(\"moby_01_clean.txt\", \"r\") as infile:\n",
        "    for word in infile:\n",
        "        # use strip() method to remove any extra whitespace\n",
        "        word = word.strip()\n",
        "\n",
        "        # increase the count for current word\n",
        "        count = word_count.setdefault(word, 0)\n",
        "        count += 1\n",
        "        word_count[word] += 1\n",
        "\n",
        "word_list = list(word_count.items())\n",
        "word_list.sort(key=lambda x: x[1])\n",
        "print(\"Most common words:\")\n",
        "for word in reversed(word_list[-5:]):\n",
        "    print(word)\n",
        "print(\"\\nLeast common words:\")\n",
        "for word in word_list[:5]:\n",
        "    print(word)"
      ]
    },
    {
      "cell_type": "code",
      "execution_count": null,
      "metadata": {
        "id": "nd5u9IQQJ3YH"
      },
      "outputs": [],
      "source": [
        "# Generated by Colaboratory\n",
        "\n",
        "# prompt: Open the file moby_01_clean.txt and use a dictionary to count the\n",
        "#         occurrences of each word. Do not use a Counter. Print the five\n",
        "#         most common words and their number of occurrences. Print the\n",
        "#         five least common words and their number of occurrences.\n",
        "\n",
        "# Open the file and read the text into a variable.\n",
        "with open('moby_01_clean.txt', 'r') as f:\n",
        "  text = f.read()\n",
        "\n",
        "# Split the text into words.\n",
        "words = text.split()\n",
        "\n",
        "# Create a dictionary to count the occurrences of each word.\n",
        "word_counts = {}\n",
        "for word in words:\n",
        "  if word not in word_counts:\n",
        "    word_counts[word] = 0\n",
        "  word_counts[word] += 1\n",
        "\n",
        "# Find the five most common words and their number of occurrences.\n",
        "most_common = sorted(word_counts.items(), key=lambda item: item[1], reverse=True)[:5]\n",
        "\n",
        "# Find the five least common words and their number of occurrences.\n",
        "least_common = sorted(word_counts.items(), key=lambda item: item[1])[:5]\n",
        "\n",
        "# Print the results.\n",
        "print(\"Most common words:\")\n",
        "for word, count in most_common:\n",
        "  print(f\"{word}: {count}\")\n",
        "\n",
        "print(\"\\nLeast common words:\")\n",
        "for word, count in least_common:\n",
        "  print(f\"{word}: {count}\")\n"
      ]
    },
    {
      "cell_type": "code",
      "execution_count": null,
      "metadata": {
        "id": "MDVXTVqzhhDJ"
      },
      "outputs": [],
      "source": [
        "# Generated by Copilot\n",
        "\n",
        "# Open the file\n",
        "with open('moby_01_clean.txt', 'r') as file:\n",
        "    # Read the file content\n",
        "    content = file.read()\n",
        "\n",
        "# Split the content into words\n",
        "words = content.split()\n",
        "\n",
        "# Count the occurrences of each word using a dictionary\n",
        "word_counts = {}\n",
        "for word in words:\n",
        "    if word in word_counts:\n",
        "        word_counts[word] += 1\n",
        "    else:\n",
        "        word_counts[word] = 1\n",
        "\n",
        "# Sort the word counts in descending order\n",
        "sorted_word_counts = sorted(word_counts.items(), key=lambda x: x[1], reverse=True)\n",
        "\n",
        "# Print the five most common words and their occurrences\n",
        "print(\"Five most common words:\")\n",
        "for word, count in sorted_word_counts[:5]:\n",
        "    print(f\"{word}: {count}\")\n",
        "\n",
        "# Print the five least common words and their occurrences\n",
        "print(\"Five least common words:\")\n",
        "for word, count in sorted_word_counts[-5:]:\n",
        "    print(f\"{word}: {count}\")"
      ]
    }
  ],
  "metadata": {
    "colab": {
      "include_colab_link": true,
      "provenance": []
    },
    "kernelspec": {
      "display_name": "Python 3",
      "name": "python3"
    },
    "language_info": {
      "codemirror_mode": {
        "name": "ipython",
        "version": 3
      },
      "file_extension": ".py",
      "mimetype": "text/x-python",
      "name": "python",
      "nbconvert_exporter": "python",
      "pygments_lexer": "ipython3",
      "version": "3.13.2"
    }
  },
  "nbformat": 4,
  "nbformat_minor": 0
}

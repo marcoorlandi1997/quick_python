{
  "cells": [
    {
      "cell_type": "markdown",
      "metadata": {
        "colab_type": "text",
        "id": "view-in-github"
      },
      "source": [
        "<a href=\"https://colab.research.google.com/github/nceder/qpb4e/blob/main/code/Chapter%2020/Chapter_20.ipynb\" target=\"_parent\"><img src=\"https://colab.research.google.com/assets/colab-badge.svg\" alt=\"Open In Colab\"/></a>"
      ]
    },
    {
      "cell_type": "markdown",
      "metadata": {
        "id": "6qxyG0sHdLeY"
      },
      "source": [
        "# 20 Basic file wrangling"
      ]
    },
    {
      "cell_type": "markdown",
      "metadata": {
        "id": "uVs8Rx9zjH3L"
      },
      "source": [
        "# 20.2 Scenario: The product feed from hell"
      ]
    },
    {
      "cell_type": "markdown",
      "metadata": {
        "id": "oLfV3BO6WkDS"
      },
      "source": [
        "### Quick Check : Consider the choices\n",
        "\n",
        "What are your options for handling the tasks I've identified? What modules in the standard library can you think of that will do the job? If you want, you can even stop right now and work out the code to do it. Then compare your solution with the one you develop later.\n",
        "\n",
        "#### Discussion\n",
        "\n",
        "From the standard library, use datetime for managing the dates/times of the files, and either os.path and os or pathlib for renaming and archiving the files.\n"
      ]
    },
    {
      "cell_type": "code",
      "execution_count": 39,
      "metadata": {
        "id": "meqnci66d9bM"
      },
      "outputs": [],
      "source": [
        "import pathlib\n",
        "\n",
        "for filename in ['item_info.txt', 'item_attributes.txt', 'related_items.txt']:\n",
        "    pathlib.Path(filename).touch()\n"
      ]
    },
    {
      "cell_type": "code",
      "execution_count": 11,
      "metadata": {
        "colab": {
          "base_uri": "https://localhost:8080/"
        },
        "id": "yT1uhmvgdI3t",
        "outputId": "78c791c6-3a75-4471-ef9a-2906b24e5de5"
      },
      "outputs": [
        {
          "name": "stdout",
          "output_type": "stream",
          "text": [
            "[WindowsPath('item_attributes.txt'), WindowsPath('item_info.txt'), WindowsPath('related_items.txt')]\n"
          ]
        }
      ],
      "source": [
        "import pathlib\n",
        "cur_path = pathlib.Path(\".\")\n",
        "FILE_PATTERN = \"*.txt\"\n",
        "path_list = cur_path.glob(FILE_PATTERN)\n",
        "print(list(path_list))"
      ]
    },
    {
      "cell_type": "code",
      "execution_count": null,
      "metadata": {},
      "outputs": [
        {
          "name": "stdout",
          "output_type": "stream",
          "text": [
            "2025-08-18\n",
            "2025-08-18\n"
          ]
        }
      ],
      "source": [
        "import datetime\n",
        "import pathlib\n",
        "\n",
        "date_string = datetime.date.today()\n",
        "print(date_string)\n",
        "\n",
        "date_string = datetime.date.today().strftime(\"%Y-%m-%d\")\n",
        "print(date_string)"
      ]
    },
    {
      "cell_type": "markdown",
      "metadata": {
        "id": "VwNrUdWRjowv"
      },
      "source": [
        "### Listing 20.1 File files_01.py\n"
      ]
    },
    {
      "cell_type": "code",
      "execution_count": null,
      "metadata": {
        "id": "R3GCOVyudI3u"
      },
      "outputs": [],
      "source": [
        "# Listing 20.1 File files_01.py\n",
        "\n",
        "import datetime\n",
        "import pathlib\n",
        "\n",
        "FILE_PATTERN = \"*.txt\"             #A\n",
        "ARCHIVE = \"archive\"\n",
        "\n",
        "def main():\n",
        "\n",
        "    date_string = datetime.date.today().strftime(\"%Y-%m-%d\")    # Ritorna la data odierna in formato YYYY-MM-DD\n",
        "\n",
        "    cur_path = pathlib.Path(\".\")\n",
        "    archive_path = cur_path.joinpath(ARCHIVE)\n",
        "    archive_path.mkdir(exist_ok=True)        #C\n",
        "\n",
        "    paths = cur_path.glob(FILE_PATTERN)\n",
        "\n",
        "    for path in paths:\n",
        "        new_filename = f\"{path.stem}_{date_string}{path.suffix}\"\n",
        "        new_path = archive_path.joinpath(new_filename)        #D\n",
        "        path.rename(new_path)                      #E\n",
        "\n",
        "if __name__ == '__main__':\n",
        "     main()"
      ]
    },
    {
      "cell_type": "markdown",
      "metadata": {
        "id": "YZn5TObBXepx"
      },
      "source": [
        "### Quick Check: Potential Problems\n",
        "Because the preceding solution is very simple, there are likely to be many situations that it won’t handle well. What are some potential issues or problems that might arise with the example script? How might you remedy these problems?\n",
        "\n",
        "Consider the naming convention used for the files, which is based on the year, month and day, in that order. What advantages do you see in that convention? What might be the disadvantages? Can you make any arguments for putting the date string somewhere else in the filename, such as the beginning or the end?\n",
        "\n",
        "#### Discussion\n",
        "\n",
        "Multiple files during the same day would be a problem, for one thing. If you have lots of files, navigating the archive directory will become increasingly  difficult.\n",
        "\n",
        "Using year-month-day date formats makes a text-based sort of the files sort by date as well. Putting the date at the end of the filename but before the extension makes it more difficult to parse the date element visually."
      ]
    },
    {
      "cell_type": "markdown",
      "metadata": {
        "id": "HmO4egz5jYyg"
      },
      "source": [
        "# 20.3 More organization"
      ]
    },
    {
      "cell_type": "markdown",
      "metadata": {
        "id": "41SzjZxJjkGc"
      },
      "source": [
        "### Listing 20.2 File files_02.py"
      ]
    },
    {
      "cell_type": "code",
      "execution_count": 5,
      "metadata": {
        "id": "_LXEcAAeIrzX"
      },
      "outputs": [],
      "source": [
        "import pathlib\n",
        "\n",
        "for filename in ['item_info.txt', 'item_attributes.txt', 'related_items.txt']:\n",
        "    pathlib.Path(filename).touch()"
      ]
    },
    {
      "cell_type": "code",
      "execution_count": 10,
      "metadata": {},
      "outputs": [],
      "source": [
        "# Listing 20.1 File files_01.py\n",
        "\n",
        "import datetime\n",
        "import pathlib\n",
        "\n",
        "FILE_PATTERN = \"*.txt\"          \n",
        "ARCHIVE = \"archive\"\n",
        "\n",
        "def main():\n",
        "\n",
        "    cur_path = pathlib.Path(\".\")\n",
        "    archive_path = cur_path.joinpath(ARCHIVE).joinpath() # Creiamo la directory \"archive\"\n",
        "    archive_path.mkdir(exist_ok=True)\n",
        "\n",
        "    date_string = datetime.date.today().strftime(\"%Y-%m-%d\")    # Ritorna la data odierna in formato YYYY-MM-DD\n",
        "    date_path = cur_path.joinpath(date_string).joinpath() # Creiamo la sotto directory in base alla data odierna\n",
        "    date_path.mkdir(exist_ok=True)\n",
        "\n",
        "\n",
        "    paths = cur_path.glob(FILE_PATTERN) # Elenco dei file presenti nella directory corrente\n",
        "\n",
        "    for path in paths:\n",
        "        path.rename(date_path.joinpath(path.name)) # Andiamo a spostare i vari file con il pattern *.txt all'interno della directory creata giornalmente      \n",
        "\n",
        "if __name__ == '__main__':\n",
        "     main()"
      ]
    },
    {
      "cell_type": "markdown",
      "metadata": {
        "id": "n5DWqlbgX9CI"
      },
      "source": [
        "### Try This: Implementation of multiple directories\n",
        "\n",
        "How would you modify the code that you developed to archive each set of files in subdirectories named according to date received? Feel free to take the time to implement the code and test it."
      ]
    },
    {
      "cell_type": "markdown",
      "metadata": {
        "id": "VtwZ7kZJYtMU"
      },
      "source": [
        "### Quick Check: Alternate solutions\n",
        "How might you create a script that does the same thing without using pathlib? What libraries and functions would you use?\n",
        "\n",
        "#### Discussion\n",
        "You'd use the os.path and os libraries—specifically, `os.path.join()`, `os.mkdir()`, and `os.rename()`."
      ]
    },
    {
      "cell_type": "code",
      "execution_count": null,
      "metadata": {
        "cellView": "form",
        "id": "WHM6kPLmYGB3"
      },
      "outputs": [],
      "source": [
        "# @title\n",
        "import datetime\n",
        "import pathlib\n",
        "\n",
        "FILE_PATTERN = \"*.txt\"\n",
        "ARCHIVE = \"archive\"\n",
        "\n",
        "if __name__ == '__main__':\n",
        "\n",
        "    date_string = datetime.date.today().strftime(\"%Y-%m-%d\")\n",
        "\n",
        "    cur_path = pathlib.Path(\".\")\n",
        "\n",
        "    new_path = cur_path.joinpath(ARCHIVE, date_string)\n",
        "    new_path.mkdir()\n",
        "\n",
        "    paths = cur_path.glob(FILE_PATTERN)\n",
        "\n",
        "    for path in paths:\n",
        "        path.rename(new_path.joinpath(path.name))"
      ]
    },
    {
      "cell_type": "markdown",
      "metadata": {
        "id": "hklAeSftjxwD"
      },
      "source": [
        "## 20.4.1 Compressing files"
      ]
    },
    {
      "cell_type": "markdown",
      "metadata": {
        "id": "uGJnCxqsj5Jm"
      },
      "source": [
        "### Listing 20.3 File files_03.py"
      ]
    },
    {
      "cell_type": "markdown",
      "metadata": {
        "id": "Zu2yMayKYUZx"
      },
      "source": [
        "### Try This: Archiving to zip files pseudocode\n",
        "\n",
        "Write the pseudocode for a solution that stores data files in zip files. What modules and functions or methods do you intend to use? Try coding your solution to make sure that it works.\n",
        "\n",
        "#### Discussion\n",
        "Pseudocode:\n",
        "```\n",
        "create path for zip file\n",
        "create empty zipfile\n",
        "for each file\n",
        "    write into zipfile\n",
        "    remove original file\n",
        "```\n",
        "(See the next section for sample code that does this.)"
      ]
    },
    {
      "cell_type": "code",
      "execution_count": 36,
      "metadata": {
        "id": "qFGqQ9pLJAq3"
      },
      "outputs": [],
      "source": [
        "import pathlib\n",
        "\n",
        "for filename in ['item_info.txt', 'item_attributes.txt', 'related_items.txt']:\n",
        "    pathlib.Path(filename).touch()"
      ]
    },
    {
      "cell_type": "code",
      "execution_count": null,
      "metadata": {},
      "outputs": [],
      "source": [
        "from zipfile import ZipFile\n",
        "\n",
        "cur_path = pathlib.Path(\".\")\n",
        "archive_path = cur_path.joinpath(ARCHIVE)\n",
        "archive_path.mkdir(exist_ok=True)  \n",
        "\n",
        "zip_name = datetime.date.today().strftime(\"%Y-%m-%d\")    # Ritorna la data odierna in formato YYYY-MM-DD\n",
        "zip_path = archive_path.joinpath(zip_name) # Il path dove inserire il file zip è all'interno di \"archive\"\n",
        "with ZipFile(f'{zip_path}.zip', 'w') as myzip:\n",
        "    pass # Creiamo un file zip vuoto"
      ]
    },
    {
      "cell_type": "code",
      "execution_count": 37,
      "metadata": {},
      "outputs": [],
      "source": [
        "# Listing 20.1 File files_01.py\n",
        "\n",
        "import datetime\n",
        "import pathlib\n",
        "from zipfile import ZipFile\n",
        "\n",
        "\n",
        "\n",
        "FILE_PATTERN = \"*.txt\"             #A\n",
        "ARCHIVE = \"archive\"\n",
        "\n",
        "def main():\n",
        "\n",
        "    cur_path = pathlib.Path(\".\")\n",
        "    archive_path = cur_path.joinpath(ARCHIVE)\n",
        "    archive_path.mkdir(exist_ok=True)  \n",
        "\n",
        "    zip_name = datetime.date.today().strftime(\"%Y-%m-%d\")    # Ritorna la data odierna in formato YYYY-MM-DD\n",
        "    zip_path = archive_path.joinpath(zip_name) # Il path dove inserire il file zip è all'interno di \"archive\"\n",
        "\n",
        "    paths = cur_path.glob(FILE_PATTERN) # Otteniamo i path object dei 3 file txt presenti in directory\n",
        "\n",
        "    with ZipFile(zip_path, 'w') as myzip:\n",
        "        for path in paths:\n",
        "            myzip.write(path)     # Aggiunge il file allo ZIP\n",
        "            path.unlink()         # Elimina il file originale dalla directory\n",
        "\n",
        "if __name__ == '__main__':\n",
        "     main()"
      ]
    },
    {
      "cell_type": "code",
      "execution_count": 8,
      "metadata": {
        "id": "DdMt_0AcdI3v"
      },
      "outputs": [],
      "source": [
        "# Listing 20.3 File files_03.py\n",
        "\n",
        "import datetime\n",
        "import pathlib\n",
        "import zipfile          #A\n",
        "\n",
        "FILE_PATTERN = \"*.txt\"\n",
        "ARCHIVE = \"archive\"\n",
        "\n",
        "def main():\n",
        "\n",
        "    date_string = datetime.date.today().strftime(\"%Y-%m-%d\")\n",
        "\n",
        "    cur_path = pathlib.Path(\".\")\n",
        "    archive_path = cur_path.joinpath(ARCHIVE)\n",
        "    archive_path.mkdir(exist_ok=True)\n",
        "\n",
        "    paths = cur_path.glob(FILE_PATTERN)\n",
        "\n",
        "    zip_file_path = cur_path.joinpath(ARCHIVE, date_string + \".zip\")   #B\n",
        "    zip_file = zipfile.ZipFile(str(zip_file_path), \"w\")       #C\n",
        "\n",
        "    for path in paths:\n",
        "        zip_file.write(str(path))                                 #D\n",
        "        path.unlink()             #E\n",
        "\n",
        "if __name__ == '__main__':\n",
        "     main()"
      ]
    },
    {
      "cell_type": "markdown",
      "metadata": {
        "id": "cQrO5qVCk_5v"
      },
      "source": [
        "## 20.4.2 Grooming files"
      ]
    },
    {
      "cell_type": "markdown",
      "metadata": {
        "id": "CSiT0khclC0e"
      },
      "source": [
        "### Listing 20.4 File files_04.py"
      ]
    },
    {
      "cell_type": "code",
      "execution_count": 45,
      "metadata": {
        "id": "zfiyyAKJJLvN"
      },
      "outputs": [],
      "source": [
        "# run this before running cell below\n",
        "# create zip files in archive directory\n",
        "from datetime import datetime, timedelta\n",
        "\n",
        "\n",
        "def populate_archive(zip_file_path, current_date):\n",
        "    for days in range(30, 40):\n",
        "        zip_date = current_date - timedelta(days=days)\n",
        "        new_zip_path = zip_file_path.joinpath(f\"{zip_date.strftime('%Y-%m-%d')}.zip\")\n",
        "        zip_file = new_zip_path.write_text(\"Test\")\n",
        "\n",
        "cur_path = pathlib.Path(\".\")\n",
        "zip_file_path = cur_path.joinpath(ARCHIVE)\n",
        "current_date = datetime.today()\n",
        "populate_archive(zip_file_path, current_date)"
      ]
    },
    {
      "cell_type": "code",
      "execution_count": 44,
      "metadata": {
        "id": "wQq4s_RqdI3v"
      },
      "outputs": [],
      "source": [
        "# Listing 20.4 File files_04.py\n",
        "\n",
        "from datetime import datetime, timedelta\n",
        "import pathlib\n",
        "import zipfile\n",
        "\n",
        "FILE_PATTERN = \"*.zip\"\n",
        "ARCHIVE = \"archive\"\n",
        "ARCHIVE_WEEKDAY = 1\n",
        "def main():\n",
        "    cur_path = pathlib.Path(\".\")\n",
        "    zip_file_path = cur_path.joinpath(ARCHIVE)\n",
        "\n",
        "    paths = zip_file_path.glob(FILE_PATTERN)\n",
        "    current_date = datetime.today()    #A\n",
        "\n",
        "    for path in paths:\n",
        "        name = path.stem              #B\n",
        "        path_date = datetime.strptime(name, \"%Y-%m-%d\")     #C\n",
        "        path_timedelta = current_date - path_date          #D\n",
        "        if (path_timedelta > timedelta(days=30)\n",
        "                and path_date.weekday() != ARCHIVE_WEEKDAY):    #E\n",
        "            path.unlink()\n",
        "\n",
        "if __name__ == '__main__':\n",
        "     main()"
      ]
    },
    {
      "cell_type": "markdown",
      "metadata": {
        "id": "tyG96WH3ZDnL"
      },
      "source": [
        "### Quick Check: Consider different parameters\n",
        "\n",
        "Take some time to consider different grooming options. How would you modify the code in the previous Try This to keep only one file a month? How would you change the code so that files from the previous month and older are groomed to save one a week? (Note: This is not the same as older than 30 days!)\n",
        "\n",
        "#### Discussion\n",
        "You could use something similar to the code above but also check the month of the file against the current month."
      ]
    },
    {
      "cell_type": "code",
      "execution_count": 25,
      "metadata": {},
      "outputs": [],
      "source": [
        "# run this before running cell below\n",
        "# create zip files in archive directory\n",
        "from datetime import datetime, timedelta\n",
        "import pathlib\n",
        "import zipfile\n",
        "\n",
        "ARCHIVE = \"archive\"\n",
        "\n",
        "def populate_archive(zip_file_path, current_date):\n",
        "    for days in range(30, 40):\n",
        "        zip_date = current_date - timedelta(days=days)\n",
        "        new_zip_path = zip_file_path.joinpath(f\"{zip_date.strftime('%Y-%m-%d')}.zip\")\n",
        "        zip_file = new_zip_path.write_text(\"Test\")\n",
        "\n",
        "cur_path = pathlib.Path(\".\")\n",
        "zip_file_path = cur_path.joinpath(ARCHIVE)\n",
        "current_date = datetime.today()\n",
        "populate_archive(zip_file_path, current_date)"
      ]
    },
    {
      "cell_type": "code",
      "execution_count": null,
      "metadata": {},
      "outputs": [],
      "source": [
        "# Manteniamo solo un file per mese\n",
        "# Dobbiamo verificare qual è il file più recente per ogni mese e verificare se il nuovo file rispetto allo stesso mese è più recente.\n",
        "# Se è piu recente elimiamo quello presente ed inseriamo quello nuovo, altrimenti niente.\n",
        "\n",
        "from datetime import datetime, timedelta\n",
        "import pathlib\n",
        "import zipfile\n",
        "\n",
        "FILE_PATTERN = \"*.zip\"\n",
        "ARCHIVE = \"archive\"\n",
        "ARCHIVE_WEEKDAY = 1\n",
        "\n",
        "def main():\n",
        "    \n",
        "    # Otteniamo elenco dei file attualmente presenti\n",
        "    cur_path = pathlib.Path(\".\")\n",
        "    zip_file_path = cur_path.joinpath(ARCHIVE)\n",
        "    paths = zip_file_path.glob(FILE_PATTERN)\n",
        "\n",
        "    # Inizializziamo un dizionario per mantenere il file più recente per ogni mese (anno, mese) = datetime object\n",
        "    latest_per_month = {}\n",
        "\n",
        "    for path in paths:\n",
        "        file_data = datetime.strptime(path.stem, \"%Y-%m-%d\")\n",
        "        year_month = (file_data.year, file_data.month)\n",
        "\n",
        "        # Se il mese non è presente, o la data trovata è più recente, aggiorna il dizionario e tieni il file nuovo\n",
        "        if year_month not in latest_per_month or file_data > latest_per_month[year_month][0]:\n",
        "            # E se era presente già un file lo andiamo ad eliminare prima di inserire quello nuovo\n",
        "            if year_month in latest_per_month:\n",
        "                latest_per_month[year_month][1].unlink(missing_ok=True) # Stiamo puntando al dizionario, alla chiave anno-mese che restituisce indice 1 della tupla (file_data, path). Quindi stiamo correttamente eliminando il file da ARCHIVE\n",
        "            \n",
        "            latest_per_month[year_month] = (file_data, path)\n",
        "\n",
        "if __name__ == '__main__':\n",
        "     main()"
      ]
    },
    {
      "cell_type": "code",
      "execution_count": 27,
      "metadata": {},
      "outputs": [],
      "source": [
        "from datetime import datetime, timedelta\n",
        "import pathlib\n",
        "import zipfile\n",
        "\n",
        "ARCHIVE = \"archive\"\n",
        "\n",
        "def populate_archive(zip_file_path, start_date, end_date):\n",
        "    zip_file_path.mkdir(exist_ok=True)\n",
        "    current_date = start_date\n",
        "    while current_date <= end_date:\n",
        "        zip_filename = f\"{current_date.strftime('%Y-%m-%d')}.zip\"\n",
        "        zip_full_path = zip_file_path / zip_filename\n",
        "        with zipfile.ZipFile(zip_full_path, mode=\"w\") as zf:\n",
        "            zf.writestr(\"Test.txt\", \"Test\")\n",
        "        current_date += timedelta(days=1)\n",
        "\n",
        "cur_path = pathlib.Path(\".\")\n",
        "zip_file_path = cur_path / ARCHIVE\n",
        "start_date = datetime(2025, 5, 1)\n",
        "end_date = datetime.today()  # 2025-08-18\n",
        "\n",
        "populate_archive(zip_file_path, start_date, end_date)\n"
      ]
    },
    {
      "cell_type": "code",
      "execution_count": null,
      "metadata": {},
      "outputs": [],
      "source": [
        "# Manteniamo solo un file per mese\n",
        "# Dobbiamo mantenere solo un file per settimana per i file che hanno più di 30 giorni.\n",
        "# Quindi dobbiamo vedere se sono passati più di 30 giorni rispetto al file che verifichiamo. Se sono passati più di 30 giorni confrontiamo questo file con quanto presente nel dizionario, se questo è più recente sostituiamo altrimenti no.\n",
        "# La chiave del dizionario ora è anno-settimana\n",
        "\n",
        "from datetime import datetime, timedelta\n",
        "import pathlib\n",
        "import zipfile\n",
        "\n",
        "FILE_PATTERN = \"*.zip\"\n",
        "ARCHIVE = \"archive\"\n",
        "ARCHIVE_WEEKDAY = 1\n",
        "\n",
        "def main():\n",
        "    \n",
        "    # Otteniamo elenco dei file attualmente presenti\n",
        "    cur_path = pathlib.Path(\".\")\n",
        "    zip_file_path = cur_path.joinpath(ARCHIVE)\n",
        "    paths = zip_file_path.glob(FILE_PATTERN)\n",
        "\n",
        "    # Inizializziamo un dizionario per mantenere il file più recente per ogni mese (anno, mese) = datetime object\n",
        "    weekly_archives = {}\n",
        "\n",
        "    for path in paths:\n",
        "        file_data = datetime.strptime(path.stem, \"%Y-%m-%d\")\n",
        "        year_week = (file_data.year, file_data.isocalendar()[1]) # Ritorna una tupla anno-settimana\n",
        "\n",
        "\n",
        "        delta_data = (datetime.today() - file_data).days # Delta in giorni tra la data del file e oggi\n",
        "\n",
        "        # Se sono passati più di 30 giorni\n",
        "        if delta_data > 30:\n",
        "            # E la settimana non è presente, o la data trovata è più recente, aggiorna il dizionario e tieni il file nuovo\n",
        "            if year_week not in weekly_archives or file_data > weekly_archives[year_week][0]:\n",
        "            # E se era presente già un file lo andiamo ad eliminare prima di inserire quello nuovo\n",
        "                if year_week in weekly_archives:\n",
        "                    weekly_archives[year_week][1].unlink(missing_ok=True) # Stiamo puntando al dizionario, alla chiave anno-mese che restituisce indice 1 della tupla (file_data, path). Quindi stiamo correttamente eliminando il file da ARCHIVE\n",
        "            \n",
        "            weekly_archives[year_week] = (file_data, path)\n",
        "\n",
        "if __name__ == '__main__':\n",
        "     main()"
      ]
    }
  ],
  "metadata": {
    "colab": {
      "include_colab_link": true,
      "provenance": []
    },
    "kernelspec": {
      "display_name": "Python 3",
      "name": "python3"
    },
    "language_info": {
      "codemirror_mode": {
        "name": "ipython",
        "version": 3
      },
      "file_extension": ".py",
      "mimetype": "text/x-python",
      "name": "python",
      "nbconvert_exporter": "python",
      "pygments_lexer": "ipython3",
      "version": "3.13.7"
    }
  },
  "nbformat": 4,
  "nbformat_minor": 0
}

{
  "cells": [
    {
      "cell_type": "markdown",
      "metadata": {
        "colab_type": "text",
        "id": "view-in-github"
      },
      "source": [
        "<a href=\"https://colab.research.google.com/github/nceder/qpb4e/blob/main/code/Chapter%2004/Chapter_04.ipynb\" target=\"_parent\"><img src=\"https://colab.research.google.com/assets/colab-badge.svg\" alt=\"Open In Colab\"/></a>"
      ]
    },
    {
      "cell_type": "markdown",
      "metadata": {
        "id": "n2wTDJwP0584"
      },
      "source": [
        "# 4 The absolute basics\n",
        "\n",
        "# 4.3 Variables and assignments"
      ]
    },
    {
      "cell_type": "code",
      "execution_count": 24,
      "metadata": {
        "colab": {
          "base_uri": "https://localhost:8080/"
        },
        "id": "8g8jx3UEmqH-",
        "outputId": "469dbaec-c43b-40e8-f031-075acaaaa69c"
      },
      "outputs": [
        {
          "name": "stdout",
          "output_type": "stream",
          "text": [
            "[1, 5, 3] [1, 5, 3] [1, 5, 3]\n"
          ]
        }
      ],
      "source": [
        "a = [1, 2, 3]\n",
        "b = a\n",
        "c = b\n",
        "b[1] = 5\n",
        "print(a, b, c)"
      ]
    },
    {
      "cell_type": "code",
      "execution_count": 25,
      "metadata": {
        "colab": {
          "base_uri": "https://localhost:8080/"
        },
        "id": "1c49W7Dym7Db",
        "outputId": "93b79f17-602d-474b-c67d-ffc74732017f"
      },
      "outputs": [
        {
          "name": "stdout",
          "output_type": "stream",
          "text": [
            "1 5 1\n"
          ]
        }
      ],
      "source": [
        "a = 1\n",
        "b = a\n",
        "c = b\n",
        "b = 5\n",
        "print(a, b, c)"
      ]
    },
    {
      "cell_type": "code",
      "execution_count": 26,
      "metadata": {
        "colab": {
          "base_uri": "https://localhost:8080/"
        },
        "id": "ULaLK8hkm9R4",
        "outputId": "c31eb2f8-c559-4c83-8ca5-e272d53b9e1b"
      },
      "outputs": [
        {
          "name": "stdout",
          "output_type": "stream",
          "text": [
            "Hello\n"
          ]
        }
      ],
      "source": [
        "x = \"Hello\"\n",
        "print(x)"
      ]
    },
    {
      "cell_type": "code",
      "execution_count": 27,
      "metadata": {
        "colab": {
          "base_uri": "https://localhost:8080/"
        },
        "id": "LbBk2lQ2m_Z5",
        "outputId": "e5cf2c75-da77-44c0-cfe2-80900068d6b0"
      },
      "outputs": [
        {
          "name": "stdout",
          "output_type": "stream",
          "text": [
            "5\n"
          ]
        }
      ],
      "source": [
        "x = 5\n",
        "print(x)"
      ]
    },
    {
      "cell_type": "code",
      "execution_count": 28,
      "metadata": {
        "colab": {
          "base_uri": "https://localhost:8080/",
          "height": 159
        },
        "id": "-jyNp9ObnCfa",
        "outputId": "692728f0-4f10-4221-d0cb-c6cc65be9f51"
      },
      "outputs": [
        {
          "ename": "NameError",
          "evalue": "name 'x' is not defined",
          "output_type": "error",
          "traceback": [
            "\u001b[31m---------------------------------------------------------------------------\u001b[39m",
            "\u001b[31mNameError\u001b[39m                                 Traceback (most recent call last)",
            "\u001b[36mCell\u001b[39m\u001b[36m \u001b[39m\u001b[32mIn[28]\u001b[39m\u001b[32m, line 2\u001b[39m\n\u001b[32m      1\u001b[39m \u001b[38;5;28;01mdel\u001b[39;00m x\n\u001b[32m----> \u001b[39m\u001b[32m2\u001b[39m \u001b[38;5;28mprint\u001b[39m(\u001b[43mx\u001b[49m)\n",
            "\u001b[31mNameError\u001b[39m: name 'x' is not defined"
          ]
        }
      ],
      "source": [
        "del x\n",
        "print(x)"
      ]
    },
    {
      "cell_type": "markdown",
      "metadata": {
        "id": "ZOknedM1zwHR"
      },
      "source": [
        "# 4.4 Optional type hints in Python"
      ]
    },
    {
      "cell_type": "code",
      "execution_count": null,
      "metadata": {
        "id": "THuDfQodnILY"
      },
      "outputs": [],
      "source": [
        "def add_ints(x: int, y: int) -> int:      #A\n",
        "     return x + y\n",
        "\n",
        "p: int = 2.3                               #B\n",
        "z = add_ints(1, 2)\n",
        "w = add_ints(1.5, 2.5)                     #C"
      ]
    },
    {
      "cell_type": "markdown",
      "metadata": {
        "id": "PasAeyCPz5Wj"
      },
      "source": [
        "# 4.5 Expressions"
      ]
    },
    {
      "cell_type": "code",
      "execution_count": null,
      "metadata": {
        "id": "qFHAMthGnPcy"
      },
      "outputs": [],
      "source": [
        "x = 3\n",
        "y = 5\n",
        "z = (x + y) / 2"
      ]
    },
    {
      "cell_type": "markdown",
      "metadata": {
        "id": "DosYeymmQxJ-"
      },
      "source": [
        "### Try This: variables and expressions\n",
        "In the cell below, create some variables. What happens when you try to put spaces, dashes, or other nonalphanumeric characters in the variable name? Play around with a few complex expressions, such as x = 2 + 4 * 5 - 6 / 3. Use parentheses to group the numbers in different ways, and see how that changes the result compared with the original ungrouped expression."
      ]
    },
    {
      "cell_type": "code",
      "execution_count": null,
      "metadata": {
        "id": "t_djqE0_RIdl"
      },
      "outputs": [
        {
          "data": {
            "text/plain": [
              "20.0"
            ]
          },
          "execution_count": 5,
          "metadata": {},
          "output_type": "execute_result"
        }
      ],
      "source": [
        "# enter you experiments in this cell\n",
        "x = 2 + (4 * 5) - (6 / 3)\n",
        "x"
      ]
    },
    {
      "cell_type": "markdown",
      "metadata": {
        "id": "AAnlYyi2z_Lo"
      },
      "source": [
        "# 4.6 Strings"
      ]
    },
    {
      "cell_type": "code",
      "execution_count": null,
      "metadata": {
        "id": "3kCtEdNknVGM"
      },
      "outputs": [
        {
          "name": "stdout",
          "output_type": "stream",
          "text": [
            "\tThis string starts with a \"tab\".\n",
            "This string contains a single backslash(\\).\n"
          ]
        }
      ],
      "source": [
        "x = \"\\tThis string starts with a \\\"tab\\\".\"\n",
        "print(x)\n",
        "x = \"This string contains a single backslash(\\\\).\"\n",
        "print(x)"
      ]
    },
    {
      "cell_type": "code",
      "execution_count": null,
      "metadata": {
        "id": "2s1sB74wnePS"
      },
      "outputs": [
        {
          "name": "stdout",
          "output_type": "stream",
          "text": [
            "Hello, World\n",
            "Hello, World\n"
          ]
        }
      ],
      "source": [
        "x = \"Hello, World\"\n",
        "print(x)\n",
        "x = 'Hello, World'\n",
        "print(x)"
      ]
    },
    {
      "cell_type": "code",
      "execution_count": null,
      "metadata": {
        "id": "uX_b6XDgng5Y"
      },
      "outputs": [
        {
          "name": "stdout",
          "output_type": "stream",
          "text": [
            "Don't need a backslash\n",
            "Can't get by without a backslash\n",
            "Backslash your \" character!\n",
            "You can leave the \" alone\n"
          ]
        }
      ],
      "source": [
        "x = \"Don't need a backslash\"\n",
        "print(x)\n",
        "x = 'Can\\'t get by without a backslash'\n",
        "print(x)\n",
        "x = \"Backslash your \\\" character!\"\n",
        "print(x)\n",
        "x = 'You can leave the \" alone'\n",
        "print(x)"
      ]
    },
    {
      "cell_type": "code",
      "execution_count": null,
      "metadata": {
        "colab": {
          "base_uri": "https://localhost:8080/",
          "height": 106
        },
        "id": "ymI9qau7ni4U",
        "outputId": "0be2e90a-8c81-421f-e08e-57e9cff85e18"
      },
      "outputs": [
        {
          "ename": "SyntaxError",
          "evalue": "unterminated string literal (detected at line 3) (75225033.py, line 3)",
          "output_type": "error",
          "traceback": [
            "  \u001b[36mCell\u001b[39m\u001b[36m \u001b[39m\u001b[32mIn[12]\u001b[39m\u001b[32m, line 3\u001b[39m\n\u001b[31m    \u001b[39m\u001b[31mx = \"This is a misguided attempt to\u001b[39m\n        ^\n\u001b[31mSyntaxError\u001b[39m\u001b[31m:\u001b[39m unterminated string literal (detected at line 3)\n"
          ]
        }
      ],
      "source": [
        "# This Python code will cause an ERROR -- you can't\n",
        "# split the string across two lines.\n",
        "x = \"This is a misguided attempt to\n",
        "put a newline into a string without using backslash-n\""
      ]
    },
    {
      "cell_type": "code",
      "execution_count": null,
      "metadata": {
        "id": "QzPjbAtEnksr"
      },
      "outputs": [
        {
          "name": "stdout",
          "output_type": "stream",
          "text": [
            "Starting and ending a string with triple \" or ' characters\n",
            "permits embedded newlines, and the use of \" and ' without\n",
            "backslashes\n"
          ]
        }
      ],
      "source": [
        "x = \"\"\"Starting and ending a string with triple \" or ' characters\n",
        "permits embedded newlines, and the use of \" and ' without\n",
        "backslashes\"\"\"\n",
        "print(x)"
      ]
    },
    {
      "cell_type": "markdown",
      "metadata": {
        "id": "4ird8jPC0FT3"
      },
      "source": [
        "# 4.7 Numbers"
      ]
    },
    {
      "cell_type": "code",
      "execution_count": null,
      "metadata": {
        "colab": {
          "base_uri": "https://localhost:8080/"
        },
        "id": "bYtpe0AanqRN",
        "outputId": "f6e29164-0751-4648-98b5-f9d77bdf0109"
      },
      "outputs": [
        {
          "data": {
            "text/plain": [
              "1"
            ]
          },
          "execution_count": 15,
          "metadata": {},
          "output_type": "execute_result"
        }
      ],
      "source": [
        "5 + 2 - 3 * 2"
      ]
    },
    {
      "cell_type": "code",
      "execution_count": null,
      "metadata": {
        "colab": {
          "base_uri": "https://localhost:8080/"
        },
        "id": "mv9KGuIznt_2",
        "outputId": "e7385080-ad64-4bf1-d0f1-ebcbe053ad53"
      },
      "outputs": [
        {
          "data": {
            "text/plain": [
              "2.5"
            ]
          },
          "execution_count": 16,
          "metadata": {},
          "output_type": "execute_result"
        }
      ],
      "source": [
        "5 / 2          # floating-point result with normal division"
      ]
    },
    {
      "cell_type": "code",
      "execution_count": null,
      "metadata": {
        "colab": {
          "base_uri": "https://localhost:8080/"
        },
        "id": "T94Vuznjnv5i",
        "outputId": "310382a3-0628-4e66-8f41-a9ea84e44140"
      },
      "outputs": [
        {
          "data": {
            "text/plain": [
              "3.125"
            ]
          },
          "execution_count": 17,
          "metadata": {},
          "output_type": "execute_result"
        }
      ],
      "source": [
        "5 / 1       # also a floating-point result"
      ]
    },
    {
      "cell_type": "code",
      "execution_count": null,
      "metadata": {
        "colab": {
          "base_uri": "https://localhost:8080/"
        },
        "id": "aBkXuygAnysg",
        "outputId": "0e812cbb-103a-4ba1-83d5-2ce7a0717edc"
      },
      "outputs": [
        {
          "data": {
            "text/plain": [
              "3.0"
            ]
          },
          "execution_count": 16,
          "metadata": {},
          "output_type": "execute_result"
        }
      ],
      "source": [
        "5 // 2         # integer result with truncation when divided using '//'"
      ]
    },
    {
      "cell_type": "code",
      "execution_count": null,
      "metadata": {
        "colab": {
          "base_uri": "https://localhost:8080/"
        },
        "id": "6Wv3oCN-n0nQ",
        "outputId": "a99fe050-80e9-463a-9f03-dbe0aa977cae"
      },
      "outputs": [
        {
          "data": {
            "text/plain": [
              "30000000000"
            ]
          },
          "execution_count": 19,
          "metadata": {},
          "output_type": "execute_result"
        }
      ],
      "source": [
        "30000000000    # This would be too large to be an int in many languages"
      ]
    },
    {
      "cell_type": "code",
      "execution_count": null,
      "metadata": {
        "colab": {
          "base_uri": "https://localhost:8080/"
        },
        "id": "bdMAGZRjn23-",
        "outputId": "e3a670eb-1b09-435a-cc07-0978cb29c5fb"
      },
      "outputs": [
        {
          "data": {
            "text/plain": [
              "90000000000"
            ]
          },
          "execution_count": 20,
          "metadata": {},
          "output_type": "execute_result"
        }
      ],
      "source": [
        "30000000000 * 3"
      ]
    },
    {
      "cell_type": "code",
      "execution_count": null,
      "metadata": {
        "colab": {
          "base_uri": "https://localhost:8080/"
        },
        "id": "XCU8_ZhYn4kS",
        "outputId": "4679224b-8875-4808-b847-9a61ad10fd53"
      },
      "outputs": [
        {
          "data": {
            "text/plain": [
              "90000000000.0"
            ]
          },
          "execution_count": 21,
          "metadata": {},
          "output_type": "execute_result"
        }
      ],
      "source": [
        "30000000000 * 3.0"
      ]
    },
    {
      "cell_type": "code",
      "execution_count": null,
      "metadata": {
        "colab": {
          "base_uri": "https://localhost:8080/"
        },
        "id": "3QLLaI2rn9Ys",
        "outputId": "a8120eaa-7224-4650-d8f2-5144ce038dd1"
      },
      "outputs": [
        {
          "data": {
            "text/plain": [
              "2e-08"
            ]
          },
          "execution_count": 18,
          "metadata": {},
          "output_type": "execute_result"
        }
      ],
      "source": [
        "2.0e-8         # Scientific notation gives back a float"
      ]
    },
    {
      "cell_type": "code",
      "execution_count": null,
      "metadata": {
        "colab": {
          "base_uri": "https://localhost:8080/"
        },
        "id": "Jo0QnEKqn_5p",
        "outputId": "bd7117e4-8ddf-44c2-c61a-2ff2bab982df"
      },
      "outputs": [
        {
          "data": {
            "text/plain": [
              "9000000000000"
            ]
          },
          "execution_count": 19,
          "metadata": {},
          "output_type": "execute_result"
        }
      ],
      "source": [
        "3000000 * 3000000"
      ]
    },
    {
      "cell_type": "code",
      "execution_count": null,
      "metadata": {
        "colab": {
          "base_uri": "https://localhost:8080/"
        },
        "id": "wfMiX4h2oKn4",
        "outputId": "3ed80338-e03d-460b-b6b7-f54287357f32"
      },
      "outputs": [
        {
          "data": {
            "text/plain": [
              "200"
            ]
          },
          "execution_count": 24,
          "metadata": {},
          "output_type": "execute_result"
        }
      ],
      "source": [
        "int(200.2)"
      ]
    },
    {
      "cell_type": "code",
      "execution_count": null,
      "metadata": {
        "colab": {
          "base_uri": "https://localhost:8080/"
        },
        "id": "_mtTjgnWoFMK",
        "outputId": "3f874e8a-f5a8-44fd-ddbf-108c538c890a"
      },
      "outputs": [
        {
          "data": {
            "text/plain": [
              "200"
            ]
          },
          "execution_count": 25,
          "metadata": {},
          "output_type": "execute_result"
        }
      ],
      "source": [
        "int(2e2)"
      ]
    },
    {
      "cell_type": "code",
      "execution_count": null,
      "metadata": {
        "colab": {
          "base_uri": "https://localhost:8080/"
        },
        "id": "Z-k6n72boHn5",
        "outputId": "e6852a3c-7f62-4828-d37a-cb08c6f81f93"
      },
      "outputs": [
        {
          "data": {
            "text/plain": [
              "200.0"
            ]
          },
          "execution_count": 26,
          "metadata": {},
          "output_type": "execute_result"
        }
      ],
      "source": [
        "float(200)"
      ]
    },
    {
      "cell_type": "code",
      "execution_count": null,
      "metadata": {},
      "outputs": [
        {
          "name": "stdout",
          "output_type": "stream",
          "text": [
            "0xff 0o377 256\n"
          ]
        }
      ],
      "source": [
        "x = hex(255)         # Convert an integer to a hexadecimal string\n",
        "y = oct(255)         # Convert an integer to an octal string\n",
        "z = pow(2, 8)         # Calculate 2 raised to the power of 8\n",
        "print(x, y, z)"
      ]
    },
    {
      "cell_type": "markdown",
      "metadata": {
        "id": "sLWi1fGJ0Ksc"
      },
      "source": [
        "## 4.7.4 Complex numbers"
      ]
    },
    {
      "cell_type": "code",
      "execution_count": null,
      "metadata": {
        "colab": {
          "base_uri": "https://localhost:8080/"
        },
        "id": "b4Ep86IEoUFm",
        "outputId": "ee5a93ec-f67b-4ba1-f034-626f9eb13c6b"
      },
      "outputs": [
        {
          "data": {
            "text/plain": [
              "(3+2j)"
            ]
          },
          "execution_count": 27,
          "metadata": {},
          "output_type": "execute_result"
        }
      ],
      "source": [
        "(3+2j)"
      ]
    },
    {
      "cell_type": "code",
      "execution_count": null,
      "metadata": {
        "colab": {
          "base_uri": "https://localhost:8080/"
        },
        "id": "sN8M2R51oaXg",
        "outputId": "1c7eb90a-686d-4399-8ad3-4fdc1b2b9de0"
      },
      "outputs": [
        {
          "data": {
            "text/plain": [
              "(-1-2j)"
            ]
          },
          "execution_count": 28,
          "metadata": {},
          "output_type": "execute_result"
        }
      ],
      "source": [
        "3 + 2j - (4+4j)"
      ]
    },
    {
      "cell_type": "code",
      "execution_count": null,
      "metadata": {
        "colab": {
          "base_uri": "https://localhost:8080/"
        },
        "id": "PxADwcB2ocA9",
        "outputId": "4ade4f43-76cb-480f-865a-70bc00c7d9af"
      },
      "outputs": [
        {
          "data": {
            "text/plain": [
              "(-5+10j)"
            ]
          },
          "execution_count": 29,
          "metadata": {},
          "output_type": "execute_result"
        }
      ],
      "source": [
        "(1+2j) * (3+4j)"
      ]
    },
    {
      "cell_type": "code",
      "execution_count": null,
      "metadata": {
        "colab": {
          "base_uri": "https://localhost:8080/"
        },
        "id": "fz9yghT1odqE",
        "outputId": "38fd19d8-71b8-46e5-9a4a-03e6a4824654"
      },
      "outputs": [
        {
          "data": {
            "text/plain": [
              "(-1+0j)"
            ]
          },
          "execution_count": 30,
          "metadata": {},
          "output_type": "execute_result"
        }
      ],
      "source": [
        "1j * 1j"
      ]
    },
    {
      "cell_type": "code",
      "execution_count": null,
      "metadata": {
        "colab": {
          "base_uri": "https://localhost:8080/"
        },
        "id": "yuHZBhM9ofM1",
        "outputId": "a6edb1e1-1dbb-4fb8-858a-a72a30309433"
      },
      "outputs": [
        {
          "data": {
            "text/plain": [
              "3.0"
            ]
          },
          "execution_count": 31,
          "metadata": {},
          "output_type": "execute_result"
        }
      ],
      "source": [
        "z = (3+5j)\n",
        "z.real"
      ]
    },
    {
      "cell_type": "code",
      "execution_count": null,
      "metadata": {
        "colab": {
          "base_uri": "https://localhost:8080/"
        },
        "id": "TSAsAoNsogx0",
        "outputId": "df66faed-2d1d-4a0b-8087-565a30e81976"
      },
      "outputs": [
        {
          "data": {
            "text/plain": [
              "5.0"
            ]
          },
          "execution_count": 32,
          "metadata": {},
          "output_type": "execute_result"
        }
      ],
      "source": [
        "z.imag"
      ]
    },
    {
      "cell_type": "markdown",
      "metadata": {
        "id": "rCwa27Hz0Sej"
      },
      "source": [
        "## 4.7.5 Advanced complex-number functions"
      ]
    },
    {
      "cell_type": "code",
      "execution_count": null,
      "metadata": {
        "colab": {
          "base_uri": "https://localhost:8080/"
        },
        "id": "wr6XRb7_oim4",
        "outputId": "94c00415-0492-413c-95cd-51e153778576"
      },
      "outputs": [
        {
          "data": {
            "text/plain": [
              "1j"
            ]
          },
          "execution_count": 33,
          "metadata": {},
          "output_type": "execute_result"
        }
      ],
      "source": [
        "import cmath\n",
        "cmath.sqrt(-1)"
      ]
    },
    {
      "cell_type": "code",
      "execution_count": 22,
      "metadata": {},
      "outputs": [
        {
          "data": {
            "text/plain": [
              "148.4131591025766"
            ]
          },
          "execution_count": 22,
          "metadata": {},
          "output_type": "execute_result"
        }
      ],
      "source": [
        "from math import *\n",
        "exp(5)"
      ]
    },
    {
      "cell_type": "code",
      "execution_count": 23,
      "metadata": {},
      "outputs": [
        {
          "data": {
            "text/plain": [
              "148.4131591025766"
            ]
          },
          "execution_count": 23,
          "metadata": {},
          "output_type": "execute_result"
        }
      ],
      "source": [
        "import math\n",
        "math.exp(5)"
      ]
    },
    {
      "cell_type": "markdown",
      "metadata": {
        "id": "r7wL_czCS_od"
      },
      "source": [
        "### Try This: Manipulating strings and numbers\n",
        "In the cell below, create some string and number variables (integers, floats, and complex numbers). Experiment a bit with what happens when you do operations with them, including across types. Can you multiply a string by an integer, for example, or by a float or complex number? Also, load the math module and try out a few of the functions; then load the cmath module and do the same. What happens if you try to use one of those functions on an integer or float after loading the cmath module? How might you get the math module functions back?"
      ]
    },
    {
      "cell_type": "code",
      "execution_count": null,
      "metadata": {
        "id": "uOzCnEmkTbN7"
      },
      "outputs": [
        {
          "name": "stdout",
          "output_type": "stream",
          "text": [
            "pythonpythonpythonpythonpython\n",
            "(3+4j)\n",
            "3.0\n"
          ]
        }
      ],
      "source": [
        "# enter you experiments in this cell\n",
        "\n",
        "x = 5 * 'python'\n",
        "print(x)\n",
        "\n",
        "# y = 2.5 * 'python' # This will cause an error because you can't multiply a string by a float\n",
        "\n",
        "import cmath\n",
        "\n",
        "z = 3 + 4j\n",
        "print(z)\n",
        "print(z.real)"
      ]
    },
    {
      "cell_type": "markdown",
      "metadata": {
        "id": "PlSyGv_b0cmg"
      },
      "source": [
        "# 4.9 Getting input from the user"
      ]
    },
    {
      "cell_type": "code",
      "execution_count": 32,
      "metadata": {
        "colab": {
          "base_uri": "https://localhost:8080/"
        },
        "id": "2zXOWIdqoreo",
        "outputId": "fefe4a31-a241-47f5-b8a5-0b606e9b9399"
      },
      "outputs": [],
      "source": [
        "name = input(\"Name? \")"
      ]
    },
    {
      "cell_type": "code",
      "execution_count": 33,
      "metadata": {
        "colab": {
          "base_uri": "https://localhost:8080/"
        },
        "id": "vQAF6ENJo03r",
        "outputId": "d616e16d-a263-478c-b33a-a454af6bd3b6"
      },
      "outputs": [
        {
          "name": "stdout",
          "output_type": "stream",
          "text": [
            "Cristiano\n"
          ]
        }
      ],
      "source": [
        "print(name)"
      ]
    },
    {
      "cell_type": "code",
      "execution_count": 34,
      "metadata": {
        "colab": {
          "base_uri": "https://localhost:8080/"
        },
        "id": "UHfaYZNoouuw",
        "outputId": "0d131a36-947b-4366-dae0-cf61d5785869"
      },
      "outputs": [],
      "source": [
        "age = int(input(\"Age? \"))"
      ]
    },
    {
      "cell_type": "code",
      "execution_count": 35,
      "metadata": {
        "colab": {
          "base_uri": "https://localhost:8080/"
        },
        "id": "z2l4UfYcoxp7",
        "outputId": "55a8b25b-41f1-4897-81b7-052dafa80226"
      },
      "outputs": [
        {
          "name": "stdout",
          "output_type": "stream",
          "text": [
            "40\n"
          ]
        }
      ],
      "source": [
        "print(age)"
      ]
    },
    {
      "cell_type": "markdown",
      "metadata": {
        "id": "uFs-G80TVkiZ"
      },
      "source": [
        "### Try this: Getting input\n",
        "Experiment with the input() function to get string and integer input. Using code similar to the previous code, what is the effect of not using int() around the call to input()for integer input? Can you modify that code to accept a float—say, 28.5? What happens if you deliberately enter the wrong type of value? Examples include a float in which an integer is expected and a string in which a number is expected—and vice versa.\n"
      ]
    },
    {
      "cell_type": "code",
      "execution_count": 39,
      "metadata": {
        "id": "wi98ZYL7o6BQ"
      },
      "outputs": [
        {
          "name": "stdout",
          "output_type": "stream",
          "text": [
            "35.5\n"
          ]
        }
      ],
      "source": [
        "# enter you experiments in this cell\n",
        "\n",
        "age = float(input(\"Age? \"))\n",
        "print(age)"
      ]
    },
    {
      "cell_type": "markdown",
      "metadata": {
        "id": "O6f19qmkVtho"
      },
      "source": [
        "###Quick Check: Pythonic style\n",
        "Which of the following variable and function names do you think are not good Pythonic style? Why?\n",
        "\n",
        "`bar(), varName, VERYLONGVARNAME, foobar, longvarname, foo_bar(), really_very_long_var_name`\n",
        "\n",
        "* `bar(`: Not good, not legal, includes symbol\n",
        "* `varName`: Not good, mixed case\n",
        "* `VERYLONGVARNAME`: Not good, long, all caps, hard to read\n",
        "* `foobar`: Good\n",
        "* `longvarname`: Good, although underscores to separate words would be better\n",
        "* `foo_bar()`: Good\n",
        "* `really_very_long_var_name`: Long, but good if all of the words are needed, perhaps to distinguish among similar variables\n",
        "\n"
      ]
    }
  ],
  "metadata": {
    "colab": {
      "authorship_tag": "ABX9TyOOUfD65bH337wekz2krl+p",
      "include_colab_link": true,
      "provenance": []
    },
    "kernelspec": {
      "display_name": "Python 3",
      "name": "python3"
    },
    "language_info": {
      "codemirror_mode": {
        "name": "ipython",
        "version": 3
      },
      "file_extension": ".py",
      "mimetype": "text/x-python",
      "name": "python",
      "nbconvert_exporter": "python",
      "pygments_lexer": "ipython3",
      "version": "3.13.2"
    }
  },
  "nbformat": 4,
  "nbformat_minor": 0
}

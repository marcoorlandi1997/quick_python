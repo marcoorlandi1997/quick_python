{
  "cells": [
    {
      "cell_type": "markdown",
      "metadata": {
        "colab_type": "text",
        "id": "view-in-github"
      },
      "source": [
        "<a href=\"https://colab.research.google.com/github/nceder/qpb4e/blob/main/code/Chapter%2006/Chapter_06.ipynb\" target=\"_parent\"><img src=\"https://colab.research.google.com/assets/colab-badge.svg\" alt=\"Open In Colab\"/></a>"
      ]
    },
    {
      "cell_type": "markdown",
      "metadata": {
        "id": "JZ14_-OadAV0"
      },
      "source": [
        "\n",
        "# 6 Strings\n",
        "\n",
        "# 6.1 Strings as sequences of characters"
      ]
    },
    {
      "cell_type": "code",
      "execution_count": 1,
      "metadata": {
        "colab": {
          "base_uri": "https://localhost:8080/",
          "height": 35
        },
        "id": "_aibBBweqVME",
        "outputId": "41f399a7-11df-45f3-b20f-226fc182fcec"
      },
      "outputs": [
        {
          "data": {
            "text/plain": [
              "'H'"
            ]
          },
          "execution_count": 1,
          "metadata": {},
          "output_type": "execute_result"
        }
      ],
      "source": [
        "x = \"Hello\"\n",
        "x[0]"
      ]
    },
    {
      "cell_type": "code",
      "execution_count": 2,
      "metadata": {
        "colab": {
          "base_uri": "https://localhost:8080/",
          "height": 35
        },
        "id": "w5mS2NSvq7Uf",
        "outputId": "33dcfd96-ca7f-4810-9385-708e04b45388"
      },
      "outputs": [
        {
          "data": {
            "application/vnd.google.colaboratory.intrinsic+json": {
              "type": "string"
            },
            "text/plain": [
              "'o'"
            ]
          },
          "execution_count": 2,
          "metadata": {},
          "output_type": "execute_result"
        }
      ],
      "source": [
        "x[-1]"
      ]
    },
    {
      "cell_type": "code",
      "execution_count": 3,
      "metadata": {
        "colab": {
          "base_uri": "https://localhost:8080/",
          "height": 35
        },
        "id": "LOSO2jCqq_So",
        "outputId": "030b4867-1ebf-4fc9-e2ff-f86fe74ee5ea"
      },
      "outputs": [
        {
          "data": {
            "application/vnd.google.colaboratory.intrinsic+json": {
              "type": "string"
            },
            "text/plain": [
              "'ello'"
            ]
          },
          "execution_count": 3,
          "metadata": {},
          "output_type": "execute_result"
        }
      ],
      "source": [
        "x[1:]"
      ]
    },
    {
      "cell_type": "code",
      "execution_count": 4,
      "metadata": {
        "colab": {
          "base_uri": "https://localhost:8080/",
          "height": 35
        },
        "id": "17FujXUZrBas",
        "outputId": "96e9af71-0e75-4dc4-801f-fa49cf534038"
      },
      "outputs": [
        {
          "data": {
            "application/vnd.google.colaboratory.intrinsic+json": {
              "type": "string"
            },
            "text/plain": [
              "'Goodbye'"
            ]
          },
          "execution_count": 4,
          "metadata": {},
          "output_type": "execute_result"
        }
      ],
      "source": [
        "x = \"Goodbye\\n\"\n",
        "x = x[:-1]\n",
        "x"
      ]
    },
    {
      "cell_type": "code",
      "execution_count": 5,
      "metadata": {
        "colab": {
          "base_uri": "https://localhost:8080/"
        },
        "id": "IJwPv7MRrS9m",
        "outputId": "e6038eaf-3303-4dbd-c4ea-7bd57f1e41d8"
      },
      "outputs": [
        {
          "data": {
            "text/plain": [
              "7"
            ]
          },
          "execution_count": 5,
          "metadata": {},
          "output_type": "execute_result"
        }
      ],
      "source": [
        "len(\"Goodbye\")"
      ]
    },
    {
      "cell_type": "markdown",
      "metadata": {
        "id": "VC3_h5M2dLWB"
      },
      "source": [
        "# 6.2 Basic string operations"
      ]
    },
    {
      "cell_type": "code",
      "execution_count": 6,
      "metadata": {
        "colab": {
          "base_uri": "https://localhost:8080/",
          "height": 35
        },
        "id": "0dBuHywjrff4",
        "outputId": "72f25abf-7916-4ca3-a388-5b5c197a433d"
      },
      "outputs": [
        {
          "data": {
            "application/vnd.google.colaboratory.intrinsic+json": {
              "type": "string"
            },
            "text/plain": [
              "'Hello World'"
            ]
          },
          "execution_count": 6,
          "metadata": {},
          "output_type": "execute_result"
        }
      ],
      "source": [
        "x = \"Hello \" + \"World\"\n",
        "x"
      ]
    },
    {
      "cell_type": "code",
      "execution_count": 7,
      "metadata": {
        "colab": {
          "base_uri": "https://localhost:8080/",
          "height": 35
        },
        "id": "psICcGk_rwUq",
        "outputId": "8382f517-fcdd-49db-eafc-e768ab2a0e09"
      },
      "outputs": [
        {
          "data": {
            "application/vnd.google.colaboratory.intrinsic+json": {
              "type": "string"
            },
            "text/plain": [
              "'xxxxxxxx'"
            ]
          },
          "execution_count": 7,
          "metadata": {},
          "output_type": "execute_result"
        }
      ],
      "source": [
        "8 * \"x\""
      ]
    },
    {
      "cell_type": "markdown",
      "metadata": {
        "id": "R9mgP3LfdS06"
      },
      "source": [
        "# 6.3 Special characters and escape sequences\n",
        "\n",
        "## 6.3.2 Numeric (octal and hexadecimal) and Unicode escape sequences"
      ]
    },
    {
      "cell_type": "code",
      "execution_count": 8,
      "metadata": {
        "colab": {
          "base_uri": "https://localhost:8080/",
          "height": 35
        },
        "id": "QVSBx1cWrymA",
        "outputId": "4fc044da-ada4-48a5-f303-96ea1e2ba297"
      },
      "outputs": [
        {
          "data": {
            "application/vnd.google.colaboratory.intrinsic+json": {
              "type": "string"
            },
            "text/plain": [
              "'m'"
            ]
          },
          "execution_count": 8,
          "metadata": {},
          "output_type": "execute_result"
        }
      ],
      "source": [
        "'m'"
      ]
    },
    {
      "cell_type": "code",
      "execution_count": 9,
      "metadata": {
        "colab": {
          "base_uri": "https://localhost:8080/",
          "height": 35
        },
        "id": "T-zwj6aFsCcm",
        "outputId": "37ace19c-1214-4a4e-865a-e5c70e370ca9"
      },
      "outputs": [
        {
          "data": {
            "application/vnd.google.colaboratory.intrinsic+json": {
              "type": "string"
            },
            "text/plain": [
              "'m'"
            ]
          },
          "execution_count": 9,
          "metadata": {},
          "output_type": "execute_result"
        }
      ],
      "source": [
        "'\\155'"
      ]
    },
    {
      "cell_type": "code",
      "execution_count": 10,
      "metadata": {
        "colab": {
          "base_uri": "https://localhost:8080/",
          "height": 35
        },
        "id": "TIDKGCJ_sGVI",
        "outputId": "1b1cdf65-819b-49e1-a62c-84c94b2e3e00"
      },
      "outputs": [
        {
          "data": {
            "application/vnd.google.colaboratory.intrinsic+json": {
              "type": "string"
            },
            "text/plain": [
              "'m'"
            ]
          },
          "execution_count": 10,
          "metadata": {},
          "output_type": "execute_result"
        }
      ],
      "source": [
        "'\\x6D'"
      ]
    },
    {
      "cell_type": "code",
      "execution_count": 11,
      "metadata": {
        "colab": {
          "base_uri": "https://localhost:8080/",
          "height": 35
        },
        "id": "DmRCu9QesJGU",
        "outputId": "93cf1c51-6a07-4ba2-8810-d24efee386c2"
      },
      "outputs": [
        {
          "data": {
            "application/vnd.google.colaboratory.intrinsic+json": {
              "type": "string"
            },
            "text/plain": [
              "'\\n'"
            ]
          },
          "execution_count": 11,
          "metadata": {},
          "output_type": "execute_result"
        }
      ],
      "source": [
        "'\\n'"
      ]
    },
    {
      "cell_type": "code",
      "execution_count": 12,
      "metadata": {
        "colab": {
          "base_uri": "https://localhost:8080/",
          "height": 35
        },
        "id": "CepidakCssdu",
        "outputId": "6c319ced-1e81-4925-c5e1-f5535857275a"
      },
      "outputs": [
        {
          "data": {
            "application/vnd.google.colaboratory.intrinsic+json": {
              "type": "string"
            },
            "text/plain": [
              "'\\n'"
            ]
          },
          "execution_count": 12,
          "metadata": {},
          "output_type": "execute_result"
        }
      ],
      "source": [
        "'\\012'"
      ]
    },
    {
      "cell_type": "code",
      "execution_count": 13,
      "metadata": {
        "colab": {
          "base_uri": "https://localhost:8080/",
          "height": 35
        },
        "id": "46wHu8KwsuP_",
        "outputId": "00cd6f5f-19a0-47a6-abe1-a386515f162f"
      },
      "outputs": [
        {
          "data": {
            "application/vnd.google.colaboratory.intrinsic+json": {
              "type": "string"
            },
            "text/plain": [
              "'\\n'"
            ]
          },
          "execution_count": 13,
          "metadata": {},
          "output_type": "execute_result"
        }
      ],
      "source": [
        "'\\x0A'"
      ]
    },
    {
      "cell_type": "code",
      "execution_count": 14,
      "metadata": {
        "colab": {
          "base_uri": "https://localhost:8080/",
          "height": 35
        },
        "id": "CFx7BVO1swAw",
        "outputId": "b0e8bb48-562b-4f17-a306-7aadd096e20e"
      },
      "outputs": [
        {
          "data": {
            "application/vnd.google.colaboratory.intrinsic+json": {
              "type": "string"
            },
            "text/plain": [
              "'a'"
            ]
          },
          "execution_count": 14,
          "metadata": {},
          "output_type": "execute_result"
        }
      ],
      "source": [
        "unicode_a ='\\N{LATIN SMALL LETTER A}'           #A\n",
        "unicode_a"
      ]
    },
    {
      "cell_type": "code",
      "execution_count": 15,
      "metadata": {
        "colab": {
          "base_uri": "https://localhost:8080/",
          "height": 35
        },
        "id": "HcZlFRxmsyR6",
        "outputId": "94132a73-b0e9-406f-fb79-583c0a176316"
      },
      "outputs": [
        {
          "data": {
            "application/vnd.google.colaboratory.intrinsic+json": {
              "type": "string"
            },
            "text/plain": [
              "'á'"
            ]
          },
          "execution_count": 15,
          "metadata": {},
          "output_type": "execute_result"
        }
      ],
      "source": [
        "unicode_a_with_acute = '\\N{LATIN SMALL LETTER A WITH ACUTE}'\n",
        "unicode_a_with_acute"
      ]
    },
    {
      "cell_type": "code",
      "execution_count": 16,
      "metadata": {
        "colab": {
          "base_uri": "https://localhost:8080/",
          "height": 35
        },
        "id": "QO3mlmGrs0SY",
        "outputId": "71712ab7-c669-445c-864a-56b4207b35e0"
      },
      "outputs": [
        {
          "data": {
            "application/vnd.google.colaboratory.intrinsic+json": {
              "type": "string"
            },
            "text/plain": [
              "'á'"
            ]
          },
          "execution_count": 16,
          "metadata": {},
          "output_type": "execute_result"
        }
      ],
      "source": [
        "\"\\u00E1\"                    #B"
      ]
    },
    {
      "cell_type": "markdown",
      "metadata": {
        "id": "MdA67diedkCC"
      },
      "source": [
        "## 6.3.3 Printing vs. evaluating strings with special characters"
      ]
    },
    {
      "cell_type": "code",
      "execution_count": 17,
      "metadata": {
        "colab": {
          "base_uri": "https://localhost:8080/",
          "height": 35
        },
        "id": "M_fMG4VSs3K6",
        "outputId": "12e0c6f5-1069-4b9f-aa19-90a41ca2803b"
      },
      "outputs": [
        {
          "data": {
            "application/vnd.google.colaboratory.intrinsic+json": {
              "type": "string"
            },
            "text/plain": [
              "'a\\n\\tb'"
            ]
          },
          "execution_count": 17,
          "metadata": {},
          "output_type": "execute_result"
        }
      ],
      "source": [
        "'a\\n\\tb'"
      ]
    },
    {
      "cell_type": "code",
      "execution_count": 18,
      "metadata": {
        "colab": {
          "base_uri": "https://localhost:8080/"
        },
        "id": "jIdeqvZNtQyi",
        "outputId": "cf51686e-6662-4b84-fa31-93e0e9fa08e6"
      },
      "outputs": [
        {
          "name": "stdout",
          "output_type": "stream",
          "text": [
            "a\n",
            "\tb\n"
          ]
        }
      ],
      "source": [
        "print('a\\n\\tb')"
      ]
    },
    {
      "cell_type": "code",
      "execution_count": 2,
      "metadata": {
        "colab": {
          "base_uri": "https://localhost:8080/"
        },
        "id": "h5QGUltptSns",
        "outputId": "2b9b715f-fd27-4a46-afb3-85bd2248fc8e"
      },
      "outputs": [
        {
          "name": "stdout",
          "output_type": "stream",
          "text": [
            "abc\n",
            "\n"
          ]
        }
      ],
      "source": [
        "print(\"abc\\n\")"
      ]
    },
    {
      "cell_type": "code",
      "execution_count": 20,
      "metadata": {
        "colab": {
          "base_uri": "https://localhost:8080/"
        },
        "id": "TGnVM2VPtqcY",
        "outputId": "5486866e-3c3c-45a4-ff07-230504b834e1"
      },
      "outputs": [
        {
          "name": "stdout",
          "output_type": "stream",
          "text": [
            "abc\n"
          ]
        }
      ],
      "source": [
        "print(\"abc\\n\", end=\"\")"
      ]
    },
    {
      "cell_type": "markdown",
      "metadata": {
        "id": "A9gUufxpduyx"
      },
      "source": [
        "# 6.4 String methods\n",
        "\n",
        "## 6.4.1 The split and join string methods\n"
      ]
    },
    {
      "cell_type": "code",
      "execution_count": 3,
      "metadata": {
        "colab": {
          "base_uri": "https://localhost:8080/",
          "height": 35
        },
        "id": "c3MthxkNtt3E",
        "outputId": "e4bdc02d-034c-4c6d-bf6a-2211b77ceadd"
      },
      "outputs": [
        {
          "data": {
            "text/plain": [
              "'join puts spaces between elements'"
            ]
          },
          "execution_count": 3,
          "metadata": {},
          "output_type": "execute_result"
        }
      ],
      "source": [
        "\" \".join([\"join\", \"puts\", \"spaces\", \"between\", \"elements\"])"
      ]
    },
    {
      "cell_type": "code",
      "execution_count": 6,
      "metadata": {
        "colab": {
          "base_uri": "https://localhost:8080/",
          "height": 35
        },
        "id": "IbTxd_9jt9Ow",
        "outputId": "614ffb9d-2eb0-4ef9-eda0-f6023e65ab79"
      },
      "outputs": [
        {
          "data": {
            "text/plain": [
              "'Separated::with::colons'"
            ]
          },
          "execution_count": 6,
          "metadata": {},
          "output_type": "execute_result"
        }
      ],
      "source": [
        "\"::\".join([\"Separated\", \"with\", \"colons\"])"
      ]
    },
    {
      "cell_type": "code",
      "execution_count": 7,
      "metadata": {
        "colab": {
          "base_uri": "https://localhost:8080/",
          "height": 35
        },
        "id": "SMdzeGcTuIYE",
        "outputId": "591b761b-41e8-4d39-f1ef-fe560f666710"
      },
      "outputs": [
        {
          "data": {
            "text/plain": [
              "'Separatedbynothing'"
            ]
          },
          "execution_count": 7,
          "metadata": {},
          "output_type": "execute_result"
        }
      ],
      "source": [
        "\"\".join([\"Separated\", \"by\", \"nothing\"])"
      ]
    },
    {
      "cell_type": "code",
      "execution_count": 8,
      "metadata": {
        "colab": {
          "base_uri": "https://localhost:8080/"
        },
        "id": "MKyZHACRuYrh",
        "outputId": "b56c00b8-d473-45f2-d0bb-78b99d3bde22"
      },
      "outputs": [
        {
          "data": {
            "text/plain": [
              "['You', 'can', 'have', 'tabs', 'and', 'newlines', 'mixed', 'in']"
            ]
          },
          "execution_count": 8,
          "metadata": {},
          "output_type": "execute_result"
        }
      ],
      "source": [
        "x = \"You\\t\\t can have tabs\\t\\n \\t and newlines \\n\\n \" \\\n",
        "               \"mixed in\"\n",
        "x.split()"
      ]
    },
    {
      "cell_type": "code",
      "execution_count": 25,
      "metadata": {
        "colab": {
          "base_uri": "https://localhost:8080/"
        },
        "id": "kzZkGOm_u340",
        "outputId": "c39dd87f-9294-426a-a5e7-5d3ad6353782"
      },
      "outputs": [
        {
          "data": {
            "text/plain": [
              "['Mi', 'i', 'ippi']"
            ]
          },
          "execution_count": 25,
          "metadata": {},
          "output_type": "execute_result"
        }
      ],
      "source": [
        "x = \"Mississippi\"\n",
        "x.split(\"ss\")"
      ]
    },
    {
      "cell_type": "code",
      "execution_count": 26,
      "metadata": {
        "colab": {
          "base_uri": "https://localhost:8080/"
        },
        "id": "JmNrxm9lu8mc",
        "outputId": "9d58ab56-a6ed-47da-e2e2-45efb341e117"
      },
      "outputs": [
        {
          "data": {
            "text/plain": [
              "['a', 'b c d']"
            ]
          },
          "execution_count": 26,
          "metadata": {},
          "output_type": "execute_result"
        }
      ],
      "source": [
        "x = 'a b c d'\n",
        "x.split(' ', 1)"
      ]
    },
    {
      "cell_type": "code",
      "execution_count": 27,
      "metadata": {
        "colab": {
          "base_uri": "https://localhost:8080/"
        },
        "id": "gaC1u_o-vQXX",
        "outputId": "a382215d-40fc-425a-c6c2-91e9227270cb"
      },
      "outputs": [
        {
          "data": {
            "text/plain": [
              "['a', 'b', 'c d']"
            ]
          },
          "execution_count": 27,
          "metadata": {},
          "output_type": "execute_result"
        }
      ],
      "source": [
        "x.split(' ', 2)"
      ]
    },
    {
      "cell_type": "code",
      "execution_count": 28,
      "metadata": {
        "colab": {
          "base_uri": "https://localhost:8080/"
        },
        "id": "U3U-NkKJvSbQ",
        "outputId": "46cce61e-f81b-4c42-dcdf-03e358ed72af"
      },
      "outputs": [
        {
          "data": {
            "text/plain": [
              "['a', 'b', 'c', 'd']"
            ]
          },
          "execution_count": 28,
          "metadata": {},
          "output_type": "execute_result"
        }
      ],
      "source": [
        "x.split(' ', 9)"
      ]
    },
    {
      "cell_type": "markdown",
      "metadata": {
        "id": "LCLXZ2TTgJLu"
      },
      "source": [
        "### Quick Check: split and join\n",
        "How could you use split and join to change all the whitespace in string x to dashes, such as changing \"this is a test\" to \"this-is-a-test\"?\n"
      ]
    },
    {
      "cell_type": "code",
      "execution_count": 13,
      "metadata": {
        "id": "CfG5QiDUgRAi"
      },
      "outputs": [
        {
          "data": {
            "text/plain": [
              "'this-is-a-test'"
            ]
          },
          "execution_count": 13,
          "metadata": {},
          "output_type": "execute_result"
        }
      ],
      "source": [
        "x = 'this is a test'\n",
        "x = '-'.join(x.split())\n",
        "x"
      ]
    },
    {
      "cell_type": "markdown",
      "metadata": {
        "id": "ef3xjxfgd49K"
      },
      "source": [
        "## 6.4.2 Converting strings to numbers"
      ]
    },
    {
      "cell_type": "code",
      "execution_count": 29,
      "metadata": {
        "colab": {
          "base_uri": "https://localhost:8080/"
        },
        "id": "85WO9R3kvXV5",
        "outputId": "bde9cd79-7c8b-4649-8340-8fd3140e3bcd"
      },
      "outputs": [
        {
          "data": {
            "text/plain": [
              "123.456"
            ]
          },
          "execution_count": 29,
          "metadata": {},
          "output_type": "execute_result"
        }
      ],
      "source": [
        "float('123.456')"
      ]
    },
    {
      "cell_type": "code",
      "execution_count": 30,
      "metadata": {
        "colab": {
          "base_uri": "https://localhost:8080/",
          "height": 141
        },
        "id": "TjzwKwAMvxmY",
        "outputId": "3e5dd962-df73-477b-8890-69ad5952a842"
      },
      "outputs": [
        {
          "ename": "ValueError",
          "evalue": "could not convert string to float: 'xxyy'",
          "output_type": "error",
          "traceback": [
            "\u001b[0;31m---------------------------------------------------------------------------\u001b[0m",
            "\u001b[0;31mValueError\u001b[0m                                Traceback (most recent call last)",
            "\u001b[0;32m<ipython-input-30-8caa265ffc7f>\u001b[0m in \u001b[0;36m<cell line: 1>\u001b[0;34m()\u001b[0m\n\u001b[0;32m----> 1\u001b[0;31m \u001b[0mfloat\u001b[0m\u001b[0;34m(\u001b[0m\u001b[0;34m'xxyy'\u001b[0m\u001b[0;34m)\u001b[0m\u001b[0;34m\u001b[0m\u001b[0;34m\u001b[0m\u001b[0m\n\u001b[0m",
            "\u001b[0;31mValueError\u001b[0m: could not convert string to float: 'xxyy'"
          ]
        }
      ],
      "source": [
        "float('xxyy')"
      ]
    },
    {
      "cell_type": "code",
      "execution_count": 31,
      "metadata": {
        "colab": {
          "base_uri": "https://localhost:8080/"
        },
        "id": "joXaUc69v0UA",
        "outputId": "4feccd3b-4753-40d0-dbfb-4ae25357934b"
      },
      "outputs": [
        {
          "data": {
            "text/plain": [
              "3333"
            ]
          },
          "execution_count": 31,
          "metadata": {},
          "output_type": "execute_result"
        }
      ],
      "source": [
        "int('3333')"
      ]
    },
    {
      "cell_type": "code",
      "execution_count": 32,
      "metadata": {
        "colab": {
          "base_uri": "https://localhost:8080/",
          "height": 141
        },
        "id": "bWXJdLjvv8QW",
        "outputId": "f616e7e6-47fc-47d1-ca67-0888266b2fb2"
      },
      "outputs": [
        {
          "ename": "ValueError",
          "evalue": "invalid literal for int() with base 10: '123.456'",
          "output_type": "error",
          "traceback": [
            "\u001b[0;31m---------------------------------------------------------------------------\u001b[0m",
            "\u001b[0;31mValueError\u001b[0m                                Traceback (most recent call last)",
            "\u001b[0;32m<ipython-input-32-ed4c46a302ea>\u001b[0m in \u001b[0;36m<cell line: 1>\u001b[0;34m()\u001b[0m\n\u001b[0;32m----> 1\u001b[0;31m \u001b[0mint\u001b[0m\u001b[0;34m(\u001b[0m\u001b[0;34m'123.456'\u001b[0m\u001b[0;34m)\u001b[0m\u001b[0;34m\u001b[0m\u001b[0;34m\u001b[0m\u001b[0m\n\u001b[0m",
            "\u001b[0;31mValueError\u001b[0m: invalid literal for int() with base 10: '123.456'"
          ]
        }
      ],
      "source": [
        "int('123.456')"
      ]
    },
    {
      "cell_type": "code",
      "execution_count": 33,
      "metadata": {
        "colab": {
          "base_uri": "https://localhost:8080/"
        },
        "id": "QsstpvehwBIO",
        "outputId": "4d8c8d47-d3cb-428d-cb5c-b8eb2bfa4782"
      },
      "outputs": [
        {
          "data": {
            "text/plain": [
              "4096"
            ]
          },
          "execution_count": 33,
          "metadata": {},
          "output_type": "execute_result"
        }
      ],
      "source": [
        "int('10000', 8)"
      ]
    },
    {
      "cell_type": "code",
      "execution_count": 34,
      "metadata": {
        "colab": {
          "base_uri": "https://localhost:8080/"
        },
        "id": "k15vgBOawIiM",
        "outputId": "e661348e-9f14-46cd-e543-3cb107090f3b"
      },
      "outputs": [
        {
          "data": {
            "text/plain": [
              "5"
            ]
          },
          "execution_count": 34,
          "metadata": {},
          "output_type": "execute_result"
        }
      ],
      "source": [
        "int('101', 2)"
      ]
    },
    {
      "cell_type": "code",
      "execution_count": 35,
      "metadata": {
        "colab": {
          "base_uri": "https://localhost:8080/"
        },
        "id": "A9nf-KX0wKlA",
        "outputId": "fbc8b6fb-07e0-427f-d78f-7680ffc275c2"
      },
      "outputs": [
        {
          "data": {
            "text/plain": [
              "255"
            ]
          },
          "execution_count": 35,
          "metadata": {},
          "output_type": "execute_result"
        }
      ],
      "source": [
        "int('ff', 16)"
      ]
    },
    {
      "cell_type": "code",
      "execution_count": 36,
      "metadata": {
        "colab": {
          "base_uri": "https://localhost:8080/",
          "height": 141
        },
        "id": "yElCj3y9wNQ4",
        "outputId": "2d11e162-c897-4341-ffbc-936afa933b8f"
      },
      "outputs": [
        {
          "ename": "ValueError",
          "evalue": "invalid literal for int() with base 6: '123456'",
          "output_type": "error",
          "traceback": [
            "\u001b[0;31m---------------------------------------------------------------------------\u001b[0m",
            "\u001b[0;31mValueError\u001b[0m                                Traceback (most recent call last)",
            "\u001b[0;32m<ipython-input-36-bdc1281d81c5>\u001b[0m in \u001b[0;36m<cell line: 1>\u001b[0;34m()\u001b[0m\n\u001b[0;32m----> 1\u001b[0;31m \u001b[0mint\u001b[0m\u001b[0;34m(\u001b[0m\u001b[0;34m'123456'\u001b[0m\u001b[0;34m,\u001b[0m \u001b[0;36m6\u001b[0m\u001b[0;34m)\u001b[0m\u001b[0;34m\u001b[0m\u001b[0;34m\u001b[0m\u001b[0m\n\u001b[0m",
            "\u001b[0;31mValueError\u001b[0m: invalid literal for int() with base 6: '123456'"
          ]
        }
      ],
      "source": [
        "int('123456', 6)"
      ]
    },
    {
      "cell_type": "markdown",
      "metadata": {
        "id": "u5daARJZgZ1E"
      },
      "source": [
        "### Quick Check: Strings to Numbers\n",
        "Which of the following will not be converted to numbers, and why?\n",
        "```\n",
        "int('a1')\n",
        "int('12G', 16)\n",
        "float(\"12345678901234567890\")\n",
        "int(\"12*2\")\n",
        "```"
      ]
    },
    {
      "cell_type": "code",
      "execution_count": 20,
      "metadata": {},
      "outputs": [],
      "source": [
        "# x = int('a1')\n",
        "# y = int('12G', 16)\n",
        "z= float(\"12345678901234567890\")\n",
        "# w = int(\"12*2\") "
      ]
    },
    {
      "cell_type": "markdown",
      "metadata": {
        "id": "YC0TEMB7d-Xp"
      },
      "source": [
        "## 6.4.3 Getting rid of extra whitespace"
      ]
    },
    {
      "cell_type": "code",
      "execution_count": 37,
      "metadata": {
        "colab": {
          "base_uri": "https://localhost:8080/",
          "height": 35
        },
        "id": "iqm-z5Y9wPPD",
        "outputId": "90f77b9d-0f87-44f1-9379-d1ac90f66604"
      },
      "outputs": [
        {
          "data": {
            "application/vnd.google.colaboratory.intrinsic+json": {
              "type": "string"
            },
            "text/plain": [
              "'Hello,    World'"
            ]
          },
          "execution_count": 37,
          "metadata": {},
          "output_type": "execute_result"
        }
      ],
      "source": [
        "x = \"  Hello,    World\\t\\t \"\n",
        "x.strip()"
      ]
    },
    {
      "cell_type": "code",
      "execution_count": 38,
      "metadata": {
        "colab": {
          "base_uri": "https://localhost:8080/",
          "height": 35
        },
        "id": "HdKqfmDAxqtA",
        "outputId": "4cad19b5-a50b-49f3-8bcf-a7f12d9e0f81"
      },
      "outputs": [
        {
          "data": {
            "application/vnd.google.colaboratory.intrinsic+json": {
              "type": "string"
            },
            "text/plain": [
              "'Hello,    World\\t\\t '"
            ]
          },
          "execution_count": 38,
          "metadata": {},
          "output_type": "execute_result"
        }
      ],
      "source": [
        "x.lstrip()"
      ]
    },
    {
      "cell_type": "code",
      "execution_count": 39,
      "metadata": {
        "colab": {
          "base_uri": "https://localhost:8080/",
          "height": 35
        },
        "id": "zn61kBUxxs7G",
        "outputId": "c7246664-115d-404a-e564-7d2f05339086"
      },
      "outputs": [
        {
          "data": {
            "application/vnd.google.colaboratory.intrinsic+json": {
              "type": "string"
            },
            "text/plain": [
              "'  Hello,    World'"
            ]
          },
          "execution_count": 39,
          "metadata": {},
          "output_type": "execute_result"
        }
      ],
      "source": [
        "x.rstrip()"
      ]
    },
    {
      "cell_type": "code",
      "execution_count": 40,
      "metadata": {
        "colab": {
          "base_uri": "https://localhost:8080/",
          "height": 35
        },
        "id": "0A5BOdi1xv44",
        "outputId": "0b09bd88-74a6-4b8c-ce45-e092ee3a02f9"
      },
      "outputs": [
        {
          "data": {
            "application/vnd.google.colaboratory.intrinsic+json": {
              "type": "string"
            },
            "text/plain": [
              "' \\t\\n\\r\\x0b\\x0c'"
            ]
          },
          "execution_count": 40,
          "metadata": {},
          "output_type": "execute_result"
        }
      ],
      "source": [
        "import string\n",
        "string.whitespace"
      ]
    },
    {
      "cell_type": "code",
      "execution_count": 41,
      "metadata": {
        "colab": {
          "base_uri": "https://localhost:8080/",
          "height": 35
        },
        "id": "gXyXmVNsx8DQ",
        "outputId": "55683681-8d73-4568-96e9-b522761fc31f"
      },
      "outputs": [
        {
          "data": {
            "application/vnd.google.colaboratory.intrinsic+json": {
              "type": "string"
            },
            "text/plain": [
              "' \\t\\n\\r\\x0b\\x0c'"
            ]
          },
          "execution_count": 41,
          "metadata": {},
          "output_type": "execute_result"
        }
      ],
      "source": [
        "\" \\t\\n\\r\\v\\f\""
      ]
    },
    {
      "cell_type": "code",
      "execution_count": 21,
      "metadata": {
        "colab": {
          "base_uri": "https://localhost:8080/",
          "height": 35
        },
        "id": "p4XWRA0Lx_Dk",
        "outputId": "c829540c-ce87-46dc-f969-3b4ac8000ad4"
      },
      "outputs": [
        {
          "data": {
            "text/plain": [
              "'.python.org'"
            ]
          },
          "execution_count": 21,
          "metadata": {},
          "output_type": "execute_result"
        }
      ],
      "source": [
        "x = \"www.python.org\"\n",
        "x.strip(\"w\")"
      ]
    },
    {
      "cell_type": "code",
      "execution_count": null,
      "metadata": {
        "colab": {
          "base_uri": "https://localhost:8080/",
          "height": 35
        },
        "id": "GesTZs0ByLXC",
        "outputId": "65a4be82-0e3a-4b89-8c9b-e0bdcc16147f"
      },
      "outputs": [
        {
          "data": {
            "text/plain": [
              "'www.python.or'"
            ]
          },
          "execution_count": 23,
          "metadata": {},
          "output_type": "execute_result"
        }
      ],
      "source": [
        "x.strip(\"gor\")"
      ]
    },
    {
      "cell_type": "code",
      "execution_count": 44,
      "metadata": {
        "colab": {
          "base_uri": "https://localhost:8080/",
          "height": 35
        },
        "id": "FtyBhbziyPE0",
        "outputId": "36f2cb39-d6de-4c10-b5df-6fac46761597"
      },
      "outputs": [
        {
          "data": {
            "application/vnd.google.colaboratory.intrinsic+json": {
              "type": "string"
            },
            "text/plain": [
              "'python'"
            ]
          },
          "execution_count": 44,
          "metadata": {},
          "output_type": "execute_result"
        }
      ],
      "source": [
        "x.strip(\".gorw\")"
      ]
    },
    {
      "cell_type": "code",
      "execution_count": 45,
      "metadata": {
        "colab": {
          "base_uri": "https://localhost:8080/",
          "height": 35
        },
        "id": "YQMJKd0NyRvS",
        "outputId": "33612b13-0e9a-4752-e85a-f5599baa2376"
      },
      "outputs": [
        {
          "data": {
            "application/vnd.google.colaboratory.intrinsic+json": {
              "type": "string"
            },
            "text/plain": [
              "'python.org'"
            ]
          },
          "execution_count": 45,
          "metadata": {},
          "output_type": "execute_result"
        }
      ],
      "source": [
        "x = \"www.python.org\"\n",
        "x.removeprefix(\"www.\")"
      ]
    },
    {
      "cell_type": "code",
      "execution_count": 46,
      "metadata": {
        "colab": {
          "base_uri": "https://localhost:8080/",
          "height": 35
        },
        "id": "rmDrQZg4yhCB",
        "outputId": "8a5669fb-e04b-41f7-e792-872d5f5fd7f2"
      },
      "outputs": [
        {
          "data": {
            "application/vnd.google.colaboratory.intrinsic+json": {
              "type": "string"
            },
            "text/plain": [
              "'www.python'"
            ]
          },
          "execution_count": 46,
          "metadata": {},
          "output_type": "execute_result"
        }
      ],
      "source": [
        "x.removesuffix(\".org\")"
      ]
    },
    {
      "cell_type": "code",
      "execution_count": 24,
      "metadata": {},
      "outputs": [
        {
          "data": {
            "text/plain": [
              "'python'"
            ]
          },
          "execution_count": 24,
          "metadata": {},
          "output_type": "execute_result"
        }
      ],
      "source": [
        "x = \"www.python.org\"\n",
        "x.removeprefix(\"www.\").removesuffix(\".org\")"
      ]
    },
    {
      "cell_type": "markdown",
      "metadata": {
        "id": "RRqFg_SMgj4R"
      },
      "source": [
        "### Quick Check: strip\n",
        "If the string x equals \"(name, date),\\n\", which of the following returns a string containing \"name, date\" ?\n",
        "```\n",
        "1. x.rstrip(\"),\")\n",
        "2. x.strip(\"),\\n\")\n",
        "3. x.strip(\"\\n)(,\")\n",
        "4. x.strip(\"\\n)(,\") will remove the newline as well as the comma and parentheses.\n",
        "```"
      ]
    },
    {
      "cell_type": "code",
      "execution_count": 25,
      "metadata": {},
      "outputs": [
        {
          "data": {
            "text/plain": [
              "'name, date'"
            ]
          },
          "execution_count": 25,
          "metadata": {},
          "output_type": "execute_result"
        }
      ],
      "source": [
        "x = \"(name, date),\\n\"\n",
        "x.strip(\"\\n)(,\")"
      ]
    },
    {
      "cell_type": "markdown",
      "metadata": {
        "id": "Hr8ceI80eGp-"
      },
      "source": [
        "## 6.4.4 String searching"
      ]
    },
    {
      "cell_type": "code",
      "execution_count": 47,
      "metadata": {
        "colab": {
          "base_uri": "https://localhost:8080/"
        },
        "id": "MEdsdoMEyjvA",
        "outputId": "864eaf52-cab8-4683-a287-2884398c1fa2"
      },
      "outputs": [
        {
          "data": {
            "text/plain": [
              "2"
            ]
          },
          "execution_count": 47,
          "metadata": {},
          "output_type": "execute_result"
        }
      ],
      "source": [
        "x = \"Mississippi\"\n",
        "x.find(\"ss\")"
      ]
    },
    {
      "cell_type": "code",
      "execution_count": 48,
      "metadata": {
        "colab": {
          "base_uri": "https://localhost:8080/"
        },
        "id": "lpPrG1GRy5Mi",
        "outputId": "27d8497b-6753-4fdc-ea0a-d4afe84573c5"
      },
      "outputs": [
        {
          "data": {
            "text/plain": [
              "-1"
            ]
          },
          "execution_count": 48,
          "metadata": {},
          "output_type": "execute_result"
        }
      ],
      "source": [
        "x.find(\"zz\")"
      ]
    },
    {
      "cell_type": "code",
      "execution_count": 49,
      "metadata": {
        "colab": {
          "base_uri": "https://localhost:8080/"
        },
        "id": "gzzjIQfUy6wc",
        "outputId": "1d737c17-0673-4117-9a8e-a9f340fa6e1c"
      },
      "outputs": [
        {
          "data": {
            "text/plain": [
              "5"
            ]
          },
          "execution_count": 49,
          "metadata": {},
          "output_type": "execute_result"
        }
      ],
      "source": [
        "x = \"Mississippi\"\n",
        "x.find(\"ss\", 3)"
      ]
    },
    {
      "cell_type": "code",
      "execution_count": 50,
      "metadata": {
        "colab": {
          "base_uri": "https://localhost:8080/"
        },
        "id": "BhgN6cjZzPY4",
        "outputId": "f9957858-3fc6-4936-e02a-38b11b827b1e"
      },
      "outputs": [
        {
          "data": {
            "text/plain": [
              "-1"
            ]
          },
          "execution_count": 50,
          "metadata": {},
          "output_type": "execute_result"
        }
      ],
      "source": [
        "x.find(\"ss\", 0, 3)"
      ]
    },
    {
      "cell_type": "code",
      "execution_count": 51,
      "metadata": {
        "colab": {
          "base_uri": "https://localhost:8080/"
        },
        "id": "IQon3i0izQ1q",
        "outputId": "f241eacc-fb06-49e1-cb72-22bd04ab132b"
      },
      "outputs": [
        {
          "data": {
            "text/plain": [
              "5"
            ]
          },
          "execution_count": 51,
          "metadata": {},
          "output_type": "execute_result"
        }
      ],
      "source": [
        "x = \"Mississippi\"\n",
        "x.rfind(\"ss\")"
      ]
    },
    {
      "cell_type": "code",
      "execution_count": 52,
      "metadata": {
        "colab": {
          "base_uri": "https://localhost:8080/"
        },
        "id": "_-hU9i2jzzmX",
        "outputId": "2bdb01cd-c48d-45a7-a9e4-a1b3af78de39"
      },
      "outputs": [
        {
          "data": {
            "text/plain": [
              "2"
            ]
          },
          "execution_count": 52,
          "metadata": {},
          "output_type": "execute_result"
        }
      ],
      "source": [
        "x = \"Mississippi\"\n",
        "x.count(\"ss\")"
      ]
    },
    {
      "cell_type": "code",
      "execution_count": 53,
      "metadata": {
        "colab": {
          "base_uri": "https://localhost:8080/"
        },
        "id": "b4uPi1_wz_CY",
        "outputId": "2c272800-f7d0-4676-f44c-4c105b5882ad"
      },
      "outputs": [
        {
          "data": {
            "text/plain": [
              "True"
            ]
          },
          "execution_count": 53,
          "metadata": {},
          "output_type": "execute_result"
        }
      ],
      "source": [
        "x = \"Mississippi\"\n",
        "x.startswith(\"Miss\")"
      ]
    },
    {
      "cell_type": "code",
      "execution_count": 54,
      "metadata": {
        "colab": {
          "base_uri": "https://localhost:8080/"
        },
        "id": "Sv06PQUk0MIe",
        "outputId": "238e35a1-a524-4a5c-d828-8a7c03e1ac3c"
      },
      "outputs": [
        {
          "data": {
            "text/plain": [
              "False"
            ]
          },
          "execution_count": 54,
          "metadata": {},
          "output_type": "execute_result"
        }
      ],
      "source": [
        "x.startswith(\"Mist\")"
      ]
    },
    {
      "cell_type": "code",
      "execution_count": 55,
      "metadata": {
        "colab": {
          "base_uri": "https://localhost:8080/"
        },
        "id": "wj3iWLwo0NqQ",
        "outputId": "a9bbdc5c-ca1d-49d0-84e6-ed32dbe95f12"
      },
      "outputs": [
        {
          "data": {
            "text/plain": [
              "True"
            ]
          },
          "execution_count": 55,
          "metadata": {},
          "output_type": "execute_result"
        }
      ],
      "source": [
        "x.endswith(\"pi\")"
      ]
    },
    {
      "cell_type": "code",
      "execution_count": 56,
      "metadata": {
        "colab": {
          "base_uri": "https://localhost:8080/"
        },
        "id": "AG9Tm8330QBL",
        "outputId": "3ebc65cc-6764-462b-a328-f186b2d8e268"
      },
      "outputs": [
        {
          "data": {
            "text/plain": [
              "False"
            ]
          },
          "execution_count": 56,
          "metadata": {},
          "output_type": "execute_result"
        }
      ],
      "source": [
        "x.endswith(\"p\")"
      ]
    },
    {
      "cell_type": "code",
      "execution_count": 57,
      "metadata": {
        "colab": {
          "base_uri": "https://localhost:8080/"
        },
        "id": "CL7073-20Rw4",
        "outputId": "6bf040c7-709f-44d1-9dad-a8083d874741"
      },
      "outputs": [
        {
          "data": {
            "text/plain": [
              "True"
            ]
          },
          "execution_count": 57,
          "metadata": {},
          "output_type": "execute_result"
        }
      ],
      "source": [
        "x.endswith((\"i\", \"u\"))"
      ]
    },
    {
      "cell_type": "markdown",
      "metadata": {},
      "source": [
        "### Quick Check: String searching\n",
        "If you want to see whether a line ends with the string \"rejected\", what string method would you use? Are there any other ways you could get the same result?\n"
      ]
    },
    {
      "cell_type": "code",
      "execution_count": null,
      "metadata": {},
      "outputs": [
        {
          "data": {
            "text/plain": [
              "True"
            ]
          },
          "execution_count": 28,
          "metadata": {},
          "output_type": "execute_result"
        }
      ],
      "source": [
        "x = 'You are REJECTED'\n",
        "x.rfind('REJECTED')\n",
        "x.endswith('REJECTED')"
      ]
    },
    {
      "cell_type": "markdown",
      "metadata": {
        "id": "M0MV1w8mePQT"
      },
      "source": [
        "## 6.4.5 Modifying strings"
      ]
    },
    {
      "cell_type": "code",
      "execution_count": 30,
      "metadata": {
        "colab": {
          "base_uri": "https://localhost:8080/",
          "height": 35
        },
        "id": "fIP4byCk0bHQ",
        "outputId": "47868a03-da88-494c-8531-a23f7afcf7a1"
      },
      "outputs": [
        {
          "data": {
            "text/plain": [
              "'Mi+++i+++ippi'"
            ]
          },
          "execution_count": 30,
          "metadata": {},
          "output_type": "execute_result"
        }
      ],
      "source": [
        "x = \"Mississippi\"\n",
        "x.replace(\"ss\", \"+++\")"
      ]
    },
    {
      "cell_type": "code",
      "execution_count": 31,
      "metadata": {
        "colab": {
          "base_uri": "https://localhost:8080/",
          "height": 35
        },
        "id": "Uoz0l1rw0jqs",
        "outputId": "9d62eeb9-8bec-465c-dc24-65955648131b"
      },
      "outputs": [
        {
          "data": {
            "text/plain": [
              "'!x & [y % z]'"
            ]
          },
          "execution_count": 31,
          "metadata": {},
          "output_type": "execute_result"
        }
      ],
      "source": [
        "x = \"~x ^ (y % z)\"\n",
        "table = x.maketrans(\"~^()\", \"!&[]\")\n",
        "x.translate(table)"
      ]
    },
    {
      "cell_type": "code",
      "execution_count": 60,
      "metadata": {
        "colab": {
          "base_uri": "https://localhost:8080/",
          "height": 35
        },
        "id": "lHokVlrhX6HH",
        "outputId": "449be7d9-3193-4f1e-fdab-c43fa250e677"
      },
      "outputs": [
        {
          "data": {
            "application/vnd.google.colaboratory.intrinsic+json": {
              "type": "string"
            },
            "text/plain": [
              "'x  y  z'"
            ]
          },
          "execution_count": 60,
          "metadata": {},
          "output_type": "execute_result"
        }
      ],
      "source": [
        "x = \"~x ^ (y % z)\"\n",
        "table = x.maketrans(\"\", \"\", \"()~^%\")\n",
        "x.translate(table)"
      ]
    },
    {
      "cell_type": "code",
      "execution_count": null,
      "metadata": {},
      "outputs": [
        {
          "data": {
            "text/plain": [
              "'0000000000000000000000000000000000000000000000000000000000000000Ciao Mamma guarda quanto sono bravo.'"
            ]
          },
          "execution_count": 48,
          "metadata": {},
          "output_type": "execute_result"
        }
      ],
      "source": [
        "x = 'Ciao Mamma guarda quanto sono bravo.'\n",
        "x.upper()\n",
        "x.lower()\n",
        "x.capitalize()\n",
        "x.swapcase()\n",
        "x.ljust(100)\n",
        "x.rjust(100)\n",
        "x.center(100)\n",
        "x.zfill(100)"
      ]
    },
    {
      "cell_type": "markdown",
      "metadata": {
        "id": "JvB1XjVieWQN"
      },
      "source": [
        "## 6.4.6 Modifying strings with list manipulations"
      ]
    },
    {
      "cell_type": "code",
      "execution_count": 50,
      "metadata": {
        "colab": {
          "base_uri": "https://localhost:8080/"
        },
        "id": "Ed8OBKBo0tkI",
        "outputId": "0e3d7e0e-1510-43ab-c12b-046895008f10"
      },
      "outputs": [
        {
          "name": "stdout",
          "output_type": "stream",
          "text": [
            "['H', 'e', 'l', 'l', 'o', ',', ' ', 'W', 'o', 'r', 'l', 'd']\n",
            "['H', 'e', 'l', 'l', 'o', ',']\n",
            "[',', 'o', 'l', 'l', 'e', 'H']\n",
            ",olleH\n"
          ]
        }
      ],
      "source": [
        "text = \"Hello, World\"\n",
        "wordList = list(text)\n",
        "print(wordList)\n",
        "wordList[6:] = []\n",
        "print(wordList)\n",
        "wordList.reverse()\n",
        "print(wordList)\n",
        "text = \"\".join(wordList)\n",
        "print(text)"
      ]
    },
    {
      "cell_type": "markdown",
      "metadata": {
        "id": "xXySVaMMhSpo"
      },
      "source": [
        "### Quick Check: Modifying strings\n",
        "What would be a quick way to change all punctuation in a string to spaces?\n"
      ]
    },
    {
      "cell_type": "code",
      "execution_count": 62,
      "metadata": {
        "colab": {
          "base_uri": "https://localhost:8080/",
          "height": 35
        },
        "id": "7dbNneJthWiu",
        "outputId": "b25c48aa-63f5-418b-c47f-51910ce0f928"
      },
      "outputs": [
        {
          "data": {
            "application/vnd.google.colaboratory.intrinsic+json": {
              "type": "string"
            },
            "text/plain": [
              "'This is text  with  punctuation  Right '"
            ]
          },
          "execution_count": 62,
          "metadata": {},
          "output_type": "execute_result"
        }
      ],
      "source": [
        "punct = str.maketrans(\"!.,:;-?\", \"       \")\n",
        "x = \"This is text, with: punctuation! Right?\"\n",
        "x.translate(punct)"
      ]
    },
    {
      "cell_type": "markdown",
      "metadata": {
        "id": "Q3kx0c7IedzM"
      },
      "source": [
        "# 6.4.7 Useful methods and constants"
      ]
    },
    {
      "cell_type": "code",
      "execution_count": 63,
      "metadata": {
        "colab": {
          "base_uri": "https://localhost:8080/"
        },
        "id": "j6VrAxS51AII",
        "outputId": "dc7e53c9-dda1-440d-a3c8-299422e69549"
      },
      "outputs": [
        {
          "data": {
            "text/plain": [
              "True"
            ]
          },
          "execution_count": 63,
          "metadata": {},
          "output_type": "execute_result"
        }
      ],
      "source": [
        "x = \"123\"\n",
        "x.isdigit()"
      ]
    },
    {
      "cell_type": "code",
      "execution_count": 64,
      "metadata": {
        "colab": {
          "base_uri": "https://localhost:8080/"
        },
        "id": "lZEbKG-k1N2Y",
        "outputId": "88a1f804-315e-4e9d-ca48-bc5959a4678a"
      },
      "outputs": [
        {
          "data": {
            "text/plain": [
              "False"
            ]
          },
          "execution_count": 64,
          "metadata": {},
          "output_type": "execute_result"
        }
      ],
      "source": [
        "x.isalpha()"
      ]
    },
    {
      "cell_type": "code",
      "execution_count": 65,
      "metadata": {
        "colab": {
          "base_uri": "https://localhost:8080/"
        },
        "id": "Wp8ud4JU1QLu",
        "outputId": "ab1eb40d-371d-43df-a9e3-16543db24b17"
      },
      "outputs": [
        {
          "data": {
            "text/plain": [
              "False"
            ]
          },
          "execution_count": 65,
          "metadata": {},
          "output_type": "execute_result"
        }
      ],
      "source": [
        "x = \"M\"\n",
        "x.islower()"
      ]
    },
    {
      "cell_type": "code",
      "execution_count": 66,
      "metadata": {
        "colab": {
          "base_uri": "https://localhost:8080/"
        },
        "id": "q5lfH9FP1SbK",
        "outputId": "bd378fc9-439f-4753-9ef6-bbcf53ca8305"
      },
      "outputs": [
        {
          "data": {
            "text/plain": [
              "True"
            ]
          },
          "execution_count": 66,
          "metadata": {},
          "output_type": "execute_result"
        }
      ],
      "source": [
        "x.isupper()"
      ]
    },
    {
      "cell_type": "markdown",
      "metadata": {
        "id": "E14GSPNBhhId"
      },
      "source": [
        "### Try This: String operations\n",
        "Suppose that you have a list of strings in which some (but not necessarily all) of the strings begin and end with the double quote character:\n",
        "```\n",
        "x = ['\"abc\"', 'def', '\"ghi\"', '\"klm\"', 'nop']\n",
        "```\n",
        "What code would you use on each element to remove just the double quotes?\n"
      ]
    },
    {
      "cell_type": "code",
      "execution_count": 68,
      "metadata": {
        "id": "CCZ_v9XnhnPo"
      },
      "outputs": [
        {
          "name": "stdout",
          "output_type": "stream",
          "text": [
            "abc\n",
            "def\n",
            "ghi\n",
            "klm\n",
            "nop\n"
          ]
        }
      ],
      "source": [
        "x = ['\"abc\"', 'def', '\"ghi\"', '\"klm\"', 'nop']\n",
        "\n",
        "for word in x:\n",
        "    x = word.replace('\"', '')\n",
        "    print(word.replace('\"', ''))\n"
      ]
    },
    {
      "cell_type": "code",
      "execution_count": 73,
      "metadata": {},
      "outputs": [
        {
          "data": {
            "text/plain": [
              "8"
            ]
          },
          "execution_count": 73,
          "metadata": {},
          "output_type": "execute_result"
        }
      ],
      "source": [
        "x = 'Mississippi'\n",
        "\n",
        "x.find('p')"
      ]
    },
    {
      "cell_type": "markdown",
      "metadata": {
        "id": "q9il5stjeov_"
      },
      "source": [
        "# 6.5 Converting from objects to strings"
      ]
    },
    {
      "cell_type": "code",
      "execution_count": 67,
      "metadata": {
        "colab": {
          "base_uri": "https://localhost:8080/",
          "height": 35
        },
        "id": "1BDoHHU_1USE",
        "outputId": "a3612982-778a-4301-ad1d-cba5c623c12c"
      },
      "outputs": [
        {
          "data": {
            "application/vnd.google.colaboratory.intrinsic+json": {
              "type": "string"
            },
            "text/plain": [
              "'[1, 2, 3]'"
            ]
          },
          "execution_count": 67,
          "metadata": {},
          "output_type": "execute_result"
        }
      ],
      "source": [
        "repr([1, 2, 3])"
      ]
    },
    {
      "cell_type": "code",
      "execution_count": 68,
      "metadata": {
        "colab": {
          "base_uri": "https://localhost:8080/",
          "height": 35
        },
        "id": "JSsTZ7Gp1syw",
        "outputId": "b6d3f012-2ecb-4c6b-e7bb-e393db0c227a"
      },
      "outputs": [
        {
          "data": {
            "application/vnd.google.colaboratory.intrinsic+json": {
              "type": "string"
            },
            "text/plain": [
              "'the list x is [1, 2, [3, 4]]'"
            ]
          },
          "execution_count": 68,
          "metadata": {},
          "output_type": "execute_result"
        }
      ],
      "source": [
        "x = [1]\n",
        "x.append(2)\n",
        "x.append([3, 4])\n",
        "'the list x is ' + repr(x)"
      ]
    },
    {
      "cell_type": "code",
      "execution_count": 69,
      "metadata": {
        "colab": {
          "base_uri": "https://localhost:8080/",
          "height": 35
        },
        "id": "N_EpP77d1vBE",
        "outputId": "0873f5c9-3a13-4ea1-af08-9aa6828d40d3"
      },
      "outputs": [
        {
          "data": {
            "application/vnd.google.colaboratory.intrinsic+json": {
              "type": "string"
            },
            "text/plain": [
              "'<built-in function len>'"
            ]
          },
          "execution_count": 69,
          "metadata": {},
          "output_type": "execute_result"
        }
      ],
      "source": [
        "repr(len)"
      ]
    },
    {
      "cell_type": "code",
      "execution_count": 74,
      "metadata": {},
      "outputs": [
        {
          "data": {
            "text/plain": [
              "'<built-in function len>'"
            ]
          },
          "execution_count": 74,
          "metadata": {},
          "output_type": "execute_result"
        }
      ],
      "source": [
        "str(len)"
      ]
    },
    {
      "cell_type": "markdown",
      "metadata": {
        "id": "jZdyV22HezQV"
      },
      "source": [
        "# 6.6 Using the format method\n",
        "\n",
        "## 6.6.1 The format method and positional parameters"
      ]
    },
    {
      "cell_type": "code",
      "execution_count": 70,
      "metadata": {
        "colab": {
          "base_uri": "https://localhost:8080/",
          "height": 35
        },
        "id": "CbaGZkAL12Ho",
        "outputId": "e834d021-c217-4e2c-925b-98f43641e3bb"
      },
      "outputs": [
        {
          "data": {
            "application/vnd.google.colaboratory.intrinsic+json": {
              "type": "string"
            },
            "text/plain": [
              "'Ambrosia is the food of the gods'"
            ]
          },
          "execution_count": 70,
          "metadata": {},
          "output_type": "execute_result"
        }
      ],
      "source": [
        "\"{0} is the {1} of {2}\".format(\"Ambrosia\", \"food\", \"the gods\")"
      ]
    },
    {
      "cell_type": "code",
      "execution_count": 71,
      "metadata": {
        "colab": {
          "base_uri": "https://localhost:8080/",
          "height": 35
        },
        "id": "ZutYddEJ2HBC",
        "outputId": "99b4d88f-6741-4df0-8812-1c952346744d"
      },
      "outputs": [
        {
          "data": {
            "application/vnd.google.colaboratory.intrinsic+json": {
              "type": "string"
            },
            "text/plain": [
              "'{Ambrosia} is the food of the gods'"
            ]
          },
          "execution_count": 71,
          "metadata": {},
          "output_type": "execute_result"
        }
      ],
      "source": [
        "\"{{Ambrosia}} is the {0} of {1}\".format(\"food\", \"the gods\")"
      ]
    },
    {
      "cell_type": "markdown",
      "metadata": {
        "id": "P1SHLZu4iBk2"
      },
      "source": [
        "## 6.6.2 The format method and named parameters"
      ]
    },
    {
      "cell_type": "code",
      "execution_count": 72,
      "metadata": {
        "colab": {
          "base_uri": "https://localhost:8080/",
          "height": 35
        },
        "id": "uJS2HsWZ2I5A",
        "outputId": "56022226-ea8a-4acf-87bf-2d92d806a191"
      },
      "outputs": [
        {
          "data": {
            "application/vnd.google.colaboratory.intrinsic+json": {
              "type": "string"
            },
            "text/plain": [
              "'Ambrosia is the food of the gods'"
            ]
          },
          "execution_count": 72,
          "metadata": {},
          "output_type": "execute_result"
        }
      ],
      "source": [
        "\"{food} is the food of {user}\".format(food=\"Ambrosia\",\n",
        "      user=\"the gods\")"
      ]
    },
    {
      "cell_type": "code",
      "execution_count": 73,
      "metadata": {
        "colab": {
          "base_uri": "https://localhost:8080/",
          "height": 35
        },
        "id": "791KIMve2SVQ",
        "outputId": "13c61e39-1f7b-4292-ec3d-6247522032ef"
      },
      "outputs": [
        {
          "data": {
            "application/vnd.google.colaboratory.intrinsic+json": {
              "type": "string"
            },
            "text/plain": [
              "'Ambrosia is the food of the gods'"
            ]
          },
          "execution_count": 73,
          "metadata": {},
          "output_type": "execute_result"
        }
      ],
      "source": [
        "\"{0} is the food of {user[1]}\".format(\"Ambrosia\",\n",
        "         user=[\"men\", \"the gods\", \"others\"])"
      ]
    },
    {
      "cell_type": "markdown",
      "metadata": {
        "id": "p8x77zuNiHNO"
      },
      "source": [
        "## 6.6.3 Format specifiers"
      ]
    },
    {
      "cell_type": "code",
      "execution_count": 74,
      "metadata": {
        "colab": {
          "base_uri": "https://localhost:8080/",
          "height": 35
        },
        "id": "vjyHKxR22alt",
        "outputId": "5614d690-f02c-4714-fadc-aff207052f02"
      },
      "outputs": [
        {
          "data": {
            "application/vnd.google.colaboratory.intrinsic+json": {
              "type": "string"
            },
            "text/plain": [
              "'Ambrosia   is the food of gods'"
            ]
          },
          "execution_count": 74,
          "metadata": {},
          "output_type": "execute_result"
        }
      ],
      "source": [
        "\"{0:10} is the food of gods\".format(\"Ambrosia\")"
      ]
    },
    {
      "cell_type": "code",
      "execution_count": 75,
      "metadata": {
        "colab": {
          "base_uri": "https://localhost:8080/",
          "height": 35
        },
        "id": "Jxc1xBut2v14",
        "outputId": "1372288e-bc60-46d0-ee61-3a65c0819650"
      },
      "outputs": [
        {
          "data": {
            "application/vnd.google.colaboratory.intrinsic+json": {
              "type": "string"
            },
            "text/plain": [
              "'Ambrosia   is the food of gods'"
            ]
          },
          "execution_count": 75,
          "metadata": {},
          "output_type": "execute_result"
        }
      ],
      "source": [
        "\"{0:{1}} is the food of gods\".format(\"Ambrosia\", 10)"
      ]
    },
    {
      "cell_type": "code",
      "execution_count": 76,
      "metadata": {
        "colab": {
          "base_uri": "https://localhost:8080/",
          "height": 35
        },
        "id": "z_MX_pTr2xkB",
        "outputId": "c63ec355-a1fa-4511-ede1-9d79c0e71a94"
      },
      "outputs": [
        {
          "data": {
            "application/vnd.google.colaboratory.intrinsic+json": {
              "type": "string"
            },
            "text/plain": [
              "'Ambrosia   is the food of gods'"
            ]
          },
          "execution_count": 76,
          "metadata": {},
          "output_type": "execute_result"
        }
      ],
      "source": [
        "\"{food:{width}} is the food of gods\".format(food=\"Ambrosia\", width=10)"
      ]
    },
    {
      "cell_type": "code",
      "execution_count": 77,
      "metadata": {
        "colab": {
          "base_uri": "https://localhost:8080/",
          "height": 35
        },
        "id": "CV2AxtKq2zRQ",
        "outputId": "4fc9257d-9bd2-417b-d382-1ea074c2654e"
      },
      "outputs": [
        {
          "data": {
            "application/vnd.google.colaboratory.intrinsic+json": {
              "type": "string"
            },
            "text/plain": [
              "'  Ambrosia is the food of gods'"
            ]
          },
          "execution_count": 77,
          "metadata": {},
          "output_type": "execute_result"
        }
      ],
      "source": [
        "\"{0:>10} is the food of gods\".format(\"Ambrosia\")"
      ]
    },
    {
      "cell_type": "code",
      "execution_count": 78,
      "metadata": {
        "colab": {
          "base_uri": "https://localhost:8080/",
          "height": 35
        },
        "id": "LGaEWsun209P",
        "outputId": "226b432b-4e6c-4a85-f954-131f63ebda8a"
      },
      "outputs": [
        {
          "data": {
            "application/vnd.google.colaboratory.intrinsic+json": {
              "type": "string"
            },
            "text/plain": [
              "'&&Ambrosia is the food of gods'"
            ]
          },
          "execution_count": 78,
          "metadata": {},
          "output_type": "execute_result"
        }
      ],
      "source": [
        "\"{0:&>10} is the food of gods\".format(\"Ambrosia\")"
      ]
    },
    {
      "cell_type": "markdown",
      "metadata": {
        "id": "TZ0u9M_niOGd"
      },
      "source": [
        "### Quick Check: the format() method\n",
        "What will be in x when the following snippets of code are executed?:\n",
        "```\n",
        "x = \"{1:{0}}\".format(3, 4)\n",
        "x = \"{0:$>5}\".format(3)\n",
        "x = \"{a:{b}}\".format(a=1, b=5)\n",
        "x = \"{a:{b}}:{0:$>5}\".format(3, 4, a=1, b=5, c=10)\n",
        "```"
      ]
    },
    {
      "cell_type": "code",
      "execution_count": 76,
      "metadata": {},
      "outputs": [
        {
          "name": "stdout",
          "output_type": "stream",
          "text": [
            "  4\n",
            "$$$$3\n",
            "    1\n",
            "    1:$$$$3\n"
          ]
        }
      ],
      "source": [
        "x = \"{1:{0}}\".format(3, 4)\n",
        "print(x)\n",
        "x = \"{0:$>5}\".format(3)\n",
        "print(x)\n",
        "x = \"{a:{b}}\".format(a=1, b=5)\n",
        "print(x)\n",
        "x = \"{a:{b}}:{0:$>5}\".format(3, 4, a=1, b=5, c=10)\n",
        "print(x)"
      ]
    },
    {
      "cell_type": "markdown",
      "metadata": {
        "id": "JhiVJyEcfCUo"
      },
      "source": [
        "# String interpolation with f-strings"
      ]
    },
    {
      "cell_type": "code",
      "execution_count": 79,
      "metadata": {
        "colab": {
          "base_uri": "https://localhost:8080/"
        },
        "id": "CEbs0bJ-5KBt",
        "outputId": "7beb0305-854a-45ec-b8c4-40992ba8e995"
      },
      "outputs": [
        {
          "name": "stdout",
          "output_type": "stream",
          "text": [
            "The answer is 42\n"
          ]
        }
      ],
      "source": [
        "value = 42\n",
        "message = f\"The answer is {value}\"\n",
        "print(message)"
      ]
    },
    {
      "cell_type": "code",
      "execution_count": 80,
      "metadata": {
        "colab": {
          "base_uri": "https://localhost:8080/",
          "height": 35
        },
        "id": "uW_zV1okkQEF",
        "outputId": "69a568f3-12d5-4458-dd15-4e1c126533a5"
      },
      "outputs": [
        {
          "data": {
            "application/vnd.google.colaboratory.intrinsic+json": {
              "type": "string"
            },
            "text/plain": [
              "'sum of first 4 primes is 11'"
            ]
          },
          "execution_count": 80,
          "metadata": {},
          "output_type": "execute_result"
        }
      ],
      "source": [
        "primes = [1, 2, 3, 5]\n",
        "f\"sum of first 4 primes is {sum(primes)}\""
      ]
    },
    {
      "cell_type": "code",
      "execution_count": 79,
      "metadata": {
        "colab": {
          "base_uri": "https://localhost:8080/"
        },
        "id": "-moP9HpC5dzt",
        "outputId": "467ab19c-ea3b-47db-b0bf-382b2a6e4615"
      },
      "outputs": [
        {
          "name": "stdout",
          "output_type": "stream",
          "text": [
            "PI is     3.1415\n"
          ]
        }
      ],
      "source": [
        "PI = 3.1415\n",
        "print(f\"PI is {PI:{10}.{5}}\")"
      ]
    },
    {
      "cell_type": "code",
      "execution_count": 99,
      "metadata": {},
      "outputs": [
        {
          "name": "stdout",
          "output_type": "stream",
          "text": [
            "Il Pil italiano nel 2025 è pari a 3.2 bilioni di $.\n"
          ]
        }
      ],
      "source": [
        "PIL = 3.1570\n",
        "print(f\"Il Pil italiano nel 2025 è pari a {PIL:.{2}} bilioni di $.\")"
      ]
    },
    {
      "cell_type": "code",
      "execution_count": 80,
      "metadata": {
        "colab": {
          "base_uri": "https://localhost:8080/"
        },
        "id": "X6dAnMywkGiG",
        "outputId": "96e72d18-c6e5-4359-de94-0792641d37a9"
      },
      "outputs": [
        {
          "name": "stdout",
          "output_type": "stream",
          "text": [
            "PI=       3.1\n"
          ]
        }
      ],
      "source": [
        "print(f\"{PI=:{10}.{2}}\")"
      ]
    },
    {
      "cell_type": "code",
      "execution_count": 105,
      "metadata": {
        "colab": {
          "base_uri": "https://localhost:8080/",
          "height": 35
        },
        "id": "__uTDbQGkgSf",
        "outputId": "26534d20-2289-4011-b959-963376912e94"
      },
      "outputs": [
        {
          "data": {
            "text/plain": [
              "'sum of first 4 primes is sum(primes)=11'"
            ]
          },
          "execution_count": 105,
          "metadata": {},
          "output_type": "execute_result"
        }
      ],
      "source": [
        "primes = [1, 2, 3, 5]\n",
        "f\"sum of first 4 primes is {sum(primes)=}\""
      ]
    },
    {
      "cell_type": "markdown",
      "metadata": {
        "id": "orYq71OkfF5v"
      },
      "source": [
        "# 6.8 Formatting strings with %"
      ]
    },
    {
      "cell_type": "code",
      "execution_count": 84,
      "metadata": {
        "colab": {
          "base_uri": "https://localhost:8080/",
          "height": 35
        },
        "id": "auaFXaPP22-i",
        "outputId": "833956da-9222-4245-972d-6fffea17290d"
      },
      "outputs": [
        {
          "data": {
            "application/vnd.google.colaboratory.intrinsic+json": {
              "type": "string"
            },
            "text/plain": [
              "'Ambrosia is the food of the gods'"
            ]
          },
          "execution_count": 84,
          "metadata": {},
          "output_type": "execute_result"
        }
      ],
      "source": [
        "\"%s is the %s of %s\" % (\"Ambrosia\", \"food\", \"the gods\")"
      ]
    },
    {
      "cell_type": "code",
      "execution_count": 85,
      "metadata": {
        "colab": {
          "base_uri": "https://localhost:8080/",
          "height": 35
        },
        "id": "DtKOxY3i3WSM",
        "outputId": "200297bf-75e7-4681-d044-0a3e955a65dd"
      },
      "outputs": [
        {
          "data": {
            "application/vnd.google.colaboratory.intrinsic+json": {
              "type": "string"
            },
            "text/plain": [
              "'Nectar is the drink of gods'"
            ]
          },
          "execution_count": 85,
          "metadata": {},
          "output_type": "execute_result"
        }
      ],
      "source": [
        "\"%s is the %s of %s\" % (\"Nectar\", \"drink\", \"gods\")"
      ]
    },
    {
      "cell_type": "code",
      "execution_count": 86,
      "metadata": {
        "colab": {
          "base_uri": "https://localhost:8080/",
          "height": 35
        },
        "id": "H8B6JZJz3hDo",
        "outputId": "329e21dc-da44-4d40-c1f6-655a45a33bb6"
      },
      "outputs": [
        {
          "data": {
            "application/vnd.google.colaboratory.intrinsic+json": {
              "type": "string"
            },
            "text/plain": [
              "'Brussels Sprouts is the food of the foolish'"
            ]
          },
          "execution_count": 86,
          "metadata": {},
          "output_type": "execute_result"
        }
      ],
      "source": [
        "\"%s is the %s of the %s\" % (\"Brussels Sprouts\", \"food\",\n",
        "       \"foolish\")"
      ]
    },
    {
      "cell_type": "code",
      "execution_count": 87,
      "metadata": {
        "colab": {
          "base_uri": "https://localhost:8080/",
          "height": 35
        },
        "id": "oohWJhwz3igA",
        "outputId": "58dd0710-224e-4fd4-9b1f-a2f95deb6a47"
      },
      "outputs": [
        {
          "data": {
            "application/vnd.google.colaboratory.intrinsic+json": {
              "type": "string"
            },
            "text/plain": [
              "\"The list contains: [1, 2, 'three']\""
            ]
          },
          "execution_count": 87,
          "metadata": {},
          "output_type": "execute_result"
        }
      ],
      "source": [
        "x = [1, 2, \"three\"]\n",
        "\"The %s contains: %s\" % (\"list\", x)"
      ]
    },
    {
      "cell_type": "code",
      "execution_count": 88,
      "metadata": {
        "colab": {
          "base_uri": "https://localhost:8080/",
          "height": 35
        },
        "id": "ZRGHKw6l3va8",
        "outputId": "d7a76ff2-7ca2-4593-fcd3-2a68d57ec6ff"
      },
      "outputs": [
        {
          "data": {
            "application/vnd.google.colaboratory.intrinsic+json": {
              "type": "string"
            },
            "text/plain": [
              "'Pi is <3.14  >'"
            ]
          },
          "execution_count": 88,
          "metadata": {},
          "output_type": "execute_result"
        }
      ],
      "source": [
        "\"Pi is <%-6.2f>\" % 3.14159 # use of the formatting sequence: %–6.2f"
      ]
    },
    {
      "cell_type": "code",
      "execution_count": 110,
      "metadata": {},
      "outputs": [
        {
          "data": {
            "text/plain": [
              "'Pi is <3.14159   >'"
            ]
          },
          "execution_count": 110,
          "metadata": {},
          "output_type": "execute_result"
        }
      ],
      "source": [
        "\"Pi is <%-10.5f>\" % 3.14159"
      ]
    },
    {
      "cell_type": "markdown",
      "metadata": {
        "id": "4xa4ppAdibq-"
      },
      "source": [
        "## 6.8.2 Named parameters and formatting sequences"
      ]
    },
    {
      "cell_type": "code",
      "execution_count": 89,
      "metadata": {
        "colab": {
          "base_uri": "https://localhost:8080/",
          "height": 35
        },
        "id": "szm3pA4M37xO",
        "outputId": "4261adb2-e055-47d7-8494-8e19f41e705c"
      },
      "outputs": [
        {
          "data": {
            "application/vnd.google.colaboratory.intrinsic+json": {
              "type": "string"
            },
            "text/plain": [
              "'%(PI).2f'"
            ]
          },
          "execution_count": 89,
          "metadata": {},
          "output_type": "execute_result"
        }
      ],
      "source": [
        "\"%(PI).2f\""
      ]
    },
    {
      "cell_type": "code",
      "execution_count": 90,
      "metadata": {
        "colab": {
          "base_uri": "https://localhost:8080/"
        },
        "id": "yNPTayqF4L6l",
        "outputId": "876e510d-122c-4773-8bcd-70696522be80"
      },
      "outputs": [
        {
          "name": "stdout",
          "output_type": "stream",
          "text": [
            "3.14 - 3.1416 - 2.72\n"
          ]
        }
      ],
      "source": [
        "num_dict = {'e': 2.718, 'PI': 3.14159}\n",
        "print(\"%(PI).2f - %(PI).4f - %(e).2f\" % num_dict)"
      ]
    },
    {
      "cell_type": "code",
      "execution_count": 91,
      "metadata": {
        "colab": {
          "base_uri": "https://localhost:8080/"
        },
        "id": "tyWR0z4d4WoW",
        "outputId": "5079f7d4-95ff-435c-82f7-5015140233f1"
      },
      "outputs": [
        {
          "name": "stdout",
          "output_type": "stream",
          "text": [
            "a\n",
            "b\n"
          ]
        }
      ],
      "source": [
        "print(\"a\")\n",
        "print(\"b\")"
      ]
    },
    {
      "cell_type": "code",
      "execution_count": 92,
      "metadata": {
        "colab": {
          "base_uri": "https://localhost:8080/"
        },
        "id": "VXaLgiVK4_5W",
        "outputId": "619c0626-d3bc-4287-db3c-16afb0157fef"
      },
      "outputs": [
        {
          "name": "stdout",
          "output_type": "stream",
          "text": [
            "a b c\n"
          ]
        }
      ],
      "source": [
        "print(\"a\", \"b\", \"c\")"
      ]
    },
    {
      "cell_type": "code",
      "execution_count": 93,
      "metadata": {
        "colab": {
          "base_uri": "https://localhost:8080/"
        },
        "id": "RWe8puoD5Fa7",
        "outputId": "11b58e62-c55d-491a-cab4-b92d2627c29f"
      },
      "outputs": [
        {
          "name": "stdout",
          "output_type": "stream",
          "text": [
            "a|b|c\n"
          ]
        }
      ],
      "source": [
        "print(\"a\", \"b\", \"c\", sep=\"|\")"
      ]
    },
    {
      "cell_type": "code",
      "execution_count": 116,
      "metadata": {
        "colab": {
          "base_uri": "https://localhost:8080/"
        },
        "id": "EEUpy-ik5HsU",
        "outputId": "dd0a1441-c46d-4950-822c-54a858bc12a8"
      },
      "outputs": [
        {
          "name": "stdout",
          "output_type": "stream",
          "text": [
            "a b c\n",
            "\n"
          ]
        }
      ],
      "source": [
        "print(\"a\", \"b\", \"c\", end=\"\\n\\n\")"
      ]
    },
    {
      "cell_type": "code",
      "execution_count": 117,
      "metadata": {},
      "outputs": [],
      "source": [
        "print(\"Ciao Marco\", file=open(\"marco.txt\", \"w\"))"
      ]
    },
    {
      "cell_type": "markdown",
      "metadata": {
        "id": "asGDM3A7ih_-"
      },
      "source": [
        "### Quick Check: Formatting strings with %\n",
        "What would be in the variable x after the following snippets of code have executed?\n",
        "```\n",
        "x = \"%.2f\" % 1.1111\n",
        "x = \"%(a).2f\" % {'a':1.1111}\n",
        "x = \"%(a).08f\" % {'a':1.1111}\n",
        "```"
      ]
    },
    {
      "cell_type": "code",
      "execution_count": 120,
      "metadata": {},
      "outputs": [
        {
          "name": "stdout",
          "output_type": "stream",
          "text": [
            "1.11 1.11 1.1111000000\n"
          ]
        }
      ],
      "source": [
        "x = \"%.2f\" % 1.1111\n",
        "y = \"%(a).2f\" % {'a':1.1111}\n",
        "z = \"%(a).010f\" % {'a':1.1111}\n",
        "print(x, y, z)"
      ]
    },
    {
      "cell_type": "markdown",
      "metadata": {
        "id": "IidyabC6fPIU"
      },
      "source": [
        "# 6.9 Bytes"
      ]
    },
    {
      "cell_type": "code",
      "execution_count": 95,
      "metadata": {
        "colab": {
          "base_uri": "https://localhost:8080/",
          "height": 35
        },
        "id": "6Byp2N9q5m_y",
        "outputId": "4136693b-1a81-45aa-ec37-64d7b7c7b4f7"
      },
      "outputs": [
        {
          "data": {
            "application/vnd.google.colaboratory.intrinsic+json": {
              "type": "string"
            },
            "text/plain": [
              "'á'"
            ]
          },
          "execution_count": 95,
          "metadata": {},
          "output_type": "execute_result"
        }
      ],
      "source": [
        "unicode_a_with_acute = '\\N{LATIN SMALL LETTER A WITH ACUTE}'\n",
        "unicode_a_with_acute"
      ]
    },
    {
      "cell_type": "code",
      "execution_count": 96,
      "metadata": {
        "colab": {
          "base_uri": "https://localhost:8080/"
        },
        "id": "CY8GW7FO513R",
        "outputId": "f0e0a1a9-8fda-4168-fad9-ab09949a23bf"
      },
      "outputs": [
        {
          "data": {
            "text/plain": [
              "b'\\xc3\\xa1'"
            ]
          },
          "execution_count": 96,
          "metadata": {},
          "output_type": "execute_result"
        }
      ],
      "source": [
        "xb = unicode_a_with_acute.encode()   #A\n",
        "xb"
      ]
    },
    {
      "cell_type": "code",
      "execution_count": 97,
      "metadata": {
        "colab": {
          "base_uri": "https://localhost:8080/",
          "height": 141
        },
        "id": "BrmDj8jF54yM",
        "outputId": "1b9eea62-abf3-4735-c229-b2b46665e35a"
      },
      "outputs": [
        {
          "ename": "TypeError",
          "evalue": "can't concat str to bytes",
          "output_type": "error",
          "traceback": [
            "\u001b[0;31m---------------------------------------------------------------------------\u001b[0m",
            "\u001b[0;31mTypeError\u001b[0m                                 Traceback (most recent call last)",
            "\u001b[0;32m<ipython-input-97-2c4ecee004ef>\u001b[0m in \u001b[0;36m<cell line: 1>\u001b[0;34m()\u001b[0m\n\u001b[0;32m----> 1\u001b[0;31m \u001b[0mxb\u001b[0m \u001b[0;34m+=\u001b[0m \u001b[0;34m'A'\u001b[0m\u001b[0;34m\u001b[0m\u001b[0;34m\u001b[0m\u001b[0m\n\u001b[0m",
            "\u001b[0;31mTypeError\u001b[0m: can't concat str to bytes"
          ]
        }
      ],
      "source": [
        "xb += 'A'"
      ]
    },
    {
      "cell_type": "code",
      "execution_count": 98,
      "metadata": {
        "colab": {
          "base_uri": "https://localhost:8080/",
          "height": 35
        },
        "id": "p2j1wWik57VX",
        "outputId": "e743bc4d-f4bf-46ce-fbca-e6cfde6027c1"
      },
      "outputs": [
        {
          "data": {
            "application/vnd.google.colaboratory.intrinsic+json": {
              "type": "string"
            },
            "text/plain": [
              "'á'"
            ]
          },
          "execution_count": 98,
          "metadata": {},
          "output_type": "execute_result"
        }
      ],
      "source": [
        "xb.decode()"
      ]
    },
    {
      "cell_type": "markdown",
      "metadata": {
        "id": "1qHBqiddfVjo"
      },
      "source": [
        "### Quick Check: Bytes\n",
        "For which of the following kinds of data would you want to use a string? For which could you use bytes?\n",
        "1. Data file storing binary data\n",
        "2. Text in a language with accented characters\n",
        "3. Text with only uppercase and lowercase roman characters\n",
        "4. A series of integers no larger than 255"
      ]
    },
    {
      "cell_type": "markdown",
      "metadata": {
        "id": "Bd7uqFnbizvy"
      },
      "source": [
        "1. Data file storing binary data\n",
        "\n",
        "   Bytes. Because the data is binary, you're more concerned with the contents as numbers rather than text. Therefore, it would make sense to use bytes.\n",
        "2. Text in a language with accented characters\n",
        "\n",
        "   String. Python 3 strings are Unicode, so they can handle accented characters.\n",
        "3. Text with only uppercase and lowercase roman characters\n",
        "\n",
        "   String. Strings should be used for all text in Python 3.\n",
        "4. A series of integers no larger than 255\n",
        "\n",
        "   Bytes. A byte is an integer no larger than 255, so the bytes type is perfect for storing integers like this.\n"
      ]
    },
    {
      "cell_type": "markdown",
      "metadata": {
        "id": "G-xwdt8IC8oJ"
      },
      "source": [
        "### Lab 6: Preprocessing Text\n",
        "In processing raw text, it's quite often necessary to clean and normalize the text before doing anything else. If you want to find the frequency of words in text, for example, you can make the job easier if, before you start counting, you make sure that everything is lowercase (or uppercase, if you prefer) and that all punctuation has been removed. It can also make things easier to break the text into a series of words.\n",
        "\n",
        "In this lab, the task is to read an excerpt of the first chapter of Moby Dick, make sure that everything is one case, remove all punctuation, and write the words one per line to a second file. Again, because I haven’t yet covered reading and writing files, the code for those operations is supplied below.\n",
        "Your task is to come up with the code to replace the commented lines in the sample below:\n",
        "```\n",
        "with open(\"moby_01.txt\") as infile, open(\"moby_01_clean.txt\", \"w\") as outfile:\n",
        "    for line in infile:\n",
        "        # make all one case\n",
        "        # remove punctuation\n",
        "        # split into words\n",
        "        # write all words for line\n",
        "        outfile.write(cleaned_words)\n",
        "```"
      ]
    },
    {
      "cell_type": "markdown",
      "metadata": {
        "id": "TvMFvsM2DKgf"
      },
      "source": [
        "### Run the cell below to get the file moby_01.txt"
      ]
    },
    {
      "cell_type": "code",
      "execution_count": 99,
      "metadata": {
        "colab": {
          "base_uri": "https://localhost:8080/"
        },
        "id": "THiA8sWMyOYo",
        "outputId": "afb978c5-99fa-4a58-d123-a4b9a60d0e25"
      },
      "outputs": [
        {
          "name": "stdout",
          "output_type": "stream",
          "text": [
            "Downloaded\n"
          ]
        }
      ],
      "source": [
        "!wget https://raw.githubusercontent.com/nceder/qpb4e/main/code/Chapter%2006/moby_01.txt &> null  && echo Downloaded\n"
      ]
    },
    {
      "cell_type": "code",
      "execution_count": null,
      "metadata": {},
      "outputs": [],
      "source": [
        "with open(\"moby_01.txt\") as infile:\n",
        "    with open(\"moby_01_clean.txt\", \"w\") as outfile:\n",
        "        for line in infile:\n",
        "            lower_case = line.lower()\n",
        "            table = lower_case.maketrans(\".-,;\", \"    \") # E' inefficiente in questo modo\n",
        "            translated_words = lower_case.translate(table)\n",
        "            split_words = translated_words.split()\n",
        "            cleaned_words = \"\\n\".join(split_words) + \"\\n\"\n",
        "            outfile.write(cleaned_words)\n"
      ]
    },
    {
      "cell_type": "code",
      "execution_count": null,
      "metadata": {
        "id": "J97n4P02yKvW"
      },
      "outputs": [],
      "source": [
        "# Solution created by the author\n",
        "import string\n",
        "\n",
        "punct = str.maketrans(\"\",  \"\", string.punctuation)\n",
        "\n",
        "with open(\"moby_01.txt\") as infile:\n",
        "  with open(\"moby_01_clean.txt\", \"w\") as outfile:\n",
        "    for line in infile:\n",
        "        # make all one case\n",
        "        cleaned_line = line.lower()\n",
        "\n",
        "        # remove punctuation\n",
        "        cleaned_line = cleaned_line.translate(punct)\n",
        "\n",
        "        # split into words\n",
        "        words = cleaned_line.split()\n",
        "        cleaned_words = \"\\n\".join(words) + \"\\n\"\n",
        "        # write all words for line\n",
        "        outfile.write(cleaned_words)\n"
      ]
    },
    {
      "cell_type": "code",
      "execution_count": null,
      "metadata": {
        "id": "ZxKvX04N6FGe"
      },
      "outputs": [],
      "source": [
        "# prompt: For every line the file moby_01.txt, make everything lower case,\n",
        "#         remove punctuation, and split into words,\n",
        "#         and write the words one per line  to the file moby_01_clean.txt\n",
        "\n",
        "import string\n",
        "\n",
        "# Open the input and output files\n",
        "with open('moby_01.txt', 'r') as f_in, open('moby_01_clean.txt', 'w') as f_out:\n",
        "  for line in f_in:\n",
        "    # Convert the line to lowercase\n",
        "    line = line.lower()\n",
        "\n",
        "    # Remove punctuation\n",
        "    for char in string.punctuation:\n",
        "      line = line.replace(char, '')\n",
        "\n",
        "    # Split the line into words\n",
        "    words = line.split()\n",
        "\n",
        "    # Write the words to the output file\n",
        "    f_out.write(' '.join(words) + '\\n')\n"
      ]
    },
    {
      "cell_type": "code",
      "execution_count": null,
      "metadata": {
        "id": "PEoGSG9Ize34"
      },
      "outputs": [],
      "source": [
        "# Generated usinb CoPilot\n",
        "# Prompt: or every line the file moby_01.txt, make everything lower case,\n",
        "#         remove punctuation, and split into words.\n",
        "#         Write the words one per line to the file moby_01_clean.txt.\n",
        "\n",
        "import string\n",
        "\n",
        "# Open the input file for reading\n",
        "with open('moby_01.txt', 'r') as input_file:\n",
        "    # Open the output file for writing\n",
        "    with open('moby_01_clean.txt', 'w') as output_file:\n",
        "        # Iterate over each line in the input file\n",
        "        for line in input_file:\n",
        "            # Convert the line to lowercase\n",
        "            line = line.lower()\n",
        "\n",
        "            # Remove punctuation from the line\n",
        "            line = line.translate(str.maketrans('', '', string.punctuation))\n",
        "\n",
        "            # Split the line into words\n",
        "            words = line.split()\n",
        "\n",
        "            # Write each word to the output file\n",
        "            for word in words:\n",
        "                output_file.write(word + '\\n')"
      ]
    }
  ],
  "metadata": {
    "colab": {
      "include_colab_link": true,
      "provenance": []
    },
    "kernelspec": {
      "display_name": "Python 3",
      "name": "python3"
    },
    "language_info": {
      "codemirror_mode": {
        "name": "ipython",
        "version": 3
      },
      "file_extension": ".py",
      "mimetype": "text/x-python",
      "name": "python",
      "nbconvert_exporter": "python",
      "pygments_lexer": "ipython3",
      "version": "3.13.2"
    }
  },
  "nbformat": 4,
  "nbformat_minor": 0
}
